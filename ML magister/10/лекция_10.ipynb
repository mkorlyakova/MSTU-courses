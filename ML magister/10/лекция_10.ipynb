{
  "nbformat": 4,
  "nbformat_minor": 0,
  "metadata": {
    "colab": {
      "provenance": [],
      "authorship_tag": "ABX9TyN5Y2XmzJr6BdLBvUw0WA+7",
      "include_colab_link": true
    },
    "kernelspec": {
      "name": "python3",
      "display_name": "Python 3"
    },
    "language_info": {
      "name": "python"
    }
  },
  "cells": [
    {
      "cell_type": "markdown",
      "metadata": {
        "id": "view-in-github",
        "colab_type": "text"
      },
      "source": [
        "<a href=\"https://colab.research.google.com/github/mkorlyakova/MSTU-courses/blob/main/ML%20magister/10/%D0%BB%D0%B5%D0%BA%D1%86%D0%B8%D1%8F_10.ipynb\" target=\"_parent\"><img src=\"https://colab.research.google.com/assets/colab-badge.svg\" alt=\"Open In Colab\"/></a>"
      ]
    },
    {
      "cell_type": "markdown",
      "metadata": {
        "id": "J6mOP773D69o"
      },
      "source": [
        "# Нейронные сети \n",
        "\n",
        "\n",
        "\n",
        "## История и предпосылки\n",
        "\n",
        "\n",
        "Дж. Маккалок (J. McCulloch) и У. Питтс (W. Pitts) - 1943 г. «Логическое исчисление идей, относящихся к нервной активности»\n",
        "компьютерная модель нейронной сети на основе математических алгоритмов и теории деятельности головного мозга:\n",
        " - Нейроны можно упрощённо рассматривать как устройства, оперирующие двоичными числами, и назвали эту модель «пороговой логикой». \n",
        " - Нейроны Мак-Каллока–Питтса были способны обучаться путём подстройки параметров, описывающих синаптическую проводимость. \n",
        " - Описали сеть из электронных нейронов \n",
        " - Показали, что подобная сеть может выполнять практически любые вообразимые числовые или логические операции. \n",
        " - Предположили, что такая сеть в состоянии также обучаться, распознавать образы, обобщать, т. е. обладает всеми чертами интеллекта.\n",
        "\n",
        "Д. Хебб (D. Hebb) - 1949 г. физиолог и психолог \n",
        "Идея о характере соединения нейронов мозга и их взаимодействии:\n",
        " - Обучение заключается в изменениях силы синаптических связей. \n",
        " \n",
        "Фарли, Кларк - 1954 г.  \n",
        "Компьютерная имитация сети Хебба. \n",
        "\n",
        "Рочестер, Холланд, Хебит и Дуда - 1956 г.\n",
        "Компьютерное моделирование нейронных сетей и исследование их свойств.\n",
        "\n",
        "Ф. Розенблат (F. Rosenblatt)  - 1957 г. \n",
        "Разработал математическую и компьютерная модели восприятия информации мозгом на основе двухслойной обучающейся нейронной сети. \n",
        "Описал также схему не только основного перцептрона (кибернетическая модель мозга).\n",
        "\n",
        "Ф. Розенблатт -  1960 г. \n",
        "Первая действующая обучаемая машина для распознавания нескольких символов.\n",
        "\n",
        "М.Минский, С.Пейперт - 1969 г.\n",
        "Perceptrons: An itroduction to computational geometry (http://padaread.com/?book=31920)\n",
        "Проблемы:\n",
        "- однослойные нейронные сети не могли реализовать функцию «Исключающее ИЛИ». \n",
        "- компьютеры не обладали достаточной вычислительной мощностью, чтобы эффективно обрабатывать огромный объём вычислений, необходимый для больших нейронных сетей.\n",
        "\n",
        "\n",
        "Исследования нейронных сетей замедлились до того времени, когда компьютеры достигли больших вычислительных мощностей. Одним из важных шагов, стимулировавших дальнейшие исследования, стала разработка в 1975 году Вербосом метода обратного распространения ошибки, который позволил эффективно решать задачу обучения многослойных сетей и решить проблему со «сложением по модулю 2».\n",
        "\n",
        "К. Фукушима (K. Fukushima) - 1975 г. Когнитрон\n",
        "\n",
        "1970–1976 гг. Активные разработки в области персептронов в СССР\n",
        "\n",
        "Дж. Хопфилд (J. Hopfield) - 1982 г. сеть Хопфилда.\n",
        "Высокосвязная сеть нейронов с обратными связями может быть описана как динамическая система, обладающая \"энергией\". \n",
        "\n",
        "Т. Кохонен - 1982 г. Сеть Кохонена\n",
        "Основной принцип работы - введение в правило обучения нейрона информации относительно его расположения.\n",
        "\n",
        "Появление первых коммерческих нейрокомпьютеров (НК), например, Mark III фирмы TRW (США) - 1985 г. \n",
        "\n",
        "\n",
        "Д.Румельхартом, Дж.Хинтоном и Р.Вильямсом и независимо и одновременно С.И.Барцев и В.А.Охонин - 1986\n",
        "Обратное распространение ошибки\n",
        "\n",
        "Руммельхарт и Мак-Клелланд - 1986 г. Коннективизм для компьютерного моделирования нейронных процессов.\n",
        "\n",
        "Р. Дехтер - 1986 г. «Глубокое обучение» \n",
        "\n",
        "Начало широкомасштабных разработок в области ИНС и НК в США, Японии и Западной Европе - 1987 г. \n",
        "\n",
        "Я.Лекуном - 1988 г. Сверточные нейронные сети\n",
        "\n",
        "2000 г. Переход на субмикронные и нанотехнологии, а также успехи молекулярной и биомолекулярной технологии приводят к принципиально новым архитектурным и технологическим решениям по созданию НК\n",
        "\n",
        "Д.Хинтон и Р.Салахутдинов - 2006 г. Эффективное обучение глубоких нейросетей\n",
        "\n",
        "2012 г. - Решения задач распознавания речи и классификации изображений. AlexNet\n",
        "https://static.googleusercontent.com/media/research.google.com/ru//pubs/archive/38131.pdf\n",
        "https://papers.nips.cc/paper/4824-imagenet-classification-with-deep-convolutional-neural-networks.pdf\n",
        "https://en.wikipedia.org/wiki/AlexNet\n",
        "\n",
        "\n"
      ]
    },
    {
      "cell_type": "markdown",
      "metadata": {
        "id": "p_tx_2l7D69q"
      },
      "source": [
        "## Идейные основы"
      ]
    },
    {
      "cell_type": "markdown",
      "metadata": {
        "id": "J6WZwFUJD69q"
      },
      "source": [
        "### Коннекционистская парадигма\n",
        "- Чтобы реализовать некоторые возможности мозга, необходимо воссоздать его архитектурные особенности.\n",
        "- Нейронная сеть является высокосвязной сетью простых процессоров (искусственных нейронов), каждый из которых имеет много входов и много выходов.\n",
        "\n",
        "- В биологических нейронах способность к обработке выражается в электрохимических характеристиках межнейронных соединений (синапсов). \n",
        "- В коннекционистских системах моделируется силой связи или веса по каждому входу. \n",
        "\n",
        "- Биологические нейроны взаимодействуют путем передачи электрических импульсов, которые суммирует нейрон и если результат суммирования возбуждающий, то генерируется выходной импульс, если тормозящий, то выходной импульс не генерируется.\n",
        "\n",
        "- В искусственных нейронных сетях каждый нейрон непрерывно обновляет свое состояние порождением значения активации по входам и весам.\n",
        "- Параметры нейрона настраиваются при обучении. \n",
        "\n",
        "\n",
        "\n",
        "- Нейронные сети устойчивы к шумам в сигналах и отказам компонентов (нейронов и синапсов). \n",
        "- Нейронные сети способны находить статистические закономерности или особенности в обучающей выборке. \n"
      ]
    },
    {
      "cell_type": "markdown",
      "metadata": {
        "id": "eiVFKhuFD69q"
      },
      "source": [
        "### Физиологическая модель нейрона"
      ]
    },
    {
      "cell_type": "markdown",
      "metadata": {
        "id": "06iUQ2h_D69q"
      },
      "source": [
        "Нейрон (нервная клетка) состоит из:\n",
        "- тела клетки (cell body),\n",
        "- внешних ветвей: \n",
        "    - аксона (axon) \n",
        "    - дендритов (dendrites). \n",
        "\n",
        "Тело клетки включает:\n",
        "- ядро (nucleus), которое содержит информацию о наследственных свойствах, \n",
        "- плазму, обладающую молекулярными средствами для производства необходимых нейрону материалов. \n",
        "\n",
        "Нейрон получает сигналы (импульсы) от других нейронов через дендриты (приемники) и передает сигналы, сгенерированные телом клетки, вдоль аксона (передатчик), который в конце разветвляется на волокна (strands). На окончаниях этих волокон находятся синапсы (synapses).\n",
        "\n",
        "Кора головного мозга человека :\n",
        " - поверхностью толщиной от 2 до 3 мм с площадью около 2200 см2. \n",
        " - 10^11 нейронов.\n",
        " - нейрон связан с 10^3 – 10^4 другими нейронами. \n",
        " - мозг человека содержит приблизительно от 10^14 до 10^15 взаимосвязей.\n"
      ]
    },
    {
      "cell_type": "code",
      "execution_count": null,
      "metadata": {
        "id": "GKBSaassD69r"
      },
      "outputs": [],
      "source": [
        "from IPython.display import Image"
      ]
    },
    {
      "cell_type": "markdown",
      "source": [
        "<img src='https://drive.google.com/uc?export=view&id=1CHbSfdsKulHIFhb93h_cevvb6ApaSNTx'>"
      ],
      "metadata": {
        "id": "2plJAUnXG-yN"
      }
    },
    {
      "cell_type": "markdown",
      "metadata": {
        "id": "dWpTeOUFD69s"
      },
      "source": [
        "## Эпизод 2\n",
        "\n",
        "## Формальные модели нейрона"
      ]
    },
    {
      "cell_type": "code",
      "execution_count": null,
      "metadata": {
        "id": "-WXB0Jg7D69s"
      },
      "outputs": [],
      "source": [
        "import numpy as np\n",
        "import seaborn as sns\n",
        "import matplotlib.pyplot as plt\n"
      ]
    },
    {
      "cell_type": "markdown",
      "metadata": {
        "id": "3PYkjVyXD69s"
      },
      "source": [
        "### Нейрон МакКалока-Питтса"
      ]
    },
    {
      "cell_type": "code",
      "execution_count": null,
      "metadata": {
        "id": "oC81BkddD69s"
      },
      "outputs": [],
      "source": [
        "#Image(filename='2.png', width=500) "
      ]
    },
    {
      "cell_type": "markdown",
      "source": [
        "<img src='https://drive.google.com/uc?export=view&id=1y5ee6Wz6kTMEDpmbc76omk6jXQt2mmmn'>\n"
      ],
      "metadata": {
        "id": "wzT6UXbEHK7b"
      }
    },
    {
      "cell_type": "markdown",
      "metadata": {
        "id": "fqgVSVNcD69s"
      },
      "source": [
        "Построим пример обработки входного х как в нейроне"
      ]
    },
    {
      "cell_type": "code",
      "execution_count": null,
      "metadata": {
        "id": "A2HAm3dlD69s",
        "outputId": "fb370200-0c23-4f9c-c6ee-04f35ba41883",
        "colab": {
          "base_uri": "https://localhost:8080/"
        }
      },
      "outputs": [
        {
          "output_type": "stream",
          "name": "stdout",
          "text": [
            "-1.0\n"
          ]
        }
      ],
      "source": [
        "x = np.array([1,0])\n",
        "w = np.array([1,-1])\n",
        "\n",
        "\n",
        "y = np.sign(np.dot(w, x.T )-9.3)\n",
        "print(y)"
      ]
    },
    {
      "cell_type": "markdown",
      "metadata": {
        "id": "8LOTi8DZD69s"
      },
      "source": [
        "Посторим нейрон порогового типа"
      ]
    },
    {
      "cell_type": "code",
      "execution_count": null,
      "metadata": {
        "id": "S0zkqCCDD69t"
      },
      "outputs": [],
      "source": [
        "def McCuloh_Pitts_neuron(x = None, w = None, bias = 0):\n",
        "    # w - веса\n",
        "    # x - входы\n",
        "    #print('X: ',x)\n",
        "    #print('W: ',w)\n",
        "    #print('bias: ',bias)\n",
        "    s = np.dot(w, x.T )+ bias\n",
        "    #print('суммарный уровень входов нейрона на их веса: ',s)\n",
        "    y = np.sign(s)\n",
        "    #ind_ = np.where(s>0)[0]\n",
        "    #y=np.zeros(x.shape[0])\n",
        "    #y[ind_]=1\n",
        "    return y"
      ]
    },
    {
      "cell_type": "markdown",
      "metadata": {
        "id": "IixYEyG7D69t"
      },
      "source": [
        "Запустим нейрон на примре х с весами w"
      ]
    },
    {
      "cell_type": "code",
      "execution_count": null,
      "metadata": {
        "id": "GpNYaVZsD69t",
        "outputId": "cdad675c-48fa-4a04-abee-b3d0899555e2",
        "colab": {
          "base_uri": "https://localhost:8080/"
        }
      },
      "outputs": [
        {
          "output_type": "stream",
          "name": "stdout",
          "text": [
            "ответ нейрона 1.0\n"
          ]
        }
      ],
      "source": [
        "x = np.array([1,0])\n",
        "w = np.array([1,-1])\n",
        "\n",
        "y_out = McCuloh_Pitts_neuron(x = x, w = w, bias = -0.3)\n",
        "print('ответ нейрона',y_out)\n"
      ]
    },
    {
      "cell_type": "markdown",
      "metadata": {
        "id": "GLpQdb2PD69t"
      },
      "source": [
        "Подадим много примеров через х и получим много ответов"
      ]
    },
    {
      "cell_type": "code",
      "execution_count": null,
      "metadata": {
        "id": "eDdnfonCD69t",
        "outputId": "6e881197-cce9-43c1-b47a-43df5701fd46",
        "colab": {
          "base_uri": "https://localhost:8080/"
        }
      },
      "outputs": [
        {
          "output_type": "stream",
          "name": "stdout",
          "text": [
            "ответ нейрона [ 1.  1. -1.  1.  1.  1. -1.  1.  1.  1.]\n"
          ]
        }
      ],
      "source": [
        "x = np.random.random((10,2))\n",
        "w = np.array([1,-1])\n",
        "y_out1 = McCuloh_Pitts_neuron(x = x, w = w, bias = 0.3)\n",
        "print('ответ нейрона',y_out1)\n"
      ]
    },
    {
      "cell_type": "markdown",
      "metadata": {
        "id": "XXT7IxrqD69t"
      },
      "source": [
        "### Линейный нейрон\n",
        "\n",
        "Линейный нейрон связывает входы в форме y = XW + b"
      ]
    },
    {
      "cell_type": "code",
      "execution_count": null,
      "metadata": {
        "id": "tuDuSQGUD69t"
      },
      "outputs": [],
      "source": [
        "def linear_neuron(x = None, w = None, bias = 0):\n",
        "    #print('X: ',x)\n",
        "    #print('W: ',w)\n",
        "    #print('bias: ',bias)\n",
        "    s = np.dot(w, x.T )+ bias\n",
        "    #print('суммарный уровень входов нейрона на их веса: ',s)\n",
        "    y = s\n",
        "    return y"
      ]
    },
    {
      "cell_type": "markdown",
      "metadata": {
        "id": "LSgJbRw3D69t"
      },
      "source": [
        "Запустим нейрон на множестве примеров в х"
      ]
    },
    {
      "cell_type": "code",
      "execution_count": null,
      "metadata": {
        "id": "o_elwr7oD69t",
        "outputId": "79d5f8a3-37aa-4c5a-a5be-a0b62ceb3bfa",
        "colab": {
          "base_uri": "https://localhost:8080/"
        }
      },
      "outputs": [
        {
          "output_type": "stream",
          "name": "stdout",
          "text": [
            "ответ нейрона [0.6872496  0.32749842 0.76400418 1.10338674 0.33150687 0.70173195\n",
            " 0.29760712 0.82319994 0.78282349 0.4448225 ]\n"
          ]
        }
      ],
      "source": [
        "x = np.random.random((10,2))\n",
        "w = np.array([1,-1])\n",
        "y_out1 = linear_neuron(x = x, w = w, bias = 0.3)\n",
        "print('ответ нейрона',y_out1)\n"
      ]
    },
    {
      "cell_type": "markdown",
      "metadata": {
        "id": "fTHpdoPdD69u"
      },
      "source": [
        "### Сигмоидный нейрон\n",
        "\n",
        "Строим сигмоидный нейрон логистический как s = X W + b, y = 1/(1+ exp(-s))"
      ]
    },
    {
      "cell_type": "code",
      "execution_count": null,
      "metadata": {
        "id": "diFMCE7lD69u"
      },
      "outputs": [],
      "source": [
        "def sigmoid_neuron(x = None, w = None, bias=0):\n",
        "    #print('X: ',x)\n",
        "    #print('W: ',w)\n",
        "    #print('bias: ',bias)\n",
        "    s = np.dot(w, x.T )+ bias\n",
        "    print('суммарный уровень входов нейрона на их веса: ',s)\n",
        "    y = 1 / (1 + np.exp(-s))\n",
        "    return y"
      ]
    },
    {
      "cell_type": "markdown",
      "metadata": {
        "id": "VK_0aqFeD69u"
      },
      "source": [
        "Строим сигмоидный нейрон тангенциальный как s = X W + b, y = 2/(1+ exp(-s))-1"
      ]
    },
    {
      "cell_type": "code",
      "execution_count": null,
      "metadata": {
        "id": "FYawacrfD69u"
      },
      "outputs": [],
      "source": [
        "def sigmoidt_neuron(x = None, w = None, bias=0):\n",
        "    #print('X: ',x)\n",
        "    #print('W: ',w)\n",
        "    #print('bias: ',bias)\n",
        "    s = np.dot(w, x.T )+ bias\n",
        "    #print('суммарный уровень входов нейрона на их веса: ',s)\n",
        "    y = 2 / (1 + np.exp(-s))-1\n",
        "    return y"
      ]
    },
    {
      "cell_type": "markdown",
      "metadata": {
        "id": "O0b2LKoqD69u"
      },
      "source": [
        "Запустим нейрон"
      ]
    },
    {
      "cell_type": "code",
      "execution_count": null,
      "metadata": {
        "id": "7WCWUQmsD69u",
        "outputId": "a1e039ed-200a-4e11-8b5f-3aff4dc77147",
        "colab": {
          "base_uri": "https://localhost:8080/"
        }
      },
      "outputs": [
        {
          "output_type": "stream",
          "name": "stdout",
          "text": [
            "ответ нейрона [0.33070962 0.16230116 0.3644449  0.50178828 0.16425195 0.33714331\n",
            " 0.14771491 0.38983035 0.37257664 0.21881507]\n"
          ]
        }
      ],
      "source": [
        "y_out2 = sigmoidt_neuron(x = x, w = w, bias = 0.3)\n",
        "print('ответ нейрона',y_out2)"
      ]
    },
    {
      "cell_type": "markdown",
      "metadata": {
        "id": "ZhpeMUeeD69u"
      },
      "source": [
        "Запустим все нейроны на множестве примеров (линейно равномерно распределены в интервале от -10 до 10)"
      ]
    },
    {
      "cell_type": "code",
      "execution_count": null,
      "metadata": {
        "id": "Wsen7FXJD69u",
        "outputId": "607e6208-0c35-4802-c874-0fdf12ba09f3",
        "colab": {
          "base_uri": "https://localhost:8080/",
          "height": 365
        }
      },
      "outputs": [
        {
          "output_type": "stream",
          "name": "stdout",
          "text": [
            "суммарный уровень входов нейрона на их веса:  [[-8.7        -7.74789474 -6.79578947 -5.84368421 -4.89157895 -3.93947368\n",
            "  -2.98736842 -2.03526316 -1.08315789 -0.13105263  0.82105263  1.77315789\n",
            "   2.72526316  3.67736842  4.62947368  5.58157895  6.53368421  7.48578947\n",
            "   8.43789474  9.39      ]]\n"
          ]
        },
        {
          "output_type": "display_data",
          "data": {
            "text/plain": [
              "<Figure size 432x288 with 1 Axes>"
            ],
            "image/png": "[encoded data removed]"
          },
          "metadata": {
            "needs_background": "light"
          }
        }
      ],
      "source": [
        "x = np.linspace(-10,10.1,20).reshape((20,1))\n",
        "w = np.array([0.9]).reshape((1,1))\n",
        "bias =0.3\n",
        "\n",
        "y_out1 = McCuloh_Pitts_neuron(x = x, w = w, bias = 0.3)\n",
        "y_out2 = sigmoid_neuron(x = x, w = w, bias = 0.3)\n",
        "y_out3 = sigmoidt_neuron(x = x, w = w, bias = 0.3)\n",
        "y_out4 = linear_neuron(x = x, w = w, bias = 0.3)\n",
        "\n",
        "plt.plot(x[:,0].T,y_out1[0,:],'r', label='McCulloh-Pitts')\n",
        "plt.plot(x[:,0].T,y_out2[0,:],'b', label='sigmoid')\n",
        "plt.plot(x[:,0].T,y_out3[0,:],'g', label='sigmoid tanh')\n",
        "#plt.plot(x[7:12,0].T,y_out4[0,7:12],'k', label='linear')\n",
        "plt.legend()\n",
        "plt.title('Ответы нейронов на х')\n",
        "plt.xlabel('x')\n",
        "plt.grid()\n",
        "plt.show()"
      ]
    },
    {
      "cell_type": "markdown",
      "metadata": {
        "id": "6pLM2hOiD69u"
      },
      "source": [
        "Отвеы нейронов для разных нейронов\n",
        "\n",
        "Пороговый:"
      ]
    },
    {
      "cell_type": "code",
      "execution_count": null,
      "metadata": {
        "id": "Q8b6-CbLD69u",
        "outputId": "0d183f8e-45cd-43aa-bee6-9498d329702c",
        "colab": {
          "base_uri": "https://localhost:8080/"
        }
      },
      "outputs": [
        {
          "output_type": "execute_result",
          "data": {
            "text/plain": [
              "array([[-1., -1., -1., -1., -1., -1., -1., -1., -1., -1.,  1.,  1.,  1.,\n",
              "         1.,  1.,  1.,  1.,  1.,  1.,  1.]])"
            ]
          },
          "metadata": {},
          "execution_count": 14
        }
      ],
      "source": [
        "y_out1"
      ]
    },
    {
      "cell_type": "markdown",
      "metadata": {
        "id": "imZ7tIg0D69v"
      },
      "source": [
        "Сигмоидный нейрон:"
      ]
    },
    {
      "cell_type": "code",
      "execution_count": null,
      "metadata": {
        "id": "GKTGGxAwD69v",
        "outputId": "48996fe6-f036-4c30-9c7f-e5059dc5f4f8",
        "colab": {
          "base_uri": "https://localhost:8080/"
        }
      },
      "outputs": [
        {
          "output_type": "execute_result",
          "data": {
            "text/plain": [
              "array([[1.66558065e-04, 4.31464081e-04, 1.11722503e-03, 2.88977058e-03,\n",
              "        7.45358282e-03, 1.90870489e-02, 4.79997991e-02, 1.15549948e-01,\n",
              "        2.52908880e-01, 4.67283653e-01, 6.94459739e-01, 8.54849947e-01,\n",
              "        9.38501009e-01, 9.75334342e-01, 9.90334440e-01, 9.96247521e-01,\n",
              "        9.98548470e-01, 9.99439314e-01, 9.99783541e-01, 9.99916452e-01]])"
            ]
          },
          "metadata": {},
          "execution_count": 19
        }
      ],
      "source": [
        "y_out2"
      ]
    },
    {
      "cell_type": "markdown",
      "metadata": {
        "id": "NPIKangPD69v"
      },
      "source": [
        "Сигмоидный тангенциальный нейрон:"
      ]
    },
    {
      "cell_type": "code",
      "execution_count": null,
      "metadata": {
        "id": "yyIWmtmFD69v",
        "outputId": "554d1b1e-ffab-4b15-de59-0311fe2fdb9c",
        "colab": {
          "base_uri": "https://localhost:8080/"
        }
      },
      "outputs": [
        {
          "output_type": "execute_result",
          "data": {
            "text/plain": [
              "array([[-0.99966688, -0.99913707, -0.99776555, -0.99422046, -0.98509283,\n",
              "        -0.9618259 , -0.9040004 , -0.7689001 , -0.49418224, -0.06543269,\n",
              "         0.38891948,  0.70969989,  0.87700202,  0.95066868,  0.98066888,\n",
              "         0.99249504,  0.99709694,  0.99887863,  0.99956708,  0.9998329 ]])"
            ]
          },
          "metadata": {},
          "execution_count": 20
        }
      ],
      "source": [
        "y_out3"
      ]
    },
    {
      "cell_type": "markdown",
      "metadata": {
        "id": "UHpapadqD69v"
      },
      "source": [
        "Усложним сигмоидный нейрон"
      ]
    },
    {
      "cell_type": "code",
      "execution_count": null,
      "metadata": {
        "id": "lguqHZ6HD69v"
      },
      "outputs": [],
      "source": [
        "def sigmoidt_complex_neuron(x = None, w = None, bias=0, lymbd = 1):\n",
        "    #print('X: ',x)\n",
        "    #print('W: ',w)\n",
        "    #print('bias: ',bias)\n",
        "    s = np.dot(w, x.T )+ bias\n",
        "    #print('суммарный уровень входов нейрона на их веса: ',s)\n",
        "    y = 2 / (1 + np.exp(-s/lymbd))-1\n",
        "    return y"
      ]
    },
    {
      "cell_type": "markdown",
      "metadata": {
        "id": "cEdDvL5DD69v"
      },
      "source": [
        "Посмотрим на работу нейнона"
      ]
    },
    {
      "cell_type": "code",
      "execution_count": null,
      "metadata": {
        "id": "C1ICZVz-D69v",
        "outputId": "c666bf76-7026-4ea6-c7ed-6962f23085e1",
        "colab": {
          "base_uri": "https://localhost:8080/",
          "height": 295
        }
      },
      "outputs": [
        {
          "output_type": "display_data",
          "data": {
            "text/plain": [
              "<Figure size 432x288 with 1 Axes>"
            ],
            "image/png": "[encoded data removed]"
          },
          "metadata": {
            "needs_background": "light"
          }
        }
      ],
      "source": [
        "x = np.linspace(-10,10,20).reshape((20,1))\n",
        "w = np.array([0.9]).reshape((1,1))\n",
        "bias =0.3\n",
        "\n",
        "for i in range(10):\n",
        "    y_out3 = sigmoidt_complex_neuron(x = x, w = w, bias = 0.3, lymbd=0.1+i*0.5)\n",
        "    plt.plot(x[:,0].T,y_out3[0,:], label='sigmoid tanh')\n",
        "\n",
        "#plt.legend()\n",
        "plt.title('Ответы нейронов на х')\n",
        "plt.xlabel('x')\n",
        "plt.grid()\n",
        "plt.show()"
      ]
    },
    {
      "cell_type": "markdown",
      "metadata": {
        "id": "-QRu3z7PD69v"
      },
      "source": [
        "**Двухмерный нейрон**\n",
        "\n",
        "строим поле координат 10х10"
      ]
    },
    {
      "cell_type": "code",
      "execution_count": null,
      "metadata": {
        "id": "JQgQkyhAD69w",
        "outputId": "673d9f29-b536-43a3-9f9c-c55084deffe5",
        "colab": {
          "base_uri": "https://localhost:8080/"
        }
      },
      "outputs": [
        {
          "output_type": "stream",
          "name": "stdout",
          "text": [
            "[[-10.        ]\n",
            " [ -7.66666667]\n",
            " [ -5.33333333]]\n",
            "[[-10.]\n",
            " [-10.]\n",
            " [-10.]]\n"
          ]
        }
      ],
      "source": [
        "x1 = np.array([np.linspace(-10,11,10).reshape((10,1))]*10).reshape((10,10))\n",
        "x2 = x1.T\n",
        "x2=x2.reshape((100,1))\n",
        "x1=x1.reshape((100,1))\n",
        "print( x1[:3])\n",
        "print(x2[:3])\n",
        "\n",
        "x = np.hstack([x1,x2])"
      ]
    },
    {
      "cell_type": "markdown",
      "metadata": {
        "id": "hUqifbjqD69w"
      },
      "source": [
        "Разменость данных"
      ]
    },
    {
      "cell_type": "code",
      "execution_count": null,
      "metadata": {
        "id": "eY8muIWcD69w",
        "outputId": "1cfd2870-048d-4d58-b93b-5279f54ba0fb",
        "colab": {
          "base_uri": "https://localhost:8080/"
        }
      },
      "outputs": [
        {
          "output_type": "execute_result",
          "data": {
            "text/plain": [
              "(100, 2)"
            ]
          },
          "metadata": {},
          "execution_count": 18
        }
      ],
      "source": [
        "x.shape"
      ]
    },
    {
      "cell_type": "markdown",
      "metadata": {
        "id": "qBqUHJddD69w"
      },
      "source": [
        "Строим поверхность двухмерного нейрона  (чем желтее, тем ближе к 1, чем синее, тем ближе к -1)"
      ]
    },
    {
      "cell_type": "code",
      "execution_count": null,
      "metadata": {
        "id": "7D3o0h3kD69w",
        "outputId": "1a4bf7cd-ed27-4d86-9537-bf72c0c99f4a",
        "colab": {
          "base_uri": "https://localhost:8080/",
          "height": 265
        }
      },
      "outputs": [
        {
          "output_type": "display_data",
          "data": {
            "text/plain": [
              "<Figure size 432x288 with 1 Axes>"
            ],
            "image/png": "[encoded data removed]"
          },
          "metadata": {
            "needs_background": "light"
          }
        }
      ],
      "source": [
        "w = np.array([0.9, -0.9]).reshape((1,2))\n",
        "\n",
        "y_out_21 = McCuloh_Pitts_neuron(x = x, w = w, bias = 10)\n",
        "\n",
        "y_out_21 = y_out_21.reshape((10,10)) \n",
        "\n",
        "plt.imshow((y_out_21 ))\n",
        "plt.show()"
      ]
    },
    {
      "cell_type": "code",
      "execution_count": null,
      "metadata": {
        "id": "lVpUvIt4D69w",
        "outputId": "e9e4df12-fa47-44cc-88b6-a6116f780d60",
        "colab": {
          "base_uri": "https://localhost:8080/",
          "height": 265
        }
      },
      "outputs": [
        {
          "output_type": "display_data",
          "data": {
            "text/plain": [
              "<Figure size 432x288 with 1 Axes>"
            ],
            "image/png": "[encoded data removed]"
          },
          "metadata": {
            "needs_background": "light"
          }
        }
      ],
      "source": [
        "w = np.array([-0.9, 0.9]).reshape((1,2))\n",
        "\n",
        "y_out_22 = McCuloh_Pitts_neuron(x = x, w = w, bias = 10)\n",
        "\n",
        "y_out_22 = y_out_22.reshape((10,10)) \n",
        "\n",
        "plt.imshow((y_out_22 ))\n",
        "plt.show()"
      ]
    },
    {
      "cell_type": "markdown",
      "metadata": {
        "id": "ClIO12LbD69w"
      },
      "source": [
        "Сигмоидный нейрон на том же пространстве"
      ]
    },
    {
      "cell_type": "code",
      "execution_count": null,
      "metadata": {
        "id": "OFy_1ld5D69w",
        "outputId": "4f40eac1-b595-4251-c947-3c0b3bfe951d",
        "colab": {
          "base_uri": "https://localhost:8080/",
          "height": 265
        }
      },
      "outputs": [
        {
          "output_type": "display_data",
          "data": {
            "text/plain": [
              "<Figure size 432x288 with 1 Axes>"
            ],
            "image/png": "[encoded data removed]"
          },
          "metadata": {
            "needs_background": "light"
          }
        }
      ],
      "source": [
        "# веса нейронов\n",
        "w = np.array([0.9, -0.1]).reshape((1,2))\n",
        "# выход нейрона\n",
        "y_out_2s = sigmoidt_complex_neuron(x = x, w = w, bias = 33.9, lymbd=0.1+i*0.5)\n",
        "\n",
        "y_out_2s = y_out_2s.reshape((10,10)) \n",
        "\n",
        "plt.imshow((y_out_2s +1)/2)\n",
        "plt.show()\n"
      ]
    },
    {
      "cell_type": "markdown",
      "metadata": {
        "id": "-KoWC2mtD69w"
      },
      "source": [
        "И еще один нейрон"
      ]
    },
    {
      "cell_type": "code",
      "execution_count": null,
      "metadata": {
        "id": "DAWph8UgD69w",
        "outputId": "d76fd2f4-94a3-4c61-805b-c26dafa4be1e",
        "colab": {
          "base_uri": "https://localhost:8080/",
          "height": 265
        }
      },
      "outputs": [
        {
          "output_type": "display_data",
          "data": {
            "text/plain": [
              "<Figure size 432x288 with 1 Axes>"
            ],
            "image/png": "[encoded data removed]"
          },
          "metadata": {
            "needs_background": "light"
          }
        }
      ],
      "source": [
        "w = np.array([-0.1, 0.1]).reshape((1,2)) # веса нейрона\n",
        "# выход нейрона\n",
        "y_out_21s = sigmoidt_complex_neuron(x = x, w = w, bias = 33.9, lymbd=0.1+i*0.5)\n",
        "\n",
        "y_out_21s = y_out_21s.reshape((10,10)) \n",
        "\n",
        "plt.imshow((y_out_21s +1)/2)\n",
        "plt.show()\n"
      ]
    },
    {
      "cell_type": "markdown",
      "metadata": {
        "id": "pPgnWC19D69x"
      },
      "source": [
        "И еще один нейрон"
      ]
    },
    {
      "cell_type": "code",
      "execution_count": null,
      "metadata": {
        "id": "kRTQuxZ6D69x",
        "outputId": "64affbbb-cc1e-4832-9dd4-621dd2c2bd84",
        "colab": {
          "base_uri": "https://localhost:8080/",
          "height": 265
        }
      },
      "outputs": [
        {
          "output_type": "display_data",
          "data": {
            "text/plain": [
              "<Figure size 432x288 with 1 Axes>"
            ],
            "image/png": "[encoded data removed]"
          },
          "metadata": {
            "needs_background": "light"
          }
        }
      ],
      "source": [
        "w = np.array([0.1, -0.1]).reshape((1,2))\n",
        "\n",
        "y_out_22s = sigmoidt_complex_neuron(x = x, w = w, bias = 33.9, lymbd=0.1+i*0.5)\n",
        "\n",
        "y_out_22s = y_out_22s.reshape((10,10)) \n",
        "\n",
        "plt.imshow((y_out_22s +1)/2)\n",
        "plt.show()"
      ]
    },
    {
      "cell_type": "markdown",
      "metadata": {
        "id": "kvGsKn-7D69x"
      },
      "source": [
        "Все нейроны отличаются весами, что приводит к разным выходам."
      ]
    },
    {
      "cell_type": "markdown",
      "metadata": {
        "id": "Tn-9Xi_fD69x"
      },
      "source": [
        "**Обучение нейрона по Дельта-правилу**\n",
        "\n",
        "1. Задать начальное состояние\n",
        "2. Взять пример j из набора примеров\n",
        "3. Вычислить выход нейрона для этого примера\n",
        "4. Вычислить коррекцию синаптических весов для всех входов xi\n",
        "\n",
        "dwi = - n (y(Хj) - dj) xi\n",
        "\n",
        "5. Вычислить новый уровень wi\n",
        "wi = wi +  dwi\n",
        "\n",
        "6. Перейти к новому примеру в п.2\n",
        "7. Если просмотрели все примеры, то проверить условие конца (ошибка модели или число повторов): \n",
        "    - условие выполнено - конец\n",
        "    - условие не выполнено - начинаем просматривать примеры и изменять веса сначала (j=0) и к п.2\n",
        "    \n",
        "\n",
        "\n",
        "Эпоха - просмотр всех примеров из набора"
      ]
    },
    {
      "cell_type": "code",
      "execution_count": null,
      "metadata": {
        "id": "W91mW0pED69x",
        "outputId": "34b1a3f2-76fa-4f18-a23a-8b790a56e54a",
        "colab": {
          "base_uri": "https://localhost:8080/",
          "height": 573
        }
      },
      "outputs": [
        {
          "output_type": "display_data",
          "data": {
            "text/plain": [
              "<Figure size 432x288 with 1 Axes>"
            ],
            "image/png": "[encoded data removed]"
          },
          "metadata": {
            "needs_background": "light"
          }
        },
        {
          "output_type": "display_data",
          "data": {
            "text/plain": [
              "<Figure size 432x288 with 1 Axes>"
            ],
            "image/png": "[encoded data removed]"
          },
          "metadata": {
            "needs_background": "light"
          }
        }
      ],
      "source": [
        "# входное пространство\n",
        "x1 = np.array([1,1,-1,-1])\n",
        "x2 = np.array([1,-1,-1,1])\n",
        "\n",
        "x = np.vstack([x1,x2]).T\n",
        "\n",
        "# целевые значения для входов \n",
        "D=np.array([1,1,-1,-1])\n",
        "# нарисуем\n",
        "plt.plot(x1[:2],x2[:2], 'or', label = 'класс 1')\n",
        "plt.plot(x1[2:4],x2[2:4], 'og', label = 'класс -1')\n",
        "plt.legend()\n",
        "plt.xlabel('x1')\n",
        "plt.ylabel('x2')\n",
        "plt.title('Примеры объектов ')\n",
        "plt.grid()\n",
        "plt.show()\n",
        "\n",
        "plt.plot(D, 'b')\n",
        "plt.title('Примеры значений класса ')\n",
        "plt.title('целевой выход')\n",
        "plt.xlabel('номер объекта')\n",
        "plt.ylabel('D')\n",
        "plt.grid()\n",
        "plt.show()"
      ]
    },
    {
      "cell_type": "markdown",
      "metadata": {
        "id": "ANIUope1D69x"
      },
      "source": [
        "Посмотрим на входы"
      ]
    },
    {
      "cell_type": "code",
      "execution_count": null,
      "metadata": {
        "id": "sjE0z05yD69x",
        "outputId": "84134808-dd2c-4be7-88e0-256dc9f4e33e",
        "colab": {
          "base_uri": "https://localhost:8080/"
        }
      },
      "outputs": [
        {
          "output_type": "execute_result",
          "data": {
            "text/plain": [
              "array([[ 1,  1],\n",
              "       [ 1, -1],\n",
              "       [-1, -1],\n",
              "       [-1,  1]])"
            ]
          },
          "metadata": {},
          "execution_count": 25
        }
      ],
      "source": [
        "x"
      ]
    },
    {
      "cell_type": "markdown",
      "metadata": {
        "id": "N3CrRwoJD69x"
      },
      "source": [
        "Научим нейрон понимать эти примеры"
      ]
    },
    {
      "cell_type": "code",
      "execution_count": null,
      "metadata": {
        "id": "PIJX4W-SD69x",
        "outputId": "6989423c-ab3e-4b5f-cbb4-08a6157e9841",
        "colab": {
          "base_uri": "https://localhost:8080/",
          "height": 279
        }
      },
      "outputs": [
        {
          "output_type": "display_data",
          "data": {
            "text/plain": [
              "<Figure size 432x288 with 1 Axes>"
            ],
            "image/png": "[encoded data removed]"
          },
          "metadata": {
            "needs_background": "light"
          }
        }
      ],
      "source": [
        "# Начальные веса\n",
        "w=np.array([0.1,0.2])\n",
        "\n",
        "#yt = sigmoid_neuron(x = x, w = w, bias = 0)\n",
        "yt = linear_neuron(x = x, w = w, bias = 0)\n",
        "plt.plot(yt,'r' , label = 'выходы до обучения')\n",
        "\n",
        "\n",
        "for k in range(7):\n",
        "    for i in range(4):\n",
        "    \n",
        "        e = yt-D\n",
        "        dw = - 0.1 * e[i] * x[i,:]\n",
        "        w = w + dw\n",
        "        #yt = sigmoid_neuron(x = x, w = w, bias = 0)\n",
        "        yt = linear_neuron(x = x, w = w, bias = 0)\n",
        "        plt.plot(yt,'--b')\n",
        "    \n",
        "plt.plot(yt,'--b', label = 'выходы на этапе обучения')\n",
        "plt.plot(yt,'g', label = 'выходы после обучения')\n",
        "plt.legend()\n",
        "plt.xlabel('x')\n",
        "plt.ylabel('y')\n",
        "plt.grid()\n",
        "plt.show()    "
      ]
    },
    {
      "cell_type": "markdown",
      "metadata": {
        "id": "vyHPybzXD69y"
      },
      "source": [
        "На графике видно, как изменяется выход нейрона при обучении (постепенно сдвигаем к целевому значению)"
      ]
    },
    {
      "cell_type": "markdown",
      "metadata": {
        "id": "c96ovRExD69y"
      },
      "source": [
        "**Линейная разделимость**\n",
        "\n",
        "Введем понятие разделимость :\n",
        "- линейная - можно поделить линейной границей\n",
        "- линейно не разделимая - нельзя провести линейную границу"
      ]
    },
    {
      "cell_type": "markdown",
      "source": [
        "<img src='https://drive.google.com/uc?export=view&id=1jysvUhdc4EvJHhTbliZGFq8fRl9-L1Ek'>\n"
      ],
      "metadata": {
        "id": "IAWQVJjxH4n1"
      }
    },
    {
      "cell_type": "markdown",
      "metadata": {
        "id": "TiQB69CnD69y"
      },
      "source": [
        "Приведем пример линейно не разделимой модели примеров"
      ]
    },
    {
      "cell_type": "code",
      "execution_count": null,
      "metadata": {
        "id": "5CZxgiTND69y",
        "outputId": "793ff9e6-1588-42be-b054-3824893743d7",
        "colab": {
          "base_uri": "https://localhost:8080/",
          "height": 835
        }
      },
      "outputs": [
        {
          "output_type": "display_data",
          "data": {
            "text/plain": [
              "<Figure size 432x288 with 1 Axes>"
            ],
            "image/png": "[encoded data removed]"
          },
          "metadata": {
            "needs_background": "light"
          }
        },
        {
          "output_type": "display_data",
          "data": {
            "text/plain": [
              "<Figure size 432x288 with 1 Axes>"
            ],
            "image/png": "[encoded data removed]"
          },
          "metadata": {
            "needs_background": "light"
          }
        },
        {
          "output_type": "display_data",
          "data": {
            "text/plain": [
              "<Figure size 432x288 with 1 Axes>"
            ],
            "image/png": "[encoded data removed]"
          },
          "metadata": {
            "needs_background": "light"
          }
        }
      ],
      "source": [
        "# зададим примеры на вход\n",
        "x1 = np.array([1,1,-1,-1])\n",
        "x2 = np.array([1,-1,-1,1])\n",
        "\n",
        "x = np.vstack([x1,x2]).T\n",
        "# зададим примеры на выход\n",
        "D=np.array([1,-1,1,-1])\n",
        "\n",
        "plt.plot(x1[[1,3]],x2[[1,3]], 'or', label = 'класс 1')\n",
        "plt.plot(x1[[0,2]],x2[[0,2]],'og', label = 'класс -1')\n",
        "plt.legend()\n",
        "plt.xlabel('x1')\n",
        "plt.ylabel('x2')\n",
        "plt.title('Примеры объектов ')\n",
        "plt.grid()\n",
        "plt.show()\n",
        "\n",
        "plt.plot(D, 'b')\n",
        "plt.title('Примеры значений класса ')\n",
        "plt.title('целевой выход')\n",
        "plt.xlabel('номер объекта')\n",
        "plt.ylabel('D')\n",
        "plt.grid()\n",
        "plt.show()\n",
        "\n",
        "# Начальные веса\n",
        "w=np.array([0.1,-0.1])\n",
        "\n",
        "#yt = sigmoid_neuron(x = x, w = w, bias = 0)\n",
        "yt = linear_neuron(x = x, w = w, bias = 0)\n",
        "\n",
        "\n",
        "plt.plot(yt,'r' , label = 'выходы до обучения')\n",
        "\n",
        "# попробуем обучить\n",
        "for k in range(30):\n",
        "    for i in range(4):\n",
        "    \n",
        "        e = yt-D\n",
        "        dw = - 0.1 * e[i] * x[i,:]\n",
        "        w = w + dw\n",
        "        #yt = sigmoid_neuron(x = x, w = w, bias = 0)\n",
        "        yt = linear_neuron(x = x, w = w, bias = 0)\n",
        "        plt.plot(yt,'--b')\n",
        "    \n",
        "plt.plot(yt,'--b', label = 'выходы на этапе обучения')\n",
        "plt.plot(yt,'g', label = 'выходы после обучения')\n",
        "plt.legend()\n",
        "plt.xlabel('x')\n",
        "plt.ylabel('y')\n",
        "plt.grid()\n",
        "plt.show()    "
      ]
    },
    {
      "cell_type": "markdown",
      "metadata": {
        "id": "Y_c2ze0eD69y"
      },
      "source": [
        "ПОсмотрели на результаты и видим, что обучения не произошло и веса бросает туда-сюда:(. Нейрон не обучается (2 ошибки на 4 примера)"
      ]
    },
    {
      "cell_type": "markdown",
      "metadata": {
        "id": "fs1_GyopD69y"
      },
      "source": [
        "Можно строить сколько угодно сложные модели если :\n",
        "- нейрон может это реализовать\n",
        "- нейрон можно этому обучить\n",
        "\n",
        "**Проверим, что можно построить из комбинаций нейронов:**\n",
        "\n",
        "Скомбинируем нейроны y_out_21 и y_out_22"
      ]
    },
    {
      "cell_type": "markdown",
      "metadata": {
        "id": "LE2bN6m8D69y"
      },
      "source": [
        "## комплекс нейронов\n",
        "\n",
        "Объединим ответы 2-х нейронов в третьем (выходы 2-х первых - входы третьего)"
      ]
    },
    {
      "cell_type": "code",
      "execution_count": null,
      "metadata": {
        "id": "7O9G9WG7D69y",
        "outputId": "97efcf1f-e650-40c1-d543-9b8edafb2d52",
        "colab": {
          "base_uri": "https://localhost:8080/"
        }
      },
      "outputs": [
        {
          "output_type": "execute_result",
          "data": {
            "text/plain": [
              "(100, 2)"
            ]
          },
          "metadata": {},
          "execution_count": 28
        }
      ],
      "source": [
        "x_y2=np.hstack([y_out_21.reshape((100,1)),y_out_22.reshape((100,1))])\n",
        "x_y2.shape"
      ]
    },
    {
      "cell_type": "markdown",
      "metadata": {
        "id": "QzQZnai7D69y"
      },
      "source": [
        "Запустим нейрон и оказывается , что он может объединить решения неронов , т.е. 1 выставляем только там, где оба входных нейрона выставили 1. Остальные области помечены 0.\n",
        "\n",
        "Покажем это на схеме"
      ]
    },
    {
      "cell_type": "code",
      "execution_count": null,
      "metadata": {
        "id": "EjNO2fgxD69z",
        "outputId": "46f49013-1a43-40c4-e17e-34fe60e4a315",
        "colab": {
          "base_uri": "https://localhost:8080/",
          "height": 265
        }
      },
      "outputs": [
        {
          "output_type": "display_data",
          "data": {
            "text/plain": [
              "<Figure size 432x288 with 1 Axes>"
            ],
            "image/png": "[encoded data removed]"
          },
          "metadata": {
            "needs_background": "light"
          }
        }
      ],
      "source": [
        "yy2 = McCuloh_Pitts_neuron(x = x_y2, w = np.array([1,1]), bias = -0.5)\n",
        "yy2=yy2.reshape((10,10))\n",
        "\n",
        "plt.imshow((yy2 ))\n",
        "plt.show()"
      ]
    },
    {
      "cell_type": "markdown",
      "metadata": {
        "id": "76XLjcP3D69z"
      },
      "source": [
        "Построим еще одно объединение  - \"Уголком\""
      ]
    },
    {
      "cell_type": "code",
      "execution_count": null,
      "metadata": {
        "id": "7BspdDaBD69z",
        "outputId": "70b4426d-7fa2-47e3-c8ad-273d11e0313c",
        "colab": {
          "base_uri": "https://localhost:8080/",
          "height": 265
        }
      },
      "outputs": [
        {
          "output_type": "display_data",
          "data": {
            "text/plain": [
              "<Figure size 432x288 with 1 Axes>"
            ],
            "image/png": "[encoded data removed]"
          },
          "metadata": {
            "needs_background": "light"
          }
        }
      ],
      "source": [
        "x1 = np.array([np.linspace(-10,11,10).reshape((10,1))]*10).reshape((10,10))\n",
        "x2 = x1.T\n",
        "x2=x2.reshape((100,1))\n",
        "x1=x1.reshape((100,1))\n",
        "\n",
        "x = np.hstack([x1,x2])\n",
        "\n",
        "#neuron 1\n",
        "w = np.array([0.9, -0.9]).reshape((1,2))\n",
        "\n",
        "y_out_31 = McCuloh_Pitts_neuron(x = x, w = w, bias = 10)\n",
        "#neuron 2\n",
        "w = np.array([0.9, 0.9]).reshape((1,2))\n",
        "\n",
        "y_out_32 = McCuloh_Pitts_neuron(x = x, w = w, bias = 10)\n",
        "\n",
        "#второй слой - нейрон 1\n",
        "x_y3=np.hstack([y_out_31.reshape((100,1)),y_out_32.reshape((100,1))])\n",
        "x_y3.shape\n",
        "\n",
        "yy3 = McCuloh_Pitts_neuron(x = x_y3, w = np.array([1,1]), bias = -0.5)\n",
        "yy3=yy3.reshape((10,10))\n",
        "\n",
        "plt.imshow((yy3 ))\n",
        "plt.show()"
      ]
    },
    {
      "cell_type": "markdown",
      "metadata": {
        "id": "wPXfBF9ND69z"
      },
      "source": [
        "Схема нейронной модели из 3-х нейронов ;"
      ]
    },
    {
      "cell_type": "markdown",
      "source": [
        "<img src='https://drive.google.com/uc?export=view&id=1_5byGhlRneWjl6GiKHMkuyV0SHWj1SQx'>\n"
      ],
      "metadata": {
        "id": "bSHphchzIaTK"
      }
    },
    {
      "cell_type": "markdown",
      "metadata": {
        "id": "eTg1O1KYD69z"
      },
      "source": [
        "Это уже нейронная сеть!!!!\n",
        "\n",
        "### Нейронная сеть\n",
        "\n",
        "Слой - группа нейронов : \n",
        "    - близкие функции\n",
        "    - связаны с общим подмножеством нейронов\n",
        "    \n",
        "Слой на выходе - выходной\n",
        "\n",
        "Слой на входе - рецептивный\n",
        "\n",
        "**Формальная модель сети**\n"
      ]
    },
    {
      "cell_type": "markdown",
      "source": [
        "<img src='https://drive.google.com/uc?export=view&id=1guZXbFOrRYIdYWOs2qcSRapbIG9JGjLS'>\n"
      ],
      "metadata": {
        "id": "ObabBQm2Ipdg"
      }
    },
    {
      "cell_type": "markdown",
      "source": [
        "\n",
        "<img src='https://drive.google.com/uc?export=view&id=1vH7c4JOjaoHM7yzvlBy0TeabxdcdMmWY'>"
      ],
      "metadata": {
        "id": "hjhdJ31KI3JO"
      }
    },
    {
      "cell_type": "markdown",
      "metadata": {
        "id": "JI1devs3D69z"
      },
      "source": [
        "Возможности сети:\n",
        "\n",
        "- 2-х слойная сеть {0,1}n - произвольная булева функция (ДНФ)\n",
        "- 2-х слойная сеть Rn - произвольный выпуклый многогранник\n",
        "- 3-х слойная сеть Rn - произвольная не обязательно выпуклая область , не обязательно связная\n",
        "- линейные операции + одна нелинейная - приблизит любу. непрерывную функцию с любой точностью "
      ]
    },
    {
      "cell_type": "markdown",
      "metadata": {
        "id": "UozootFVD69z"
      },
      "source": [
        "Пример 2-х слойная сеть Rn - произвольный выпуклый многогранник"
      ]
    },
    {
      "cell_type": "code",
      "execution_count": null,
      "metadata": {
        "id": "q9g7F8-ZD690",
        "outputId": "c030e802-5240-4008-820c-6f30b21acf13",
        "colab": {
          "base_uri": "https://localhost:8080/",
          "height": 1000
        }
      },
      "outputs": [
        {
          "output_type": "display_data",
          "data": {
            "text/plain": [
              "<Figure size 432x288 with 1 Axes>"
            ],
            "image/png": "[encoded data removed]"
          },
          "metadata": {
            "needs_background": "light"
          }
        },
        {
          "output_type": "display_data",
          "data": {
            "text/plain": [
              "<Figure size 432x288 with 1 Axes>"
            ],
            "image/png": "[encoded data removed]"
          },
          "metadata": {
            "needs_background": "light"
          }
        },
        {
          "output_type": "display_data",
          "data": {
            "text/plain": [
              "<Figure size 432x288 with 1 Axes>"
            ],
            "image/png": "[encoded data removed]"
          },
          "metadata": {
            "needs_background": "light"
          }
        },
        {
          "output_type": "display_data",
          "data": {
            "text/plain": [
              "<Figure size 432x288 with 1 Axes>"
            ],
            "image/png": "[encoded data removed]"
          },
          "metadata": {
            "needs_background": "light"
          }
        },
        {
          "output_type": "display_data",
          "data": {
            "text/plain": [
              "<Figure size 432x288 with 1 Axes>"
            ],
            "image/png": "[encoded data removed]"
          },
          "metadata": {
            "needs_background": "light"
          }
        }
      ],
      "source": [
        "x1 = np.array([np.linspace(-10,11,10).reshape((10,1))]*10).reshape((10,10))\n",
        "x2 = x1.T\n",
        "x2=x2.reshape((100,1))\n",
        "x1=x1.reshape((100,1))\n",
        "\n",
        "x = np.hstack([x1,x2])\n",
        "\n",
        "#neuron 1\n",
        "w = np.array([0.9, -0.9]).reshape((1,2))\n",
        "\n",
        "y_out_31 = McCuloh_Pitts_neuron(x = x, w = w, bias = 10)\n",
        "plt.imshow((y_out_31.reshape((10,10)) ))\n",
        "plt.show()\n",
        "#neuron 2\n",
        "w = np.array([0.9, 0.9]).reshape((1,2))\n",
        "\n",
        "y_out_32 = McCuloh_Pitts_neuron(x = x, w = w, bias = 10)\n",
        "plt.imshow((y_out_32.reshape((10,10)) ))\n",
        "plt.show()\n",
        "#neuron 3\n",
        "w = np.array([-0.9, 0.9]).reshape((1,2))\n",
        "\n",
        "y_out_33 = McCuloh_Pitts_neuron(x = x, w = w, bias = 10)\n",
        "plt.imshow((y_out_33.reshape((10,10)) ))\n",
        "plt.show()\n",
        "#neuron 4\n",
        "w = np.array([-0.9, -0.9]).reshape((1,2))\n",
        "\n",
        "y_out_34 = McCuloh_Pitts_neuron(x = x, w = w, bias = 10)\n",
        "plt.imshow((y_out_34.reshape((10,10)) ))\n",
        "plt.show()\n",
        "\n",
        "\n",
        "#второй слой - нейрон 1\n",
        "x_y3=np.hstack([y_out_31.reshape((100,1)),y_out_32.reshape((100,1)), y_out_33.reshape((100,1)), y_out_34.reshape((100,1))])\n",
        "x_y3.shape\n",
        "\n",
        "#выходной нейрон - собирает сигнал 4-х нейронов и описывает общую фигуру , т.е. комбинируем 4 линейных границы\n",
        "yy3 = McCuloh_Pitts_neuron(x = x_y3, w = np.array([0.25,0.25,0.25,0.25]), bias = -0.5)\n",
        "#yy3 = linear_neuron(x = x_y3, w = np.array([0.24,0.24,0.24,0.24]), bias = 0)\n",
        "yy3=yy3.reshape((10,10))\n",
        "\n",
        "plt.imshow((yy3 ))\n",
        "plt.show()"
      ]
    },
    {
      "cell_type": "code",
      "execution_count": null,
      "metadata": {
        "id": "PYG-rZZQD690",
        "outputId": "0b707d18-515e-49e5-c579-24ecdce42ae8",
        "colab": {
          "base_uri": "https://localhost:8080/"
        }
      },
      "outputs": [
        {
          "output_type": "execute_result",
          "data": {
            "text/plain": [
              "array([[0., 0., 0., 0., 1., 0., 0., 0., 0., 0.],\n",
              "       [0., 0., 0., 1., 1., 1., 0., 0., 0., 0.],\n",
              "       [0., 0., 1., 1., 1., 1., 1., 0., 0., 0.],\n",
              "       [0., 1., 1., 1., 1., 1., 1., 1., 0., 0.],\n",
              "       [1., 1., 1., 1., 1., 1., 1., 1., 1., 0.],\n",
              "       [0., 1., 1., 1., 1., 1., 1., 1., 1., 0.],\n",
              "       [0., 0., 1., 1., 1., 1., 1., 1., 0., 0.],\n",
              "       [0., 0., 0., 1., 1., 1., 1., 0., 0., 0.],\n",
              "       [0., 0., 0., 0., 1., 1., 0., 0., 0., 0.],\n",
              "       [0., 0., 0., 0., 0., 0., 0., 0., 0., 0.]])"
            ]
          },
          "metadata": {},
          "execution_count": 46
        }
      ],
      "source": [
        "yy3"
      ]
    },
    {
      "cell_type": "markdown",
      "source": [
        "<img src='https://drive.google.com/uc?export=view&id=1WHFe1TqyDG2bVJKOoNL2YWOFMPbuuTxt'>\n"
      ],
      "metadata": {
        "id": "2SMf2FArJHOU"
      }
    },
    {
      "cell_type": "markdown",
      "metadata": {
        "id": "KfLbcUMcD690"
      },
      "source": [
        "3-х слойная сеть Rn - произвольная не обязательно выпуклая область "
      ]
    },
    {
      "cell_type": "code",
      "execution_count": null,
      "metadata": {
        "id": "iqzpBPe9D690",
        "outputId": "3ca6876e-73f6-4e8d-c514-59117cf3b1ac"
      },
      "outputs": [
        {
          "data": {
            "image/png": "[encoded data removed]",
            "text/plain": [
              "<IPython.core.display.Image object>"
            ]
          },
          "execution_count": 41,
          "metadata": {
            "image/png": {
              "width": 600
            }
          },
          "output_type": "execute_result"
        }
      ],
      "source": [
        "Image(filename='8.png', width=600) "
      ]
    },
    {
      "cell_type": "markdown",
      "source": [
        "<img src='https://drive.google.com/uc?export=view&id=1FWpEBzvk2WQW99tAuASlaHO3tu09wnaf'>\n"
      ],
      "metadata": {
        "id": "5HygzsYVJRor"
      }
    },
    {
      "cell_type": "markdown",
      "metadata": {
        "id": "o-ZyCwQpD690"
      },
      "source": [
        "## Резюме\n",
        "\n",
        "1. Нейрон - биологическое подобие\n",
        "2. Нейрон - обучаем\n",
        "3. Нейрон - простая функция\n",
        "4. Нейронная сеть - сложная функция\n",
        "5. Нейронная сеть - обучаема"
      ]
    },
    {
      "cell_type": "code",
      "source": [],
      "metadata": {
        "id": "vL4pmfBIJeY9"
      },
      "execution_count": null,
      "outputs": []
    },
    {
      "cell_type": "markdown",
      "metadata": {
        "id": "CP70JdkPTCOx"
      },
      "source": [
        "# Метод обратного распространения ошибки"
      ]
    },
    {
      "cell_type": "markdown",
      "metadata": {
        "id": "C0hZBW13TCO2"
      },
      "source": [
        "Обучение нелинейного нейрона.  Проблема обучения нелинейного нейрона в скрытом слое состоит в том, что для адаптации параметров нейрона нужно знать ошибку на выходе нейрона.\n",
        "\n",
        "Последовательность перехода сигнала определяется конструкцией нейрона и характеристикой, которую обеспечивает активационная функция.  \n",
        "\n"
      ]
    },
    {
      "cell_type": "code",
      "execution_count": null,
      "metadata": {
        "id": "z9b9RB6yTCO4"
      },
      "outputs": [],
      "source": [
        "import numpy as np\n",
        "import pandas as pd\n",
        "import seaborn as sns\n",
        "import matplotlib.pyplot as plt\n",
        "\n",
        "from sklearn.datasets import load_iris\n",
        "\n",
        "import warnings\n",
        "warnings.simplefilter(action='ignore', category=FutureWarning)\n",
        "\n",
        "# sklearn здесь только, чтобы разделить выборку на тренировочную и тестовую\n",
        "from sklearn.model_selection import train_test_split"
      ]
    },
    {
      "cell_type": "markdown",
      "metadata": {
        "id": "U5ySv2_RTCO_"
      },
      "source": [
        "##  Проблемы обучения нелинейного нейрона\n",
        "\n",
        "Нейрон для анализа - логистического типа. Определим основные функции для обработки: \n",
        "\n",
        "- to_one_hot(Y) : преобразует значение в вектор по правилу one-hot-encoding ( пример при 10 классах, значение Y=4 переведем в вектор <0, 0, 0, 0, 1, 0, 0, 0, 0, 0 >),\n",
        "\n",
        "- from_one_hot(Y) : переводит вектор one-hot-encoding в значение чскаоярного типа (вектор Y <0, 0, 0, 0, 1, 0, 0, 0, 0, 0 > переводится в значение 4)\n",
        "\n",
        "- sum_neuron(x=None, w=None) : вернет свертку векторов x, w - на выходе скалярное значение - внутреннее состояние нейрона,\n",
        "\n",
        "-  sigmoid_complex_neuron(x = None, w = None, bias=0, lymbd = 1) : логистический нейрон с входным набором значений х  и настраиваемыми параметрами w.\n",
        "\n",
        "- sigmoid_deriv(g) : производная логистического нейрона, \n",
        "\n",
        "- normalize(X, axis=-1, order=2) : нормализация признаков - делаем входы удобными для нейрона"
      ]
    },
    {
      "cell_type": "code",
      "source": [],
      "metadata": {
        "id": "3a210BcAKE9J"
      },
      "execution_count": null,
      "outputs": []
    },
    {
      "cell_type": "code",
      "execution_count": null,
      "metadata": {
        "id": "-byMFpu-ZoKc"
      },
      "outputs": [],
      "source": [
        "'''\n",
        "Исходный код к уроку 1.\n",
        "Построение двухслойной нейронный сети для классификации цветков ириса\n",
        "'''\n",
        "\n",
        "import numpy as np\n",
        "import pandas as pd\n",
        "import seaborn as sns\n",
        "import matplotlib.pyplot as plt\n",
        "\n",
        "import warnings\n",
        "warnings.simplefilter(action='ignore', category=FutureWarning)\n",
        "\n",
        "# sklearn здесь только, чтобы разделить выборку на тренировочную и тестовую\n",
        "from sklearn.model_selection import train_test_split\n",
        "from sklearn.datasets import load_iris"
      ]
    },
    {
      "cell_type": "code",
      "execution_count": null,
      "metadata": {
        "id": "A6Iy0Nm9ZoKc"
      },
      "outputs": [],
      "source": [
        "### Шаг 1. Определение функций, которые понадобяться для обучения\n",
        "# преобразование массива в бинарный вид результатов\n",
        "def to_one_hot(Y):\n",
        "    n_col = np.amax(Y) + 1\n",
        "    binarized = np.zeros((len(Y), n_col))\n",
        "    for i in range(len(Y)):\n",
        "        binarized[i, Y[i]] = 1.\n",
        "    return binarized\n",
        "\n",
        "# преобразование массива в необходимый вид\n",
        "def from_one_hot(Y):\n",
        "    arr = np.zeros((len(Y), 1))\n",
        "\n",
        "    for i in range(len(Y)):\n",
        "        l = Y[i]\n",
        "        for j in range(len(l)):\n",
        "            if(l[j] == 1):\n",
        "                arr[i] = j+1\n",
        "    return arr\n",
        "\n",
        "# сигмоида и ее производная\n",
        "def sigmoid(x):\n",
        "    return 1/(1+np.exp(-x))\n",
        "\n",
        "def sigmoid_deriv(x):\n",
        "    return (x)*(1 - (x))\n",
        "\n",
        "# нормализация массива\n",
        "def normalize(X, axis=-1, order=2):\n",
        "    l2 = np.atleast_1d(np.linalg.norm(X, order, axis))\n",
        "    l2[l2 == 0] = 1\n",
        "    return X / np.expand_dims(l2, axis)"
      ]
    },
    {
      "cell_type": "code",
      "source": [
        "### Шаг 2. Подготовка тренировочных данных\n",
        "# получения данных \n",
        "data = load_iris()"
      ],
      "metadata": {
        "id": "AEXhtqTSKpEo"
      },
      "execution_count": null,
      "outputs": []
    },
    {
      "cell_type": "code",
      "execution_count": null,
      "metadata": {
        "id": "4DjtwmKhZoKc"
      },
      "outputs": [],
      "source": [
        "\n",
        "### Шаг 2. Подготовка тренировочных данных\n",
        "# получения данных из csv файла. укажите здесь путь к файлу Iris.csv\n",
        "data = load_iris()\n",
        "\n",
        "# формирование входных данных\n",
        "\n",
        "x = data['data']\n",
        "#x = normalize(x.as_matrix())\n",
        "x = normalize(x)\n",
        "\n",
        "# формирование выходных данных(результатов)\n",
        "\n",
        "y = data['target']\n",
        "#y = y.as_matrix()\n",
        "\n",
        "y = y.flatten()\n",
        "y = to_one_hot(y)\n",
        "\n",
        "# Разделение данных на тренировочные и тестовые\n",
        "X_train, X_test, y_train, y_test = train_test_split(x, y, test_size=0.33)"
      ]
    },
    {
      "cell_type": "code",
      "execution_count": null,
      "metadata": {
        "colab": {
          "base_uri": "https://localhost:8080/",
          "height": 669
        },
        "id": "S3ZOBNIeZoKd",
        "outputId": "a1bf5990-0017-495e-8f28-2051bd80051c"
      },
      "outputs": [
        {
          "output_type": "display_data",
          "data": {
            "text/plain": [
              "<Figure size 1152x360 with 1 Axes>"
            ],
            "image/png": "[encoded data removed]"
          },
          "metadata": {
            "needs_background": "light"
          }
        },
        {
          "output_type": "display_data",
          "data": {
            "text/plain": [
              "<Figure size 1152x360 with 1 Axes>"
            ],
            "image/png": "[encoded data removed]"
          },
          "metadata": {
            "needs_background": "light"
          }
        },
        {
          "output_type": "stream",
          "name": "stdout",
          "text": [
            "Аккуратность нейронной сети 97.7%\n"
          ]
        }
      ],
      "source": [
        "### Шаг 3. Обученние нейронной сети\n",
        "\n",
        "# определим число нейронов скрытого слоя\n",
        "neuron_numb = 5\n",
        "\n",
        "\n",
        "# присваевание случайных весов\n",
        "\n",
        "\n",
        "\n",
        "w0 = 2*np.random.random((4, neuron_numb)) - 1 # для входного слоя   - 4 входа, 3 выхода\n",
        "w1 = 2*np.random.random((neuron_numb, 3)) - 1 # для внутреннего слоя - 5 входов, 3 выхода\n",
        "\n",
        "# скорость обучения (learning rate)\n",
        "n = 0.05\n",
        "\n",
        "# массив для ошибок, чтобы потом построить график\n",
        "errors = []\n",
        "\n",
        "# процесс обучения\n",
        "for i in range(10000):\n",
        "\n",
        "    # прямое распространение(feed forward)\n",
        "    layer0 = X_train\n",
        "    layer1 = sigmoid(np.dot(layer0, w0))\n",
        "    layer2 = sigmoid(np.dot(layer1, w1))\n",
        "\n",
        "    # обратное распространение(back propagation) с использованием градиентного спуска\n",
        "    layer2_error = y_train - layer2 # производная функции потерь = производная квадратичных потерь \n",
        "    layer2_delta = layer2_error * sigmoid_deriv(layer2)\n",
        "    \n",
        "    layer1_error = layer2_delta.dot(w1.T)\n",
        "    layer1_delta = layer1_error * sigmoid_deriv(layer1)\n",
        "    # коррекция\n",
        "    w1 += layer1.T.dot(layer2_delta) * n\n",
        "    w0 += layer0.T.dot(layer1_delta) * n\n",
        "    # метрика модели\n",
        "    error = np.mean(np.abs(layer2_error))\n",
        "    errors.append(error)\n",
        "    accuracy = (1 - error) * 100\n",
        "\n",
        "\n",
        "### Шаг 4. Демонстрация полученных результатов\n",
        "# черчение диаграммы точности в зависимости от обучения\n",
        "plt.figure(figsize = (16,5))\n",
        "plt.plot(errors)\n",
        "plt.xlabel('Обучение')\n",
        "plt.ylabel('Ошибка')\n",
        "plt.grid()\n",
        "plt.show() # расскоментируйте, чтобы посмотреть \n",
        "\n",
        "N = 50\n",
        "plt.figure(figsize = (16,5))\n",
        "plt.plot(layer2[:N,1], 'r',label = 'Y new')\n",
        "plt.plot(y_train[:N,1],'g', label = 'Y train')\n",
        "plt.xlabel('№ примера')\n",
        "plt.ylabel('выход сети и целевой')\n",
        "plt.legend( )\n",
        "plt.grid()\n",
        "plt.show() # расскоментируйте, чтобы посмотреть \n",
        "        \n",
        "print(\"Аккуратность нейронной сети \" + str(round(accuracy,2)) + \"%\")\n",
        "\n"
      ]
    },
    {
      "cell_type": "code",
      "execution_count": null,
      "metadata": {
        "colab": {
          "base_uri": "https://localhost:8080/"
        },
        "id": "DVXZzsQXZoKd",
        "outputId": "ec18e652-a69b-47a1-95b5-125e6fa647c7"
      },
      "outputs": [
        {
          "output_type": "execute_result",
          "data": {
            "text/plain": [
              "array([[  5.54999251,   2.21321665, -15.19461242],\n",
              "       [ -2.59445837,  -2.77378166,  -1.58190113],\n",
              "       [  2.81145216,  -6.8404759 ,  -4.13083826],\n",
              "       [ -5.55101451, -19.40488958,  12.91513902],\n",
              "       [ -7.07277246,  12.42234602,   2.87944655]])"
            ]
          },
          "metadata": {},
          "execution_count": 59
        }
      ],
      "source": [
        "w1"
      ]
    },
    {
      "cell_type": "code",
      "execution_count": null,
      "metadata": {
        "colab": {
          "base_uri": "https://localhost:8080/",
          "height": 351
        },
        "id": "UxyLGKnFZoKe",
        "outputId": "c1147942-8d3a-47f4-a921-2d298595396c"
      },
      "outputs": [
        {
          "output_type": "display_data",
          "data": {
            "text/plain": [
              "<Figure size 1152x360 with 1 Axes>"
            ],
            "image/png": "[encoded data removed]"
          },
          "metadata": {
            "needs_background": "light"
          }
        },
        {
          "output_type": "stream",
          "name": "stdout",
          "text": [
            "Аккуратность нейронной сети на тесте 95.78%\n"
          ]
        }
      ],
      "source": [
        "# прямое распространение(feed forward)\n",
        "layer0_t = X_test\n",
        "layer1_t = sigmoid(np.dot(layer0_t, w0))\n",
        "layer2_t = sigmoid(np.dot(layer1_t, w1))\n",
        "layer2_error_t = y_test - layer2_t\n",
        "    \n",
        "    \n",
        "N = 50\n",
        "plt.figure(figsize = (16,5))\n",
        "plt.plot(layer2_t[:N,1], 'r',label = 'Y new')\n",
        "plt.plot(y_test[:N,1],'g', label = 'Y train')\n",
        "plt.xlabel('№ примера')\n",
        "plt.ylabel('выход сети и целевой')\n",
        "plt.grid()\n",
        "plt.legend( )\n",
        "plt.show() # расскоментируйте, чтобы посмотреть\n",
        "\n",
        "# метрика модели\n",
        "error_t = np.mean(np.abs(layer2_error_t))\n",
        "accuracy_t = (1 - error_t) * 100\n",
        "print(\"Аккуратность нейронной сети на тесте \" + str(round(accuracy_t,2)) + \"%\")"
      ]
    },
    {
      "cell_type": "markdown",
      "source": [
        "## **Keras**"
      ],
      "metadata": {
        "id": "IJihpMI2MBjR"
      }
    },
    {
      "cell_type": "markdown",
      "metadata": {
        "id": "iRJ_I6hu9U8-"
      },
      "source": [
        "## Основы синтаксиса"
      ]
    },
    {
      "cell_type": "markdown",
      "metadata": {
        "id": "Sars-tTz9U9A"
      },
      "source": [
        "**Установка и работа с данными**"
      ]
    },
    {
      "cell_type": "markdown",
      "metadata": {
        "id": "8w3sHXOV9U9B"
      },
      "source": [
        "Для начала необходимо установить keras. Надо полагать вы хорошо знакомы с командой pip."
      ]
    },
    {
      "cell_type": "markdown",
      "metadata": {
        "id": "05hfRCv09U9D"
      },
      "source": [
        "sudo python3 pip install keras"
      ]
    },
    {
      "cell_type": "markdown",
      "metadata": {
        "id": "EAwWzAS29U9F"
      },
      "source": [
        "Давайте попробуем получить датасет mnist и проанализировать его содержимое.\n",
        "Это еще не будет синтаксис Keras, но это часто встречающаяся задача. Не обращайте внимание на предупреждения от TensorFlow. Их часто бывает много и их можно подавить при необходимости."
      ]
    },
    {
      "cell_type": "markdown",
      "metadata": {
        "id": "iKgNxL4G9U9H"
      },
      "source": [
        "    import numpy as np\n",
        "    import mnist\n",
        "    import keras\n",
        "\n",
        "    # The first time you run this might be a bit slow, since the\n",
        "    # mnist package has to download and cache the data.\n",
        "    train_images = mnist.train_images()\n",
        "    train_labels = mnist.train_labels()\n",
        "\n",
        "    print(train_images.shape) # (60000, 28, 28)\n",
        "    print(train_labels.shape) # (60000,)"
      ]
    },
    {
      "cell_type": "markdown",
      "metadata": {
        "id": "F_3tRtvg9U9J"
      },
      "source": [
        "Что в данном случае мы смогли с вами узнать? Что тренировочный датасет mnist состоит из 60000 изображений 28 на 28 пикселей. Такие небольшие датасеты с маленькими изображениями встретятся вам и в других учебных датасетах."
      ]
    },
    {
      "cell_type": "markdown",
      "metadata": {
        "id": "DZiKILQd9U9L"
      },
      "source": [
        "Что нам нужно делать теперь? Если датасет не имеет разделения на тренировочный и тестовый то поделить их. В нашем случае наш тренировочный датасет состоит из 60 000 изображений и тестовый из 10 000 и они поделены по умолчанию.\n",
        "\n",
        "Нам теперь нужно конверитировать значения пикселей из вида от 1 до 255 в набор значений от -0.5 до 0.5.\n",
        "\n"
      ]
    },
    {
      "cell_type": "code",
      "metadata": {
        "id": "TQMMZ_jw9U9N",
        "colab": {
          "base_uri": "https://localhost:8080/"
        },
        "outputId": "c85a0685-53da-4132-8d44-fab70b3eafa3"
      },
      "source": [
        "import numpy as np\n",
        "#import mnist\n",
        "#import tensorflow as tf\n",
        "#import tf.kears as keras\n",
        "import keras\n",
        "from keras.datasets import mnist, boston_housing, fashion_mnist  # наборы для работы\n",
        "\n",
        "#train_images = mnist.train_images()\n",
        "#train_labels = mnist.train_labels()\n",
        "#test_images = mnist.test_images()\n",
        "#test_labels = mnist.test_labels()\n",
        "\n",
        "(train_imagesi,train_labels),(test_imagesi,testn_labels)=mnist.load_data()\n",
        "\n",
        "# Normalize the images.\n",
        "train_imagesi = (train_imagesi / 127) - 1\n",
        "test_imagesi = (test_imagesi / 127) - 1\n",
        "\n",
        "# Flatten the images.\n",
        "train_images = train_imagesi.reshape((-1, 784))\n",
        "test_images = test_imagesi.reshape((-1, 784))\n",
        "\n",
        "print(train_images.shape) # (60000, 784)\n",
        "print(test_images.shape)  # (10000, 784)"
      ],
      "execution_count": null,
      "outputs": [
        {
          "output_type": "stream",
          "name": "stdout",
          "text": [
            "(60000, 784)\n",
            "(10000, 784)\n"
          ]
        }
      ]
    },
    {
      "cell_type": "code",
      "source": [
        "n=1\n",
        "train_imagesi[n,:,:].shape"
      ],
      "metadata": {
        "colab": {
          "base_uri": "https://localhost:8080/"
        },
        "id": "haGKRAidX8XT",
        "outputId": "2d2e5394-da9a-44bc-b38f-c9a191b878b4"
      },
      "execution_count": null,
      "outputs": [
        {
          "output_type": "execute_result",
          "data": {
            "text/plain": [
              "(28, 28)"
            ]
          },
          "metadata": {},
          "execution_count": 41
        }
      ]
    },
    {
      "cell_type": "code",
      "metadata": {
        "id": "3fwDFMMPJDFE",
        "colab": {
          "base_uri": "https://localhost:8080/",
          "height": 35
        },
        "outputId": "ea94d7e4-a950-499f-db61-3a70f66726ff"
      },
      "source": [
        "keras.backend.backend()"
      ],
      "execution_count": null,
      "outputs": [
        {
          "output_type": "execute_result",
          "data": {
            "text/plain": [
              "'tensorflow'"
            ],
            "application/vnd.google.colaboratory.intrinsic+json": {
              "type": "string"
            }
          },
          "metadata": {},
          "execution_count": 43
        }
      ]
    },
    {
      "cell_type": "code",
      "metadata": {
        "id": "Jp0WM1sS1DFX"
      },
      "source": [
        "import matplotlib.pyplot as plt"
      ],
      "execution_count": null,
      "outputs": []
    },
    {
      "cell_type": "code",
      "metadata": {
        "colab": {
          "base_uri": "https://localhost:8080/",
          "height": 283
        },
        "id": "1GG9Z5HDEEWW",
        "outputId": "6d733ede-103d-4a53-d2d0-05572e37e83c"
      },
      "source": [
        "n = 1251\n",
        "plt.imshow(train_imagesi[n,:,:])\n",
        "plt.show()\n",
        "print(train_labels[n])"
      ],
      "execution_count": null,
      "outputs": [
        {
          "output_type": "display_data",
          "data": {
            "text/plain": [
              "<Figure size 432x288 with 1 Axes>"
            ],
            "image/png": "[encoded data removed]"
          },
          "metadata": {
            "needs_background": "light"
          }
        },
        {
          "output_type": "stream",
          "name": "stdout",
          "text": [
            "7\n"
          ]
        }
      ]
    },
    {
      "cell_type": "code",
      "metadata": {
        "colab": {
          "base_uri": "https://localhost:8080/"
        },
        "id": "t58_YKCl38rz",
        "outputId": "1c2e4744-e376-4fe5-8ffc-49260b396154"
      },
      "source": [
        "train_labels[:12]"
      ],
      "execution_count": null,
      "outputs": [
        {
          "output_type": "execute_result",
          "data": {
            "text/plain": [
              "array([5, 0, 4, 1, 9, 2, 1, 3, 1, 4, 3, 5], dtype=uint8)"
            ]
          },
          "metadata": {},
          "execution_count": 48
        }
      ]
    },
    {
      "cell_type": "code",
      "metadata": {
        "colab": {
          "base_uri": "https://localhost:8080/"
        },
        "id": "1_Ae7niGnjb6",
        "outputId": "4fbec01f-61a4-443b-9fd7-13e4a356ef38"
      },
      "source": [
        "train_images[202,150:160]"
      ],
      "execution_count": null,
      "outputs": [
        {
          "output_type": "execute_result",
          "data": {
            "text/plain": [
              "array([-1.        , -1.        , -1.        , -1.        , -1.        ,\n",
              "       -0.90551181, -0.80314961, -0.80314961, -0.80314961, -0.80314961])"
            ]
          },
          "metadata": {},
          "execution_count": 7
        }
      ]
    },
    {
      "cell_type": "markdown",
      "metadata": {
        "id": "Y6btW5Oz9U9W"
      },
      "source": [
        "**Создание модели**"
      ]
    },
    {
      "cell_type": "markdown",
      "metadata": {
        "id": "jgVdsO619U9Y"
      },
      "source": [
        "После первичной подготовки данных дальше как правило следует создание модели нейронной сети, которая будет учиться на этих данных.\n",
        "\n",
        "Ниже типичный код учебной нейросети - "
      ]
    },
    {
      "cell_type": "markdown",
      "metadata": {
        "id": "rfu5k2FX9U9a"
      },
      "source": [
        "    # define the keras model\n",
        "    model = Sequential()\n",
        "    model.add(Dense(12, input_dim=8, activation='relu'))\n",
        "    model.add(Dense(8, activation='relu'))\n",
        "    model.add(Dense(1, activation='sigmoid'))"
      ]
    },
    {
      "cell_type": "markdown",
      "metadata": {
        "id": "lb6IkKpN9U9c"
      },
      "source": [
        "Давайте разберемся с теми командами, которые нам встетились в этом коде.\n",
        "\n",
        "Sequential - позволяет создать нейросети где слои имеют форму стека. Сигнал в них передается от одного слоя к другому. В противовес этой разновидности есть нейросети где сигнал может не сразу передаваться в следующий слой а попадать в цикл. Такие нейросети мы разберем в следующих уроках.\n",
        "\n",
        "Dense - позволяет каждому нейронну быть связанному с другим нейронном. В противовес этом может быть необходимость не делать так много связей. Неполносвязнные архитектуры мы также разберем на этом курсе, они основа компьютерного зрения.\n",
        "\n",
        "Цифры 12, 8, 1 обозначают количество нейронов в каждом конкретном слое\n",
        "\n",
        "Activation - позволяет определить формулу по которой будет активироваться нейрон."
      ]
    },
    {
      "cell_type": "markdown",
      "metadata": {
        "id": "iVWaIK2l9U9e"
      },
      "source": [
        "**Компиляция модели**\n",
        "\n",
        "На этапе компиляции модель с заданными параметрами ранее создается. Вот типичный учебный пример:"
      ]
    },
    {
      "cell_type": "markdown",
      "metadata": {
        "id": "B6m5CF1l9U9g"
      },
      "source": [
        "    \n",
        "    # создание keras модели\n",
        "    model.compile(loss='binary_crossentropy', optimizer='adam', metrics=['accuracy'])"
      ]
    },
    {
      "cell_type": "markdown",
      "metadata": {
        "id": "IDbetrHA9U9i"
      },
      "source": [
        "Однако на этой стадии мы должны сделать еще некоторые настройки нейронной сети. Разберем команды из кода выше.\n",
        "\n",
        "loss - позволяет задать формулы по которой будет определяться степень ошибки нейронной сети.\n",
        "\n",
        "optimizer - позволяет задать алгоритм, который будет осуществлять изменения весов по всей нейронной сети (backpropagation)\n",
        "\n",
        "metrics - позволяет опредилить кретирии по которым будет оцениваться степень обученности нейросети.\n",
        "    \n",
        "    "
      ]
    },
    {
      "cell_type": "markdown",
      "metadata": {
        "id": "KH-Cy6Iy9U9l"
      },
      "source": [
        "**Передача данных для обучения нейросети**\n",
        "\n",
        "После того как нейросеть создана можно передавать ей данные для обучения. Ниже типичный пример кода для этого.\n"
      ]
    },
    {
      "cell_type": "markdown",
      "metadata": {
        "id": "TweWbzvu9U9o"
      },
      "source": [
        "    # передача обучающего датасета keras модели\n",
        "    model.fit(X, y, epochs=150, batch_size=10, verbose=0)"
      ]
    },
    {
      "cell_type": "markdown",
      "metadata": {
        "id": "tFt0A6m59U9q"
      },
      "source": [
        "Разберем команды из этого примера.\n",
        "X, y - содержат все обучающие данные\n",
        "epochs - определяет сколько раз через нейросеть должен пройти весь набор данных\n",
        "bath_size - определяет количество обучающих примеров передающихся нейросети на каждой итерации обучения.\n",
        "verbose - позволяет определять информацию, котору вы видете во время обучения нейронной сети."
      ]
    },
    {
      "cell_type": "markdown",
      "metadata": {
        "id": "P7ERG-o79U9s"
      },
      "source": [
        "**Оценка обученности нейронной сети**\n",
        "\n",
        "Следующей стадией может быть проверка обученности нейронной сети. Команда Keras для этих целей - \n",
        "\n",
        "    results = model.evaluate(x_test, y_test, batch_size=128)\n",
        "    \n",
        "В данном случае мы просто указываем какую модель на каких данных мы хотим проверить"
      ]
    },
    {
      "cell_type": "markdown",
      "metadata": {
        "id": "UHT1j0AX9U9t"
      },
      "source": [
        "**Запуск нейронной сети для выполнения работы**\n",
        "\n",
        "На этой стадии мы можем попробовать запустить нейронную сеть на данных которые мы хотели бы чтобы она оценила. Осуществить распознования объекта на фотографии например.\n",
        "Вот код для этих целей - \n",
        "\n",
        "    predictions = model.predict(x_test[:3])\n",
        "    \n",
        "В качестве аргумента здесь указывается массив даныхх содержащих, например фотографию в виде массива чисел.    \n",
        "    "
      ]
    },
    {
      "cell_type": "markdown",
      "metadata": {
        "id": "LoL6FC9I9U9v"
      },
      "source": [
        "Мы с вами рассмотрели основные стадии процесса обучения нейросети и команды Keras, для этого. Безусловно здесь приведен далеко неполный перечень возможностей Keras. У Keras есть также возможность сохранять созданную нейросеть, запускать уже имеющиюся, различные средства для создания нейросетей разных архитектур и другое. С чем то из арсенала Keras мы с вами познакомимся по ходу курса, а с остальным вы можете познакомиться на сайте Keras в разделе документация."
      ]
    },
    {
      "cell_type": "markdown",
      "metadata": {
        "id": "jnUt9U3_9U9x"
      },
      "source": [
        "## Простая нейросеть на Keras"
      ]
    },
    {
      "cell_type": "markdown",
      "metadata": {
        "id": "SAa_Lfn89U9y"
      },
      "source": [
        "Давайте попрубуем сделать нейросеть на Keras использую полученные выше знания. Попробуем обучить нейросеть различать рукописные цифры."
      ]
    },
    {
      "cell_type": "code",
      "metadata": {
        "id": "hf6f_oe7EH7A"
      },
      "source": [
        "# Код нейронной сети в Keras!\n",
        "###############################\n",
        "import numpy as np\n",
        "#import mnist\n",
        "from keras.models import Sequential\n",
        "from keras.layers import Dense\n",
        "from keras.datasets import mnist\n",
        "from tensorflow.keras.utils import to_categorical\n",
        "\n"
      ],
      "execution_count": null,
      "outputs": []
    },
    {
      "cell_type": "markdown",
      "metadata": {
        "id": "rlO6abtO0oFX"
      },
      "source": [
        "Размер набора входных данных для обучения "
      ]
    },
    {
      "cell_type": "code",
      "metadata": {
        "id": "XLsN2KNiNHEf",
        "colab": {
          "base_uri": "https://localhost:8080/"
        },
        "outputId": "f42b580a-065f-4db0-ae3f-f4bb73eb85be"
      },
      "source": [
        "train_images.shape,test_images.shape"
      ],
      "execution_count": null,
      "outputs": [
        {
          "output_type": "execute_result",
          "data": {
            "text/plain": [
              "((60000, 784), (10000, 784))"
            ]
          },
          "metadata": {},
          "execution_count": 50
        }
      ]
    },
    {
      "cell_type": "markdown",
      "metadata": {
        "id": "eHplAiIbpDLE"
      },
      "source": [
        "Собираем сеть по слоям через .add()"
      ]
    },
    {
      "cell_type": "code",
      "metadata": {
        "id": "b0-xDKrNHNrv"
      },
      "source": [
        "model1 = Sequential(name='my_model')\n",
        "model1.add( Dense( 128, activation='relu', input_shape=(784,)))  \n",
        "# входной слой + поносвязный слой из 128 нейронов с активацией ReLU\n",
        "for k in range(2):\n",
        "  model1.add(Dense(  10+(10-k)*10, activation='tanh')) \n",
        "  # Скрытый слой k из 10+(10-k)*10 нейронов с активацией tanh\n",
        "\n",
        "model1.add(Dense(10, activation='softmax')) \n",
        "# выходной слой из 10 нейронов (сколько классов, столько нейронов) + активация softmax"
      ],
      "execution_count": null,
      "outputs": []
    },
    {
      "cell_type": "code",
      "metadata": {
        "id": "WjoJONokxO70"
      },
      "source": [
        "#keras.losses.SparseCategoricalCrossentropy().\n",
        "#keras.losses.categorical_crossentropy()\n",
        "# keras.metrics.accuracy"
      ],
      "execution_count": null,
      "outputs": []
    },
    {
      "cell_type": "markdown",
      "metadata": {
        "id": "oZG48jgOpNmT"
      },
      "source": [
        "Компилируем сеть с оптимизатором , функцией потерь и метрикой:"
      ]
    },
    {
      "cell_type": "code",
      "metadata": {
        "id": "6pZ5taUWHke6"
      },
      "source": [
        "model1.compile(\n",
        "  optimizer='adam', # оптимизатор\n",
        "  loss=keras.losses.CategoricalCrossentropy(), # функция потерь\n",
        "  metrics=['accuracy'], # метрика\n",
        ") "
      ],
      "execution_count": null,
      "outputs": []
    },
    {
      "cell_type": "markdown",
      "metadata": {
        "id": "d9Gi-C5ddKKL"
      },
      "source": [
        "Оптимизаторы:\n",
        "* SGD() (с или без моментум)\n",
        "* RMSprop()\n",
        "* Adam()\n",
        "* Adagrad()\n",
        "…\n",
        "\n",
        "Функции потерь:\n",
        "* CategoricalCrossentropy()\n",
        "* SparseCategoricalCrossentropy()\n",
        "* BinaryCrossentropy()\n",
        "* MeanSquaredError()\n",
        "* KLDivergence()\n",
        "* CosineSimilarity()\n",
        "…\n",
        "\n",
        "Метрики:\n",
        "* CategoricalAccuracy()\n",
        "* SparseCategoricalAccuracy()\n",
        "* BinaryAccuracy()\n",
        "* AUC()\n",
        "* Precision()\n",
        "* Recall()\n",
        "…"
      ]
    },
    {
      "cell_type": "markdown",
      "metadata": {
        "id": "kaOhpafIpZ5l"
      },
      "source": [
        "ПОсмотрим из чего она состоит:"
      ]
    },
    {
      "cell_type": "code",
      "metadata": {
        "colab": {
          "base_uri": "https://localhost:8080/"
        },
        "id": "MdAHcWIoE8rf",
        "outputId": "7c03a39d-3392-48ae-bbf5-8a4d0d6192e9"
      },
      "source": [
        "model1.summary( )"
      ],
      "execution_count": null,
      "outputs": [
        {
          "output_type": "stream",
          "name": "stdout",
          "text": [
            "Model: \"my_model\"\n",
            "_________________________________________________________________\n",
            " Layer (type)                Output Shape              Param #   \n",
            "=================================================================\n",
            " dense (Dense)               (None, 128)               100480    \n",
            "                                                                 \n",
            " dense_1 (Dense)             (None, 110)               14190     \n",
            "                                                                 \n",
            " dense_2 (Dense)             (None, 100)               11100     \n",
            "                                                                 \n",
            " dense_3 (Dense)             (None, 10)                1010      \n",
            "                                                                 \n",
            "=================================================================\n",
            "Total params: 126,780\n",
            "Trainable params: 126,780\n",
            "Non-trainable params: 0\n",
            "_________________________________________________________________\n"
          ]
        }
      ]
    },
    {
      "cell_type": "markdown",
      "metadata": {
        "id": "i2YcWu0upeWi"
      },
      "source": [
        "126 780 параметров в сети. Все будем обучать.\n",
        "\n",
        "Как считать параметры слоя: (число входов нейрона +1)*число нейронов\n",
        "\n",
        "\n",
        "Например, для 5 входов и 10 нейронов в слое - число настраиваемых параметров = (5+1)*10 = 60"
      ]
    },
    {
      "cell_type": "markdown",
      "metadata": {
        "id": "f-drP8y5USej"
      },
      "source": [
        "Еще один способ создать линейную модель"
      ]
    },
    {
      "cell_type": "code",
      "metadata": {
        "id": "vT7VLh_SEcZS"
      },
      "source": [
        "\n",
        "# Build the model.\n",
        "model = Sequential([\n",
        "  Dense(128, activation='tanh', input_shape=(784,)),\n",
        "  Dense(110, activation='tanh'), # Скрытый слой из 110 нейронов с активацией tanh\n",
        "  Dense(100, activation='tanh'), # Скрытый слой k из 100 нейронов с активацией tanh\n",
        "  Dense(10, activation='softmax'),# выходной слой из 10 нейронов (сколько классов, столько нейронов) + активация softmax\n",
        "])\n",
        "\n",
        "# Compile the model.\n",
        "model.compile(\n",
        "  optimizer='adam',\n",
        "  loss='categorical_crossentropy',\n",
        "  metrics=['accuracy'],\n",
        ")"
      ],
      "execution_count": null,
      "outputs": []
    },
    {
      "cell_type": "code",
      "metadata": {
        "id": "O5DOd_RAGZHQ",
        "colab": {
          "base_uri": "https://localhost:8080/"
        },
        "outputId": "3d3e34d7-c3c1-41ef-be7a-8a6b909be30d"
      },
      "source": [
        "model.summary()"
      ],
      "execution_count": null,
      "outputs": [
        {
          "output_type": "stream",
          "name": "stdout",
          "text": [
            "Model: \"sequential\"\n",
            "_________________________________________________________________\n",
            " Layer (type)                Output Shape              Param #   \n",
            "=================================================================\n",
            " dense_4 (Dense)             (None, 128)               100480    \n",
            "                                                                 \n",
            " dense_5 (Dense)             (None, 110)               14190     \n",
            "                                                                 \n",
            " dense_6 (Dense)             (None, 100)               11100     \n",
            "                                                                 \n",
            " dense_7 (Dense)             (None, 10)                1010      \n",
            "                                                                 \n",
            "=================================================================\n",
            "Total params: 126,780\n",
            "Trainable params: 126,780\n",
            "Non-trainable params: 0\n",
            "_________________________________________________________________\n"
          ]
        }
      ]
    },
    {
      "cell_type": "markdown",
      "metadata": {
        "id": "D-ZKLY37Ulq7"
      },
      "source": [
        "Можно подсмотреть как наша модель описана после ее создания"
      ]
    },
    {
      "cell_type": "code",
      "metadata": {
        "id": "p8zwmaHKzVUH",
        "colab": {
          "base_uri": "https://localhost:8080/"
        },
        "outputId": "c8e0ee26-3123-4617-8970-051368389d88"
      },
      "source": [
        "model.get_config()"
      ],
      "execution_count": null,
      "outputs": [
        {
          "output_type": "execute_result",
          "data": {
            "text/plain": [
              "{'name': 'sequential',\n",
              " 'layers': [{'class_name': 'InputLayer',\n",
              "   'config': {'batch_input_shape': (None, 784),\n",
              "    'dtype': 'float32',\n",
              "    'sparse': False,\n",
              "    'ragged': False,\n",
              "    'name': 'dense_4_input'}},\n",
              "  {'class_name': 'Dense',\n",
              "   'config': {'name': 'dense_4',\n",
              "    'trainable': True,\n",
              "    'batch_input_shape': (None, 784),\n",
              "    'dtype': 'float32',\n",
              "    'units': 128,\n",
              "    'activation': 'tanh',\n",
              "    'use_bias': True,\n",
              "    'kernel_initializer': {'class_name': 'GlorotUniform',\n",
              "     'config': {'seed': None}},\n",
              "    'bias_initializer': {'class_name': 'Zeros', 'config': {}},\n",
              "    'kernel_regularizer': None,\n",
              "    'bias_regularizer': None,\n",
              "    'activity_regularizer': None,\n",
              "    'kernel_constraint': None,\n",
              "    'bias_constraint': None}},\n",
              "  {'class_name': 'Dense',\n",
              "   'config': {'name': 'dense_5',\n",
              "    'trainable': True,\n",
              "    'dtype': 'float32',\n",
              "    'units': 110,\n",
              "    'activation': 'tanh',\n",
              "    'use_bias': True,\n",
              "    'kernel_initializer': {'class_name': 'GlorotUniform',\n",
              "     'config': {'seed': None}},\n",
              "    'bias_initializer': {'class_name': 'Zeros', 'config': {}},\n",
              "    'kernel_regularizer': None,\n",
              "    'bias_regularizer': None,\n",
              "    'activity_regularizer': None,\n",
              "    'kernel_constraint': None,\n",
              "    'bias_constraint': None}},\n",
              "  {'class_name': 'Dense',\n",
              "   'config': {'name': 'dense_6',\n",
              "    'trainable': True,\n",
              "    'dtype': 'float32',\n",
              "    'units': 100,\n",
              "    'activation': 'tanh',\n",
              "    'use_bias': True,\n",
              "    'kernel_initializer': {'class_name': 'GlorotUniform',\n",
              "     'config': {'seed': None}},\n",
              "    'bias_initializer': {'class_name': 'Zeros', 'config': {}},\n",
              "    'kernel_regularizer': None,\n",
              "    'bias_regularizer': None,\n",
              "    'activity_regularizer': None,\n",
              "    'kernel_constraint': None,\n",
              "    'bias_constraint': None}},\n",
              "  {'class_name': 'Dense',\n",
              "   'config': {'name': 'dense_7',\n",
              "    'trainable': True,\n",
              "    'dtype': 'float32',\n",
              "    'units': 10,\n",
              "    'activation': 'softmax',\n",
              "    'use_bias': True,\n",
              "    'kernel_initializer': {'class_name': 'GlorotUniform',\n",
              "     'config': {'seed': None}},\n",
              "    'bias_initializer': {'class_name': 'Zeros', 'config': {}},\n",
              "    'kernel_regularizer': None,\n",
              "    'bias_regularizer': None,\n",
              "    'activity_regularizer': None,\n",
              "    'kernel_constraint': None,\n",
              "    'bias_constraint': None}}]}"
            ]
          },
          "metadata": {},
          "execution_count": 58
        }
      ]
    },
    {
      "cell_type": "markdown",
      "metadata": {
        "id": "Og3zBOXKUt6Q"
      },
      "source": [
        "Превратим выходы в векторые (OHE в keras - from keras.utils import to_categorical)"
      ]
    },
    {
      "cell_type": "code",
      "metadata": {
        "colab": {
          "base_uri": "https://localhost:8080/"
        },
        "id": "r4vfB93ZMa7k",
        "outputId": "f28dc275-c79b-433b-cd5e-376baef828e1"
      },
      "source": [
        "train_labels[:5]"
      ],
      "execution_count": null,
      "outputs": [
        {
          "output_type": "execute_result",
          "data": {
            "text/plain": [
              "array([5, 0, 4, 1, 9], dtype=uint8)"
            ]
          },
          "metadata": {},
          "execution_count": 59
        }
      ]
    },
    {
      "cell_type": "code",
      "metadata": {
        "id": "fXgYOrUwGwzG"
      },
      "source": [
        "y_t = to_categorical( train_labels)\n",
        "y_tt = to_categorical(testn_labels)"
      ],
      "execution_count": null,
      "outputs": []
    },
    {
      "cell_type": "code",
      "metadata": {
        "colab": {
          "base_uri": "https://localhost:8080/"
        },
        "id": "HWKHT3kpG6yw",
        "outputId": "2d5cea98-165f-4f78-9ad3-4be579cede6a"
      },
      "source": [
        "y_t[:3,:]"
      ],
      "execution_count": null,
      "outputs": [
        {
          "output_type": "execute_result",
          "data": {
            "text/plain": [
              "array([[0., 0., 0., 0., 0., 1., 0., 0., 0., 0.],\n",
              "       [1., 0., 0., 0., 0., 0., 0., 0., 0., 0.],\n",
              "       [0., 0., 0., 0., 1., 0., 0., 0., 0., 0.]], dtype=float32)"
            ]
          },
          "metadata": {},
          "execution_count": 61
        }
      ]
    },
    {
      "cell_type": "code",
      "metadata": {
        "colab": {
          "base_uri": "https://localhost:8080/"
        },
        "id": "13v9kMf5Ouq_",
        "outputId": "64cfd25e-aba6-4804-bade-102865fb0e30"
      },
      "source": [
        "train_labels[:5]"
      ],
      "execution_count": null,
      "outputs": [
        {
          "output_type": "execute_result",
          "data": {
            "text/plain": [
              "array([5, 0, 4, 1, 9], dtype=uint8)"
            ]
          },
          "metadata": {},
          "execution_count": 62
        }
      ]
    },
    {
      "cell_type": "markdown",
      "metadata": {
        "id": "Xk1EavOKVBqI"
      },
      "source": [
        "Посмотрим на реакции модели до обучения - уже можно:)"
      ]
    },
    {
      "cell_type": "code",
      "metadata": {
        "id": "x6q31tJQLuol",
        "colab": {
          "base_uri": "https://localhost:8080/"
        },
        "outputId": "49f2579b-eac8-450f-ce80-56411de4de44"
      },
      "source": [
        "y_pred = model.predict(test_images[:5,:])"
      ],
      "execution_count": null,
      "outputs": [
        {
          "output_type": "stream",
          "name": "stdout",
          "text": [
            "1/1 [==============================] - 0s 374ms/step\n"
          ]
        }
      ]
    },
    {
      "cell_type": "code",
      "metadata": {
        "colab": {
          "base_uri": "https://localhost:8080/"
        },
        "id": "qM07Ce8IMKPh",
        "outputId": "ca0fd9a2-9c95-4753-8a36-8afd0eb1f394"
      },
      "source": [
        "y_pred[0,:]"
      ],
      "execution_count": null,
      "outputs": [
        {
          "output_type": "execute_result",
          "data": {
            "text/plain": [
              "array([0.03145454, 0.13146688, 0.0847791 , 0.05689125, 0.08580892,\n",
              "       0.13313055, 0.13073696, 0.05790504, 0.12059661, 0.1672301 ],\n",
              "      dtype=float32)"
            ]
          },
          "metadata": {},
          "execution_count": 64
        }
      ]
    },
    {
      "cell_type": "code",
      "metadata": {
        "colab": {
          "base_uri": "https://localhost:8080/"
        },
        "id": "iFZ8fTdWL-2x",
        "outputId": "e9ee27c8-0c60-4331-91a5-de6bc7af37d9"
      },
      "source": [
        "y_class = np.argmax(y_pred, axis=1)\n",
        "print(y_class) # [7, 2, 1, 0, 4]"
      ],
      "execution_count": null,
      "outputs": [
        {
          "output_type": "stream",
          "name": "stdout",
          "text": [
            "[9 9 9 6 6]\n"
          ]
        }
      ]
    },
    {
      "cell_type": "code",
      "metadata": {
        "colab": {
          "base_uri": "https://localhost:8080/",
          "height": 281
        },
        "id": "4XpTnd6bO2lt",
        "outputId": "e9bb58b9-5869-4b90-f76c-57d94145c3ba"
      },
      "source": [
        "n = 1\n",
        "plt.imshow(test_imagesi[n,:,:])\n",
        "plt.title('цифра - '+str(y_class[n]))\n",
        "plt.show()"
      ],
      "execution_count": null,
      "outputs": [
        {
          "output_type": "display_data",
          "data": {
            "text/plain": [
              "<Figure size 432x288 with 1 Axes>"
            ],
            "image/png": "[encoded data removed]"
          },
          "metadata": {
            "needs_background": "light"
          }
        }
      ]
    },
    {
      "cell_type": "markdown",
      "metadata": {
        "id": "emVGoAdNVSK-"
      },
      "source": [
        "Сделаем цикл тренировки модели"
      ]
    },
    {
      "cell_type": "code",
      "metadata": {
        "id": "9lCF4zXv9U90",
        "colab": {
          "base_uri": "https://localhost:8080/"
        },
        "outputId": "e6a463da-d948-48e7-bf11-d8e9120a466e"
      },
      "source": [
        "\n",
        "# Train the model.\n",
        "model1.fit(    \n",
        "  train_images[:,:],\n",
        "\n",
        "  y_t[:,:],\n",
        "  epochs=2,\n",
        "  batch_size=32, validation_split=0.2\n",
        ")\n",
        "\n",
        "# Evaluate the model.\n",
        "model1.evaluate( \n",
        "  test_images,\n",
        "  y_tt\n",
        ")\n",
        "\n",
        "# Predict on the first 5 test images.\n",
        "predictions = model1.predict(test_images[:5])\n",
        "\n",
        "# Print our model's predictions.\n",
        "print(np.argmax(predictions, axis=1)) # [7, 2, 1, 0, 4]\n",
        "\n",
        "# Check our predictions against the ground truths.\n",
        "print(testn_labels[:5]) # [7, 2, 1, 0, 4]"
      ],
      "execution_count": null,
      "outputs": [
        {
          "output_type": "stream",
          "name": "stdout",
          "text": [
            "Epoch 1/2\n",
            "1500/1500 [==============================] - 6s 4ms/step - loss: 0.1362 - accuracy: 0.9582 - val_loss: 0.1289 - val_accuracy: 0.9617\n",
            "Epoch 2/2\n",
            "1500/1500 [==============================] - 6s 4ms/step - loss: 0.1089 - accuracy: 0.9660 - val_loss: 0.1201 - val_accuracy: 0.9643\n",
            "313/313 [==============================] - 1s 2ms/step - loss: 0.1194 - accuracy: 0.9627\n",
            "1/1 [==============================] - 0s 17ms/step\n",
            "[7 2 1 0 4]\n",
            "[7 2 1 0 4]\n"
          ]
        }
      ]
    },
    {
      "cell_type": "markdown",
      "metadata": {
        "id": "CUndBqeOVY1_"
      },
      "source": [
        "И можем еще один добавить (продолжаем от предществующего состояния)"
      ]
    },
    {
      "cell_type": "code",
      "metadata": {
        "colab": {
          "base_uri": "https://localhost:8080/"
        },
        "id": "z3Qc2u0mHfBJ",
        "outputId": "2239977b-802f-48c7-d42e-090fe0a4f74a"
      },
      "source": [
        "model.fit(\n",
        "  train_images,\n",
        "  y_t,\n",
        "  epochs=15,\n",
        "  batch_size=1024, validation_split=0.2,verbose=1\n",
        ")"
      ],
      "execution_count": null,
      "outputs": [
        {
          "output_type": "stream",
          "name": "stdout",
          "text": [
            "Epoch 1/15\n",
            "47/47 [==============================] - 2s 27ms/step - loss: 0.7784 - accuracy: 0.7835 - val_loss: 0.3292 - val_accuracy: 0.9062\n",
            "Epoch 2/15\n",
            "47/47 [==============================] - 1s 22ms/step - loss: 0.2946 - accuracy: 0.9145 - val_loss: 0.2438 - val_accuracy: 0.9300\n",
            "Epoch 3/15\n",
            "47/47 [==============================] - 1s 22ms/step - loss: 0.2226 - accuracy: 0.9360 - val_loss: 0.2017 - val_accuracy: 0.9425\n",
            "Epoch 4/15\n",
            "47/47 [==============================] - 1s 23ms/step - loss: 0.1778 - accuracy: 0.9479 - val_loss: 0.1633 - val_accuracy: 0.9532\n",
            "Epoch 5/15\n",
            "47/47 [==============================] - 1s 23ms/step - loss: 0.1464 - accuracy: 0.9575 - val_loss: 0.1421 - val_accuracy: 0.9601\n",
            "Epoch 6/15\n",
            "47/47 [==============================] - 1s 23ms/step - loss: 0.1220 - accuracy: 0.9650 - val_loss: 0.1364 - val_accuracy: 0.9599\n",
            "Epoch 7/15\n",
            "47/47 [==============================] - 1s 22ms/step - loss: 0.1039 - accuracy: 0.9701 - val_loss: 0.1204 - val_accuracy: 0.9651\n",
            "Epoch 8/15\n",
            "47/47 [==============================] - 1s 23ms/step - loss: 0.0921 - accuracy: 0.9737 - val_loss: 0.1101 - val_accuracy: 0.9668\n",
            "Epoch 9/15\n",
            "47/47 [==============================] - 1s 22ms/step - loss: 0.0790 - accuracy: 0.9780 - val_loss: 0.1077 - val_accuracy: 0.9680\n",
            "Epoch 10/15\n",
            "47/47 [==============================] - 1s 22ms/step - loss: 0.0687 - accuracy: 0.9802 - val_loss: 0.1064 - val_accuracy: 0.9680\n",
            "Epoch 11/15\n",
            "47/47 [==============================] - 1s 22ms/step - loss: 0.0605 - accuracy: 0.9824 - val_loss: 0.1065 - val_accuracy: 0.9692\n",
            "Epoch 12/15\n",
            "47/47 [==============================] - 1s 23ms/step - loss: 0.0549 - accuracy: 0.9842 - val_loss: 0.1058 - val_accuracy: 0.9683\n",
            "Epoch 13/15\n",
            "47/47 [==============================] - 1s 23ms/step - loss: 0.0495 - accuracy: 0.9861 - val_loss: 0.1005 - val_accuracy: 0.9693\n",
            "Epoch 14/15\n",
            "47/47 [==============================] - 1s 22ms/step - loss: 0.0437 - accuracy: 0.9874 - val_loss: 0.0982 - val_accuracy: 0.9720\n",
            "Epoch 15/15\n",
            "47/47 [==============================] - 1s 22ms/step - loss: 0.0359 - accuracy: 0.9903 - val_loss: 0.0939 - val_accuracy: 0.9721\n"
          ]
        },
        {
          "output_type": "execute_result",
          "data": {
            "text/plain": [
              "<keras.callbacks.History at 0x7f2a6493b850>"
            ]
          },
          "metadata": {},
          "execution_count": 69
        }
      ]
    },
    {
      "cell_type": "markdown",
      "metadata": {
        "id": "EpxXh0NiVg8p"
      },
      "source": [
        "Сохраним модель на диск"
      ]
    },
    {
      "cell_type": "code",
      "metadata": {
        "id": "He1a5EemElpX"
      },
      "source": [
        "# сохранить веса модели.\n",
        "model.save_weights('model.h5')\n",
        "\n",
        "# загрузить веса модели:\n",
        "# model.load_weights('model.h5')\n"
      ],
      "execution_count": null,
      "outputs": []
    },
    {
      "cell_type": "markdown",
      "metadata": {
        "id": "P5MHvkloVkqj"
      },
      "source": [
        "И еще тренируем (вторую модель)"
      ]
    },
    {
      "cell_type": "code",
      "metadata": {
        "id": "1koJ2ivjLOrO",
        "colab": {
          "base_uri": "https://localhost:8080/"
        },
        "outputId": "dc2e0e61-2369-4cb9-d4a5-e712da194850"
      },
      "source": [
        "\n",
        "# Train the model. Вернем результаты по потерям и метрикам для всех эпох в hh \n",
        "hh = model1.fit( \n",
        "  train_images,\n",
        "  to_categorical(train_labels),\n",
        "  epochs=15,\n",
        "  batch_size=1024, validation_split=0.2\n",
        ")\n",
        "\n",
        "# Evaluate the model.\n",
        "model1.evaluate(\n",
        "  test_images,\n",
        "  to_categorical(testn_labels)\n",
        ")\n",
        "\n",
        "# Predict on the first 5 test images.\n",
        "predictions = model1.predict(test_images[:5])\n",
        "\n",
        "# Print our model's predictions.\n",
        "print(np.argmax(predictions, axis=1)) # [7, 2, 1, 0, 4]\n",
        "\n",
        "# Check our predictions against the ground truths.\n",
        "print(testn_labels[:5]) # [7, 2, 1, 0, 4]"
      ],
      "execution_count": null,
      "outputs": [
        {
          "output_type": "stream",
          "name": "stdout",
          "text": [
            "Epoch 1/15\n",
            "47/47 [==============================] - 1s 24ms/step - loss: 0.0660 - accuracy: 0.9797 - val_loss: 0.0902 - val_accuracy: 0.9720\n",
            "Epoch 2/15\n",
            "47/47 [==============================] - 1s 23ms/step - loss: 0.0508 - accuracy: 0.9847 - val_loss: 0.0867 - val_accuracy: 0.9730\n",
            "Epoch 3/15\n",
            "47/47 [==============================] - 1s 23ms/step - loss: 0.0468 - accuracy: 0.9861 - val_loss: 0.0850 - val_accuracy: 0.9737\n",
            "Epoch 4/15\n",
            "47/47 [==============================] - 1s 22ms/step - loss: 0.0443 - accuracy: 0.9873 - val_loss: 0.0845 - val_accuracy: 0.9743\n",
            "Epoch 5/15\n",
            "47/47 [==============================] - 1s 22ms/step - loss: 0.0421 - accuracy: 0.9879 - val_loss: 0.0838 - val_accuracy: 0.9743\n",
            "Epoch 6/15\n",
            "47/47 [==============================] - 1s 22ms/step - loss: 0.0403 - accuracy: 0.9885 - val_loss: 0.0824 - val_accuracy: 0.9746\n",
            "Epoch 7/15\n",
            "47/47 [==============================] - 1s 22ms/step - loss: 0.0388 - accuracy: 0.9889 - val_loss: 0.0819 - val_accuracy: 0.9749\n",
            "Epoch 8/15\n",
            "47/47 [==============================] - 1s 22ms/step - loss: 0.0372 - accuracy: 0.9892 - val_loss: 0.0815 - val_accuracy: 0.9748\n",
            "Epoch 9/15\n",
            "47/47 [==============================] - 1s 22ms/step - loss: 0.0358 - accuracy: 0.9899 - val_loss: 0.0811 - val_accuracy: 0.9756\n",
            "Epoch 10/15\n",
            "47/47 [==============================] - 1s 22ms/step - loss: 0.0344 - accuracy: 0.9903 - val_loss: 0.0806 - val_accuracy: 0.9756\n",
            "Epoch 11/15\n",
            "47/47 [==============================] - 1s 22ms/step - loss: 0.0334 - accuracy: 0.9909 - val_loss: 0.0809 - val_accuracy: 0.9753\n",
            "Epoch 12/15\n",
            "47/47 [==============================] - 1s 22ms/step - loss: 0.0324 - accuracy: 0.9909 - val_loss: 0.0804 - val_accuracy: 0.9746\n",
            "Epoch 13/15\n",
            "47/47 [==============================] - 1s 24ms/step - loss: 0.0312 - accuracy: 0.9916 - val_loss: 0.0801 - val_accuracy: 0.9753\n",
            "Epoch 14/15\n",
            "47/47 [==============================] - 1s 23ms/step - loss: 0.0301 - accuracy: 0.9921 - val_loss: 0.0804 - val_accuracy: 0.9758\n",
            "Epoch 15/15\n",
            "47/47 [==============================] - 1s 23ms/step - loss: 0.0291 - accuracy: 0.9925 - val_loss: 0.0797 - val_accuracy: 0.9753\n",
            "313/313 [==============================] - 1s 2ms/step - loss: 0.0790 - accuracy: 0.9757\n",
            "1/1 [==============================] - 0s 22ms/step\n",
            "[7 2 1 0 4]\n",
            "[7 2 1 0 4]\n"
          ]
        }
      ]
    },
    {
      "cell_type": "markdown",
      "metadata": {
        "id": "Ckh_q63TvAja"
      },
      "source": [
        "Посмотрим на возвращаемый словарь hh.history (там результаты по эпохам для потерь и метрик по обучению и тестам)"
      ]
    },
    {
      "cell_type": "code",
      "metadata": {
        "colab": {
          "base_uri": "https://localhost:8080/"
        },
        "id": "myewLXE4KTZ6",
        "outputId": "e2061780-06e4-4c8f-c631-860e745686e7"
      },
      "source": [
        "hh.history"
      ],
      "execution_count": null,
      "outputs": [
        {
          "output_type": "execute_result",
          "data": {
            "text/plain": [
              "{'loss': [0.06598559767007828,\n",
              "  0.05078751966357231,\n",
              "  0.046780526638031006,\n",
              "  0.04433196410536766,\n",
              "  0.042061205953359604,\n",
              "  0.040254704654216766,\n",
              "  0.0388094037771225,\n",
              "  0.03723594546318054,\n",
              "  0.035832978785037994,\n",
              "  0.034445490688085556,\n",
              "  0.03340527415275574,\n",
              "  0.032399944961071014,\n",
              "  0.03115471452474594,\n",
              "  0.030131077393889427,\n",
              "  0.0291267242282629],\n",
              " 'accuracy': [0.979729175567627,\n",
              "  0.984708309173584,\n",
              "  0.9861458539962769,\n",
              "  0.9872708320617676,\n",
              "  0.9879375100135803,\n",
              "  0.9884999990463257,\n",
              "  0.9888749718666077,\n",
              "  0.9892083406448364,\n",
              "  0.9898541569709778,\n",
              "  0.9902708530426025,\n",
              "  0.9908750057220459,\n",
              "  0.9908750057220459,\n",
              "  0.9915833473205566,\n",
              "  0.9921249747276306,\n",
              "  0.992479145526886],\n",
              " 'val_loss': [0.09021046757698059,\n",
              "  0.08665194362401962,\n",
              "  0.08495272696018219,\n",
              "  0.08447852730751038,\n",
              "  0.08379928767681122,\n",
              "  0.08242415636777878,\n",
              "  0.08185756206512451,\n",
              "  0.0815064013004303,\n",
              "  0.08112286031246185,\n",
              "  0.08055936545133591,\n",
              "  0.08085126429796219,\n",
              "  0.08038333803415298,\n",
              "  0.08014369010925293,\n",
              "  0.08039918541908264,\n",
              "  0.07968615740537643],\n",
              " 'val_accuracy': [0.972000002861023,\n",
              "  0.9729999899864197,\n",
              "  0.9736666679382324,\n",
              "  0.9743333458900452,\n",
              "  0.9743333458900452,\n",
              "  0.9745833277702332,\n",
              "  0.9749166369438171,\n",
              "  0.9748333096504211,\n",
              "  0.9755833148956299,\n",
              "  0.9755833148956299,\n",
              "  0.9753333330154419,\n",
              "  0.9745833277702332,\n",
              "  0.9753333330154419,\n",
              "  0.9757500290870667,\n",
              "  0.9753333330154419]}"
            ]
          },
          "metadata": {},
          "execution_count": 72
        }
      ]
    },
    {
      "cell_type": "markdown",
      "metadata": {
        "id": "lJpjFH7hVw8Q"
      },
      "source": [
        "Покажем как выглядит кривая обучения"
      ]
    },
    {
      "cell_type": "code",
      "metadata": {
        "colab": {
          "base_uri": "https://localhost:8080/",
          "height": 458
        },
        "id": "5fBO1Yh2PyIK",
        "outputId": "663a0d33-4fb7-483e-879e-ed9371943659"
      },
      "source": [
        "plt.figure(figsize=(15,7))\n",
        "plt.plot(hh.history['loss'], label = 'потери для тренировки')\n",
        "plt.plot(hh.history['val_loss'], label = 'потери для валидации')\n",
        "plt.xlabel('эпох')\n",
        "plt.ylabel('loss')\n",
        "plt.legend()\n",
        "plt.grid('On')\n",
        "plt.title('потери от эпох')\n",
        "plt.show()\n"
      ],
      "execution_count": null,
      "outputs": [
        {
          "output_type": "display_data",
          "data": {
            "text/plain": [
              "<Figure size 1080x504 with 1 Axes>"
            ],
            "image/png": "[encoded data removed]"
          },
          "metadata": {
            "needs_background": "light"
          }
        }
      ]
    },
    {
      "cell_type": "markdown",
      "metadata": {
        "id": "a8zh5g-GBQIp"
      },
      "source": [
        "Эксперимент с разными оптимизаторами для одной начальной модели:\n",
        "\n",
        "  - создаем модель model\n",
        "  - сохраняем ее веса (это начальная точка) model.save_weights('model.h5')\n",
        "  - создаем рабочую модель modeli куда будем загружать эти вес (она должна быть идентичной структуры) \n",
        "  - загружаем веса modeli.load_weights('model.h5')\n",
        "  - компилируем modeli с одним из оптимизаторов\n",
        "  - вычисляем ошибку для modeli без обучения (т.к. все модели начинают с одной точки, то все ошибки должны быть одинаковые, но будем контролировать это и считаем каждый раз заново)\n",
        "  - проводим обучение модели и пишем ошибки в истории hh\n",
        "  - выводим ошибки для 0-го момента и каждой эпохи обучения по тестовой и валидационной частям данных\n",
        "\n",
        "\n",
        "\n",
        "Оптимизаторы:\n",
        "* SGD() (с или без моментум)\n",
        "* RMSprop()\n",
        "* Adam()\n",
        "* Adagrad()\n",
        "…\n"
      ]
    },
    {
      "cell_type": "code",
      "metadata": {
        "colab": {
          "base_uri": "https://localhost:8080/",
          "height": 458
        },
        "id": "jaqCLGg3w_Nl",
        "outputId": "8618d1bf-759e-431e-cd51-f78031310977"
      },
      "source": [
        "# создаем модель model\n",
        "model = Sequential([\n",
        "                      Dense( 64, activation='relu', input_shape=(784,)),\n",
        "                      Dense(64, activation='tanh'),\n",
        "                      Dense(10, activation='softmax'),\n",
        "                      ])\n",
        "# сохраняем ее веса (это начальная точка) model.save_weights('model.h5')\n",
        "model.save_weights('model.h5')\n",
        "\n",
        "plt.figure(figsize=(16,7))\n",
        "\n",
        "# число рабочих эпох\n",
        "epochs = 15\n",
        "# вектор для выводв результатов\n",
        "epoch = np.arange(epochs+1)\n",
        "\n",
        "# будем изменять оптимизаторы\n",
        "\n",
        "#opt_list = [keras.optimizers.SGD( ),keras.optimizers.Adam( ),keras.optimizers.Nadam( )]\n",
        "for i_optim in ['SGD','RMSProp','adam','NAdam']:\n",
        "  # создаем рабочую модель modeli куда будем загружать эти вес (она должна быть идентичной структуры)\n",
        "  modeli = Sequential([\n",
        "                      Dense(64, activation='relu', input_shape=(784,)),\n",
        "                      Dense(64, activation='tanh'),\n",
        "                      Dense(10, activation='softmax'),\n",
        "                      ])\n",
        "  # загружаем веса modeli.load_weights('model.h5')\n",
        "  modeli.load_weights('model.h5')\n",
        "  # компилируем modeli с одним из оптимизаторов\n",
        "  modeli.compile(\n",
        "      optimizer=i_optim,\n",
        "      loss='categorical_crossentropy',\n",
        "      metrics=['accuracy'],\n",
        "      )\n",
        "  # вычисляем ошибку для modeli без обучения\n",
        "  hh0_tr = modeli.evaluate(  train_images[:48000,:], to_categorical(train_labels[:48000]),verbose = 0)\n",
        "  hh0_val = modeli.evaluate(  train_images[48000:,:], to_categorical(train_labels[48000:]),verbose = 0)\n",
        "  # проводим обучение модели \n",
        "  hh = modeli.fit(\n",
        "                  train_images,\n",
        "                  to_categorical(train_labels),\n",
        "                  epochs=epochs,\n",
        "                  batch_size=1024, validation_split=0.2, verbose = 0\n",
        "                  )\n",
        "  # картинки\n",
        "  plt.plot(epoch,np.log([hh0_tr[0]]+hh.history['loss']),'-',label = modeli.optimizer.get_config()['name']+' train')\n",
        "  plt.plot(epoch,np.log([hh0_val[0]]+hh.history['val_loss']),'--',label = modeli.optimizer.get_config()['name']+' val')\n",
        "plt.legend()\n",
        "plt.grid('On')\n",
        "\n",
        "plt.title('нейросети от оптимизатора log(loss)')\n",
        "plt.xlabel('epoch')\n",
        "plt.ylabel('log(loss)')\n",
        "plt.show()\n"
      ],
      "execution_count": null,
      "outputs": [
        {
          "output_type": "display_data",
          "data": {
            "text/plain": [
              "<Figure size 1152x504 with 1 Axes>"
            ],
            "image/png": "[encoded data removed]"
          },
          "metadata": {
            "needs_background": "light"
          }
        }
      ]
    },
    {
      "cell_type": "code",
      "metadata": {
        "colab": {
          "base_uri": "https://localhost:8080/"
        },
        "id": "viS_E5s6z2UU",
        "outputId": "f5682047-7bc2-434d-950b-3f3fa957188b"
      },
      "source": [
        " modeli.optimizer.get_config()"
      ],
      "execution_count": null,
      "outputs": [
        {
          "output_type": "execute_result",
          "data": {
            "text/plain": [
              "{'name': 'Nadam',\n",
              " 'learning_rate': 0.001,\n",
              " 'decay': 0.004,\n",
              " 'beta_1': 0.9,\n",
              " 'beta_2': 0.999,\n",
              " 'epsilon': 1e-07}"
            ]
          },
          "metadata": {},
          "execution_count": 32
        }
      ]
    },
    {
      "cell_type": "markdown",
      "metadata": {
        "id": "eUVhmimFvp-k"
      },
      "source": [
        "Посмотрим на результат предсказаний  (inference) для обученной модели (последняя в цикле)"
      ]
    },
    {
      "cell_type": "code",
      "metadata": {
        "colab": {
          "base_uri": "https://localhost:8080/",
          "height": 179
        },
        "id": "wj7fhqd3FKFe",
        "outputId": "aa640489-6fe9-474e-841c-abd5e085d84f"
      },
      "source": [
        "N = 9\n",
        "y_pred = model1.predict(test_images[:N,:])\n",
        "y_pred_class = np.argmax(y_pred,axis=1)\n",
        "plt.figure(figsize =(3*N,5))\n",
        "for i in range(N):\n",
        "  plt.subplot(1,N,i+1)\n",
        "  plt.imshow(test_images[i,:].reshape(28,28))\n",
        "  plt.xlabel(str(y_pred_class[i]))\n",
        "plt.show()  "
      ],
      "execution_count": null,
      "outputs": [
        {
          "output_type": "display_data",
          "data": {
            "text/plain": [
              "<Figure size 1944x360 with 9 Axes>"
            ],
            "image/png": "[encoded data removed]"
          },
          "metadata": {
            "needs_background": "light"
          }
        }
      ]
    },
    {
      "cell_type": "code",
      "source": [
        "y_pred[0,:]"
      ],
      "metadata": {
        "colab": {
          "base_uri": "https://localhost:8080/"
        },
        "id": "UjxNbL26F-tv",
        "outputId": "271734b1-5282-4ad3-c5f7-08a254fda5d4"
      },
      "execution_count": null,
      "outputs": [
        {
          "output_type": "execute_result",
          "data": {
            "text/plain": [
              "array([1.3413475e-06, 3.7295827e-05, 8.6902663e-05, 2.5253108e-04,\n",
              "       9.4589842e-07, 2.1098713e-06, 2.5376471e-08, 9.9952459e-01,\n",
              "       4.4033422e-06, 8.9888643e-05], dtype=float32)"
            ]
          },
          "metadata": {},
          "execution_count": 34
        }
      ]
    },
    {
      "cell_type": "code",
      "metadata": {
        "colab": {
          "base_uri": "https://localhost:8080/"
        },
        "id": "Q561c6eaGxcB",
        "outputId": "339dee61-a572-49aa-8449-fc937e3d53a3"
      },
      "source": [
        "y_pred_class"
      ],
      "execution_count": null,
      "outputs": [
        {
          "output_type": "execute_result",
          "data": {
            "text/plain": [
              "array([7, 2, 1, 0, 4, 1, 4, 9, 5])"
            ]
          },
          "metadata": {},
          "execution_count": 35
        }
      ]
    },
    {
      "cell_type": "markdown",
      "metadata": {
        "id": "ws3OtgYMfpXI"
      },
      "source": [
        "Вариант синтаксиса:"
      ]
    },
    {
      "cell_type": "code",
      "metadata": {
        "colab": {
          "base_uri": "https://localhost:8080/"
        },
        "id": "IvO2kuDRerfX",
        "outputId": "1e197844-d129-487d-f654-e8342c02f443"
      },
      "source": [
        "y_predi = model1(test_images[:,:])\n",
        "np.argmax(y_predi,axis=1)"
      ],
      "execution_count": null,
      "outputs": [
        {
          "output_type": "execute_result",
          "data": {
            "text/plain": [
              "array([7, 2, 1, ..., 4, 5, 6])"
            ]
          },
          "metadata": {},
          "execution_count": 36
        }
      ]
    },
    {
      "cell_type": "markdown",
      "source": [
        "Где ошиблись?"
      ],
      "metadata": {
        "id": "5yqdlhIxo3UB"
      }
    },
    {
      "cell_type": "code",
      "metadata": {
        "colab": {
          "base_uri": "https://localhost:8080/"
        },
        "id": "EREg7l6YUK7P",
        "outputId": "89241c75-e47d-471d-e992-75f7e3adc7ef"
      },
      "source": [
        "yy = np.argmax(y_predi,axis=1)\n",
        "np.where(testn_labels != yy)[0]"
      ],
      "execution_count": null,
      "outputs": [
        {
          "output_type": "execute_result",
          "data": {
            "text/plain": [
              "array([ 124,  149,  233,  247,  259,  321,  340,  381,  445,  447,  448,\n",
              "        495,  582,  619,  659,  691,  720,  726,  740,  760,  810,  881,\n",
              "        924,  947,  951, 1014, 1032, 1044, 1055, 1112, 1128, 1156, 1182,\n",
              "       1194, 1226, 1232, 1242, 1247, 1253, 1260, 1289, 1299, 1319, 1328,\n",
              "       1378, 1393, 1413, 1414, 1444, 1494, 1500, 1522, 1530, 1549, 1553,\n",
              "       1609, 1678, 1681, 1709, 1717, 1737, 1751, 1754, 1790, 1828, 1850,\n",
              "       1878, 1901, 1941, 1987, 2004, 2016, 2018, 2024, 2035, 2040, 2043,\n",
              "       2044, 2053, 2070, 2098, 2109, 2118, 2129, 2130, 2135, 2182, 2224,\n",
              "       2272, 2293, 2326, 2369, 2371, 2387, 2408, 2414, 2433, 2488, 2514,\n",
              "       2607, 2610, 2635, 2648, 2654, 2758, 2771, 2877, 2896, 2927, 2939,\n",
              "       2953, 2979, 2995, 3030, 3060, 3073, 3114, 3117, 3206, 3225, 3251,\n",
              "       3405, 3422, 3475, 3503, 3520, 3533, 3558, 3559, 3567, 3597, 3664,\n",
              "       3674, 3681, 3757, 3767, 3806, 3808, 3818, 3838, 3853, 3869, 3893,\n",
              "       3906, 3941, 3968, 3976, 3985, 4000, 4027, 4065, 4075, 4078, 4093,\n",
              "       4140, 4163, 4176, 4199, 4207, 4211, 4224, 4248, 4259, 4271, 4289,\n",
              "       4294, 4300, 4306, 4355, 4369, 4374, 4425, 4487, 4497, 4521, 4571,\n",
              "       4601, 4671, 4690, 4723, 4731, 4807, 4823, 4837, 4880, 4890, 4956,\n",
              "       4966, 4978, 4981, 4990, 5165, 5331, 5457, 5495, 5600, 5642, 5676,\n",
              "       5734, 5749, 5842, 5887, 5888, 5891, 5936, 5937, 5955, 5972, 5973,\n",
              "       5982, 6045, 6059, 6071, 6081, 6091, 6166, 6172, 6390, 6392, 6400,\n",
              "       6421, 6505, 6555, 6568, 6571, 6574, 6597, 6598, 6651, 6755, 6783,\n",
              "       6847, 7216, 7595, 7619, 7797, 7886, 7921, 8020, 8062, 8094, 8246,\n",
              "       8272, 8311, 8406, 8408, 8520, 8522, 9009, 9015, 9016, 9019, 9024,\n",
              "       9071, 9280, 9456, 9587, 9634, 9642, 9662, 9664, 9669, 9679, 9698,\n",
              "       9729, 9745, 9749, 9768, 9770, 9792, 9808, 9839, 9858, 9944, 9982])"
            ]
          },
          "metadata": {},
          "execution_count": 37
        }
      ]
    },
    {
      "cell_type": "markdown",
      "metadata": {
        "id": "NRSQbmXD9U98"
      },
      "source": [
        "## Практическое задание\n",
        "\n",
        "Используем набор примеров fashion-MNIST\n",
        "\n",
        "1.  Опишите - какой результата получен в нейросети в зависимости от:\n",
        "  -  числа нейронов в слое(для 2-хслойной сети), \n",
        "  - числа слоев (2, 3, 5, 10) при близких размерах сети (близкое число тренируемых парметров).\n",
        "  - фиксируйте для тренировочного и тестового набора метрики accuracy.\n",
        "2.  Проверьте работу разных оптимизаторов (SGD, Adam, RMSProp) для одной из моделей п.1.Фиксируйте для тренировочного и тестового набора метрики accuracy.\n",
        "\n",
        "3. Сделайте вывод - что помогло вам улучшить качество классификации в нейросети на тестовом наборе? \n",
        "\n",
        "4. Для одного варианта сетей сформируйте матрицу ошибок по классам. Оцените качество модели по каждому классу отдельно (полнота , точность). Сделайте вывод."
      ]
    }
  ]
}