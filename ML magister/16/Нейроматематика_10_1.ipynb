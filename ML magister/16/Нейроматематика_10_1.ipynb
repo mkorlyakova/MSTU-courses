{
  "nbformat": 4,
  "nbformat_minor": 0,
  "metadata": {
    "colab": {
      "provenance": [],
      "authorship_tag": "ABX9TyNhcCXq95NF3JxW5TCPjMCQ",
      "include_colab_link": true
    },
    "kernelspec": {
      "name": "python3",
      "display_name": "Python 3"
    }
  },
  "cells": [
    {
      "cell_type": "markdown",
      "metadata": {
        "id": "view-in-github",
        "colab_type": "text"
      },
      "source": [
        "<a href=\"https://colab.research.google.com/github/mkorlyakova/MSTU-courses/blob/main/ML%20magister/16/%D0%9D%D0%B5%D0%B9%D1%80%D0%BE%D0%BC%D0%B0%D1%82%D0%B5%D0%BC%D0%B0%D1%82%D0%B8%D0%BA%D0%B0_10_1.ipynb\" target=\"_parent\"><img src=\"https://colab.research.google.com/assets/colab-badge.svg\" alt=\"Open In Colab\"/></a>"
      ]
    },
    {
      "cell_type": "markdown",
      "metadata": {
        "id": "MZgjBlEZFnby"
      },
      "source": [
        "# **Самоорганизация**\n",
        "\n",
        "## Эпизод 1\n",
        "## Обучение без учителя"
      ]
    },
    {
      "cell_type": "code",
      "metadata": {
        "id": "bZPYY9PiFB9W"
      },
      "source": [
        "import numpy as np\n",
        "import pandas as pd\n",
        "import seaborn as sns\n",
        "import matplotlib.pyplot as plt\n",
        "\n",
        "from sklearn.datasets import load_iris\n",
        "\n",
        "import warnings\n",
        "warnings.simplefilter(action='ignore', category=FutureWarning)\n",
        "\n",
        "# sklearn здесь только, чтобы разделить выборку на тренировочную и тестовую\n",
        "from sklearn.model_selection import train_test_split\n",
        "\n",
        "\n",
        "from itertools import cycle\n",
        "from math import hypot\n",
        "from numpy import random\n"
      ],
      "execution_count": null,
      "outputs": []
    },
    {
      "cell_type": "code",
      "metadata": {
        "id": "tyXCPkT-F--8"
      },
      "source": [
        "# преобразование массива в бинарный вид результатов\n",
        "def to_one_hot(Y):\n",
        "    n_col = np.amax(Y) + 1\n",
        "    #print(n_col)\n",
        "    binarized = np.zeros((len(Y), n_col))\n",
        "    for i in range(len(Y)):\n",
        "        binarized[i, Y[i]] = 1.\n",
        "    return binarized\n",
        "\n",
        "# преобразование массива в необходимый вид\n",
        "def from_one_hot(Y):\n",
        "    arr = np.zeros((len(Y), 1))\n",
        "\n",
        "    for i in range(len(Y)):\n",
        "        l = layer2[i]\n",
        "        for j in range(len(l)):\n",
        "            if(l[j] == 1):\n",
        "                arr[i] = j+1\n",
        "    return arr\n",
        "\n",
        "# нормализация массива\n",
        "def normalize(X, axis=-1, order=2):\n",
        "    l2 = np.atleast_1d(np.linalg.norm(X, order, axis))\n",
        "    l2[l2 == 0] = 1\n",
        "    return X / np.expand_dims(l2, axis)\n"
      ],
      "execution_count": null,
      "outputs": []
    },
    {
      "cell_type": "code",
      "metadata": {
        "id": "wZu11l4WqQQJ"
      },
      "source": [
        "iris_=load_iris()\n",
        "\n",
        "X_i=iris_.data\n"
      ],
      "execution_count": null,
      "outputs": []
    },
    {
      "cell_type": "code",
      "metadata": {
        "id": "oEeT_pyIFqUf",
        "colab": {
          "base_uri": "https://localhost:8080/",
          "height": 300
        },
        "outputId": "c851d284-0834-4675-8e21-82db76a3a0f9"
      },
      "source": [
        "from sklearn.datasets import load_digits\n",
        "digits = load_digits()\n",
        "print(digits.data.shape)\n",
        "\n",
        "# примеры \n",
        "\n",
        "#входная часть\n",
        "X_ = digits.data.reshape(digits.data.shape[0],8,8,1)\n",
        "X_r = digits.data\n",
        "# метка\n",
        "Y_ = to_one_hot(digits.target)\n",
        "\n",
        "# выводим пример\n",
        "plt.imshow(X_[0,:,:,0])\n",
        "plt.show()\n",
        "\n",
        "print(Y_[0,:])"
      ],
      "execution_count": null,
      "outputs": [
        {
          "output_type": "stream",
          "name": "stdout",
          "text": [
            "(1797, 64)\n"
          ]
        },
        {
          "output_type": "display_data",
          "data": {
            "text/plain": [
              "<Figure size 432x288 with 1 Axes>"
            ],
            "image/png": "[encoded data removed]"
          },
          "metadata": {
            "needs_background": "light"
          }
        },
        {
          "output_type": "stream",
          "name": "stdout",
          "text": [
            "[1. 0. 0. 0. 0. 0. 0. 0. 0. 0.]\n"
          ]
        }
      ]
    },
    {
      "cell_type": "code",
      "metadata": {
        "id": "I_t8wPt2QOCF"
      },
      "source": [
        "# Метрика Минковского : a,b - вектора для сравнения (между ними вычислим расстояние)\n",
        "# p - порядок метрики\n",
        "\n",
        "def dist(a, b, ax=1,p=None):\n",
        "    m=(np.sum((np.abs(a - b)**p),axis=1))\n",
        "    return m**(1/p)"
      ],
      "execution_count": null,
      "outputs": []
    },
    {
      "cell_type": "markdown",
      "metadata": {
        "id": "YSPS5H176-HB"
      },
      "source": [
        "Пример пирменения метрик к точкам lin_mod2 = [0,0] и lin_mod2 =[x1, x2=x1]\n",
        "\n",
        "p - устанавливаем в любое значение больше 0.\n",
        "\n",
        "при больших р для маленьких абсолютных значений рх,ру - теряем значение (машинный 0) - но он должен быть:) - просто не видим в нашем виртуальном мире "
      ]
    },
    {
      "cell_type": "code",
      "metadata": {
        "id": "3t2P2GXBdkSY",
        "colab": {
          "base_uri": "https://localhost:8080/",
          "height": 333
        },
        "outputId": "32ee796f-0625-4046-a8c7-87adc840239b"
      },
      "source": [
        "M20=50\n",
        "\n",
        "px=np.linspace(-1,1,(M20)).reshape((M20,1))\n",
        "\n",
        "py=np.linspace(-1,1,(M20)).reshape((M20,1))\n",
        "lin_mod1 = np.hstack([px,py])\n",
        "lin_mod2 = np.hstack([np.zeros((M20,1)),np.zeros((M20,1))])\n",
        "\n",
        "plt.figure(figsize=(20,5))\n",
        "m1=dist(lin_mod1,lin_mod2,p=1)\n",
        "m2=dist(lin_mod1,lin_mod2,p=2)\n",
        "m100=dist(lin_mod1,lin_mod2,p=400)\n",
        "m001=dist(lin_mod1,lin_mod2,p=0.5)\n",
        "\n",
        "plt.subplot(1,2,1)\n",
        "plt.plot(px,py, label='point')\n",
        "plt.plot(lin_mod2[:,0],lin_mod2[:,1],'or', label='point_zero')\n",
        "plt.legend()\n",
        "plt.title('точки для анализа')\n",
        "\n",
        "plt.subplot(1,2,2)\n",
        "plt.plot(px,m1, label='p=1')\n",
        "plt.plot(px,m2, label='p=2')\n",
        "plt.plot(px,m100, label='p=50000')\n",
        "plt.plot(px,m001, label='p=0.5')\n",
        "plt.legend()\n",
        "plt.title('метрики ')\n",
        "plt.show()"
      ],
      "execution_count": null,
      "outputs": [
        {
          "output_type": "display_data",
          "data": {
            "text/plain": [
              "<Figure size 1440x360 with 2 Axes>"
            ],
            "image/png": "[encoded data removed]"
          },
          "metadata": {
            "needs_background": "light"
          }
        }
      ]
    },
    {
      "cell_type": "markdown",
      "metadata": {
        "id": "VfBvpU0l8j37"
      },
      "source": [
        "## **Эпизод 3**\n",
        "\n",
        "## Реализация обучения без учителя"
      ]
    },
    {
      "cell_type": "markdown",
      "metadata": {
        "id": "dtqnOuMtGQKq"
      },
      "source": [
        "K-means:\n",
        "\n",
        "1. Нужно знать в сколько кластеров нужно распределить данные. Это является существенным минусом данного метода (зададим из каких-то логичных допущений).\n",
        "\n",
        "2. Нужно выбрать начальные центры наших кластеров  (случайный пример из выборки). \n",
        "\n",
        "3. Нужно выбрать метрику (берем евклидово расстояние)\n",
        "\n",
        "4. Для всех объектов производим оценку:  \n",
        "\n",
        "- Считаем расстояние от объекта до каждого центра и определяем наименьшее расстояние (группа k).  \n",
        "- Относим объект к группе k. \n",
        "\n",
        "5. Смещаем центр групппы как среднее по группе.\n",
        "\n",
        "6. Все начинается сначала, до тех пор, пока не пройдет заданное число итераций или не перестаут смещаться центры\n"
      ]
    },
    {
      "cell_type": "code",
      "metadata": {
        "id": "fi5ugpM2QeWe"
      },
      "source": [
        "# Основной цикл алгоритма k-means\n",
        "def k_means(X=None,K=None, iteration = 10, p=2):\n",
        "  # X -  входные данные - массив (строки объекты, столбцы признаки)\n",
        "  # iteration - параметр для критерия останова (сколько раз повторять цикл алгоритма)\n",
        "  # р - параметр метрики - по умолчанию Эвклид\n",
        "  # к - число кластеров\n",
        "  \n",
        "  # строим случайный список индексов для заполнения начальных \"старых\" положений центров кластеров(групп)\n",
        "  kk = np.random.randint(0,X.shape[0],(K))\n",
        "  # строим старые кластеры\n",
        "  C_old=X[kk,:].copy()\n",
        "  # и еще раз, т.к. нужно инициировать переменную новое положение кластеров\n",
        "  kk = np.random.randint(0,X.shape[0],(K))\n",
        "  # новые кластеры\n",
        "  C=X[kk,:].copy()\n",
        "  clusters = np.zeros((X.shape[0]))\n",
        "  error = np.mean(np.abs(C-C_old))\n",
        "\n",
        "  # Цикл до наступления числа итераций или не изменения положения кластеров (error==0)\n",
        "  iw=0\n",
        "  #print(C)\n",
        "  while ((error != 0) & (iw<iteration )):\n",
        "    iw += 1\n",
        "    #print(iw)\n",
        "    # Разместим все объету по группам на основе определения ближайшего центра группы\n",
        "    for i in range(X.shape[0]):\n",
        "      distances = dist(C,X[i,:].reshape((1,X.shape[1])),ax=1,p=p)\n",
        "      # выбираем ближайший центр\n",
        "      cluster = np.argmin(distances)\n",
        "      # присвоим номер кластера для i-го объекта\n",
        "      clusters[i] = cluster\n",
        "    # Сохраним старые положения центров кластеров\n",
        "    #print(C)\n",
        "    C_old = C.copy()\n",
        "    # Вычислим новые положения центров кластеров\n",
        "    for i in range(K):\n",
        "      points=[]\n",
        "      for j in range(X.shape[0]):\n",
        "          if clusters[j] == i:\n",
        "            points += [X[j,:]]\n",
        "      # Для каждого из кластеров находим новый центр - среднее по всем объектам      \n",
        "      C[i,:] = np.mean(points, axis=0)\n",
        "    error = np.mean(np.abs(C-C_old))\n",
        "  return C , clusters "
      ],
      "execution_count": null,
      "outputs": []
    },
    {
      "cell_type": "code",
      "metadata": {
        "id": "BhR6cE57GSwE"
      },
      "source": [
        "# Разметка примеров метками для отображения (число меток labels не меньше числа кластеров)\n",
        "def kmeans_export(clusters, data, labels):\n",
        "    # clusters - номера кластеров по объектам\n",
        "    # data - массив объектов\n",
        "    res=[]\n",
        "    # Формируем список меток для раскраски\n",
        "    for i in range(clusters.shape[0]):\n",
        "        res.append(labels[int(clusters[i])])\n",
        "    return res\n"
      ],
      "execution_count": null,
      "outputs": []
    },
    {
      "cell_type": "code",
      "metadata": {
        "id": "CTTg0oIvPzmf"
      },
      "source": [
        "def kmeans_draw(X, clusters,List_x=[0,1], text_t ='Кластеризация' ):\n",
        "    #Рисуем результаты разметки (не больше 11 групп)\n",
        "    # List_x -  список из 2-х координат для отображения\n",
        "    colors = np.array([['or'], ['og'], ['ob'], ['oc'], ['om'], ['oy'], ['+k'],['+g'],['+k'],['+b'],['+r']])\n",
        "    fig = plt.figure()\n",
        "    # Выбираем цвет и маркер для каждой группы и отображаем объекты из Х с маркерами colors по clusters .\n",
        "\n",
        "    for i in range(X.shape[0]):\n",
        "        color = colors[clusters[i]][0]# назначаем маркер и цвет\n",
        "        x, y = X[i,List_x] # назначаем значения координат точки\n",
        "        plt.plot([x], [y],  color)\n",
        "    plt.xlabel('x1')\n",
        "    plt.ylabel('x2')\n",
        "    plt.title(text_t)\n",
        "\n",
        "    plt.show()\n"
      ],
      "execution_count": null,
      "outputs": []
    },
    {
      "cell_type": "markdown",
      "metadata": {
        "id": "BFzMi_LPMoaH"
      },
      "source": [
        "Строим кластеры для Ирисов . Мы знаем, что их 3. Попробуем с к=3 - получаем не очень учстойчивую картину. Если К=2 - кластеризация устойчивая (одно и тоже). Однако порядок кластеров 1 или 0-й могут меняться от одной реализации к другой. Таким образом, смотрим не на цвет, а на форму, которую нашли.\n",
        "\n",
        "Попробуйте перезапустить несколько раз и посмотрите как меняется картинка"
      ]
    },
    {
      "cell_type": "code",
      "metadata": {
        "id": "GqepKZuOSQbd",
        "colab": {
          "base_uri": "https://localhost:8080/",
          "height": 573
        },
        "outputId": "f2ae9d06-3bf6-4c8e-c110-066278b97f40"
      },
      "source": [
        "# строим кластеры для Ирисов\n",
        "centroids, clusters = k_means(X=X_i,K=3, iteration = 10)\n",
        "K_res = kmeans_export(clusters, X_i, [0,1,2])\n",
        "kmeans_draw(X_i, K_res,List_x=[1,3])\n",
        "\n",
        "K_res = kmeans_export(iris_.target, X_i, [0,1,2])\n",
        "kmeans_draw(X_i, K_res,List_x=[1,3], text_t ='Реальное деление' )"
      ],
      "execution_count": null,
      "outputs": [
        {
          "output_type": "display_data",
          "data": {
            "text/plain": [
              "<Figure size 432x288 with 1 Axes>"
            ],
            "image/png": "[encoded data removed]"
          },
          "metadata": {
            "needs_background": "light"
          }
        },
        {
          "output_type": "display_data",
          "data": {
            "text/plain": [
              "<Figure size 432x288 with 1 Axes>"
            ],
            "image/png": "[encoded data removed]"
          },
          "metadata": {
            "needs_background": "light"
          }
        }
      ]
    },
    {
      "cell_type": "markdown",
      "metadata": {
        "id": "mtYLez3bOE1-"
      },
      "source": [
        "Посмотрим на более сложной картинке. И найдем кластеры тут. (попробуйте менять число кластеров  К. Истиное значение К=3)"
      ]
    },
    {
      "cell_type": "code",
      "metadata": {
        "id": "t6Ftv6gk4DKZ",
        "colab": {
          "base_uri": "https://localhost:8080/",
          "height": 573
        },
        "outputId": "3056f099-eb92-4455-aff0-bab8911f866b"
      },
      "source": [
        "# Генерация данных\n",
        "# строим нормально размещенные точки вокруг центра [3.5,3.5]\n",
        "P = [(random.randn()/8+3.5, random.randn()/8+3.5) for i in range(150)]\n",
        "L_target=[0]*150\n",
        "# Строим линию\n",
        "P.extend([(i/25 - 1, + random.randn()/20 - 1) for i in range(100)])\n",
        "L_target=L_target+[1]*100\n",
        "# Строим бублик из первого объекта digits (это 0)\n",
        "#  Считаем риксели с интенсивностью близкой к 1 точками для отображенияя \n",
        "#  в координатах [x,y] и вокруг каждой строим кр нормально распределенных точек с небольшой дисперсией\n",
        "# Задаем фактор умножения для точек из картинки digits\n",
        "kp=10\n",
        "# Находим точки для отображения в выборку из картинки\n",
        "P_data = np.where((digits.data[0].reshape((8,8)) >0.99))\n",
        "#  добавляем примеров в обший список\n",
        "P.extend([(P_data[0][i]+random.randn()/4-0.125,P_data[1][i]+random.randn()/4-0.125) for i in range(P_data[0].shape[0]) for j in range(kp)])\n",
        "L_target=L_target+[2]*kp*P_data[0].shape[0]\n",
        "\n",
        "L_target=np.array(L_target)\n",
        "X_ = np.array(P)\n",
        "#  делаем кластеризацию на К кластеров\n",
        "centroids, clusters = k_means(X=X_,K=3, iteration = 10)\n",
        "K_res = kmeans_export(clusters, X_, [0,1,2,3,4,5,6,7,8,9])\n",
        "kmeans_draw(X_, K_res,List_x=[0,1])\n",
        "K_res = kmeans_export(L_target, X_, [0,1,2,3,4,5,6,7,8,9])\n",
        "kmeans_draw(X_, K_res,List_x=[0,1], text_t ='Реальное деление')\n"
      ],
      "execution_count": null,
      "outputs": [
        {
          "output_type": "display_data",
          "data": {
            "text/plain": [
              "<Figure size 432x288 with 1 Axes>"
            ],
            "image/png": "[encoded data removed]"
          },
          "metadata": {
            "needs_background": "light"
          }
        },
        {
          "output_type": "display_data",
          "data": {
            "text/plain": [
              "<Figure size 432x288 with 1 Axes>"
            ],
            "image/png": "[encoded data removed]"
          },
          "metadata": {
            "needs_background": "light"
          }
        }
      ]
    },
    {
      "cell_type": "markdown",
      "metadata": {
        "id": "JJ0dfUgDP5n_"
      },
      "source": [
        "Получаем довольно слабый результат. Сложный кластер не построен. Попробуем построить более сложный алгоритм. Рассмотрим работу DBSCAN."
      ]
    },
    {
      "cell_type": "markdown",
      "metadata": {
        "id": "ACL--F4s_ciu"
      },
      "source": [
        "**DBSCAN**\n",
        "\n",
        "Описание деталей работы алгоритма и масса примеров\n",
        "https://www.pvsm.ru/python/245076\n",
        "\n",
        "Реализован в библиотеке sklearn\n",
        "https://scikit-learn.org/stable/modules/generated/sklearn.cluster.DBSCAN.html"
      ]
    },
    {
      "cell_type": "code",
      "metadata": {
        "id": "0L45u8Cx_c8f",
        "colab": {
          "base_uri": "https://localhost:8080/",
          "height": 543
        },
        "outputId": "fecba5cb-547c-453d-a3e1-210d3f06057d"
      },
      "source": [
        "def dbscan_naive(P=None, eps=0.2, m=3, distance=None):\n",
        "    # инициализация\n",
        "    NOISE = 0\n",
        "    C = 0\n",
        "    #  Посещенные точки\n",
        "    visited_points = set()\n",
        "    #  кластеризированные точки\n",
        "    clustered_points = set()\n",
        "    # шумовые точки (всякие выбросы)\n",
        "    clusters = {NOISE: []}\n",
        "\n",
        "    # условие попадания в обрасть вокруг точки по  всем из Р   \n",
        "    def region_query(p):\n",
        "        return [q for q in P if distance(p, q) < eps]\n",
        "    #  расширение кластера - строим обход не распределенных точек \n",
        "    def expand_cluster(p, neighbours):\n",
        "        # задаем новый кластер\n",
        "        if C not in clusters:\n",
        "            clusters[C] = []\n",
        "        # Добавляем в него точку из р\n",
        "        clusters[C].append(p)\n",
        "        clustered_points.add(p)\n",
        "        # ищем по соседям\n",
        "        while neighbours:\n",
        "            q = neighbours.pop()\n",
        "            # если  не обошли точку\n",
        "            if q not in visited_points:\n",
        "                visited_points.add(q) # обходим\n",
        "                neighbourz = region_query(q) # ищем ее соседей\n",
        "                if len(neighbourz) > m:\n",
        "                    neighbours.extend(neighbourz)\n",
        "            # если не вкластере        \n",
        "            if q not in clustered_points:\n",
        "                # добавим в кластер\n",
        "                clustered_points.add(q)\n",
        "                clusters[C].append(q)\n",
        "                # или если в шуме . то уберем из шума\n",
        "                if q in clusters[NOISE]:\n",
        "                    clusters[NOISE].remove(q)\n",
        "    # По всем точкам из примеров Р\n",
        "    for p in P:\n",
        "        # если уже были, то дальше\n",
        "        if p in visited_points:\n",
        "            continue\n",
        "        # иначе добавляем в список посещенных    \n",
        "        visited_points.add(p)\n",
        "        # ищем соседей\n",
        "        neighbours = region_query(p)\n",
        "        # если соседей мало, то в шумные точки \n",
        "        if len(neighbours) < m:\n",
        "            clusters[NOISE].append(p)\n",
        "        else:\n",
        "            # иначе в кластер\n",
        "            C += 1\n",
        "            expand_cluster(p, neighbours)\n",
        "\n",
        "    return clusters\n",
        "\n",
        "\n",
        "\n",
        "# Запускаем кластеризацию для картинки с \"бубликом\"\n",
        "clusters = dbscan_naive(P, 0.565, 5, lambda x, y: hypot(x[0] - y[0], x[1] - y[1]))\n",
        "\n",
        "# рисуем результат\n",
        "for c, points in zip(cycle('bgrcmykgrcmykgrcmykgrcmykgrcmykgrcmyk'), clusters.values()):\n",
        "  X = [p[0] for p in points]\n",
        "  \n",
        "  Y = [p[1] for p in points]\n",
        "  \n",
        "  plt.scatter(X, Y, c=c)\n",
        "\n",
        "plt.show()\n",
        "\n",
        "# рисуем как должно было быть\n",
        "X_ = np.array(P)\n",
        "\n",
        "K_res = kmeans_export(L_target, X_, [0,1,2,3,4,5,6,7,8,9])\n",
        "kmeans_draw(X_, K_res,List_x=[0,1],  text_t='Реальные группы')\n",
        "\n"
      ],
      "execution_count": null,
      "outputs": [
        {
          "output_type": "display_data",
          "data": {
            "text/plain": [
              "<Figure size 432x288 with 1 Axes>"
            ],
            "image/png": "[encoded data removed]"
          },
          "metadata": {
            "needs_background": "light"
          }
        },
        {
          "output_type": "display_data",
          "data": {
            "text/plain": [
              "<Figure size 432x288 with 1 Axes>"
            ],
            "image/png": "[encoded data removed]"
          },
          "metadata": {
            "needs_background": "light"
          }
        }
      ]
    },
    {
      "cell_type": "markdown",
      "metadata": {
        "id": "N3eTME6zUAQP"
      },
      "source": [
        "Получили отличные кластеры\n",
        "\n",
        "Посмотрим на модель сети Самоорганизации\n",
        "\n",
        "## Эпизод 3\n",
        "\n",
        "## **Self Organization Map**\n",
        "\n",
        "\n",
        "Реализация по https://github.com/alexarnimueller/som"
      ]
    },
    {
      "cell_type": "code",
      "metadata": {
        "id": "NSPWmkQEBZjF"
      },
      "source": [
        "from scipy.spatial.distance import cdist\n",
        "from sklearn.decomposition import PCA\n",
        "from multiprocessing import cpu_count, Process, Queue\n",
        "\n",
        "\n",
        "def man_dist_pbc(m, vector, shape=(10, 10)):\n",
        "    # Манхетенская метрика\n",
        "    # :param m: {numpy.ndarray} array / matrix\n",
        "    # :param vector: {numpy.ndarray} array / vector\n",
        "    # :param shape: {tuple} размер сети\n",
        "    # :return: {numpy.ndarray} расстояние от vector до m\n",
        "  \n",
        "    dims = np.array(shape)\n",
        "    delta = np.abs(m - vector)\n",
        "    delta = np.where(delta > 0.5 * dims, np.abs(delta - dims), delta)\n",
        "    return np.sum(delta, axis=len(m.shape) - 1)\n",
        "\n",
        "# Сеть самоорганизации\n",
        "class SOM(object):\n",
        "    def __init__(self, x, y, alpha_start=0.6, seed=42):\n",
        "        \"\"\" Инициализация сети по параметрам\n",
        "        \n",
        "        :param x: {int} ширина карты (число узлов по горизонтали)\n",
        "        :param y: {int} Высота карты (число рядов узлов)\n",
        "        :param alpha_start: {float} начальное значение alpha для обучения\n",
        "        :param seed: {int} параметр для фиксации модели в генераторе случайных чисел\n",
        "        \"\"\"\n",
        "        np.random.seed(seed) # можно выбросить будет веселее\n",
        "        self.x = x\n",
        "        self.y = y\n",
        "        self.shape = (x, y)\n",
        "        self.sigma = x / 2.\n",
        "        self.alpha_start = alpha_start\n",
        "        self.alphas = None\n",
        "        self.sigmas = None\n",
        "        self.epoch = 0\n",
        "        self.interval = int()\n",
        "        self.map = np.array([])\n",
        "        self.indxmap = np.stack(np.unravel_index(np.arange(x * y, dtype=int).reshape(x, y), (x, y)), 2)\n",
        "        self.distmap = np.zeros((self.x, self.y))\n",
        "        self.winner_indices = np.array([])\n",
        "        self.pca = None  # параметры рса для загрузки, если есть (РСА решит проблему мультиколлинеарности) \n",
        "        self.inizialized = False\n",
        "        self.error = 0.  # ошибка \n",
        "        self.history = list()  # история обучения\n",
        "\n",
        "    def initialize(self, data, how='pca'):\n",
        "        \"\"\" инициализируем нейроны\n",
        "        :param data: {numpy.ndarray} данные для работы\n",
        "        :param how: {str} можно разными путями: 'pca' (для не менее чем 2-х координат) или'random' (для случайного выбора из данных)\n",
        "        :return: начальное положение модели self.map\n",
        "        \"\"\"\n",
        "        self.map = np.random.normal(np.mean(data), np.std(data), size=(self.x, self.y, len(data[0])))\n",
        "        if how == 'pca':\n",
        "            eivalues = PCA(2).fit_transform(data.T).T\n",
        "            for i in range(2):\n",
        "                self.map[np.random.randint(0, self.x), np.random.randint(0, self.y)] = eivalues[i]\n",
        "\n",
        "        self.inizialized = True\n",
        "\n",
        "    def winner(self, vector):\n",
        "        \"\"\" Ищем победителя по (Euclidean distance)\n",
        "        :param vector: {numpy.ndarray} вектор из текущих данных\n",
        "        :return: номер нейрона победителя\n",
        "        \"\"\"\n",
        "        # вычисляем Эвклидово расстояние от vector до всех нейронов - берем минимальное - победитель\n",
        "        indx = np.argmin(np.sum((self.map - vector) ** 2, axis=2))\n",
        "        return np.array([int(indx / self.x), indx % self.y])\n",
        "\n",
        "    def cycle(self, vector):\n",
        "        \"\"\" Цикл адаптации сети по текущему входному вектору(объекту)\n",
        "        :param vector: {numpy.ndarray} текущий объект\n",
        "        \"\"\"\n",
        "        w = self.winner(vector)\n",
        "        # Находим близкие нейроны по Манхетенской метрике\n",
        "        dists = man_dist_pbc(self.indxmap, w, self.shape)\n",
        "        # Вычисляем параметр близости для нейронов сети\n",
        "        h = np.exp(-(dists / self.sigmas[self.epoch]) ** 2).reshape(self.x, self.y, 1)\n",
        "        # обновляем веса сети\n",
        "        self.map -= h * self.alphas[self.epoch] * (self.map - vector)\n",
        "        # отображение результатов обучения этого шага\n",
        "        if self.epoch % 100 == 99:\n",
        "          print(\"Epoch %i;    Neuron [%i, %i];    \\tSigma: %.4f;    alpha: %.4f\" %\n",
        "                (self.epoch, w[0], w[1], self.sigmas[self.epoch], self.alphas[self.epoch]))\n",
        "        self.epoch = self.epoch + 1\n",
        "\n",
        "    def fit(self, data, epochs=0, save_e=False, interval=1000, decay='hill'):\n",
        "        \"\"\" Обучение сети по шагам на данных\n",
        "        :param data: {numpy.ndarray} данные для обучения\n",
        "        :param epochs: {int} число итераций; Если 0, epochs=len(data) , то не меньше числа примеров\n",
        "        :param save_e: {bool} Историю сохранять или нет\n",
        "        :param interval: {int} Интервал сохранения истории\n",
        "        :param decay: {str} Способ уменьшения alpha и sigma. Если  'hill' (Hill function) , если 'linear', с\n",
        "            'hill',  то ``y = 1 / (1 + (x / 0.5) **4)``\n",
        "        \"\"\"\n",
        "        self.interval = interval\n",
        "        # Инициализация сети\n",
        "        if not self.inizialized:\n",
        "            self.initialize(data)\n",
        "        if not epochs:\n",
        "            epochs = len(data)\n",
        "            indx = np.random.choice(np.arange(len(data)), epochs, replace=False)\n",
        "        else:\n",
        "            indx = np.random.choice(np.arange(len(data)), epochs)\n",
        "\n",
        "        #Определим способ вычисления  alpha и sigma от числа эпох или по Хилл-функции\n",
        "        if decay == 'hill':\n",
        "            epoch_list = np.linspace(0, 1, epochs)\n",
        "            self.alphas = self.alpha_start / (1 + (epoch_list / 0.5) ** 4)\n",
        "            self.sigmas = self.sigma / (1 + (epoch_list / 0.5) ** 4)\n",
        "        else:\n",
        "            self.alphas = np.linspace(self.alpha_start, 0.05, epochs)\n",
        "            self.sigmas = np.linspace(self.sigma, 1, epochs)\n",
        "\n",
        "        if save_e:  # Если храним результаты, то записываем их через интервал\n",
        "            for i in range(epochs):\n",
        "                # исполняем один шаг работы-обновление сети (по одному объекту)\n",
        "                self.cycle(data[indx[i]])\n",
        "                if i % interval == 0:\n",
        "                    self.history.append(self.som_error(data))\n",
        "        else:\n",
        "            for i in range(epochs):\n",
        "                # исполняем шаг обновления сети по одному примеру \n",
        "                self.cycle(data[indx[i]])\n",
        "        self.error = self.som_error(data)\n",
        "\n",
        "    def transform(self, data):\n",
        "        \"\"\" проход данных через SOM\n",
        "        :param data: {numpy.ndarray}данные для обработки\n",
        "        :return:результат прохода по сети\n",
        "        \"\"\"\n",
        "        m = self.map.reshape((self.x * self.y, self.map.shape[-1]))\n",
        "        dotprod = np.dot(np.exp(data), np.exp(m.T)) / np.sum(np.exp(m), axis=1)\n",
        "        return (dotprod / (np.exp(np.max(dotprod)) + 1e-8)).reshape(data.shape[0], self.x, self.y)\n",
        "\n",
        "    def distance_map(self, metric='euclidean'):\n",
        "        \"\"\" Карта сети - расстояние между нейронами в сети(не в пространстве).\n",
        "        :param metric: {str} используем метрику (scipy.spatial.distance.cdist)\n",
        "        :return: нормализованные расстояния от нейрона до его соседей\n",
        "        \"\"\"\n",
        "        dists = np.zeros((self.x, self.y))\n",
        "        for x in range(self.x):\n",
        "            for y in range(self.y):\n",
        "                d = cdist(self.map[x, y].reshape((1, -1)), self.map.reshape((-1, self.map.shape[-1])), metric=metric)\n",
        "                dists[x, y] = np.mean(d)\n",
        "        self.distmap = dists / float(np.max(dists))\n",
        "\n",
        "    def winner_map(self, data):\n",
        "        \"\"\" Проверяем нейроны, как они часто побеждали по всем входным данным.\n",
        "        :param data: {numpy.ndarray} data to compute the winner neurons on\n",
        "        :return: {numpy.ndarray} возвращаем число побед нейронов по сетке\n",
        "        \"\"\"\n",
        "        wm = np.zeros(self.shape, dtype=int)\n",
        "        for d in data:\n",
        "            [x, y] = self.winner(d)\n",
        "            wm[x, y] += 1\n",
        "        return wm\n",
        "\n",
        "    def _one_winner_neuron(self, data, q):\n",
        "        \"\"\"Private function to be used for parallel winner neuron computation\n",
        "        :param data: {numpy.ndarray} data matrix to compute the winner neurons on\n",
        "        :param q: {multiprocessing.Queue} queue\n",
        "        :return: {list} winner neuron cooridnates for every datapoint\n",
        "        \"\"\"\n",
        "        q.put(np.array([self.winner(d) for d in data], dtype='int'))\n",
        "\n",
        "    def winner_neurons(self, data):\n",
        "        \"\"\" Находим нейрон победитель.\n",
        "        :param data: {numpy.ndarray} данные для обработки (примеры)\n",
        "        :return: {numpy.ndarray} winner neuron координаты победителя\n",
        "        \"\"\"\n",
        "        print(\"Calculating neuron indices for all data points...\")\n",
        "        queue = Queue()\n",
        "        n = cpu_count() - 1\n",
        "        for d in np.array_split(np.array(data), n):\n",
        "            p = Process(target=self._one_winner_neuron, args=(d, queue,))\n",
        "            p.start()\n",
        "        rslt = []\n",
        "        for _ in range(n):\n",
        "            rslt.extend(queue.get(10))\n",
        "        self.winner_indices = np.array(rslt, dtype='int').reshape((len(data), 2))\n",
        "\n",
        "    def _one_error(self, data, q):\n",
        "        \"\"\"Private function to be used for parallel error calculation\n",
        "        :param data: {numpy.ndarray} data matrix to calculate SOM error for\n",
        "        :param q: {multiprocessing.Queue} queue\n",
        "        :return: {list} list of SOM errors\n",
        "        \"\"\"\n",
        "        errs = list()\n",
        "        for d in data:\n",
        "            w = self.winner(d)\n",
        "            dist = self.map[w[0], w[1]] - d\n",
        "            errs.append(np.sqrt(np.dot(dist, dist.T)))\n",
        "        q.put(errs)\n",
        "\n",
        "    def som_error(self, data):\n",
        "        \"\"\" Оцениваем ошибку\n",
        "        :param data: {numpy.ndarray}\n",
        "        :return: normalized error\n",
        "        \"\"\"\n",
        "        queue = Queue()\n",
        "        for d in np.array_split(np.array(data), cpu_count()):\n",
        "            p = Process(target=self._one_error, args=(d, queue,))\n",
        "            p.start()\n",
        "        rslt = []\n",
        "        for _ in range(cpu_count()):\n",
        "            rslt.extend(queue.get(50))\n",
        "        return float(sum(rslt) / float(len(data)))\n",
        "\n",
        "    def get_neighbors(self, datapoint, data, labels, d=0):\n",
        "        \"\"\" Найти всех соседей\n",
        "        :param datapoint: {numpy.ndarray} данные для поиска (входной вектор)\n",
        "        :param data: {numpy.ndarray} основные данные (матрица)\n",
        "        :param labels: {numpy.ndarray} метки для ``data``\n",
        "        :param d: {int} Близость по Манхетенской метрике для соседей точки (0: only same neuron as data point)\n",
        "        :return: {numpy.ndarray} найденые нейроны (labels)\n",
        "        \"\"\"\n",
        "        if not len(self.winner_indices):\n",
        "            self.winner_neurons(data)\n",
        "        labels = np.array(labels)\n",
        "        w = self.winner(datapoint)\n",
        "        print(\"Winner neuron of given data point: [%i, %i]\" % (w[0], w[1]))\n",
        "        dists = np.array([man_dist_pbc(winner, w, self.shape) for winner in self.winner_indices]).flatten()\n",
        "        return labels[np.where(dists <= d)[0]]\n",
        "    # ВИЗУАЛИЗАЦИИ\n",
        "    def plot_point_map(self, data, targets, targetnames, filename=None, colors=None, markers=None, example_dict=None,\n",
        "                       density=True, activities=None):\n",
        "        \"\"\" Рисуем карту сети\n",
        "        :param data: {numpy.ndarray} данные для обучения SOM\n",
        "        :param targets: {list/array} метки по схеме данных\n",
        "        :param targetnames: {list/array} Имена классов по разметке из данных (список уникальных меток)\n",
        "        :param filename: {str} optional, if given, the plot is saved to this location\n",
        "        :param colors: {list/array} optional, if given, different classes are colored in these colors\n",
        "        :param markers: {list/array} optional, if given, different classes are visualized with these markers\n",
        "        :param example_dict: {dict} Словарь с именами классов как values. \n",
        "        :param density: {bool} whether to plot the density map with winner neuron counts in the background\n",
        "        :param activities: {list/array} list of activities (e.g. IC50 values) to use for coloring the points\n",
        "            accordingly; high values will appear in blue, low values in green\n",
        "        :return: plot shown or saved if a filename is given\n",
        "        \"\"\"\n",
        "        if not markers:\n",
        "            markers = ['o'] * len(targetnames)\n",
        "        if not colors:\n",
        "            colors = ['#EDB233', '#90C3EC', '#C02942', '#79BD9A', '#774F38', 'gray', 'black']\n",
        "        if activities:\n",
        "            heatmap = plt.get_cmap('coolwarm').reversed()\n",
        "            colors = [heatmap(a / max(activities)) for a in activities]\n",
        "        if density:\n",
        "            fig, ax = self.plot_density_map(data, internal=True)\n",
        "        else:\n",
        "            fig, ax = plt.subplots(figsize=self.shape)\n",
        "\n",
        "        for cnt, xx in enumerate(data):\n",
        "            if activities:\n",
        "                c = colors[cnt]\n",
        "            else:\n",
        "                c = colors[targets[cnt]]\n",
        "            w = self.winner(xx)\n",
        "            ax.plot(w[1] + .5 + 0.1 * np.random.randn(1), w[0] + .5 + 0.1 * np.random.randn(1),\n",
        "                    markers[targets[cnt]], color=c, markersize=12)\n",
        "\n",
        "        ax.set_aspect('equal')\n",
        "        ax.set_xlim([0, self.x])\n",
        "        ax.set_ylim([0, self.y])\n",
        "        plt.xticks(np.arange(.5, self.x + .5), range(self.x))\n",
        "        plt.yticks(np.arange(.5, self.y + .5), range(self.y))\n",
        "        ax.grid(which='both')\n",
        "\n",
        "\n",
        "        if example_dict:\n",
        "            for k, v in example_dict.items():\n",
        "                w = self.winner(v)\n",
        "                x = w[1] + 0.5 + np.random.normal(0, 0.15)\n",
        "                y = w[0] + 0.5 + np.random.normal(0, 0.15)\n",
        "                plt.plot(x, y, marker='*', color='#FDBC1C', markersize=24)\n",
        "                plt.annotate(k, xy=(x + 0.5, y - 0.18), textcoords='data', fontsize=18, fontweight='bold')\n",
        "\n",
        "        plt.show()\n",
        "    # Карта плотности \n",
        "    def plot_density_map(self, data, colormap='Oranges', filename=None, example_dict=None, internal=False):\n",
        "        \"\"\" число примеров на узел SOM.\n",
        "        :param data: {numpy.ndarray} data to visualize the SOM density (number of times a neuron was winner)\n",
        "        :param colormap: {str} colormap to use, select from matplolib sequential colormaps\n",
        "        :param filename: {str} optional, if given, the plot is saved to this location\n",
        "        :param example_dict: {dict} dictionary containing names of examples as keys and corresponding descriptor values\n",
        "            as values. These examples will be mapped onto the density map and marked\n",
        "        :param internal: {bool} if True, the current plot will stay open to be used for other plot functions\n",
        "        :return: plot shown or saved if a filename is given\n",
        "        \"\"\"\n",
        "        wm = self.winner_map(data)\n",
        "        fig, ax = plt.subplots(figsize=self.shape)\n",
        "        plt.pcolormesh(wm, cmap=colormap, edgecolors=None)\n",
        "        plt.colorbar()\n",
        "        plt.xticks(np.arange(.5, self.x + .5), range(self.x))\n",
        "        plt.yticks(np.arange(.5, self.y + .5), range(self.y))\n",
        "        ax.set_aspect('equal')\n",
        "\n",
        "        if example_dict:\n",
        "            for k, v in example_dict.items():\n",
        "                w = self.winner(v)\n",
        "                x = w[1] + 0.5 + np.random.normal(0, 0.15)\n",
        "                y = w[0] + 0.5 + np.random.normal(0, 0.15)\n",
        "                plt.plot(x, y, marker='*', color='#FDBC1C', markersize=24)\n",
        "                plt.annotate(k, xy=(x + 0.5, y - 0.18), textcoords='data', fontsize=18, fontweight='bold')\n",
        "\n",
        "        if not internal:\n",
        "            plt.show()\n",
        "        else:\n",
        "            return fig, ax\n",
        "    # Узды по классам\n",
        "    def plot_class_density(self, data, targets, t=1, name='actives', colormap='Oranges', example_dict=None,\n",
        "                           filename=None):\n",
        "        \"\"\" Plot a density map only for the given class\n",
        "        :param data: {numpy.ndarray} data to visualize the SOM density (number of times a neuron was winner)\n",
        "        :param targets: {list/array} array of target classes (0 to len(targetnames)) corresponding to data\n",
        "        :param t: {int} target class to plot the density map for\n",
        "        :param name: {str} target name corresponding to target given in t\n",
        "        :param colormap: {str} colormap to use, select from matplolib sequential colormaps\n",
        "        :param example_dict: {dict} dictionary containing names of examples as keys and corresponding descriptor values\n",
        "            as values. These examples will be mapped onto the density map and marked\n",
        "        :param filename: {str} optional, if given, the plot is saved to this location\n",
        "        :return: plot shown or saved if a filename is given\n",
        "        \"\"\"\n",
        "        targets = np.array(targets)\n",
        "        t_data = data[np.where(targets == t)[0]]\n",
        "        wm = self.winner_map(t_data)\n",
        "        fig, ax = plt.subplots(figsize=self.shape)\n",
        "        plt.pcolormesh(wm, cmap=colormap, edgecolors=None)\n",
        "        plt.colorbar()\n",
        "        plt.xticks(np.arange(.5, self.x + .5), range(self.x))\n",
        "        plt.yticks(np.arange(.5, self.y + .5), range(self.y))\n",
        "        plt.title(name, fontweight='bold', fontsize=28)\n",
        "        ax.set_aspect('equal')\n",
        "        plt.text(0.1, -1., \"%i Datapoints\" % len(t_data), fontsize=20, fontweight='bold')\n",
        "\n",
        "        if example_dict:\n",
        "            for k, v in example_dict.items():\n",
        "                w = self.winner(v)\n",
        "                x = w[1] + 0.5 + np.random.normal(0, 0.15)\n",
        "                y = w[0] + 0.5 + np.random.normal(0, 0.15)\n",
        "                plt.plot(x, y, marker='*', color='#FDBC1C', markersize=24)\n",
        "                plt.annotate(k, xy=(x + 0.5, y - 0.18), textcoords='data', fontsize=18, fontweight='bold')\n",
        "\n",
        "        plt.show()\n",
        "    # Карта расстояний после тренировки\n",
        "    def plot_distance_map(self, colormap='Oranges', filename=None):\n",
        "        \"\"\" Plot the distance map after training.\n",
        "        :param colormap: {str} colormap to use, select from matplolib sequential colormaps\n",
        "        :param filename: {str} optional, if given, the plot is saved to this location\n",
        "        :return: plot shown or saved if a filename is given\n",
        "        \"\"\"\n",
        "        if np.mean(self.distmap) == 0.:\n",
        "            self.distance_map()\n",
        "        fig, ax = plt.subplots(figsize=self.shape)\n",
        "        plt.pcolormesh(self.distmap, cmap=colormap, edgecolors=None)\n",
        "        plt.colorbar()\n",
        "        plt.xticks(np.arange(.5, self.x + .5), range(self.x))\n",
        "        plt.yticks(np.arange(.5, self.y + .5), range(self.y))\n",
        "        plt.title(\"Distance Map\", fontweight='bold', fontsize=28)\n",
        "        ax.set_aspect('equal')\n",
        "        plt.show()\n",
        "    # рисуем историю \n",
        "    def plot_error_history(self, color='orange', filename=None):\n",
        "        \"\"\" plot the training reconstruction error history that was recorded during the fit\n",
        "        :param color: {str} color of the line\n",
        "        :param filename: {str} optional, if given, the plot is saved to this location\n",
        "        :return: plot shown or saved if a filename is given\n",
        "        \"\"\"\n",
        "        if not len(self.history):\n",
        "            raise LookupError(\"No error history was found! Is the SOM already trained?\")\n",
        "        fig, ax = plt.subplots()\n",
        "        ax.plot(range(0, self.epoch, self.interval), self.history, '-o', c=color)\n",
        "        ax.set_title('SOM Error History', fontweight='bold')\n",
        "        ax.set_xlabel('Epoch', fontweight='bold')\n",
        "        ax.set_ylabel('Error', fontweight='bold')\n",
        "        plt.show()\n"
      ],
      "execution_count": null,
      "outputs": []
    },
    {
      "cell_type": "markdown",
      "metadata": {
        "id": "ZRnLhgbajtwe"
      },
      "source": [
        "Обучим сеть SOM на данных с \"картинкой бублика\""
      ]
    },
    {
      "cell_type": "code",
      "metadata": {
        "id": "EPwlbC93BmVK",
        "colab": {
          "base_uri": "https://localhost:8080/",
          "height": 1000
        },
        "outputId": "9917050b-b787-4d59-c4eb-04e84ee2bd66"
      },
      "source": [
        "# данные для обучения (тут Nх2)\n",
        "\n",
        "data =X_\n",
        "\n",
        "som = SOM(5, 5)  # создаем SOM\n",
        "som.fit(data, 10000, save_e=True, interval=100)  # fit  SOM для 10000 epochs, и сохраняем через 100 шагов\n",
        "som.plot_error_history(filename='som_error.png')  # Отобразим историю\n",
        "\n",
        "targets = L_target  # вспоминаем, что у нас были метки - добавим их для визуализации\n",
        "\n"
      ],
      "execution_count": null,
      "outputs": [
        {
          "output_type": "stream",
          "name": "stdout",
          "text": [
            "Epoch 99;    Neuron [4, 1];    \tSigma: 2.5000;    alpha: 0.6000\n",
            "Epoch 199;    Neuron [4, 2];    \tSigma: 2.5000;    alpha: 0.6000\n",
            "Epoch 299;    Neuron [3, 2];    \tSigma: 2.5000;    alpha: 0.6000\n",
            "Epoch 399;    Neuron [0, 1];    \tSigma: 2.4999;    alpha: 0.6000\n",
            "Epoch 499;    Neuron [0, 3];    \tSigma: 2.4998;    alpha: 0.5999\n",
            "Epoch 599;    Neuron [0, 2];    \tSigma: 2.4995;    alpha: 0.5999\n",
            "Epoch 699;    Neuron [0, 0];    \tSigma: 2.4990;    alpha: 0.5998\n",
            "Epoch 799;    Neuron [4, 4];    \tSigma: 2.4984;    alpha: 0.5996\n",
            "Epoch 899;    Neuron [1, 0];    \tSigma: 2.4974;    alpha: 0.5994\n",
            "Epoch 999;    Neuron [2, 3];    \tSigma: 2.4960;    alpha: 0.5990\n",
            "Epoch 1099;    Neuron [4, 1];    \tSigma: 2.4942;    alpha: 0.5986\n",
            "Epoch 1199;    Neuron [4, 1];    \tSigma: 2.4918;    alpha: 0.5980\n",
            "Epoch 1299;    Neuron [4, 0];    \tSigma: 2.4887;    alpha: 0.5973\n",
            "Epoch 1399;    Neuron [2, 4];    \tSigma: 2.4848;    alpha: 0.5963\n",
            "Epoch 1499;    Neuron [1, 3];    \tSigma: 2.4800;    alpha: 0.5952\n",
            "Epoch 1599;    Neuron [4, 1];    \tSigma: 2.4741;    alpha: 0.5938\n",
            "Epoch 1699;    Neuron [1, 1];    \tSigma: 2.4671;    alpha: 0.5921\n",
            "Epoch 1799;    Neuron [4, 3];    \tSigma: 2.4588;    alpha: 0.5901\n",
            "Epoch 1899;    Neuron [3, 1];    \tSigma: 2.4490;    alpha: 0.5878\n",
            "Epoch 1999;    Neuron [1, 1];    \tSigma: 2.4377;    alpha: 0.5850\n",
            "Epoch 2099;    Neuron [4, 1];    \tSigma: 2.4247;    alpha: 0.5819\n",
            "Epoch 2199;    Neuron [2, 0];    \tSigma: 2.4098;    alpha: 0.5784\n",
            "Epoch 2299;    Neuron [3, 1];    \tSigma: 2.3930;    alpha: 0.5743\n",
            "Epoch 2399;    Neuron [1, 3];    \tSigma: 2.3741;    alpha: 0.5698\n",
            "Epoch 2499;    Neuron [4, 3];    \tSigma: 2.3531;    alpha: 0.5647\n",
            "Epoch 2599;    Neuron [4, 0];    \tSigma: 2.3298;    alpha: 0.5592\n",
            "Epoch 2699;    Neuron [4, 3];    \tSigma: 2.3043;    alpha: 0.5530\n",
            "Epoch 2799;    Neuron [1, 3];    \tSigma: 2.2764;    alpha: 0.5463\n",
            "Epoch 2899;    Neuron [1, 1];    \tSigma: 2.2461;    alpha: 0.5391\n",
            "Epoch 2999;    Neuron [3, 2];    \tSigma: 2.2134;    alpha: 0.5312\n",
            "Epoch 3099;    Neuron [3, 0];    \tSigma: 2.1784;    alpha: 0.5228\n",
            "Epoch 3199;    Neuron [4, 1];    \tSigma: 2.1411;    alpha: 0.5139\n",
            "Epoch 3299;    Neuron [2, 3];    \tSigma: 2.1016;    alpha: 0.5044\n",
            "Epoch 3399;    Neuron [1, 1];    \tSigma: 2.0599;    alpha: 0.4944\n",
            "Epoch 3499;    Neuron [2, 0];    \tSigma: 2.0163;    alpha: 0.4839\n",
            "Epoch 3599;    Neuron [4, 3];    \tSigma: 1.9708;    alpha: 0.4730\n",
            "Epoch 3699;    Neuron [2, 0];    \tSigma: 1.9236;    alpha: 0.4617\n",
            "Epoch 3799;    Neuron [3, 2];    \tSigma: 1.8749;    alpha: 0.4500\n",
            "Epoch 3899;    Neuron [2, 2];    \tSigma: 1.8249;    alpha: 0.4380\n",
            "Epoch 3999;    Neuron [4, 1];    \tSigma: 1.7739;    alpha: 0.4257\n",
            "Epoch 4099;    Neuron [3, 1];    \tSigma: 1.7219;    alpha: 0.4133\n",
            "Epoch 4199;    Neuron [2, 0];    \tSigma: 1.6693;    alpha: 0.4006\n",
            "Epoch 4299;    Neuron [2, 0];    \tSigma: 1.6163;    alpha: 0.3879\n",
            "Epoch 4399;    Neuron [3, 0];    \tSigma: 1.5631;    alpha: 0.3751\n",
            "Epoch 4499;    Neuron [2, 0];    \tSigma: 1.5099;    alpha: 0.3624\n",
            "Epoch 4599;    Neuron [4, 3];    \tSigma: 1.4568;    alpha: 0.3496\n",
            "Epoch 4699;    Neuron [2, 0];    \tSigma: 1.4042;    alpha: 0.3370\n",
            "Epoch 4799;    Neuron [2, 0];    \tSigma: 1.3521;    alpha: 0.3245\n",
            "Epoch 4899;    Neuron [2, 0];    \tSigma: 1.3007;    alpha: 0.3122\n",
            "Epoch 4999;    Neuron [0, 4];    \tSigma: 1.2503;    alpha: 0.3001\n",
            "Epoch 5099;    Neuron [4, 2];    \tSigma: 1.2008;    alpha: 0.2882\n",
            "Epoch 5199;    Neuron [1, 0];    \tSigma: 1.1524;    alpha: 0.2766\n",
            "Epoch 5299;    Neuron [4, 4];    \tSigma: 1.1052;    alpha: 0.2652\n",
            "Epoch 5399;    Neuron [1, 0];    \tSigma: 1.0593;    alpha: 0.2542\n",
            "Epoch 5499;    Neuron [4, 4];    \tSigma: 1.0148;    alpha: 0.2435\n",
            "Epoch 5599;    Neuron [3, 4];    \tSigma: 0.9716;    alpha: 0.2332\n",
            "Epoch 5699;    Neuron [1, 0];    \tSigma: 0.9299;    alpha: 0.2232\n",
            "Epoch 5799;    Neuron [3, 4];    \tSigma: 0.8896;    alpha: 0.2135\n",
            "Epoch 5899;    Neuron [2, 0];    \tSigma: 0.8508;    alpha: 0.2042\n",
            "Epoch 5999;    Neuron [0, 4];    \tSigma: 0.8135;    alpha: 0.1952\n",
            "Epoch 6099;    Neuron [3, 0];    \tSigma: 0.7777;    alpha: 0.1866\n",
            "Epoch 6199;    Neuron [2, 3];    \tSigma: 0.7432;    alpha: 0.1784\n",
            "Epoch 6299;    Neuron [4, 4];    \tSigma: 0.7103;    alpha: 0.1705\n",
            "Epoch 6399;    Neuron [3, 0];    \tSigma: 0.6787;    alpha: 0.1629\n",
            "Epoch 6499;    Neuron [4, 4];    \tSigma: 0.6484;    alpha: 0.1556\n",
            "Epoch 6599;    Neuron [1, 3];    \tSigma: 0.6195;    alpha: 0.1487\n",
            "Epoch 6699;    Neuron [4, 4];    \tSigma: 0.5919;    alpha: 0.1421\n",
            "Epoch 6799;    Neuron [1, 3];    \tSigma: 0.5656;    alpha: 0.1357\n",
            "Epoch 6899;    Neuron [1, 4];    \tSigma: 0.5404;    alpha: 0.1297\n",
            "Epoch 6999;    Neuron [2, 3];    \tSigma: 0.5164;    alpha: 0.1239\n",
            "Epoch 7099;    Neuron [1, 3];    \tSigma: 0.4936;    alpha: 0.1185\n",
            "Epoch 7199;    Neuron [1, 0];    \tSigma: 0.4718;    alpha: 0.1132\n",
            "Epoch 7299;    Neuron [4, 4];    \tSigma: 0.4510;    alpha: 0.1082\n",
            "Epoch 7399;    Neuron [3, 4];    \tSigma: 0.4312;    alpha: 0.1035\n",
            "Epoch 7499;    Neuron [1, 0];    \tSigma: 0.4124;    alpha: 0.0990\n",
            "Epoch 7599;    Neuron [2, 4];    \tSigma: 0.3945;    alpha: 0.0947\n",
            "Epoch 7699;    Neuron [1, 4];    \tSigma: 0.3774;    alpha: 0.0906\n",
            "Epoch 7799;    Neuron [1, 2];    \tSigma: 0.3612;    alpha: 0.0867\n",
            "Epoch 7899;    Neuron [2, 3];    \tSigma: 0.3457;    alpha: 0.0830\n",
            "Epoch 7999;    Neuron [2, 0];    \tSigma: 0.3310;    alpha: 0.0794\n",
            "Epoch 8099;    Neuron [1, 3];    \tSigma: 0.3170;    alpha: 0.0761\n",
            "Epoch 8199;    Neuron [1, 3];    \tSigma: 0.3036;    alpha: 0.0729\n",
            "Epoch 8299;    Neuron [0, 3];    \tSigma: 0.2909;    alpha: 0.0698\n",
            "Epoch 8399;    Neuron [1, 0];    \tSigma: 0.2789;    alpha: 0.0669\n",
            "Epoch 8499;    Neuron [3, 4];    \tSigma: 0.2673;    alpha: 0.0642\n",
            "Epoch 8599;    Neuron [3, 1];    \tSigma: 0.2564;    alpha: 0.0615\n",
            "Epoch 8699;    Neuron [3, 0];    \tSigma: 0.2459;    alpha: 0.0590\n",
            "Epoch 8799;    Neuron [2, 3];    \tSigma: 0.2360;    alpha: 0.0566\n",
            "Epoch 8899;    Neuron [3, 0];    \tSigma: 0.2265;    alpha: 0.0544\n",
            "Epoch 8999;    Neuron [4, 4];    \tSigma: 0.2174;    alpha: 0.0522\n",
            "Epoch 9099;    Neuron [3, 2];    \tSigma: 0.2088;    alpha: 0.0501\n",
            "Epoch 9199;    Neuron [2, 0];    \tSigma: 0.2006;    alpha: 0.0481\n",
            "Epoch 9299;    Neuron [2, 3];    \tSigma: 0.1928;    alpha: 0.0463\n",
            "Epoch 9399;    Neuron [3, 0];    \tSigma: 0.1853;    alpha: 0.0445\n",
            "Epoch 9499;    Neuron [4, 3];    \tSigma: 0.1782;    alpha: 0.0428\n",
            "Epoch 9599;    Neuron [1, 0];    \tSigma: 0.1714;    alpha: 0.0411\n",
            "Epoch 9699;    Neuron [3, 4];    \tSigma: 0.1649;    alpha: 0.0396\n",
            "Epoch 9799;    Neuron [3, 2];    \tSigma: 0.1587;    alpha: 0.0381\n",
            "Epoch 9899;    Neuron [1, 1];    \tSigma: 0.1527;    alpha: 0.0367\n",
            "Epoch 9999;    Neuron [3, 4];    \tSigma: 0.1471;    alpha: 0.0353\n"
          ]
        },
        {
          "output_type": "display_data",
          "data": {
            "text/plain": [
              "<Figure size 432x288 with 1 Axes>"
            ],
            "image/png": "[encoded data removed]"
          },
          "metadata": {
            "needs_background": "light"
          }
        }
      ]
    },
    {
      "cell_type": "code",
      "metadata": {
        "id": "Zg39eVZUN7bv",
        "colab": {
          "base_uri": "https://localhost:8080/",
          "height": 309
        },
        "outputId": "aadf24aa-a8ef-4d1d-ea37-9afc476ef25c"
      },
      "source": [
        "# Карта по точкам\n",
        "som.plot_point_map(data, targets, ['Class 0', 'Class 1', 'Class 2'], filename='som.png')"
      ],
      "execution_count": null,
      "outputs": [
        {
          "output_type": "display_data",
          "data": {
            "text/plain": [
              "<Figure size 360x360 with 2 Axes>"
            ],
            "image/png": "[encoded data removed]"
          },
          "metadata": {
            "needs_background": "light"
          }
        }
      ]
    },
    {
      "cell_type": "code",
      "metadata": {
        "id": "X_iCwCfIN08L",
        "colab": {
          "base_uri": "https://localhost:8080/",
          "height": 959
        },
        "outputId": "55423e14-43b1-419d-8768-4e0df8cb5b2f"
      },
      "source": [
        "# Карты по классам\n",
        "\n",
        "som.plot_class_density(data, targets, t=0, name='Class 0', filename='class_0.png')\n",
        "som.plot_class_density(data, targets, t=1, name='Class 1', filename='class_1.png')\n",
        "som.plot_class_density(data, targets, t=2, name='Class 2', filename='class_2.png')\n"
      ],
      "execution_count": null,
      "outputs": [
        {
          "output_type": "display_data",
          "data": {
            "text/plain": [
              "<Figure size 360x360 with 2 Axes>"
            ],
            "image/png": "[encoded data removed]"
          },
          "metadata": {
            "needs_background": "light"
          }
        },
        {
          "output_type": "display_data",
          "data": {
            "text/plain": [
              "<Figure size 360x360 with 2 Axes>"
            ],
            "image/png": "[encoded data removed]"
          },
          "metadata": {
            "needs_background": "light"
          }
        },
        {
          "output_type": "display_data",
          "data": {
            "text/plain": [
              "<Figure size 360x360 with 2 Axes>"
            ],
            "image/png": "[encoded data removed]"
          },
          "metadata": {
            "needs_background": "light"
          }
        }
      ]
    },
    {
      "cell_type": "code",
      "metadata": {
        "id": "wYxp1B6GN4lc",
        "colab": {
          "base_uri": "https://localhost:8080/",
          "height": 307
        },
        "outputId": "5ac5613d-3aa8-498d-c4c2-21548bd78608"
      },
      "source": [
        "som.plot_distance_map(filename='distance_map.png')  # карта плотности после тренировки"
      ],
      "execution_count": null,
      "outputs": [
        {
          "output_type": "display_data",
          "data": {
            "text/plain": [
              "<Figure size 360x360 with 2 Axes>"
            ],
            "image/png": "[encoded data removed]"
          },
          "metadata": {
            "needs_background": "light"
          }
        }
      ]
    },
    {
      "cell_type": "markdown",
      "metadata": {
        "id": "NEqgkggR4c8w"
      },
      "source": [
        "### **Эмбединг**"
      ]
    },
    {
      "cell_type": "code",
      "metadata": {
        "id": "uzabJlA6zCNr",
        "colab": {
          "base_uri": "https://localhost:8080/"
        },
        "outputId": "9d6883b6-4b1f-4117-b296-225cd5b9e82d"
      },
      "source": [
        "P_data"
      ],
      "execution_count": null,
      "outputs": [
        {
          "output_type": "execute_result",
          "data": {
            "text/plain": [
              "(array([0, 0, 0, 0, 1, 1, 1, 1, 1, 2, 2, 2, 2, 2, 3, 3, 3, 3, 4, 4, 4, 4,\n",
              "        5, 5, 5, 5, 5, 6, 6, 6, 6, 6, 7, 7, 7]),\n",
              " array([2, 3, 4, 5, 2, 3, 4, 5, 6, 1, 2, 3, 5, 6, 1, 2, 5, 6, 1, 2, 5, 6,\n",
              "        1, 2, 4, 5, 6, 1, 2, 3, 4, 5, 2, 3, 4]))"
            ]
          },
          "metadata": {},
          "execution_count": 18
        }
      ]
    },
    {
      "cell_type": "code",
      "metadata": {
        "id": "oy7eyziPWxgR",
        "colab": {
          "base_uri": "https://localhost:8080/"
        },
        "outputId": "fc2a160a-d09d-45dc-ce91-046788ddcb53"
      },
      "source": [
        "import numpy as np\n",
        "from keras.models import Sequential\n",
        "from keras.layers import Embedding\n",
        "\n",
        "model = Sequential()\n",
        "model.add(Embedding(5, 2, input_length=5))\n",
        "\n",
        "input_array = np.random.randint(5, size=(1, 5))\n",
        "\n",
        "model.compile('rmsprop', 'mse')\n",
        "output_array = model.predict(input_array)\n",
        "\n"
      ],
      "execution_count": null,
      "outputs": [
        {
          "output_type": "stream",
          "name": "stdout",
          "text": [
            "1/1 [==============================] - 0s 328ms/step\n"
          ]
        }
      ]
    },
    {
      "cell_type": "code",
      "metadata": {
        "id": "c_i5LN5R4nX3",
        "colab": {
          "base_uri": "https://localhost:8080/"
        },
        "outputId": "57a64821-eddb-46a9-9496-9491676143a9"
      },
      "source": [
        "input_array"
      ],
      "execution_count": null,
      "outputs": [
        {
          "output_type": "execute_result",
          "data": {
            "text/plain": [
              "array([[4, 3, 3, 4, 3]])"
            ]
          },
          "metadata": {},
          "execution_count": 20
        }
      ]
    },
    {
      "cell_type": "code",
      "metadata": {
        "id": "AN2lplpP4roa",
        "colab": {
          "base_uri": "https://localhost:8080/"
        },
        "outputId": "9d3927f6-4830-41d9-8cc6-69369350a00c"
      },
      "source": [
        "output_array"
      ],
      "execution_count": null,
      "outputs": [
        {
          "output_type": "execute_result",
          "data": {
            "text/plain": [
              "array([[[-0.04784833, -0.03866585],\n",
              "        [ 0.01358768, -0.02306064],\n",
              "        [ 0.01358768, -0.02306064],\n",
              "        [-0.04784833, -0.03866585],\n",
              "        [ 0.01358768, -0.02306064]]], dtype=float32)"
            ]
          },
          "metadata": {},
          "execution_count": 21
        }
      ]
    },
    {
      "cell_type": "markdown",
      "metadata": {
        "id": "_nCzBs43R_Mf"
      },
      "source": [
        "## Эпизод 4\n",
        "## **Restricted Boltzmann Machine (RBM)** \n",
        "с алгоритмом Contrastive Divergence\n",
        "\n",
        "Реализация по \n",
        "https://gist.github.com/yusugomori/4428308"
      ]
    },
    {
      "cell_type": "code",
      "metadata": {
        "id": "cBvS_WsgT4NW"
      },
      "source": [
        "import sys\n",
        "\n",
        "np.seterr(all='ignore')\n",
        "\n",
        "# Сигмоид\n",
        "def sigmoid(x):\n",
        "    return 1. / (1 + np.exp(-x))\n",
        "\n",
        "# Класс для реализации RBM\n",
        "class RBM(object):\n",
        "    def __init__(self, input=None, n_visible=2, n_hidden=3, \\\n",
        "        W=None, hbias=None, vbias=None, numpy_rng=None):\n",
        "        #  Инициализация \n",
        "        self.n_visible = n_visible  # число нейронов видимых - visible (input) layer\n",
        "        self.n_hidden = n_hidden    # число нейронов скрытых -  hidden layer\n",
        "\n",
        "        if numpy_rng is None:\n",
        "            numpy_rng = np.random.RandomState(1234)\n",
        "\n",
        "\n",
        "        if W is None:\n",
        "            a = 1. / n_visible\n",
        "            initial_W = np.array(numpy_rng.uniform(  # инициализируем веса маленьким случайным числом\n",
        "                low=-a,\n",
        "                high=a,\n",
        "                size=(n_visible, n_hidden)))\n",
        "\n",
        "            W = initial_W\n",
        "\n",
        "        if hbias is None:\n",
        "            hbias = np.zeros(n_hidden)  # инициализация сдвига для  h в 0\n",
        "\n",
        "        if vbias is None:\n",
        "            vbias = np.zeros(n_visible)  # инициализация сдвига для v в 0\n",
        "\n",
        "\n",
        "        self.numpy_rng = numpy_rng\n",
        "        self.input = input\n",
        "        self.W = W\n",
        "        self.hbias = hbias\n",
        "        self.vbias = vbias\n",
        "\n",
        "        # self.params = [self.W, self.hbias, self.vbias]\n",
        "\n",
        "    # АЛГОРИТМ ОБУЧЕНИЯ\n",
        "    def contrastive_divergence(self, lr=0.1, k=1, input=None):\n",
        "        # к - число итераций для одного шага адаптации (сколько циклов сделаем для поиска градиента)\n",
        "        # lr -  скорость обучения\n",
        "        # input - входные вектора\n",
        "        if input is not None:\n",
        "            self.input = input\n",
        "        \n",
        "        ''' CD-k '''\n",
        "        # вероятность для h,v - начальная\n",
        "        ph_mean, ph_sample = self.sample_h_given_v(self.input)\n",
        "\n",
        "        # фиксируем вход\n",
        "        chain_start = ph_sample\n",
        "        # делаем к итераций для определения вероятности (к кругов по обратной связи)\n",
        "        for step in range(k):\n",
        "            if step == 0:\n",
        "                nv_means, nv_samples,\\\n",
        "                nh_means, nh_samples = self.gibbs_hvh(chain_start)\n",
        "            else:\n",
        "                nv_means, nv_samples,\\\n",
        "                nh_means, nh_samples = self.gibbs_hvh(nh_samples)\n",
        "\n",
        "        # chain_end = nv_samples\n",
        "\n",
        "        #  Получили значение вероятности P(h,Xj) и будем изменять свои веса \n",
        "        self.W += lr * (np.dot(self.input.T, ph_sample)\n",
        "                        - np.dot(nv_samples.T, nh_means))\n",
        "        self.vbias += lr * np.mean(self.input - nv_samples, axis=0)\n",
        "        self.hbias += lr * np.mean(ph_sample - nh_means, axis=0)\n",
        "\n",
        "        # cost = self.get_reconstruction_cross_entropy()\n",
        "        # return cost\n",
        "\n",
        "    # Определяем вероятность для модели (среднюю по модели и по данным) для скрытого нейрона\n",
        "    def sample_h_given_v(self, v0_sample):\n",
        "        h1_mean = self.propup(v0_sample)\n",
        "        h1_sample = self.numpy_rng.binomial(size=h1_mean.shape,   # discrete: binomial\n",
        "                                       n=1,\n",
        "                                       p=h1_mean)\n",
        "\n",
        "        return [h1_mean, h1_sample]\n",
        "\n",
        "    # Определяем вероятность для модели (среднюю по модели и по данным) для видимого нейрона\n",
        "    def sample_v_given_h(self, h0_sample):\n",
        "        v1_mean = self.propdown(h0_sample)\n",
        "        v1_sample = self.numpy_rng.binomial(size=v1_mean.shape,   # discrete: binomial\n",
        "                                            n=1,\n",
        "                                            p=v1_mean)\n",
        "        \n",
        "        return [v1_mean, v1_sample]\n",
        "    # Работает нейрон вперед\n",
        "    def propup(self, v):\n",
        "        pre_sigmoid_activation = np.dot(v, self.W) + self.hbias\n",
        "        return sigmoid(pre_sigmoid_activation)\n",
        "    # Работает нейроно обратно\n",
        "    def propdown(self, h):\n",
        "        pre_sigmoid_activation = np.dot(h, self.W.T) + self.vbias\n",
        "        return sigmoid(pre_sigmoid_activation)\n",
        "\n",
        "    # Функция Гибса\n",
        "    def gibbs_hvh(self, h0_sample):\n",
        "        v1_mean, v1_sample = self.sample_v_given_h(h0_sample)\n",
        "        h1_mean, h1_sample = self.sample_h_given_v(v1_sample)\n",
        "\n",
        "        return [v1_mean, v1_sample,\n",
        "                h1_mean, h1_sample]\n",
        "    \n",
        "    # Определяем оценку (кросс-энтропия)\n",
        "    def get_reconstruction_cross_entropy(self):\n",
        "        pre_sigmoid_activation_h = np.dot(self.input, self.W) + self.hbias\n",
        "        sigmoid_activation_h = sigmoid(pre_sigmoid_activation_h)\n",
        "        \n",
        "        pre_sigmoid_activation_v = np.dot(sigmoid_activation_h, self.W.T) + self.vbias\n",
        "        sigmoid_activation_v = sigmoid(pre_sigmoid_activation_v)\n",
        "\n",
        "        cross_entropy =  - np.mean(\n",
        "            np.sum(self.input * np.log(sigmoid_activation_v) +\n",
        "            (1 - self.input) * np.log(1 - sigmoid_activation_v),\n",
        "                      axis=1))\n",
        "        \n",
        "        return cross_entropy\n",
        "    # Определяем выход сети для данных\n",
        "    def reconstruct(self, v):\n",
        "        h = sigmoid(np.dot(v, self.W) + self.hbias)\n",
        "        reconstructed_v = sigmoid(np.dot(h, self.W.T) + self.vbias)\n",
        "        return reconstructed_v"
      ],
      "execution_count": null,
      "outputs": []
    },
    {
      "cell_type": "code",
      "metadata": {
        "id": "MImBf6TRYpbY",
        "colab": {
          "base_uri": "https://localhost:8080/",
          "height": 737
        },
        "outputId": "37870eea-031d-4c82-8279-f90cce9fd6fa"
      },
      "source": [
        "# Определяем параметры примера\n",
        "N=64 # номер первого примера для тестов\n",
        "learning_rate=0.1 # скорость обучения\n",
        "k=10 # число циклов по CD-k\n",
        "training_epochs=1000 # число эпох\n",
        "ind=[]\n",
        "\n",
        "# Определяем примеры для запоминания в модели (10 примеров цифр - по одной на класс)\n",
        "for n in range(10):\n",
        "  ind_i=np.where(digits.target==n)[0]\n",
        "  ind.append(ind_i[ind_i.shape[0]-1])\n",
        "# нормализуем и векторизируем данные - значения на входах только 0/1\n",
        "X_1 = (digits.data.reshape(digits.data.shape[0],64)>0.9999).astype('int')\n",
        "# Определяем примеры для обучения\n",
        "data = np.array(X_1[ind,:])\n",
        "rng = np.random.RandomState(100)\n",
        "\n",
        "# строим RBM\n",
        "rbm = RBM(input=data, n_visible=64, n_hidden=32, numpy_rng=rng)\n",
        "\n",
        "# тренируем\n",
        "loss=[]\n",
        "\n",
        "for epoch in range(training_epochs):\n",
        "  rbm.contrastive_divergence(lr=learning_rate, k=k)\n",
        "  cost = rbm.get_reconstruction_cross_entropy()\n",
        "  #print(sys.stderr, 'Training epoch %d, cost is ' % epoch, cost)\n",
        "  loss.append(cost)\n",
        "# Отображаем\n",
        "plt.figure(figsize=(16,5))\n",
        "for i in range(10):\n",
        "  \n",
        "  plt.subplot(1,10,i+1)\n",
        "  plt.title(str(i))\n",
        "  plt.imshow(data[i,:].reshape((8,8))/np.max(data[i,:]))\n",
        "\n",
        "plt.show()\n",
        "\n",
        "# test\n",
        "L=3\n",
        "v = X_1[N:N+L,:]\n",
        "rez=rbm.reconstruct(v)\n",
        "#print()\n",
        "for i in range(L):\n",
        "  plt.subplot(1,2,1)\n",
        "  plt.title(str(digits.target[N+i]))\n",
        "  plt.imshow(X_1[N+i,:].reshape((8,8))/np.max(X_1[N+i,:]))\n",
        "  plt.subplot(1,2,2)\n",
        "  plt.imshow(rez[i,:].reshape((8,8)))\n",
        "  plt.show()\n"
      ],
      "execution_count": null,
      "outputs": [
        {
          "output_type": "display_data",
          "data": {
            "text/plain": [
              "<Figure size 1152x360 with 10 Axes>"
            ],
            "image/png": "[encoded data removed]"
          },
          "metadata": {
            "needs_background": "light"
          }
        },
        {
          "output_type": "display_data",
          "data": {
            "text/plain": [
              "<Figure size 432x288 with 2 Axes>"
            ],
            "image/png": "[encoded data removed]"
          },
          "metadata": {
            "needs_background": "light"
          }
        },
        {
          "output_type": "display_data",
          "data": {
            "text/plain": [
              "<Figure size 432x288 with 2 Axes>"
            ],
            "image/png": "[encoded data removed]"
          },
          "metadata": {
            "needs_background": "light"
          }
        },
        {
          "output_type": "display_data",
          "data": {
            "text/plain": [
              "<Figure size 432x288 with 2 Axes>"
            ],
            "image/png": "[encoded data removed]"
          },
          "metadata": {
            "needs_background": "light"
          }
        }
      ]
    },
    {
      "cell_type": "markdown",
      "metadata": {
        "id": "wbwOW2D7rEty"
      },
      "source": [
        "Результаты работы модели:\n",
        "\n",
        "- Модель запомнила 10 примеров - (они очень простые из 0 и 1 по 64 признака на каждый пример)\n",
        "\n",
        "- Модель получает на вход примеры (тип примера обозначен в названии рисунков, а возвращает образец из своего архива (весь архив примеров в первой строке рисунков))\n",
        "\n",
        "- По смазаным данным восстанавлимваем чистый образ\n",
        "\n",
        "\n",
        "Изменение ошибки обучения приведено ниже:"
      ]
    },
    {
      "cell_type": "code",
      "metadata": {
        "id": "xr-AXFoUT5Qv",
        "colab": {
          "base_uri": "https://localhost:8080/",
          "height": 295
        },
        "outputId": "06f1f2a4-3c62-48dc-995d-fb61703529dd"
      },
      "source": [
        "plt.plot(loss)\n",
        "plt.title('Потери по эпохам')\n",
        "plt.xlabel('epoch')\n",
        "plt.ylabel('Loss')\n",
        "plt.grid()\n",
        "plt.show()"
      ],
      "execution_count": null,
      "outputs": [
        {
          "output_type": "display_data",
          "data": {
            "text/plain": [
              "<Figure size 432x288 with 1 Axes>"
            ],
            "image/png": "[encoded data removed]"
          },
          "metadata": {
            "needs_background": "light"
          }
        }
      ]
    },
    {
      "cell_type": "code",
      "metadata": {
        "id": "UJjxe4NWn1RM"
      },
      "source": [],
      "execution_count": null,
      "outputs": []
    },
    {
      "cell_type": "markdown",
      "metadata": {
        "id": "iOznuH4OsRLi"
      },
      "source": [
        "## **Домашнее задание**\n",
        "\n",
        "Ligth\n",
        "\n",
        " 1. Используйте данные \"Ирисы\" и постройте для них SOM и DBSCAN\n",
        " 2. Cравните результаты с k-Means , DBSCAN, SOM - ориентируемся на метки классов и разметку кластеров - число совпадений (помним, что номер кластера не обязан соответствовать номеру класса, т.е. при каждом запуске следует установить пары - автоматически(написать код) или визуально и вручную указать пары соответствий)\n",
        " 3. Сделайте вывод - какой из алгоритмов строит более точное разледение на группы для Ирисов.\n",
        " 4. Запустите  k-Means , DBSCAN, SOM  для Digits - оцените качество группировки\n",
        " 5. Сранвните с результатами работы для Ирисов\n",
        "\n",
        "Pro\n",
        "\n",
        "1. Исследуйте изменение качества восстановления образцов для RBM при изменении следующих параметров:\n",
        " - числа скрытых нейронов\n",
        " - параметра к (1, 2, .., 10)\n",
        " - числа примеров на вход для обучения (берем по 2-10 примеров каждого класса) и числа классов (берем 2 класса, 5 - классов, 10 - классов)\n",
        "2. Оцените как изменилось качество восстановления объекта на входе (например как косинусное расстояние) с эталоном как среднее по выборке.\n",
        "3. Проведите обучение SOM для представления digits и определите качество соотнесения объекта на входе (например как косинусное расстояние) с лучшей группой своего класса как среднее по выборке.\n",
        "4. Постройте несколько сетей SOM разного размера (x,y).\n",
        "5. Сделайте вывод об изменении качества эмбединга в форме SOM от числа нейронов в сети.\n"
      ]
    },
    {
      "cell_type": "code",
      "metadata": {
        "id": "BZNnsJdtwVyK"
      },
      "source": [],
      "execution_count": null,
      "outputs": []
    },
    {
      "cell_type": "markdown",
      "metadata": {
        "id": "m5gO7jXS34e8"
      },
      "source": [
        "Ссылки:\n",
        "\n",
        "- Хайкин С. Нейросети: полный курс.\n",
        "- Реализация RBM - Отличная теория (с небольшими ошибками - исправлены в наших слайдах) https://habr.com/ru/post/159909/ \n",
        "\n",
        "Сети Самоорганизации^\n",
        "- Хайкин С. Нейросети: полный курс.\n",
        "- Теория и реализация для TF(1.0) https://habr.com/ru/post/334810/\n",
        "\n",
        "Алгоритмы кластеризации:\n",
        "\n",
        "- теория http://www.ccas.ru/voron/download/Clustering.pdf\n",
        "- Практика и примеры https://www.pvsm.ru/python/245076\n",
        "- бибилиотека sklearn https://scikit-learn.org/stable/modules/classes.html#module-sklearn.cluster\n"
      ]
    },
    {
      "cell_type": "code",
      "metadata": {
        "id": "nlSUWL_s6KRJ"
      },
      "source": [],
      "execution_count": null,
      "outputs": []
    }
  ]
}