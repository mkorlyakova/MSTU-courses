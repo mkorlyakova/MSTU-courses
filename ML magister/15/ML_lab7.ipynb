{
  "cells": [
    {
      "cell_type": "markdown",
      "metadata": {
        "id": "view-in-github",
        "colab_type": "text"
      },
      "source": [
        "<a href=\"https://colab.research.google.com/github/mkorlyakova/MSTU-courses/blob/main/ML%20magister/15/ML_lab7.ipynb\" target=\"_parent\"><img src=\"https://colab.research.google.com/assets/colab-badge.svg\" alt=\"Open In Colab\"/></a>"
      ]
    },
    {
      "cell_type": "markdown",
      "source": [
        "# Лабораторная работа 7\n",
        "\n",
        "\n",
        "Рекуррентные нейронные сети (RNN) — это класс нейронных сетей, которые хороши для моделирования последовательных данных, таких как временные ряды или естественный язык.\n",
        "\n",
        "Если схематично, слой RNN использует цикл for для итерации по упорядоченной по времени последовательности, храня при этом во внутреннем состоянии, закодированную информацию о шагах, которые он уже видел.\n",
        "\n",
        "Рекуррентные узлы:\n",
        "\n",
        "\n",
        "1. tf.keras.layers.SimpleRNN, полносвязная RNN в которой выход предыдущего временного шага должен быть передан в следующий шаг.\n",
        "2. tf.keras.layers.GRU,  Изучение представлений фраз с использованием кодера-декодера RNN для статистического машинного перевода\n",
        "3. tf.keras.layers.LSTM, Долгая краткосрочная память\n",
        "\n",
        "**Пример:**\n",
        "\n",
        "model = tf.keras.Sequential()\n",
        "model.add(layers.Embedding(input_dim=1000, output_dim=64))\n",
        "\n",
        "\n",
        "- *Выходом GRU будет 3D тензор размера (batch_size, timesteps, 256)*\n",
        "\n",
        "\n",
        "\n",
        "model.add(layers.GRU(256, return_sequences=True))\n",
        "\n",
        "\n",
        "- *Выходом SimpleRNN будет 2D тензор размера (batch_size, 128)*\n",
        "\n",
        "\n",
        "model.add(layers.SimpleRNN(128))\n",
        "\n",
        "model.add(layers.Dense(10))\n",
        "\n",
        "model.summary()\n",
        "\n",
        "\n",
        "- Кроме того, слой RNN может вернуть свое конечное внутреннее состояние (состояния).\n",
        "\n",
        "- Возвращенные состояния можно использовать позже для возобновления выполнения RNN или для инициализации другой RNN. Эта настройка обычно используется в модели энкодер-декодер, последовательность к последовательности, где итоговое состояние энкодера используется для начального состояния декодера.\n",
        "\n",
        "- Для того чтобы слой RNN возвращал свое внутреннее состояние, установите параметр return_state в значение True при создании слоя. Обратите внимание, что у LSTM 2 тензора состояния, а у GRU только один.\n",
        "\n",
        "- Чтобы настроить начальное состояние слоя, просто вызовите слой с дополнительным аргументом initial_state.\n",
        "\n",
        "- Размерность должна совпадать с размерностью элемента слоя.\n",
        "\n",
        "\n",
        "\n",
        "\n",
        "\n",
        "### **LSTM**\n",
        "\n",
        "Long short term memory, LSTM -  представляет собой систему глубинного обучения, при реализации которой удалось обойти проблему исчезновения или взрыва градиентов в процессе обучения методом обратного распространения ошибки. \n",
        "\n",
        "Сеть LSTM обычно модерируется с помощью рекуррентных вентилей, которые называются вентили (gates) «забывания».\n",
        "\n",
        "\n",
        "**Выходы и состояния**\n",
        "\n",
        "- По умолчанию выход слоя RNN содержит один вектор на элемент. Этот вектор является выходом последней ячейки RNN, содержащей информацию обо всей входной последовательности. Размерность этого выхода (batch_size, units), где units соответствует аргументу units передаваемому конструктору слоя.\n",
        "\n",
        "- Слой RNN может также возвращать всю последовательность выходных данных для каждого элемента (по одному вектору на каждый шаг), если вы укажете return_sequences=True. Размерность этих выходных данных равна (batch_size, timesteps, units).\n",
        "\n",
        "\n",
        "\n",
        "\n",
        "## **Временные ряды**\n",
        "\n"
      ],
      "metadata": {
        "id": "HUuYCcPkcBU5"
      }
    },
    {
      "cell_type": "code",
      "execution_count": 243,
      "metadata": {
        "id": "IOX9KcxcbMNB"
      },
      "outputs": [],
      "source": [
        "# Рисовать графики сразу же\n",
        "%matplotlib inline\n",
        "\n",
        "import pandas as pd\n",
        "import matplotlib.pyplot as plt\n",
        "from tensorflow.keras import utils\n",
        "import numpy as np\n",
        "import tensorflow.keras as keras\n",
        "from tensorflow.keras.optimizers import Adam\n",
        "from tensorflow.keras.models import Sequential, Model\n",
        "from tensorflow.keras.layers import concatenate, Input, Dense, Dropout, BatchNormalization, Flatten, Conv1D, Conv2D, LSTM\n",
        "\n",
        "from google.colab import files\n",
        "from sklearn.preprocessing import StandardScaler, MinMaxScaler"
      ]
    },
    {
      "cell_type": "code",
      "execution_count": 244,
      "metadata": {
        "id": "ONmUVeyPTC-2"
      },
      "outputs": [],
      "source": [
        "import os\n",
        "import datetime"
      ]
    },
    {
      "cell_type": "code",
      "execution_count": 245,
      "metadata": {
        "id": "TvWj5CfUPq7i"
      },
      "outputs": [],
      "source": [
        "from tensorflow.keras.callbacks import EarlyStopping"
      ]
    },
    {
      "cell_type": "markdown",
      "metadata": {
        "id": "U6Of5-M3nxnM"
      },
      "source": [
        "Читаем данные из файла со значениями (потребление энергии дневные отсчеты)"
      ]
    },
    {
      "cell_type": "code",
      "execution_count": 246,
      "metadata": {
        "colab": {
          "base_uri": "https://localhost:8080/",
          "height": 56
        },
        "id": "YVyA-Lf-blzj",
        "outputId": "6babafba-887f-43a4-e673-e0d6b079c786"
      },
      "outputs": [
        {
          "output_type": "display_data",
          "data": {
            "text/plain": [
              "<IPython.core.display.HTML object>"
            ],
            "text/html": [
              "\n",
              "     <input type=\"file\" id=\"files-579928ca-0cdc-443a-8e29-4042cd34836d\" name=\"files[]\" multiple disabled\n",
              "        style=\"border:none\" />\n",
              "     <output id=\"result-579928ca-0cdc-443a-8e29-4042cd34836d\">\n",
              "      Upload widget is only available when the cell has been executed in the\n",
              "      current browser session. Please rerun this cell to enable.\n",
              "      </output>\n",
              "      <script>// Copyright 2017 Google LLC\n",
              "//\n",
              "// Licensed under the Apache License, Version 2.0 (the \"License\");\n",
              "// you may not use this file except in compliance with the License.\n",
              "// You may obtain a copy of the License at\n",
              "//\n",
              "//      http://www.apache.org/licenses/LICENSE-2.0\n",
              "//\n",
              "// Unless required by applicable law or agreed to in writing, software\n",
              "// distributed under the License is distributed on an \"AS IS\" BASIS,\n",
              "// WITHOUT WARRANTIES OR CONDITIONS OF ANY KIND, either express or implied.\n",
              "// See the License for the specific language governing permissions and\n",
              "// limitations under the License.\n",
              "\n",
              "/**\n",
              " * @fileoverview Helpers for google.colab Python module.\n",
              " */\n",
              "(function(scope) {\n",
              "function span(text, styleAttributes = {}) {\n",
              "  const element = document.createElement('span');\n",
              "  element.textContent = text;\n",
              "  for (const key of Object.keys(styleAttributes)) {\n",
              "    element.style[key] = styleAttributes[key];\n",
              "  }\n",
              "  return element;\n",
              "}\n",
              "\n",
              "// Max number of bytes which will be uploaded at a time.\n",
              "const MAX_PAYLOAD_SIZE = 100 * 1024;\n",
              "\n",
              "function _uploadFiles(inputId, outputId) {\n",
              "  const steps = uploadFilesStep(inputId, outputId);\n",
              "  const outputElement = document.getElementById(outputId);\n",
              "  // Cache steps on the outputElement to make it available for the next call\n",
              "  // to uploadFilesContinue from Python.\n",
              "  outputElement.steps = steps;\n",
              "\n",
              "  return _uploadFilesContinue(outputId);\n",
              "}\n",
              "\n",
              "// This is roughly an async generator (not supported in the browser yet),\n",
              "// where there are multiple asynchronous steps and the Python side is going\n",
              "// to poll for completion of each step.\n",
              "// This uses a Promise to block the python side on completion of each step,\n",
              "// then passes the result of the previous step as the input to the next step.\n",
              "function _uploadFilesContinue(outputId) {\n",
              "  const outputElement = document.getElementById(outputId);\n",
              "  const steps = outputElement.steps;\n",
              "\n",
              "  const next = steps.next(outputElement.lastPromiseValue);\n",
              "  return Promise.resolve(next.value.promise).then((value) => {\n",
              "    // Cache the last promise value to make it available to the next\n",
              "    // step of the generator.\n",
              "    outputElement.lastPromiseValue = value;\n",
              "    return next.value.response;\n",
              "  });\n",
              "}\n",
              "\n",
              "/**\n",
              " * Generator function which is called between each async step of the upload\n",
              " * process.\n",
              " * @param {string} inputId Element ID of the input file picker element.\n",
              " * @param {string} outputId Element ID of the output display.\n",
              " * @return {!Iterable<!Object>} Iterable of next steps.\n",
              " */\n",
              "function* uploadFilesStep(inputId, outputId) {\n",
              "  const inputElement = document.getElementById(inputId);\n",
              "  inputElement.disabled = false;\n",
              "\n",
              "  const outputElement = document.getElementById(outputId);\n",
              "  outputElement.innerHTML = '';\n",
              "\n",
              "  const pickedPromise = new Promise((resolve) => {\n",
              "    inputElement.addEventListener('change', (e) => {\n",
              "      resolve(e.target.files);\n",
              "    });\n",
              "  });\n",
              "\n",
              "  const cancel = document.createElement('button');\n",
              "  inputElement.parentElement.appendChild(cancel);\n",
              "  cancel.textContent = 'Cancel upload';\n",
              "  const cancelPromise = new Promise((resolve) => {\n",
              "    cancel.onclick = () => {\n",
              "      resolve(null);\n",
              "    };\n",
              "  });\n",
              "\n",
              "  // Wait for the user to pick the files.\n",
              "  const files = yield {\n",
              "    promise: Promise.race([pickedPromise, cancelPromise]),\n",
              "    response: {\n",
              "      action: 'starting',\n",
              "    }\n",
              "  };\n",
              "\n",
              "  cancel.remove();\n",
              "\n",
              "  // Disable the input element since further picks are not allowed.\n",
              "  inputElement.disabled = true;\n",
              "\n",
              "  if (!files) {\n",
              "    return {\n",
              "      response: {\n",
              "        action: 'complete',\n",
              "      }\n",
              "    };\n",
              "  }\n",
              "\n",
              "  for (const file of files) {\n",
              "    const li = document.createElement('li');\n",
              "    li.append(span(file.name, {fontWeight: 'bold'}));\n",
              "    li.append(span(\n",
              "        `(${file.type || 'n/a'}) - ${file.size} bytes, ` +\n",
              "        `last modified: ${\n",
              "            file.lastModifiedDate ? file.lastModifiedDate.toLocaleDateString() :\n",
              "                                    'n/a'} - `));\n",
              "    const percent = span('0% done');\n",
              "    li.appendChild(percent);\n",
              "\n",
              "    outputElement.appendChild(li);\n",
              "\n",
              "    const fileDataPromise = new Promise((resolve) => {\n",
              "      const reader = new FileReader();\n",
              "      reader.onload = (e) => {\n",
              "        resolve(e.target.result);\n",
              "      };\n",
              "      reader.readAsArrayBuffer(file);\n",
              "    });\n",
              "    // Wait for the data to be ready.\n",
              "    let fileData = yield {\n",
              "      promise: fileDataPromise,\n",
              "      response: {\n",
              "        action: 'continue',\n",
              "      }\n",
              "    };\n",
              "\n",
              "    // Use a chunked sending to avoid message size limits. See b/62115660.\n",
              "    let position = 0;\n",
              "    do {\n",
              "      const length = Math.min(fileData.byteLength - position, MAX_PAYLOAD_SIZE);\n",
              "      const chunk = new Uint8Array(fileData, position, length);\n",
              "      position += length;\n",
              "\n",
              "      const base64 = btoa(String.fromCharCode.apply(null, chunk));\n",
              "      yield {\n",
              "        response: {\n",
              "          action: 'append',\n",
              "          file: file.name,\n",
              "          data: base64,\n",
              "        },\n",
              "      };\n",
              "\n",
              "      let percentDone = fileData.byteLength === 0 ?\n",
              "          100 :\n",
              "          Math.round((position / fileData.byteLength) * 100);\n",
              "      percent.textContent = `${percentDone}% done`;\n",
              "\n",
              "    } while (position < fileData.byteLength);\n",
              "  }\n",
              "\n",
              "  // All done.\n",
              "  yield {\n",
              "    response: {\n",
              "      action: 'complete',\n",
              "    }\n",
              "  };\n",
              "}\n",
              "\n",
              "scope.google = scope.google || {};\n",
              "scope.google.colab = scope.google.colab || {};\n",
              "scope.google.colab._files = {\n",
              "  _uploadFiles,\n",
              "  _uploadFilesContinue,\n",
              "};\n",
              "})(self);\n",
              "</script> "
            ]
          },
          "metadata": {}
        },
        {
          "output_type": "execute_result",
          "data": {
            "text/plain": [
              "{}"
            ]
          },
          "metadata": {},
          "execution_count": 246
        }
      ],
      "source": [
        "files.upload()\n"
      ]
    },
    {
      "cell_type": "code",
      "source": [
        "#path = '/content/monthly-milk-production.csv'\n",
        "#df = pd.read_csv(path, sep = ';')\n",
        "#df.head()"
      ],
      "metadata": {
        "id": "tg8SEpAF2EKw"
      },
      "execution_count": 392,
      "outputs": []
    },
    {
      "cell_type": "code",
      "execution_count": 394,
      "metadata": {
        "id": "FbOkFf_7cgWa",
        "colab": {
          "base_uri": "https://localhost:8080/",
          "height": 238
        },
        "outputId": "ad14aa11-35bc-45c7-8534-73ee4c7c9c1a"
      },
      "outputs": [
        {
          "output_type": "execute_result",
          "data": {
            "text/plain": [
              "             PJME_MW\n",
              "Date                \n",
              "2002-01-01  714857.0\n",
              "2002-01-02  822277.0\n",
              "2002-01-03  828285.0\n",
              "2002-01-04  809171.0\n",
              "2002-01-05  729723.0"
            ],
            "text/html": [
              "\n",
              "  <div id=\"df-1649953f-f191-473f-9029-9c2bd71f2899\">\n",
              "    <div class=\"colab-df-container\">\n",
              "      <div>\n",
              "<style scoped>\n",
              "    .dataframe tbody tr th:only-of-type {\n",
              "        vertical-align: middle;\n",
              "    }\n",
              "\n",
              "    .dataframe tbody tr th {\n",
              "        vertical-align: top;\n",
              "    }\n",
              "\n",
              "    .dataframe thead th {\n",
              "        text-align: right;\n",
              "    }\n",
              "</style>\n",
              "<table border=\"1\" class=\"dataframe\">\n",
              "  <thead>\n",
              "    <tr style=\"text-align: right;\">\n",
              "      <th></th>\n",
              "      <th>PJME_MW</th>\n",
              "    </tr>\n",
              "    <tr>\n",
              "      <th>Date</th>\n",
              "      <th></th>\n",
              "    </tr>\n",
              "  </thead>\n",
              "  <tbody>\n",
              "    <tr>\n",
              "      <th>2002-01-01</th>\n",
              "      <td>714857.0</td>\n",
              "    </tr>\n",
              "    <tr>\n",
              "      <th>2002-01-02</th>\n",
              "      <td>822277.0</td>\n",
              "    </tr>\n",
              "    <tr>\n",
              "      <th>2002-01-03</th>\n",
              "      <td>828285.0</td>\n",
              "    </tr>\n",
              "    <tr>\n",
              "      <th>2002-01-04</th>\n",
              "      <td>809171.0</td>\n",
              "    </tr>\n",
              "    <tr>\n",
              "      <th>2002-01-05</th>\n",
              "      <td>729723.0</td>\n",
              "    </tr>\n",
              "  </tbody>\n",
              "</table>\n",
              "</div>\n",
              "      <button class=\"colab-df-convert\" onclick=\"convertToInteractive('df-1649953f-f191-473f-9029-9c2bd71f2899')\"\n",
              "              title=\"Convert this dataframe to an interactive table.\"\n",
              "              style=\"display:none;\">\n",
              "        \n",
              "  <svg xmlns=\"http://www.w3.org/2000/svg\" height=\"24px\"viewBox=\"0 0 24 24\"\n",
              "       width=\"24px\">\n",
              "    <path d=\"M0 0h24v24H0V0z\" fill=\"none\"/>\n",
              "    <path d=\"M18.56 5.44l.94 2.06.94-2.06 2.06-.94-2.06-.94-.94-2.06-.94 2.06-2.06.94zm-11 1L8.5 8.5l.94-2.06 2.06-.94-2.06-.94L8.5 2.5l-.94 2.06-2.06.94zm10 10l.94 2.06.94-2.06 2.06-.94-2.06-.94-.94-2.06-.94 2.06-2.06.94z\"/><path d=\"M17.41 7.96l-1.37-1.37c-.4-.4-.92-.59-1.43-.59-.52 0-1.04.2-1.43.59L10.3 9.45l-7.72 7.72c-.78.78-.78 2.05 0 2.83L4 21.41c.39.39.9.59 1.41.59.51 0 1.02-.2 1.41-.59l7.78-7.78 2.81-2.81c.8-.78.8-2.07 0-2.86zM5.41 20L4 18.59l7.72-7.72 1.47 1.35L5.41 20z\"/>\n",
              "  </svg>\n",
              "      </button>\n",
              "      \n",
              "  <style>\n",
              "    .colab-df-container {\n",
              "      display:flex;\n",
              "      flex-wrap:wrap;\n",
              "      gap: 12px;\n",
              "    }\n",
              "\n",
              "    .colab-df-convert {\n",
              "      background-color: #E8F0FE;\n",
              "      border: none;\n",
              "      border-radius: 50%;\n",
              "      cursor: pointer;\n",
              "      display: none;\n",
              "      fill: #1967D2;\n",
              "      height: 32px;\n",
              "      padding: 0 0 0 0;\n",
              "      width: 32px;\n",
              "    }\n",
              "\n",
              "    .colab-df-convert:hover {\n",
              "      background-color: #E2EBFA;\n",
              "      box-shadow: 0px 1px 2px rgba(60, 64, 67, 0.3), 0px 1px 3px 1px rgba(60, 64, 67, 0.15);\n",
              "      fill: #174EA6;\n",
              "    }\n",
              "\n",
              "    [theme=dark] .colab-df-convert {\n",
              "      background-color: #3B4455;\n",
              "      fill: #D2E3FC;\n",
              "    }\n",
              "\n",
              "    [theme=dark] .colab-df-convert:hover {\n",
              "      background-color: #434B5C;\n",
              "      box-shadow: 0px 1px 3px 1px rgba(0, 0, 0, 0.15);\n",
              "      filter: drop-shadow(0px 1px 2px rgba(0, 0, 0, 0.3));\n",
              "      fill: #FFFFFF;\n",
              "    }\n",
              "  </style>\n",
              "\n",
              "      <script>\n",
              "        const buttonEl =\n",
              "          document.querySelector('#df-1649953f-f191-473f-9029-9c2bd71f2899 button.colab-df-convert');\n",
              "        buttonEl.style.display =\n",
              "          google.colab.kernel.accessAllowed ? 'block' : 'none';\n",
              "\n",
              "        async function convertToInteractive(key) {\n",
              "          const element = document.querySelector('#df-1649953f-f191-473f-9029-9c2bd71f2899');\n",
              "          const dataTable =\n",
              "            await google.colab.kernel.invokeFunction('convertToInteractive',\n",
              "                                                     [key], {});\n",
              "          if (!dataTable) return;\n",
              "\n",
              "          const docLinkHtml = 'Like what you see? Visit the ' +\n",
              "            '<a target=\"_blank\" href=https://colab.research.google.com/notebooks/data_table.ipynb>data table notebook</a>'\n",
              "            + ' to learn more about interactive tables.';\n",
              "          element.innerHTML = '';\n",
              "          dataTable['output_type'] = 'display_data';\n",
              "          await google.colab.output.renderOutput(dataTable, element);\n",
              "          const docLink = document.createElement('div');\n",
              "          docLink.innerHTML = docLinkHtml;\n",
              "          element.appendChild(docLink);\n",
              "        }\n",
              "      </script>\n",
              "    </div>\n",
              "  </div>\n",
              "  "
            ]
          },
          "metadata": {},
          "execution_count": 394
        }
      ],
      "source": [
        "#df = pd.read_csv('Brent2019.csv', index_col='Date')\n",
        "df = pd.read_csv('/content/PJME_Потребление_энергии_D.csv', index_col='Date')\n",
        "\n",
        "df.head()"
      ]
    },
    {
      "cell_type": "markdown",
      "metadata": {
        "id": "jdxxYO_GXVHi"
      },
      "source": [
        "Данные о потреблении энергии+ индексы (дата)"
      ]
    },
    {
      "cell_type": "code",
      "execution_count": 248,
      "metadata": {
        "colab": {
          "base_uri": "https://localhost:8080/",
          "height": 238
        },
        "id": "KmWwmNFkzN9f",
        "outputId": "ac91dfc4-75d0-4608-c721-7c5fc608ea01"
      },
      "outputs": [
        {
          "output_type": "execute_result",
          "data": {
            "text/plain": [
              "             PJME_MW\n",
              "Date                \n",
              "2002-01-01  714857.0\n",
              "2002-01-02  822277.0\n",
              "2002-01-03  828285.0\n",
              "2002-01-04  809171.0\n",
              "2002-01-05  729723.0"
            ],
            "text/html": [
              "\n",
              "  <div id=\"df-d46db7ea-819f-454a-acf2-ce73bf62d016\">\n",
              "    <div class=\"colab-df-container\">\n",
              "      <div>\n",
              "<style scoped>\n",
              "    .dataframe tbody tr th:only-of-type {\n",
              "        vertical-align: middle;\n",
              "    }\n",
              "\n",
              "    .dataframe tbody tr th {\n",
              "        vertical-align: top;\n",
              "    }\n",
              "\n",
              "    .dataframe thead th {\n",
              "        text-align: right;\n",
              "    }\n",
              "</style>\n",
              "<table border=\"1\" class=\"dataframe\">\n",
              "  <thead>\n",
              "    <tr style=\"text-align: right;\">\n",
              "      <th></th>\n",
              "      <th>PJME_MW</th>\n",
              "    </tr>\n",
              "    <tr>\n",
              "      <th>Date</th>\n",
              "      <th></th>\n",
              "    </tr>\n",
              "  </thead>\n",
              "  <tbody>\n",
              "    <tr>\n",
              "      <th>2002-01-01</th>\n",
              "      <td>714857.0</td>\n",
              "    </tr>\n",
              "    <tr>\n",
              "      <th>2002-01-02</th>\n",
              "      <td>822277.0</td>\n",
              "    </tr>\n",
              "    <tr>\n",
              "      <th>2002-01-03</th>\n",
              "      <td>828285.0</td>\n",
              "    </tr>\n",
              "    <tr>\n",
              "      <th>2002-01-04</th>\n",
              "      <td>809171.0</td>\n",
              "    </tr>\n",
              "    <tr>\n",
              "      <th>2002-01-05</th>\n",
              "      <td>729723.0</td>\n",
              "    </tr>\n",
              "  </tbody>\n",
              "</table>\n",
              "</div>\n",
              "      <button class=\"colab-df-convert\" onclick=\"convertToInteractive('df-d46db7ea-819f-454a-acf2-ce73bf62d016')\"\n",
              "              title=\"Convert this dataframe to an interactive table.\"\n",
              "              style=\"display:none;\">\n",
              "        \n",
              "  <svg xmlns=\"http://www.w3.org/2000/svg\" height=\"24px\"viewBox=\"0 0 24 24\"\n",
              "       width=\"24px\">\n",
              "    <path d=\"M0 0h24v24H0V0z\" fill=\"none\"/>\n",
              "    <path d=\"M18.56 5.44l.94 2.06.94-2.06 2.06-.94-2.06-.94-.94-2.06-.94 2.06-2.06.94zm-11 1L8.5 8.5l.94-2.06 2.06-.94-2.06-.94L8.5 2.5l-.94 2.06-2.06.94zm10 10l.94 2.06.94-2.06 2.06-.94-2.06-.94-.94-2.06-.94 2.06-2.06.94z\"/><path d=\"M17.41 7.96l-1.37-1.37c-.4-.4-.92-.59-1.43-.59-.52 0-1.04.2-1.43.59L10.3 9.45l-7.72 7.72c-.78.78-.78 2.05 0 2.83L4 21.41c.39.39.9.59 1.41.59.51 0 1.02-.2 1.41-.59l7.78-7.78 2.81-2.81c.8-.78.8-2.07 0-2.86zM5.41 20L4 18.59l7.72-7.72 1.47 1.35L5.41 20z\"/>\n",
              "  </svg>\n",
              "      </button>\n",
              "      \n",
              "  <style>\n",
              "    .colab-df-container {\n",
              "      display:flex;\n",
              "      flex-wrap:wrap;\n",
              "      gap: 12px;\n",
              "    }\n",
              "\n",
              "    .colab-df-convert {\n",
              "      background-color: #E8F0FE;\n",
              "      border: none;\n",
              "      border-radius: 50%;\n",
              "      cursor: pointer;\n",
              "      display: none;\n",
              "      fill: #1967D2;\n",
              "      height: 32px;\n",
              "      padding: 0 0 0 0;\n",
              "      width: 32px;\n",
              "    }\n",
              "\n",
              "    .colab-df-convert:hover {\n",
              "      background-color: #E2EBFA;\n",
              "      box-shadow: 0px 1px 2px rgba(60, 64, 67, 0.3), 0px 1px 3px 1px rgba(60, 64, 67, 0.15);\n",
              "      fill: #174EA6;\n",
              "    }\n",
              "\n",
              "    [theme=dark] .colab-df-convert {\n",
              "      background-color: #3B4455;\n",
              "      fill: #D2E3FC;\n",
              "    }\n",
              "\n",
              "    [theme=dark] .colab-df-convert:hover {\n",
              "      background-color: #434B5C;\n",
              "      box-shadow: 0px 1px 3px 1px rgba(0, 0, 0, 0.15);\n",
              "      filter: drop-shadow(0px 1px 2px rgba(0, 0, 0, 0.3));\n",
              "      fill: #FFFFFF;\n",
              "    }\n",
              "  </style>\n",
              "\n",
              "      <script>\n",
              "        const buttonEl =\n",
              "          document.querySelector('#df-d46db7ea-819f-454a-acf2-ce73bf62d016 button.colab-df-convert');\n",
              "        buttonEl.style.display =\n",
              "          google.colab.kernel.accessAllowed ? 'block' : 'none';\n",
              "\n",
              "        async function convertToInteractive(key) {\n",
              "          const element = document.querySelector('#df-d46db7ea-819f-454a-acf2-ce73bf62d016');\n",
              "          const dataTable =\n",
              "            await google.colab.kernel.invokeFunction('convertToInteractive',\n",
              "                                                     [key], {});\n",
              "          if (!dataTable) return;\n",
              "\n",
              "          const docLinkHtml = 'Like what you see? Visit the ' +\n",
              "            '<a target=\"_blank\" href=https://colab.research.google.com/notebooks/data_table.ipynb>data table notebook</a>'\n",
              "            + ' to learn more about interactive tables.';\n",
              "          element.innerHTML = '';\n",
              "          dataTable['output_type'] = 'display_data';\n",
              "          await google.colab.output.renderOutput(dataTable, element);\n",
              "          const docLink = document.createElement('div');\n",
              "          docLink.innerHTML = docLinkHtml;\n",
              "          element.appendChild(docLink);\n",
              "        }\n",
              "      </script>\n",
              "    </div>\n",
              "  </div>\n",
              "  "
            ]
          },
          "metadata": {},
          "execution_count": 248
        }
      ],
      "source": [
        "df.head()"
      ]
    },
    {
      "cell_type": "markdown",
      "metadata": {
        "id": "j67MmECOvlJW"
      },
      "source": [
        "Сортируем по дате"
      ]
    },
    {
      "cell_type": "code",
      "execution_count": 249,
      "metadata": {
        "colab": {
          "base_uri": "https://localhost:8080/",
          "height": 238
        },
        "id": "XL93ECHzyv88",
        "outputId": "5f16cfd8-1c6c-449f-d814-5d485094475e"
      },
      "outputs": [
        {
          "output_type": "execute_result",
          "data": {
            "text/plain": [
              "             PJME_MW\n",
              "Date                \n",
              "2002-01-01  714857.0\n",
              "2002-01-02  822277.0\n",
              "2002-01-03  828285.0\n",
              "2002-01-04  809171.0\n",
              "2002-01-05  729723.0"
            ],
            "text/html": [
              "\n",
              "  <div id=\"df-8f7ecb55-c241-48a5-b2f3-14eadb75b0c7\">\n",
              "    <div class=\"colab-df-container\">\n",
              "      <div>\n",
              "<style scoped>\n",
              "    .dataframe tbody tr th:only-of-type {\n",
              "        vertical-align: middle;\n",
              "    }\n",
              "\n",
              "    .dataframe tbody tr th {\n",
              "        vertical-align: top;\n",
              "    }\n",
              "\n",
              "    .dataframe thead th {\n",
              "        text-align: right;\n",
              "    }\n",
              "</style>\n",
              "<table border=\"1\" class=\"dataframe\">\n",
              "  <thead>\n",
              "    <tr style=\"text-align: right;\">\n",
              "      <th></th>\n",
              "      <th>PJME_MW</th>\n",
              "    </tr>\n",
              "    <tr>\n",
              "      <th>Date</th>\n",
              "      <th></th>\n",
              "    </tr>\n",
              "  </thead>\n",
              "  <tbody>\n",
              "    <tr>\n",
              "      <th>2002-01-01</th>\n",
              "      <td>714857.0</td>\n",
              "    </tr>\n",
              "    <tr>\n",
              "      <th>2002-01-02</th>\n",
              "      <td>822277.0</td>\n",
              "    </tr>\n",
              "    <tr>\n",
              "      <th>2002-01-03</th>\n",
              "      <td>828285.0</td>\n",
              "    </tr>\n",
              "    <tr>\n",
              "      <th>2002-01-04</th>\n",
              "      <td>809171.0</td>\n",
              "    </tr>\n",
              "    <tr>\n",
              "      <th>2002-01-05</th>\n",
              "      <td>729723.0</td>\n",
              "    </tr>\n",
              "  </tbody>\n",
              "</table>\n",
              "</div>\n",
              "      <button class=\"colab-df-convert\" onclick=\"convertToInteractive('df-8f7ecb55-c241-48a5-b2f3-14eadb75b0c7')\"\n",
              "              title=\"Convert this dataframe to an interactive table.\"\n",
              "              style=\"display:none;\">\n",
              "        \n",
              "  <svg xmlns=\"http://www.w3.org/2000/svg\" height=\"24px\"viewBox=\"0 0 24 24\"\n",
              "       width=\"24px\">\n",
              "    <path d=\"M0 0h24v24H0V0z\" fill=\"none\"/>\n",
              "    <path d=\"M18.56 5.44l.94 2.06.94-2.06 2.06-.94-2.06-.94-.94-2.06-.94 2.06-2.06.94zm-11 1L8.5 8.5l.94-2.06 2.06-.94-2.06-.94L8.5 2.5l-.94 2.06-2.06.94zm10 10l.94 2.06.94-2.06 2.06-.94-2.06-.94-.94-2.06-.94 2.06-2.06.94z\"/><path d=\"M17.41 7.96l-1.37-1.37c-.4-.4-.92-.59-1.43-.59-.52 0-1.04.2-1.43.59L10.3 9.45l-7.72 7.72c-.78.78-.78 2.05 0 2.83L4 21.41c.39.39.9.59 1.41.59.51 0 1.02-.2 1.41-.59l7.78-7.78 2.81-2.81c.8-.78.8-2.07 0-2.86zM5.41 20L4 18.59l7.72-7.72 1.47 1.35L5.41 20z\"/>\n",
              "  </svg>\n",
              "      </button>\n",
              "      \n",
              "  <style>\n",
              "    .colab-df-container {\n",
              "      display:flex;\n",
              "      flex-wrap:wrap;\n",
              "      gap: 12px;\n",
              "    }\n",
              "\n",
              "    .colab-df-convert {\n",
              "      background-color: #E8F0FE;\n",
              "      border: none;\n",
              "      border-radius: 50%;\n",
              "      cursor: pointer;\n",
              "      display: none;\n",
              "      fill: #1967D2;\n",
              "      height: 32px;\n",
              "      padding: 0 0 0 0;\n",
              "      width: 32px;\n",
              "    }\n",
              "\n",
              "    .colab-df-convert:hover {\n",
              "      background-color: #E2EBFA;\n",
              "      box-shadow: 0px 1px 2px rgba(60, 64, 67, 0.3), 0px 1px 3px 1px rgba(60, 64, 67, 0.15);\n",
              "      fill: #174EA6;\n",
              "    }\n",
              "\n",
              "    [theme=dark] .colab-df-convert {\n",
              "      background-color: #3B4455;\n",
              "      fill: #D2E3FC;\n",
              "    }\n",
              "\n",
              "    [theme=dark] .colab-df-convert:hover {\n",
              "      background-color: #434B5C;\n",
              "      box-shadow: 0px 1px 3px 1px rgba(0, 0, 0, 0.15);\n",
              "      filter: drop-shadow(0px 1px 2px rgba(0, 0, 0, 0.3));\n",
              "      fill: #FFFFFF;\n",
              "    }\n",
              "  </style>\n",
              "\n",
              "      <script>\n",
              "        const buttonEl =\n",
              "          document.querySelector('#df-8f7ecb55-c241-48a5-b2f3-14eadb75b0c7 button.colab-df-convert');\n",
              "        buttonEl.style.display =\n",
              "          google.colab.kernel.accessAllowed ? 'block' : 'none';\n",
              "\n",
              "        async function convertToInteractive(key) {\n",
              "          const element = document.querySelector('#df-8f7ecb55-c241-48a5-b2f3-14eadb75b0c7');\n",
              "          const dataTable =\n",
              "            await google.colab.kernel.invokeFunction('convertToInteractive',\n",
              "                                                     [key], {});\n",
              "          if (!dataTable) return;\n",
              "\n",
              "          const docLinkHtml = 'Like what you see? Visit the ' +\n",
              "            '<a target=\"_blank\" href=https://colab.research.google.com/notebooks/data_table.ipynb>data table notebook</a>'\n",
              "            + ' to learn more about interactive tables.';\n",
              "          element.innerHTML = '';\n",
              "          dataTable['output_type'] = 'display_data';\n",
              "          await google.colab.output.renderOutput(dataTable, element);\n",
              "          const docLink = document.createElement('div');\n",
              "          docLink.innerHTML = docLinkHtml;\n",
              "          element.appendChild(docLink);\n",
              "        }\n",
              "      </script>\n",
              "    </div>\n",
              "  </div>\n",
              "  "
            ]
          },
          "metadata": {},
          "execution_count": 249
        }
      ],
      "source": [
        "\n",
        "\n",
        "df.sort_index(ascending=True, inplace=True)\n",
        "df.head()"
      ]
    },
    {
      "cell_type": "markdown",
      "metadata": {
        "id": "iqI543_tn-Nh"
      },
      "source": [
        "\n",
        "Для PJME  все лишнее уже отбросили"
      ]
    },
    {
      "cell_type": "code",
      "execution_count": 359,
      "metadata": {
        "colab": {
          "base_uri": "https://localhost:8080/",
          "height": 232
        },
        "id": "zk7Xkqlry6yX",
        "outputId": "08b120c3-9081-4401-bd66-979ccbda7e31"
      },
      "outputs": [
        {
          "output_type": "display_data",
          "data": {
            "text/plain": [
              "<Figure size 1152x360 with 1 Axes>"
            ],
            "image/png": "[encoded data removed]"
          },
          "metadata": {
            "needs_background": "light"
          }
        }
      ],
      "source": [
        "df.plot( figsize = (16,5))\n",
        "#df['PJME_MW'].plot( figsize = (16,5))\n",
        "\n",
        "plt.grid('On')\n",
        "plt.show()"
      ]
    },
    {
      "cell_type": "code",
      "execution_count": 360,
      "metadata": {
        "colab": {
          "base_uri": "https://localhost:8080/",
          "height": 300
        },
        "id": "vPZuXBqGE9gG",
        "outputId": "8270e2c5-c362-4d07-9452-ba1774d5f98d"
      },
      "outputs": [
        {
          "output_type": "execute_result",
          "data": {
            "text/plain": [
              "          Значение\n",
              "count  2667.000000\n",
              "mean     81.533547\n",
              "std      26.349469\n",
              "min      27.850000\n",
              "25%      56.840000\n",
              "50%      77.710000\n",
              "75%     108.190000\n",
              "max     126.900000"
            ],
            "text/html": [
              "\n",
              "  <div id=\"df-1531c90e-8485-4c50-979b-f3add76f21c0\">\n",
              "    <div class=\"colab-df-container\">\n",
              "      <div>\n",
              "<style scoped>\n",
              "    .dataframe tbody tr th:only-of-type {\n",
              "        vertical-align: middle;\n",
              "    }\n",
              "\n",
              "    .dataframe tbody tr th {\n",
              "        vertical-align: top;\n",
              "    }\n",
              "\n",
              "    .dataframe thead th {\n",
              "        text-align: right;\n",
              "    }\n",
              "</style>\n",
              "<table border=\"1\" class=\"dataframe\">\n",
              "  <thead>\n",
              "    <tr style=\"text-align: right;\">\n",
              "      <th></th>\n",
              "      <th>Значение</th>\n",
              "    </tr>\n",
              "  </thead>\n",
              "  <tbody>\n",
              "    <tr>\n",
              "      <th>count</th>\n",
              "      <td>2667.000000</td>\n",
              "    </tr>\n",
              "    <tr>\n",
              "      <th>mean</th>\n",
              "      <td>81.533547</td>\n",
              "    </tr>\n",
              "    <tr>\n",
              "      <th>std</th>\n",
              "      <td>26.349469</td>\n",
              "    </tr>\n",
              "    <tr>\n",
              "      <th>min</th>\n",
              "      <td>27.850000</td>\n",
              "    </tr>\n",
              "    <tr>\n",
              "      <th>25%</th>\n",
              "      <td>56.840000</td>\n",
              "    </tr>\n",
              "    <tr>\n",
              "      <th>50%</th>\n",
              "      <td>77.710000</td>\n",
              "    </tr>\n",
              "    <tr>\n",
              "      <th>75%</th>\n",
              "      <td>108.190000</td>\n",
              "    </tr>\n",
              "    <tr>\n",
              "      <th>max</th>\n",
              "      <td>126.900000</td>\n",
              "    </tr>\n",
              "  </tbody>\n",
              "</table>\n",
              "</div>\n",
              "      <button class=\"colab-df-convert\" onclick=\"convertToInteractive('df-1531c90e-8485-4c50-979b-f3add76f21c0')\"\n",
              "              title=\"Convert this dataframe to an interactive table.\"\n",
              "              style=\"display:none;\">\n",
              "        \n",
              "  <svg xmlns=\"http://www.w3.org/2000/svg\" height=\"24px\"viewBox=\"0 0 24 24\"\n",
              "       width=\"24px\">\n",
              "    <path d=\"M0 0h24v24H0V0z\" fill=\"none\"/>\n",
              "    <path d=\"M18.56 5.44l.94 2.06.94-2.06 2.06-.94-2.06-.94-.94-2.06-.94 2.06-2.06.94zm-11 1L8.5 8.5l.94-2.06 2.06-.94-2.06-.94L8.5 2.5l-.94 2.06-2.06.94zm10 10l.94 2.06.94-2.06 2.06-.94-2.06-.94-.94-2.06-.94 2.06-2.06.94z\"/><path d=\"M17.41 7.96l-1.37-1.37c-.4-.4-.92-.59-1.43-.59-.52 0-1.04.2-1.43.59L10.3 9.45l-7.72 7.72c-.78.78-.78 2.05 0 2.83L4 21.41c.39.39.9.59 1.41.59.51 0 1.02-.2 1.41-.59l7.78-7.78 2.81-2.81c.8-.78.8-2.07 0-2.86zM5.41 20L4 18.59l7.72-7.72 1.47 1.35L5.41 20z\"/>\n",
              "  </svg>\n",
              "      </button>\n",
              "      \n",
              "  <style>\n",
              "    .colab-df-container {\n",
              "      display:flex;\n",
              "      flex-wrap:wrap;\n",
              "      gap: 12px;\n",
              "    }\n",
              "\n",
              "    .colab-df-convert {\n",
              "      background-color: #E8F0FE;\n",
              "      border: none;\n",
              "      border-radius: 50%;\n",
              "      cursor: pointer;\n",
              "      display: none;\n",
              "      fill: #1967D2;\n",
              "      height: 32px;\n",
              "      padding: 0 0 0 0;\n",
              "      width: 32px;\n",
              "    }\n",
              "\n",
              "    .colab-df-convert:hover {\n",
              "      background-color: #E2EBFA;\n",
              "      box-shadow: 0px 1px 2px rgba(60, 64, 67, 0.3), 0px 1px 3px 1px rgba(60, 64, 67, 0.15);\n",
              "      fill: #174EA6;\n",
              "    }\n",
              "\n",
              "    [theme=dark] .colab-df-convert {\n",
              "      background-color: #3B4455;\n",
              "      fill: #D2E3FC;\n",
              "    }\n",
              "\n",
              "    [theme=dark] .colab-df-convert:hover {\n",
              "      background-color: #434B5C;\n",
              "      box-shadow: 0px 1px 3px 1px rgba(0, 0, 0, 0.15);\n",
              "      filter: drop-shadow(0px 1px 2px rgba(0, 0, 0, 0.3));\n",
              "      fill: #FFFFFF;\n",
              "    }\n",
              "  </style>\n",
              "\n",
              "      <script>\n",
              "        const buttonEl =\n",
              "          document.querySelector('#df-1531c90e-8485-4c50-979b-f3add76f21c0 button.colab-df-convert');\n",
              "        buttonEl.style.display =\n",
              "          google.colab.kernel.accessAllowed ? 'block' : 'none';\n",
              "\n",
              "        async function convertToInteractive(key) {\n",
              "          const element = document.querySelector('#df-1531c90e-8485-4c50-979b-f3add76f21c0');\n",
              "          const dataTable =\n",
              "            await google.colab.kernel.invokeFunction('convertToInteractive',\n",
              "                                                     [key], {});\n",
              "          if (!dataTable) return;\n",
              "\n",
              "          const docLinkHtml = 'Like what you see? Visit the ' +\n",
              "            '<a target=\"_blank\" href=https://colab.research.google.com/notebooks/data_table.ipynb>data table notebook</a>'\n",
              "            + ' to learn more about interactive tables.';\n",
              "          element.innerHTML = '';\n",
              "          dataTable['output_type'] = 'display_data';\n",
              "          await google.colab.output.renderOutput(dataTable, element);\n",
              "          const docLink = document.createElement('div');\n",
              "          docLink.innerHTML = docLinkHtml;\n",
              "          element.appendChild(docLink);\n",
              "        }\n",
              "      </script>\n",
              "    </div>\n",
              "  </div>\n",
              "  "
            ]
          },
          "metadata": {},
          "execution_count": 360
        }
      ],
      "source": [
        "df.describe()"
      ]
    },
    {
      "cell_type": "markdown",
      "metadata": {
        "id": "kRHbnORbIv26"
      },
      "source": [
        "Добавим дату как признаки:\n",
        "как \"день в году\"/366 и (год-2002)"
      ]
    },
    {
      "cell_type": "code",
      "execution_count": 361,
      "metadata": {
        "colab": {
          "base_uri": "https://localhost:8080/",
          "height": 238
        },
        "id": "6aiPfQLDJLK3",
        "outputId": "76df2c15-676a-4294-855d-604ef9af03d9"
      },
      "outputs": [
        {
          "output_type": "execute_result",
          "data": {
            "text/plain": [
              "            Значение       day  year\n",
              "Date                                \n",
              "2010-09-01     76.37  0.666667     8\n",
              "2010-09-02     76.89  0.669399     8\n",
              "2010-09-03     76.57  0.672131     8\n",
              "2010-09-04     76.62  0.674863     8\n",
              "2010-09-05     76.63  0.677596     8"
            ],
            "text/html": [
              "\n",
              "  <div id=\"df-8664e39e-1595-4a23-ba1f-c120bde0bd2a\">\n",
              "    <div class=\"colab-df-container\">\n",
              "      <div>\n",
              "<style scoped>\n",
              "    .dataframe tbody tr th:only-of-type {\n",
              "        vertical-align: middle;\n",
              "    }\n",
              "\n",
              "    .dataframe tbody tr th {\n",
              "        vertical-align: top;\n",
              "    }\n",
              "\n",
              "    .dataframe thead th {\n",
              "        text-align: right;\n",
              "    }\n",
              "</style>\n",
              "<table border=\"1\" class=\"dataframe\">\n",
              "  <thead>\n",
              "    <tr style=\"text-align: right;\">\n",
              "      <th></th>\n",
              "      <th>Значение</th>\n",
              "      <th>day</th>\n",
              "      <th>year</th>\n",
              "    </tr>\n",
              "    <tr>\n",
              "      <th>Date</th>\n",
              "      <th></th>\n",
              "      <th></th>\n",
              "      <th></th>\n",
              "    </tr>\n",
              "  </thead>\n",
              "  <tbody>\n",
              "    <tr>\n",
              "      <th>2010-09-01</th>\n",
              "      <td>76.37</td>\n",
              "      <td>0.666667</td>\n",
              "      <td>8</td>\n",
              "    </tr>\n",
              "    <tr>\n",
              "      <th>2010-09-02</th>\n",
              "      <td>76.89</td>\n",
              "      <td>0.669399</td>\n",
              "      <td>8</td>\n",
              "    </tr>\n",
              "    <tr>\n",
              "      <th>2010-09-03</th>\n",
              "      <td>76.57</td>\n",
              "      <td>0.672131</td>\n",
              "      <td>8</td>\n",
              "    </tr>\n",
              "    <tr>\n",
              "      <th>2010-09-04</th>\n",
              "      <td>76.62</td>\n",
              "      <td>0.674863</td>\n",
              "      <td>8</td>\n",
              "    </tr>\n",
              "    <tr>\n",
              "      <th>2010-09-05</th>\n",
              "      <td>76.63</td>\n",
              "      <td>0.677596</td>\n",
              "      <td>8</td>\n",
              "    </tr>\n",
              "  </tbody>\n",
              "</table>\n",
              "</div>\n",
              "      <button class=\"colab-df-convert\" onclick=\"convertToInteractive('df-8664e39e-1595-4a23-ba1f-c120bde0bd2a')\"\n",
              "              title=\"Convert this dataframe to an interactive table.\"\n",
              "              style=\"display:none;\">\n",
              "        \n",
              "  <svg xmlns=\"http://www.w3.org/2000/svg\" height=\"24px\"viewBox=\"0 0 24 24\"\n",
              "       width=\"24px\">\n",
              "    <path d=\"M0 0h24v24H0V0z\" fill=\"none\"/>\n",
              "    <path d=\"M18.56 5.44l.94 2.06.94-2.06 2.06-.94-2.06-.94-.94-2.06-.94 2.06-2.06.94zm-11 1L8.5 8.5l.94-2.06 2.06-.94-2.06-.94L8.5 2.5l-.94 2.06-2.06.94zm10 10l.94 2.06.94-2.06 2.06-.94-2.06-.94-.94-2.06-.94 2.06-2.06.94z\"/><path d=\"M17.41 7.96l-1.37-1.37c-.4-.4-.92-.59-1.43-.59-.52 0-1.04.2-1.43.59L10.3 9.45l-7.72 7.72c-.78.78-.78 2.05 0 2.83L4 21.41c.39.39.9.59 1.41.59.51 0 1.02-.2 1.41-.59l7.78-7.78 2.81-2.81c.8-.78.8-2.07 0-2.86zM5.41 20L4 18.59l7.72-7.72 1.47 1.35L5.41 20z\"/>\n",
              "  </svg>\n",
              "      </button>\n",
              "      \n",
              "  <style>\n",
              "    .colab-df-container {\n",
              "      display:flex;\n",
              "      flex-wrap:wrap;\n",
              "      gap: 12px;\n",
              "    }\n",
              "\n",
              "    .colab-df-convert {\n",
              "      background-color: #E8F0FE;\n",
              "      border: none;\n",
              "      border-radius: 50%;\n",
              "      cursor: pointer;\n",
              "      display: none;\n",
              "      fill: #1967D2;\n",
              "      height: 32px;\n",
              "      padding: 0 0 0 0;\n",
              "      width: 32px;\n",
              "    }\n",
              "\n",
              "    .colab-df-convert:hover {\n",
              "      background-color: #E2EBFA;\n",
              "      box-shadow: 0px 1px 2px rgba(60, 64, 67, 0.3), 0px 1px 3px 1px rgba(60, 64, 67, 0.15);\n",
              "      fill: #174EA6;\n",
              "    }\n",
              "\n",
              "    [theme=dark] .colab-df-convert {\n",
              "      background-color: #3B4455;\n",
              "      fill: #D2E3FC;\n",
              "    }\n",
              "\n",
              "    [theme=dark] .colab-df-convert:hover {\n",
              "      background-color: #434B5C;\n",
              "      box-shadow: 0px 1px 3px 1px rgba(0, 0, 0, 0.15);\n",
              "      filter: drop-shadow(0px 1px 2px rgba(0, 0, 0, 0.3));\n",
              "      fill: #FFFFFF;\n",
              "    }\n",
              "  </style>\n",
              "\n",
              "      <script>\n",
              "        const buttonEl =\n",
              "          document.querySelector('#df-8664e39e-1595-4a23-ba1f-c120bde0bd2a button.colab-df-convert');\n",
              "        buttonEl.style.display =\n",
              "          google.colab.kernel.accessAllowed ? 'block' : 'none';\n",
              "\n",
              "        async function convertToInteractive(key) {\n",
              "          const element = document.querySelector('#df-8664e39e-1595-4a23-ba1f-c120bde0bd2a');\n",
              "          const dataTable =\n",
              "            await google.colab.kernel.invokeFunction('convertToInteractive',\n",
              "                                                     [key], {});\n",
              "          if (!dataTable) return;\n",
              "\n",
              "          const docLinkHtml = 'Like what you see? Visit the ' +\n",
              "            '<a target=\"_blank\" href=https://colab.research.google.com/notebooks/data_table.ipynb>data table notebook</a>'\n",
              "            + ' to learn more about interactive tables.';\n",
              "          element.innerHTML = '';\n",
              "          dataTable['output_type'] = 'display_data';\n",
              "          await google.colab.output.renderOutput(dataTable, element);\n",
              "          const docLink = document.createElement('div');\n",
              "          docLink.innerHTML = docLinkHtml;\n",
              "          element.appendChild(docLink);\n",
              "        }\n",
              "      </script>\n",
              "    </div>\n",
              "  </div>\n",
              "  "
            ]
          },
          "metadata": {},
          "execution_count": 361
        }
      ],
      "source": [
        "df['day'] = pd.to_datetime(df.index).dayofyear/366.0\n",
        "df['year'] = pd.to_datetime(df.index).year - 2002\n",
        "df.head()"
      ]
    },
    {
      "cell_type": "code",
      "execution_count": 362,
      "metadata": {
        "id": "6cwJqFy2_EYL"
      },
      "outputs": [],
      "source": [
        "#\n",
        "data = df.copy() # берем все что есть"
      ]
    },
    {
      "cell_type": "code",
      "execution_count": 363,
      "metadata": {
        "colab": {
          "base_uri": "https://localhost:8080/",
          "height": 238
        },
        "id": "WDeu5OJJzWeJ",
        "outputId": "7c3e1db4-5b34-4b54-a923-2cc5959c4d1d"
      },
      "outputs": [
        {
          "output_type": "execute_result",
          "data": {
            "text/plain": [
              "            Значение       day  year\n",
              "Date                                \n",
              "2010-09-01     76.37  0.666667     8\n",
              "2010-09-02     76.89  0.669399     8\n",
              "2010-09-03     76.57  0.672131     8\n",
              "2010-09-04     76.62  0.674863     8\n",
              "2010-09-05     76.63  0.677596     8"
            ],
            "text/html": [
              "\n",
              "  <div id=\"df-63078636-8d83-48ab-bb23-5ac6a2f894f9\">\n",
              "    <div class=\"colab-df-container\">\n",
              "      <div>\n",
              "<style scoped>\n",
              "    .dataframe tbody tr th:only-of-type {\n",
              "        vertical-align: middle;\n",
              "    }\n",
              "\n",
              "    .dataframe tbody tr th {\n",
              "        vertical-align: top;\n",
              "    }\n",
              "\n",
              "    .dataframe thead th {\n",
              "        text-align: right;\n",
              "    }\n",
              "</style>\n",
              "<table border=\"1\" class=\"dataframe\">\n",
              "  <thead>\n",
              "    <tr style=\"text-align: right;\">\n",
              "      <th></th>\n",
              "      <th>Значение</th>\n",
              "      <th>day</th>\n",
              "      <th>year</th>\n",
              "    </tr>\n",
              "    <tr>\n",
              "      <th>Date</th>\n",
              "      <th></th>\n",
              "      <th></th>\n",
              "      <th></th>\n",
              "    </tr>\n",
              "  </thead>\n",
              "  <tbody>\n",
              "    <tr>\n",
              "      <th>2010-09-01</th>\n",
              "      <td>76.37</td>\n",
              "      <td>0.666667</td>\n",
              "      <td>8</td>\n",
              "    </tr>\n",
              "    <tr>\n",
              "      <th>2010-09-02</th>\n",
              "      <td>76.89</td>\n",
              "      <td>0.669399</td>\n",
              "      <td>8</td>\n",
              "    </tr>\n",
              "    <tr>\n",
              "      <th>2010-09-03</th>\n",
              "      <td>76.57</td>\n",
              "      <td>0.672131</td>\n",
              "      <td>8</td>\n",
              "    </tr>\n",
              "    <tr>\n",
              "      <th>2010-09-04</th>\n",
              "      <td>76.62</td>\n",
              "      <td>0.674863</td>\n",
              "      <td>8</td>\n",
              "    </tr>\n",
              "    <tr>\n",
              "      <th>2010-09-05</th>\n",
              "      <td>76.63</td>\n",
              "      <td>0.677596</td>\n",
              "      <td>8</td>\n",
              "    </tr>\n",
              "  </tbody>\n",
              "</table>\n",
              "</div>\n",
              "      <button class=\"colab-df-convert\" onclick=\"convertToInteractive('df-63078636-8d83-48ab-bb23-5ac6a2f894f9')\"\n",
              "              title=\"Convert this dataframe to an interactive table.\"\n",
              "              style=\"display:none;\">\n",
              "        \n",
              "  <svg xmlns=\"http://www.w3.org/2000/svg\" height=\"24px\"viewBox=\"0 0 24 24\"\n",
              "       width=\"24px\">\n",
              "    <path d=\"M0 0h24v24H0V0z\" fill=\"none\"/>\n",
              "    <path d=\"M18.56 5.44l.94 2.06.94-2.06 2.06-.94-2.06-.94-.94-2.06-.94 2.06-2.06.94zm-11 1L8.5 8.5l.94-2.06 2.06-.94-2.06-.94L8.5 2.5l-.94 2.06-2.06.94zm10 10l.94 2.06.94-2.06 2.06-.94-2.06-.94-.94-2.06-.94 2.06-2.06.94z\"/><path d=\"M17.41 7.96l-1.37-1.37c-.4-.4-.92-.59-1.43-.59-.52 0-1.04.2-1.43.59L10.3 9.45l-7.72 7.72c-.78.78-.78 2.05 0 2.83L4 21.41c.39.39.9.59 1.41.59.51 0 1.02-.2 1.41-.59l7.78-7.78 2.81-2.81c.8-.78.8-2.07 0-2.86zM5.41 20L4 18.59l7.72-7.72 1.47 1.35L5.41 20z\"/>\n",
              "  </svg>\n",
              "      </button>\n",
              "      \n",
              "  <style>\n",
              "    .colab-df-container {\n",
              "      display:flex;\n",
              "      flex-wrap:wrap;\n",
              "      gap: 12px;\n",
              "    }\n",
              "\n",
              "    .colab-df-convert {\n",
              "      background-color: #E8F0FE;\n",
              "      border: none;\n",
              "      border-radius: 50%;\n",
              "      cursor: pointer;\n",
              "      display: none;\n",
              "      fill: #1967D2;\n",
              "      height: 32px;\n",
              "      padding: 0 0 0 0;\n",
              "      width: 32px;\n",
              "    }\n",
              "\n",
              "    .colab-df-convert:hover {\n",
              "      background-color: #E2EBFA;\n",
              "      box-shadow: 0px 1px 2px rgba(60, 64, 67, 0.3), 0px 1px 3px 1px rgba(60, 64, 67, 0.15);\n",
              "      fill: #174EA6;\n",
              "    }\n",
              "\n",
              "    [theme=dark] .colab-df-convert {\n",
              "      background-color: #3B4455;\n",
              "      fill: #D2E3FC;\n",
              "    }\n",
              "\n",
              "    [theme=dark] .colab-df-convert:hover {\n",
              "      background-color: #434B5C;\n",
              "      box-shadow: 0px 1px 3px 1px rgba(0, 0, 0, 0.15);\n",
              "      filter: drop-shadow(0px 1px 2px rgba(0, 0, 0, 0.3));\n",
              "      fill: #FFFFFF;\n",
              "    }\n",
              "  </style>\n",
              "\n",
              "      <script>\n",
              "        const buttonEl =\n",
              "          document.querySelector('#df-63078636-8d83-48ab-bb23-5ac6a2f894f9 button.colab-df-convert');\n",
              "        buttonEl.style.display =\n",
              "          google.colab.kernel.accessAllowed ? 'block' : 'none';\n",
              "\n",
              "        async function convertToInteractive(key) {\n",
              "          const element = document.querySelector('#df-63078636-8d83-48ab-bb23-5ac6a2f894f9');\n",
              "          const dataTable =\n",
              "            await google.colab.kernel.invokeFunction('convertToInteractive',\n",
              "                                                     [key], {});\n",
              "          if (!dataTable) return;\n",
              "\n",
              "          const docLinkHtml = 'Like what you see? Visit the ' +\n",
              "            '<a target=\"_blank\" href=https://colab.research.google.com/notebooks/data_table.ipynb>data table notebook</a>'\n",
              "            + ' to learn more about interactive tables.';\n",
              "          element.innerHTML = '';\n",
              "          dataTable['output_type'] = 'display_data';\n",
              "          await google.colab.output.renderOutput(dataTable, element);\n",
              "          const docLink = document.createElement('div');\n",
              "          docLink.innerHTML = docLinkHtml;\n",
              "          element.appendChild(docLink);\n",
              "        }\n",
              "      </script>\n",
              "    </div>\n",
              "  </div>\n",
              "  "
            ]
          },
          "metadata": {},
          "execution_count": 363
        }
      ],
      "source": [
        "data.head()"
      ]
    },
    {
      "cell_type": "markdown",
      "metadata": {
        "id": "4914V_ogoUfx"
      },
      "source": [
        "Делаем нормализацию"
      ]
    },
    {
      "cell_type": "code",
      "execution_count": 364,
      "metadata": {
        "id": "ArFEd9l2b8vY"
      },
      "outputs": [],
      "source": [
        "def normalize(data, data_mean = 0,data_std= 0 ):\n",
        "    \n",
        "    if data_std == 0:\n",
        "      data_mean = data.mean(axis = 0)\n",
        "      data_std = data.std(axis = 0)\n",
        "    return (data - data_mean) / data_std, data_mean,data_std"
      ]
    },
    {
      "cell_type": "markdown",
      "metadata": {
        "id": "iipoiOjBobAe"
      },
      "source": [
        "Можно (и нужно заменять на sklearn StandadScaler) т.к. это нужно дополнительно сохранять для обработки реальных данных , но тут сделаем без привлечения внешних модулей"
      ]
    },
    {
      "cell_type": "code",
      "execution_count": 365,
      "metadata": {
        "id": "msyvvpcKcOSg"
      },
      "outputs": [],
      "source": [
        "train_split = 1500\n",
        "\n",
        "_,d_m,d_s =  normalize(data.iloc[:train_split,0].values)\n",
        "data.iloc[:, 0] = (data.iloc[:, 0].values - d_m) / d_s"
      ]
    },
    {
      "cell_type": "code",
      "execution_count": 366,
      "metadata": {
        "colab": {
          "base_uri": "https://localhost:8080/",
          "height": 238
        },
        "id": "xAo2Nl58Ltgw",
        "outputId": "5725d8ec-1c49-48e5-c145-ea663a97a7cb"
      },
      "outputs": [
        {
          "output_type": "execute_result",
          "data": {
            "text/plain": [
              "            Значение       day  year\n",
              "Date                                \n",
              "2010-09-01 -1.194457  0.666667     8\n",
              "2010-09-02 -1.167723  0.669399     8\n",
              "2010-09-03 -1.184175  0.672131     8\n",
              "2010-09-04 -1.181604  0.674863     8\n",
              "2010-09-05 -1.181090  0.677596     8"
            ],
            "text/html": [
              "\n",
              "  <div id=\"df-f06fa8a4-31b1-4525-99ae-f16779999d14\">\n",
              "    <div class=\"colab-df-container\">\n",
              "      <div>\n",
              "<style scoped>\n",
              "    .dataframe tbody tr th:only-of-type {\n",
              "        vertical-align: middle;\n",
              "    }\n",
              "\n",
              "    .dataframe tbody tr th {\n",
              "        vertical-align: top;\n",
              "    }\n",
              "\n",
              "    .dataframe thead th {\n",
              "        text-align: right;\n",
              "    }\n",
              "</style>\n",
              "<table border=\"1\" class=\"dataframe\">\n",
              "  <thead>\n",
              "    <tr style=\"text-align: right;\">\n",
              "      <th></th>\n",
              "      <th>Значение</th>\n",
              "      <th>day</th>\n",
              "      <th>year</th>\n",
              "    </tr>\n",
              "    <tr>\n",
              "      <th>Date</th>\n",
              "      <th></th>\n",
              "      <th></th>\n",
              "      <th></th>\n",
              "    </tr>\n",
              "  </thead>\n",
              "  <tbody>\n",
              "    <tr>\n",
              "      <th>2010-09-01</th>\n",
              "      <td>-1.194457</td>\n",
              "      <td>0.666667</td>\n",
              "      <td>8</td>\n",
              "    </tr>\n",
              "    <tr>\n",
              "      <th>2010-09-02</th>\n",
              "      <td>-1.167723</td>\n",
              "      <td>0.669399</td>\n",
              "      <td>8</td>\n",
              "    </tr>\n",
              "    <tr>\n",
              "      <th>2010-09-03</th>\n",
              "      <td>-1.184175</td>\n",
              "      <td>0.672131</td>\n",
              "      <td>8</td>\n",
              "    </tr>\n",
              "    <tr>\n",
              "      <th>2010-09-04</th>\n",
              "      <td>-1.181604</td>\n",
              "      <td>0.674863</td>\n",
              "      <td>8</td>\n",
              "    </tr>\n",
              "    <tr>\n",
              "      <th>2010-09-05</th>\n",
              "      <td>-1.181090</td>\n",
              "      <td>0.677596</td>\n",
              "      <td>8</td>\n",
              "    </tr>\n",
              "  </tbody>\n",
              "</table>\n",
              "</div>\n",
              "      <button class=\"colab-df-convert\" onclick=\"convertToInteractive('df-f06fa8a4-31b1-4525-99ae-f16779999d14')\"\n",
              "              title=\"Convert this dataframe to an interactive table.\"\n",
              "              style=\"display:none;\">\n",
              "        \n",
              "  <svg xmlns=\"http://www.w3.org/2000/svg\" height=\"24px\"viewBox=\"0 0 24 24\"\n",
              "       width=\"24px\">\n",
              "    <path d=\"M0 0h24v24H0V0z\" fill=\"none\"/>\n",
              "    <path d=\"M18.56 5.44l.94 2.06.94-2.06 2.06-.94-2.06-.94-.94-2.06-.94 2.06-2.06.94zm-11 1L8.5 8.5l.94-2.06 2.06-.94-2.06-.94L8.5 2.5l-.94 2.06-2.06.94zm10 10l.94 2.06.94-2.06 2.06-.94-2.06-.94-.94-2.06-.94 2.06-2.06.94z\"/><path d=\"M17.41 7.96l-1.37-1.37c-.4-.4-.92-.59-1.43-.59-.52 0-1.04.2-1.43.59L10.3 9.45l-7.72 7.72c-.78.78-.78 2.05 0 2.83L4 21.41c.39.39.9.59 1.41.59.51 0 1.02-.2 1.41-.59l7.78-7.78 2.81-2.81c.8-.78.8-2.07 0-2.86zM5.41 20L4 18.59l7.72-7.72 1.47 1.35L5.41 20z\"/>\n",
              "  </svg>\n",
              "      </button>\n",
              "      \n",
              "  <style>\n",
              "    .colab-df-container {\n",
              "      display:flex;\n",
              "      flex-wrap:wrap;\n",
              "      gap: 12px;\n",
              "    }\n",
              "\n",
              "    .colab-df-convert {\n",
              "      background-color: #E8F0FE;\n",
              "      border: none;\n",
              "      border-radius: 50%;\n",
              "      cursor: pointer;\n",
              "      display: none;\n",
              "      fill: #1967D2;\n",
              "      height: 32px;\n",
              "      padding: 0 0 0 0;\n",
              "      width: 32px;\n",
              "    }\n",
              "\n",
              "    .colab-df-convert:hover {\n",
              "      background-color: #E2EBFA;\n",
              "      box-shadow: 0px 1px 2px rgba(60, 64, 67, 0.3), 0px 1px 3px 1px rgba(60, 64, 67, 0.15);\n",
              "      fill: #174EA6;\n",
              "    }\n",
              "\n",
              "    [theme=dark] .colab-df-convert {\n",
              "      background-color: #3B4455;\n",
              "      fill: #D2E3FC;\n",
              "    }\n",
              "\n",
              "    [theme=dark] .colab-df-convert:hover {\n",
              "      background-color: #434B5C;\n",
              "      box-shadow: 0px 1px 3px 1px rgba(0, 0, 0, 0.15);\n",
              "      filter: drop-shadow(0px 1px 2px rgba(0, 0, 0, 0.3));\n",
              "      fill: #FFFFFF;\n",
              "    }\n",
              "  </style>\n",
              "\n",
              "      <script>\n",
              "        const buttonEl =\n",
              "          document.querySelector('#df-f06fa8a4-31b1-4525-99ae-f16779999d14 button.colab-df-convert');\n",
              "        buttonEl.style.display =\n",
              "          google.colab.kernel.accessAllowed ? 'block' : 'none';\n",
              "\n",
              "        async function convertToInteractive(key) {\n",
              "          const element = document.querySelector('#df-f06fa8a4-31b1-4525-99ae-f16779999d14');\n",
              "          const dataTable =\n",
              "            await google.colab.kernel.invokeFunction('convertToInteractive',\n",
              "                                                     [key], {});\n",
              "          if (!dataTable) return;\n",
              "\n",
              "          const docLinkHtml = 'Like what you see? Visit the ' +\n",
              "            '<a target=\"_blank\" href=https://colab.research.google.com/notebooks/data_table.ipynb>data table notebook</a>'\n",
              "            + ' to learn more about interactive tables.';\n",
              "          element.innerHTML = '';\n",
              "          dataTable['output_type'] = 'display_data';\n",
              "          await google.colab.output.renderOutput(dataTable, element);\n",
              "          const docLink = document.createElement('div');\n",
              "          docLink.innerHTML = docLinkHtml;\n",
              "          element.appendChild(docLink);\n",
              "        }\n",
              "      </script>\n",
              "    </div>\n",
              "  </div>\n",
              "  "
            ]
          },
          "metadata": {},
          "execution_count": 366
        }
      ],
      "source": [
        "data.head()"
      ]
    },
    {
      "cell_type": "markdown",
      "metadata": {
        "id": "9P9FRGLBox8U"
      },
      "source": [
        "Создаем данные для обучения"
      ]
    },
    {
      "cell_type": "code",
      "execution_count": 367,
      "metadata": {
        "id": "PA5Rbu7iZqw5"
      },
      "outputs": [],
      "source": [
        "# список признаков, по которым будем учить\n",
        "#channelIndexes = [0,1, 2, 3] # BRENT\n",
        "channelIndexes = [0,1,2]\n",
        "\n",
        "# длина теста\n",
        "valLen = 100\n",
        "# длина истории для работы\n",
        "xLen = 14\n",
        "# отступ тестов от тренировок\n",
        "bias = 10\n",
        "\n",
        "# вычисляем точку разделения ряда на тесты и тренировку\n",
        "\n",
        "# делим\n",
        "train_data = data.iloc[0 : train_split ,channelIndexes]\n",
        "val_data = data.iloc[train_split+bias:,channelIndexes]\n",
        "\n"
      ]
    },
    {
      "cell_type": "code",
      "execution_count": 368,
      "metadata": {
        "colab": {
          "base_uri": "https://localhost:8080/",
          "height": 175
        },
        "id": "eXgegTh9bb_m",
        "outputId": "e1ba74b9-e505-40f6-d0b5-bb9b83c41dbf"
      },
      "outputs": [
        {
          "output_type": "execute_result",
          "data": {
            "text/plain": [
              "            Значение       day  year\n",
              "Date                                \n",
              "2010-09-01 -1.194457  0.666667     8\n",
              "2010-09-02 -1.167723  0.669399     8\n",
              "2010-09-03 -1.184175  0.672131     8"
            ],
            "text/html": [
              "\n",
              "  <div id=\"df-8684bedf-2c7c-4279-84cd-953936fdb11d\">\n",
              "    <div class=\"colab-df-container\">\n",
              "      <div>\n",
              "<style scoped>\n",
              "    .dataframe tbody tr th:only-of-type {\n",
              "        vertical-align: middle;\n",
              "    }\n",
              "\n",
              "    .dataframe tbody tr th {\n",
              "        vertical-align: top;\n",
              "    }\n",
              "\n",
              "    .dataframe thead th {\n",
              "        text-align: right;\n",
              "    }\n",
              "</style>\n",
              "<table border=\"1\" class=\"dataframe\">\n",
              "  <thead>\n",
              "    <tr style=\"text-align: right;\">\n",
              "      <th></th>\n",
              "      <th>Значение</th>\n",
              "      <th>day</th>\n",
              "      <th>year</th>\n",
              "    </tr>\n",
              "    <tr>\n",
              "      <th>Date</th>\n",
              "      <th></th>\n",
              "      <th></th>\n",
              "      <th></th>\n",
              "    </tr>\n",
              "  </thead>\n",
              "  <tbody>\n",
              "    <tr>\n",
              "      <th>2010-09-01</th>\n",
              "      <td>-1.194457</td>\n",
              "      <td>0.666667</td>\n",
              "      <td>8</td>\n",
              "    </tr>\n",
              "    <tr>\n",
              "      <th>2010-09-02</th>\n",
              "      <td>-1.167723</td>\n",
              "      <td>0.669399</td>\n",
              "      <td>8</td>\n",
              "    </tr>\n",
              "    <tr>\n",
              "      <th>2010-09-03</th>\n",
              "      <td>-1.184175</td>\n",
              "      <td>0.672131</td>\n",
              "      <td>8</td>\n",
              "    </tr>\n",
              "  </tbody>\n",
              "</table>\n",
              "</div>\n",
              "      <button class=\"colab-df-convert\" onclick=\"convertToInteractive('df-8684bedf-2c7c-4279-84cd-953936fdb11d')\"\n",
              "              title=\"Convert this dataframe to an interactive table.\"\n",
              "              style=\"display:none;\">\n",
              "        \n",
              "  <svg xmlns=\"http://www.w3.org/2000/svg\" height=\"24px\"viewBox=\"0 0 24 24\"\n",
              "       width=\"24px\">\n",
              "    <path d=\"M0 0h24v24H0V0z\" fill=\"none\"/>\n",
              "    <path d=\"M18.56 5.44l.94 2.06.94-2.06 2.06-.94-2.06-.94-.94-2.06-.94 2.06-2.06.94zm-11 1L8.5 8.5l.94-2.06 2.06-.94-2.06-.94L8.5 2.5l-.94 2.06-2.06.94zm10 10l.94 2.06.94-2.06 2.06-.94-2.06-.94-.94-2.06-.94 2.06-2.06.94z\"/><path d=\"M17.41 7.96l-1.37-1.37c-.4-.4-.92-.59-1.43-.59-.52 0-1.04.2-1.43.59L10.3 9.45l-7.72 7.72c-.78.78-.78 2.05 0 2.83L4 21.41c.39.39.9.59 1.41.59.51 0 1.02-.2 1.41-.59l7.78-7.78 2.81-2.81c.8-.78.8-2.07 0-2.86zM5.41 20L4 18.59l7.72-7.72 1.47 1.35L5.41 20z\"/>\n",
              "  </svg>\n",
              "      </button>\n",
              "      \n",
              "  <style>\n",
              "    .colab-df-container {\n",
              "      display:flex;\n",
              "      flex-wrap:wrap;\n",
              "      gap: 12px;\n",
              "    }\n",
              "\n",
              "    .colab-df-convert {\n",
              "      background-color: #E8F0FE;\n",
              "      border: none;\n",
              "      border-radius: 50%;\n",
              "      cursor: pointer;\n",
              "      display: none;\n",
              "      fill: #1967D2;\n",
              "      height: 32px;\n",
              "      padding: 0 0 0 0;\n",
              "      width: 32px;\n",
              "    }\n",
              "\n",
              "    .colab-df-convert:hover {\n",
              "      background-color: #E2EBFA;\n",
              "      box-shadow: 0px 1px 2px rgba(60, 64, 67, 0.3), 0px 1px 3px 1px rgba(60, 64, 67, 0.15);\n",
              "      fill: #174EA6;\n",
              "    }\n",
              "\n",
              "    [theme=dark] .colab-df-convert {\n",
              "      background-color: #3B4455;\n",
              "      fill: #D2E3FC;\n",
              "    }\n",
              "\n",
              "    [theme=dark] .colab-df-convert:hover {\n",
              "      background-color: #434B5C;\n",
              "      box-shadow: 0px 1px 3px 1px rgba(0, 0, 0, 0.15);\n",
              "      filter: drop-shadow(0px 1px 2px rgba(0, 0, 0, 0.3));\n",
              "      fill: #FFFFFF;\n",
              "    }\n",
              "  </style>\n",
              "\n",
              "      <script>\n",
              "        const buttonEl =\n",
              "          document.querySelector('#df-8684bedf-2c7c-4279-84cd-953936fdb11d button.colab-df-convert');\n",
              "        buttonEl.style.display =\n",
              "          google.colab.kernel.accessAllowed ? 'block' : 'none';\n",
              "\n",
              "        async function convertToInteractive(key) {\n",
              "          const element = document.querySelector('#df-8684bedf-2c7c-4279-84cd-953936fdb11d');\n",
              "          const dataTable =\n",
              "            await google.colab.kernel.invokeFunction('convertToInteractive',\n",
              "                                                     [key], {});\n",
              "          if (!dataTable) return;\n",
              "\n",
              "          const docLinkHtml = 'Like what you see? Visit the ' +\n",
              "            '<a target=\"_blank\" href=https://colab.research.google.com/notebooks/data_table.ipynb>data table notebook</a>'\n",
              "            + ' to learn more about interactive tables.';\n",
              "          element.innerHTML = '';\n",
              "          dataTable['output_type'] = 'display_data';\n",
              "          await google.colab.output.renderOutput(dataTable, element);\n",
              "          const docLink = document.createElement('div');\n",
              "          docLink.innerHTML = docLinkHtml;\n",
              "          element.appendChild(docLink);\n",
              "        }\n",
              "      </script>\n",
              "    </div>\n",
              "  </div>\n",
              "  "
            ]
          },
          "metadata": {},
          "execution_count": 368
        }
      ],
      "source": [
        "train_data.head(3)"
      ]
    },
    {
      "cell_type": "markdown",
      "metadata": {
        "id": "v-SA7Q5ApUBq"
      },
      "source": [
        "Формируем параметры для генерации выборки"
      ]
    },
    {
      "cell_type": "code",
      "execution_count": 369,
      "metadata": {
        "id": "aOvy_z69apsr"
      },
      "outputs": [],
      "source": [
        "# шаг по данным для построения обучающих примеров\n",
        "step = 1\n",
        "\n",
        "# длина прошлого \n",
        "past = xLen\n",
        "p = past\n",
        "# горизонт предсказания\n",
        "future = 1\n",
        "h=future\n",
        "\n",
        "# параметры модели для обучения\n",
        "learning_rate = 0.0005\n",
        "batch_size = 32\n",
        "epochs = 50\n"
      ]
    },
    {
      "cell_type": "markdown",
      "metadata": {
        "id": "iahymtOkqZwr"
      },
      "source": [
        "Выделяем части на обучение и проверку по правилам временных рядов:"
      ]
    },
    {
      "cell_type": "code",
      "execution_count": 370,
      "metadata": {
        "id": "25s4AHlvYD3g"
      },
      "outputs": [],
      "source": [
        "Chanel_numb = len(channelIndexes)\n",
        "\n",
        "start = xLen + future\n",
        "end = start + train_split-1\n",
        "\n",
        "xTrain_df = train_data.iloc[:-future-xLen+1,:] # сдвиг по времени для предсказания (закончить чуть раньше)\n",
        "xTrain = xTrain_df[[train_data.columns[i] for i in range(Chanel_numb)]].values\n",
        "yTrain = train_data.iloc[future+xLen-1:,0].values  # сдвиг по времени для предсказания (начать чуть позднее)\n",
        "\n",
        "sequence_length = int(xLen / step)\n",
        "\n",
        "\n",
        "x_end = len(val_data) - xLen - future \n",
        "\n",
        "label_start = len(train_data)+bias+xLen + future +1\n",
        "\n",
        "xVal_df = val_data.iloc[:-future-xLen+1,:] # сдвиг по времени для предсказания (закончить чуть раньше)\n",
        "xVal = xVal_df[[val_data.columns[i] for i in range(Chanel_numb)]].values\n",
        "yVal = val_data.iloc[future+xLen-1:,0].values  # сдвиг по времени для предсказания (начать чуть позднее)\n",
        "\n",
        "\n"
      ]
    },
    {
      "cell_type": "code",
      "execution_count": 371,
      "metadata": {
        "colab": {
          "base_uri": "https://localhost:8080/"
        },
        "id": "ALCr3lKPc3CR",
        "outputId": "6aa05d61-4bb1-4d55-e87f-adc74fc95e70"
      },
      "outputs": [
        {
          "output_type": "stream",
          "name": "stdout",
          "text": [
            "(1486, 3)\n",
            "(1486,)\n",
            "(1143, 3)\n",
            "(1143,)\n"
          ]
        }
      ],
      "source": [
        "print(xTrain.shape)\n",
        "\n",
        "print(yTrain.shape)\n",
        "\n",
        "\n",
        "print(xVal.shape)\n",
        "\n",
        "print(yVal.shape)"
      ]
    },
    {
      "cell_type": "markdown",
      "metadata": {
        "id": "nmNpYUg9qfEb"
      },
      "source": [
        "Посмотрим на них"
      ]
    },
    {
      "cell_type": "code",
      "execution_count": 372,
      "metadata": {
        "colab": {
          "base_uri": "https://localhost:8080/",
          "height": 350
        },
        "id": "8KQIT2AfJ87P",
        "outputId": "d5ed1b6c-6304-47f5-9f1f-62942b9631b1"
      },
      "outputs": [
        {
          "output_type": "display_data",
          "data": {
            "text/plain": [
              "<Figure size 720x360 with 1 Axes>"
            ],
            "image/png": "[encoded data removed]"
          },
          "metadata": {
            "needs_background": "light"
          }
        }
      ],
      "source": [
        "plt.figure(figsize = (10,5))\n",
        "plt.plot(data.index[xLen:yTrain.shape[0]+xLen],yTrain[:])\n",
        "plt.plot(data.index[yTrain.shape[0]+bias+future+2*xLen-1:],yVal[:])\n",
        "plt.grid()\n",
        "plt.xlabel('t, дни')\n",
        "plt.ylabel('$')\n",
        "#plt.title('стоимость BRENT в 2010-2018')\n",
        "plt.title('PJME')\n",
        "plt.show()"
      ]
    },
    {
      "cell_type": "markdown",
      "metadata": {
        "id": "WOZwUs8Vqh9r"
      },
      "source": [
        "Используем механизм формирования пакетов для обучения"
      ]
    },
    {
      "cell_type": "code",
      "execution_count": 373,
      "metadata": {
        "id": "VhuQwds5dJh7"
      },
      "outputs": [],
      "source": [
        "dataset_train = keras.preprocessing.timeseries_dataset_from_array(\n",
        "    xTrain,\n",
        "    yTrain,\n",
        "    sequence_length = xLen,\n",
        "    sampling_rate = 1,\n",
        "    batch_size = batch_size,\n",
        ")\n",
        "dataset_val = keras.preprocessing.timeseries_dataset_from_array(\n",
        "    xVal,\n",
        "    yVal,\n",
        "    sequence_length = xLen,\n",
        "    sampling_rate = 1,\n",
        "    batch_size = batch_size,\n",
        ")\n"
      ]
    },
    {
      "cell_type": "markdown",
      "source": [
        "Проверим , что все верно (для Х[i,xLen, :] y[i] - необходимо контролировать, что Х[i,xLen,0] не входит y[i])"
      ],
      "metadata": {
        "id": "f5nYYmRDZpkT"
      }
    },
    {
      "cell_type": "code",
      "execution_count": 374,
      "metadata": {
        "colab": {
          "base_uri": "https://localhost:8080/"
        },
        "id": "BZCByXmRgpVQ",
        "outputId": "96c59e55-2fd9-49de-c548-58e347db1008"
      },
      "outputs": [
        {
          "output_type": "stream",
          "name": "stdout",
          "text": [
            "Input shape: (32, 14, 3)\n",
            "Target shape: (32,)\n"
          ]
        }
      ],
      "source": [
        "for batch in dataset_val.take(2):\n",
        "    inputs, targets = batch\n",
        "\n",
        "print(\"Input shape:\", inputs.numpy().shape)\n",
        "print(\"Target shape:\", targets.numpy().shape)"
      ]
    },
    {
      "cell_type": "code",
      "execution_count": 375,
      "metadata": {
        "colab": {
          "base_uri": "https://localhost:8080/"
        },
        "id": "zh0rmtN6MphA",
        "outputId": "f898d0b2-808d-4a63-d2d2-0e7e7316f036"
      },
      "outputs": [
        {
          "output_type": "execute_result",
          "data": {
            "text/plain": [
              "<tf.Tensor: shape=(3,), dtype=float64, numpy=array([-2.53374017,  0.84153005, 13.        ])>"
            ]
          },
          "metadata": {},
          "execution_count": 375
        }
      ],
      "source": [
        "inputs[1,0,:]"
      ]
    },
    {
      "cell_type": "code",
      "execution_count": 376,
      "metadata": {
        "colab": {
          "base_uri": "https://localhost:8080/"
        },
        "id": "DDFzVhAWLmEH",
        "outputId": "46570ef8-4155-4c1c-c859-0f50cf73af23"
      },
      "outputs": [
        {
          "output_type": "execute_result",
          "data": {
            "text/plain": [
              "<tf.Tensor: shape=(14,), dtype=float64, numpy=\n",
              "array([-2.53374017, -2.61599939, -2.63964892, -2.66072785, -2.68694798,\n",
              "       -2.6926033 , -2.71059751, -2.79542734, -2.80828034, -2.82473218,\n",
              "       -2.86380532, -2.83295811, -2.84272639, -2.84786759])>"
            ]
          },
          "metadata": {},
          "execution_count": 376
        }
      ],
      "source": [
        "inputs[1,:,0]"
      ]
    },
    {
      "cell_type": "code",
      "execution_count": 377,
      "metadata": {
        "colab": {
          "base_uri": "https://localhost:8080/"
        },
        "id": "xidtgm-ILpy8",
        "outputId": "eb2f015e-2bdb-4725-ab1c-8ce234470029"
      },
      "outputs": [
        {
          "output_type": "execute_result",
          "data": {
            "text/plain": [
              "<tf.Tensor: shape=(), dtype=float64, numpy=-2.84786759273899>"
            ]
          },
          "metadata": {},
          "execution_count": 377
        }
      ],
      "source": [
        "targets[0]"
      ]
    },
    {
      "cell_type": "code",
      "execution_count": 378,
      "metadata": {
        "id": "4vh-kNW-K5RQ",
        "colab": {
          "base_uri": "https://localhost:8080/"
        },
        "outputId": "83c08089-d65f-4c2e-e405-cff347d6ec0e"
      },
      "outputs": [
        {
          "output_type": "stream",
          "name": "stdout",
          "text": [
            "Input shape: (32, 14, 3)\n",
            "Target shape: (32,)\n"
          ]
        }
      ],
      "source": [
        "for batch in dataset_train.take(2):\n",
        "    inputs, targets = batch\n",
        "\n",
        "print(\"Input shape:\", inputs.numpy().shape)\n",
        "print(\"Target shape:\", targets.numpy().shape)"
      ]
    },
    {
      "cell_type": "code",
      "execution_count": 379,
      "metadata": {
        "colab": {
          "base_uri": "https://localhost:8080/"
        },
        "id": "9xiFCpgxqsES",
        "outputId": "74e07f88-6caa-4dcd-d240-c228d7b80e51"
      },
      "outputs": [
        {
          "output_type": "execute_result",
          "data": {
            "text/plain": [
              "<tf.Tensor: shape=(14,), dtype=float64, numpy=\n",
              "array([-0.84794012, -0.79241514, -0.78521746, -0.82994591, -0.83354475,\n",
              "       -0.75899733, -0.80115518, -0.86593432, -0.87827321, -0.78470334,\n",
              "       -0.9620748 , -0.82017763, -0.90295098, -0.85873664])>"
            ]
          },
          "metadata": {},
          "execution_count": 379
        }
      ],
      "source": [
        "inputs[0,:,0]"
      ]
    },
    {
      "cell_type": "code",
      "execution_count": 380,
      "metadata": {
        "colab": {
          "base_uri": "https://localhost:8080/"
        },
        "id": "NPeJ6pOirP1X",
        "outputId": "286ea0ce-6ada-42df-9d15-f602851c392e"
      },
      "outputs": [
        {
          "output_type": "execute_result",
          "data": {
            "text/plain": [
              "<tf.Tensor: shape=(), dtype=float64, numpy=-0.8561660392456478>"
            ]
          },
          "metadata": {},
          "execution_count": 380
        }
      ],
      "source": [
        "targets[0]"
      ]
    },
    {
      "cell_type": "markdown",
      "metadata": {
        "id": "qE_vmenqkqCp"
      },
      "source": [
        "**сеть:  LSTM слои+Conv1D +Dense слой.**"
      ]
    },
    {
      "cell_type": "code",
      "execution_count": 381,
      "metadata": {
        "colab": {
          "base_uri": "https://localhost:8080/",
          "height": 493
        },
        "id": "JHXhRpxJg5Fq",
        "outputId": "e697b88f-a298-4114-9ac3-5d6b9977d5b5"
      },
      "outputs": [
        {
          "output_type": "stream",
          "name": "stdout",
          "text": [
            "Epoch 1/50\n",
            "47/47 [==============================] - 4s 30ms/step - loss: 0.8637 - mae: 0.6302 - val_loss: 0.7528 - val_mae: 0.7185\n",
            "Epoch 2/50\n",
            "47/47 [==============================] - 1s 15ms/step - loss: 1.1677 - mae: 0.7745 - val_loss: 1.0728 - val_mae: 0.8819\n",
            "Epoch 3/50\n",
            "47/47 [==============================] - 1s 15ms/step - loss: 1.1564 - mae: 0.7651 - val_loss: 1.0357 - val_mae: 0.8624\n",
            "Epoch 4/50\n",
            "47/47 [==============================] - 1s 14ms/step - loss: 1.2155 - mae: 0.7717 - val_loss: 3.5965 - val_mae: 1.7870\n",
            "Epoch 5/50\n",
            "47/47 [==============================] - 1s 14ms/step - loss: 0.9494 - mae: 0.6973 - val_loss: 3.0352 - val_mae: 1.6498\n",
            "Epoch 6/50\n",
            "47/47 [==============================] - 1s 15ms/step - loss: 0.4299 - mae: 0.4987 - val_loss: 0.8524 - val_mae: 0.8750\n"
          ]
        },
        {
          "output_type": "display_data",
          "data": {
            "text/plain": [
              "<Figure size 432x288 with 1 Axes>"
            ],
            "image/png": "[encoded data removed]"
          },
          "metadata": {
            "needs_background": "light"
          }
        }
      ],
      "source": [
        "callbaсk = EarlyStopping(monitor='val_mae', patience=5)\n",
        "\n",
        "model = Sequential()\n",
        "\n",
        "model.add(LSTM(64, input_shape = (inputs.shape[1], inputs.shape[2]), return_sequences=\"True\"))\n",
        "model.add(LSTM(64, return_sequences = \"True\")) # <None, 3,32>\n",
        "model.add(Conv1D(64, 3, activation = \"linear\")) #(None,3,64)\n",
        "\n",
        "model.add(Flatten())                          # (None, 3*64)\n",
        "model.add(Dense(3, activation = \"linear\"))      # (None,3)\n",
        "\n",
        "model.add(Dense(1, activation = \"linear\"))\n",
        "\n",
        "model.compile(loss = \"mse\", optimizer = \"adam\", metrics = ['mae'])\n",
        "\n",
        "history = model.fit(\n",
        "    dataset_train,\n",
        "    epochs = epochs,\n",
        "    validation_data = dataset_val,\n",
        "    callbacks = [callbaсk])\n",
        "\n",
        "\n",
        "plt.plot(history.history['mae'][1:], \n",
        "         label = 'Средняя абсолютная ошибка на обучающем наборе')\n",
        "plt.plot(history.history['val_mae'][1:], \n",
        "         label = 'Средняя абсолютная ошибка на проверочном наборе')\n",
        "plt.ylabel('Средняя ошибка')\n",
        "plt.grid()\n",
        "plt.legend()\n",
        "plt.show()"
      ]
    },
    {
      "cell_type": "code",
      "execution_count": 382,
      "metadata": {
        "id": "cFOlgPE_SEli"
      },
      "outputs": [],
      "source": [
        "hist_val = history.history['val_mae']\n",
        "hist_train = history.history['mae']"
      ]
    },
    {
      "cell_type": "markdown",
      "metadata": {
        "id": "sTVYH8bynCXK"
      },
      "source": [
        "Проверяем результаты:\n",
        "\n",
        "- строим предсказание\n",
        "- рисуем прогноз для тестовой части \n",
        "- рисуем прогноз по тренировочной части"
      ]
    },
    {
      "cell_type": "code",
      "execution_count": 383,
      "metadata": {
        "id": "wuKT4O2WjZiQ",
        "colab": {
          "base_uri": "https://localhost:8080/"
        },
        "outputId": "91d64a67-285b-4cc1-aeb9-eb00ae6456df"
      },
      "outputs": [
        {
          "output_type": "stream",
          "name": "stdout",
          "text": [
            "47/47 [==============================] - 1s 6ms/step\n",
            "36/36 [==============================] - 0s 6ms/step\n"
          ]
        }
      ],
      "source": [
        "pred = model.predict(dataset_train).flatten()\n",
        "predVal = model.predict(dataset_val).flatten()"
      ]
    },
    {
      "cell_type": "markdown",
      "metadata": {
        "id": "IUpfiwfKGVhj"
      },
      "source": [
        "Валидация:"
      ]
    },
    {
      "cell_type": "code",
      "execution_count": 384,
      "metadata": {
        "colab": {
          "base_uri": "https://localhost:8080/",
          "height": 334
        },
        "id": "pdX1EKOo0VMU",
        "outputId": "74c61049-9d8c-4bf4-cbed-3a2ea28e370e"
      },
      "outputs": [
        {
          "output_type": "display_data",
          "data": {
            "text/plain": [
              "<Figure size 720x360 with 1 Axes>"
            ],
            "image/png": "[encoded data removed]"
          },
          "metadata": {
            "needs_background": "light"
          }
        }
      ],
      "source": [
        "start = 0\n",
        "step = 150\n",
        "plt.figure(figsize=(10,5))\n",
        "plt.grid('on')\n",
        "plt.plot(predVal[start:start+step], \n",
        "         label = 'Прогноз')\n",
        "plt.plot(yVal.flatten()[start:start+step], \n",
        "         label = 'Базовый ряд')\n",
        "plt.xlabel('Время')\n",
        "plt.ylabel('Значение ')\n",
        "\n",
        "plt.legend()\n",
        "plt.show()"
      ]
    },
    {
      "cell_type": "markdown",
      "metadata": {
        "id": "t5_g11N-GZdD"
      },
      "source": [
        "Тренировочные даннные:"
      ]
    },
    {
      "cell_type": "code",
      "execution_count": 385,
      "metadata": {
        "colab": {
          "base_uri": "https://localhost:8080/",
          "height": 334
        },
        "id": "O0EVYFpTluiY",
        "outputId": "9acab33c-c144-437f-b5c6-b24cb5345ea2"
      },
      "outputs": [
        {
          "output_type": "display_data",
          "data": {
            "text/plain": [
              "<Figure size 720x360 with 1 Axes>"
            ],
            "image/png": "[encoded data removed]"
          },
          "metadata": {
            "needs_background": "light"
          }
        }
      ],
      "source": [
        "start = 0\n",
        "\n",
        "\n",
        "plt.figure(figsize = (10,5))\n",
        "plt.grid('on')\n",
        "plt.plot(pred[start:train_split], \n",
        "         label = 'Прогноз')\n",
        "plt.plot(yTrain.flatten()[start:train_split], \n",
        "         label = 'Базовый ряд')\n",
        "plt.xlabel('Время')\n",
        "plt.ylabel('Значение Close')\n",
        "plt.legend()\n",
        "plt.show()"
      ]
    },
    {
      "cell_type": "markdown",
      "metadata": {
        "id": "U3gW5SKunYaC"
      },
      "source": [
        "Проверяем качество модели:\n",
        "- оценим по лаговой корреляции рядов a, b;\n",
        "- если наибольшая корреляция с лагом 0, то отлично;\n",
        "- есди максимум корреляциии на лаге , равном глубине прогноза, то тривиальное предсказание (завтра, как сегодня).\n"
      ]
    },
    {
      "cell_type": "code",
      "execution_count": 386,
      "metadata": {
        "id": "0fB0f5GncVkc"
      },
      "outputs": [],
      "source": [
        "def correlate(a, b):\n",
        "  ma = a.mean()\n",
        "  mb = b.mean()\n",
        "  mab = (a*b).mean()\n",
        "  sa = a.std()\n",
        "  sb = b.std()\n",
        "  \n",
        "  val = 0\n",
        "  if ((sa>0) & (sb>0)):\n",
        "    val = (mab-ma*mb)/(sa*sb)\n",
        "  return val"
      ]
    },
    {
      "cell_type": "code",
      "execution_count": 387,
      "metadata": {
        "colab": {
          "base_uri": "https://localhost:8080/",
          "height": 283
        },
        "id": "HbW-tefen8Qz",
        "outputId": "6e12dd0f-73e5-4a02-eaee-b3c7b2b2085f"
      },
      "outputs": [
        {
          "output_type": "display_data",
          "data": {
            "text/plain": [
              "<Figure size 432x288 with 1 Axes>"
            ],
            "image/png": "[encoded data removed]"
          },
          "metadata": {
            "needs_background": "light"
          }
        }
      ],
      "source": [
        "corr = []\n",
        "start = 0 # начальная точка для проверки корреляций рядов\n",
        "step = 150 # число точек для проверки корреляций рядов\n",
        "h=0\n",
        "yLen = yVal.shape[0]\n",
        "yValF = yVal[start:start+step].flatten() # ряд истиных значений\n",
        "yPredVal = predVal[start:start+step] # ряд предсказаний \n",
        "# смотрим лаговые корреляции yValF[:-i], yPredVal[i:] для лагов от 0 до 5\n",
        "for i in range(5):\n",
        "  corr.append(correlate(yValF[:-1-i], yPredVal[i:-1]))\n",
        "  \n",
        "plt.plot(corr, \n",
        "         label = 'Корреляция')\n",
        "plt.xlabel('лаговое расстояние между рядами')\n",
        "plt.ylabel('Значение корреляции')\n",
        "plt.grid()\n",
        "plt.legend()\n",
        "plt.show()"
      ]
    },
    {
      "cell_type": "markdown",
      "metadata": {
        "id": "B25GIESyETps"
      },
      "source": [
        "Хорошая картинки лаговой корреляции ряда yValF[:-i], yPredVal[i:]"
      ]
    },
    {
      "cell_type": "code",
      "execution_count": 388,
      "metadata": {
        "colab": {
          "base_uri": "https://localhost:8080/"
        },
        "id": "KoN78Mzzzbke",
        "outputId": "061e576b-d445-41d8-e32c-68381d463c34"
      },
      "outputs": [
        {
          "output_type": "execute_result",
          "data": {
            "text/plain": [
              "[0.8772440685948191,\n",
              " 0.8850214405464563,\n",
              " 0.8949646784652312,\n",
              " 0.9061568185202231,\n",
              " 0.918013638138839]"
            ]
          },
          "metadata": {},
          "execution_count": 388
        }
      ],
      "source": [
        "corr"
      ]
    },
    {
      "cell_type": "markdown",
      "metadata": {
        "id": "JZCXNN6lY7tl"
      },
      "source": [
        "## **Дополнительные материалы**\n",
        "простой ресурс про методы для работы с временными рядами\n",
        "\n",
        "http://statsoft.ru/home/textbook/modules/sttimser.html\n",
        "\n",
        "\n",
        "Анализ временных рядов \n",
        "\n",
        "https://habr.com/ru/company/ods/blog/327242/"
      ]
    },
    {
      "cell_type": "markdown",
      "source": [
        "Задание 1\n",
        "\n",
        "  - Использовать данные PJME_Потребление_энергии_D.csv и провести генерацию в модели из примера.\n",
        "  - Провести генерацию для данных Brent2019.csv\n",
        "  - Сравнить результаты: провести анализ успешности генерации модели Brent2019.csv в сравнении с PJME_Потребление_энергии_D.csv. \n",
        "\n",
        "  - загрузить набор данных monthly-milk-production.csv\n",
        "  - собрать данные для анализа временного ряда с горизонтом прогноза 1 месяц вперед\n",
        "  - разделить данные по правилам временных рядов\n",
        "  - собрать модель для анализа (в составе LSTM, ConvD1, Dense - слоев )\n",
        "  - оценить влияние длины истории (xLen = 2 , 6, 12)\n",
        "  - оценить изменение качества предсказания от ширины сети (3 вариации)"
      ],
      "metadata": {
        "id": "grFsv_RBJ6Uu"
      }
    },
    {
      "cell_type": "code",
      "source": [
        "from tensorflow.keras.preprocessing.sequence import pad_sequences\n",
        "from tensorflow.keras.layers import Embedding, LSTM, Dense, Dropout, Bidirectional\n",
        "from tensorflow.keras.preprocessing.text import Tokenizer\n",
        "from tensorflow.keras.models import Sequential\n",
        "from tensorflow.keras.optimizers import Adam\n",
        "from tensorflow.keras.losses import CategoricalCrossentropy\n",
        "from tensorflow.keras import regularizers\n",
        "import tensorflow.keras.utils as ku \n",
        "import tensorflow.keras as keras \n",
        "import numpy as np \n",
        "\n",
        "from tensorflow.keras.callbacks import EarlyStopping"
      ],
      "metadata": {
        "id": "mv9HPNDjLRIV"
      },
      "execution_count": 342,
      "outputs": []
    },
    {
      "cell_type": "markdown",
      "source": [
        "Разбор текста - Токенизация\n"
      ],
      "metadata": {
        "id": "oMMjqKrBLoOR"
      }
    },
    {
      "cell_type": "code",
      "execution_count": null,
      "metadata": {
        "colab": {
          "base_uri": "https://localhost:8080/"
        },
        "id": "-6b4_D1DUPQV",
        "outputId": "fdc51848-8fbb-4aba-b1eb-16ca18e9d015"
      },
      "outputs": [
        {
          "output_type": "stream",
          "name": "stdout",
          "text": [
            "--2022-12-15 19:40:40--  https://storage.googleapis.com/laurencemoroney-blog.appspot.com/sonnets.txt\n",
            "Resolving storage.googleapis.com (storage.googleapis.com)... 142.250.188.48, 142.251.111.128, 172.217.13.240, ...\n",
            "Connecting to storage.googleapis.com (storage.googleapis.com)|142.250.188.48|:443... connected.\n",
            "HTTP request sent, awaiting response... 200 OK\n",
            "Length: 93578 (91K) [text/plain]\n",
            "Saving to: ‘/tmp/sonnets.txt’\n",
            "\n",
            "\r/tmp/sonnets.txt      0%[                    ]       0  --.-KB/s               \r/tmp/sonnets.txt    100%[===================>]  91.38K  --.-KB/s    in 0.001s  \n",
            "\n",
            "2022-12-15 19:40:40 (128 MB/s) - ‘/tmp/sonnets.txt’ saved [93578/93578]\n",
            "\n"
          ]
        }
      ],
      "source": [
        "# Создаем объект для токенизапции\n",
        "tokenizer = Tokenizer(  num_words=10000)\n",
        "!wget --no-check-certificate \\\n",
        "    https://storage.googleapis.com/laurencemoroney-blog.appspot.com/sonnets.txt \\\n",
        "    -O /tmp/sonnets.txt\n",
        "data = open('/tmp/sonnets.txt').read()\n",
        "#Читаем текст\n",
        "corpus = data.lower().split(\"\\n\")"
      ]
    },
    {
      "cell_type": "code",
      "execution_count": null,
      "metadata": {
        "colab": {
          "base_uri": "https://localhost:8080/"
        },
        "id": "h8AtaI3FUUXf",
        "outputId": "e1a8b2b6-1ead-47de-d944-80edfa95d307"
      },
      "outputs": [
        {
          "output_type": "execute_result",
          "data": {
            "text/plain": [
              "['from fairest creatures we desire increase,',\n",
              " \"that thereby beauty's rose might never die,\",\n",
              " 'but as the riper should by time decease,',\n",
              " 'his tender heir might bear his memory:',\n",
              " 'but thou, contracted to thine own bright eyes,',\n",
              " \"feed'st thy light'st flame with self-substantial fuel,\",\n",
              " 'making a famine where abundance lies,',\n",
              " 'thyself thy foe, to thy sweet self too cruel.',\n",
              " \"thou that art now the world's fresh ornament\",\n",
              " 'and only herald to the gaudy spring,']"
            ]
          },
          "metadata": {},
          "execution_count": 39
        }
      ],
      "source": [
        "corpus[:10]"
      ]
    },
    {
      "cell_type": "markdown",
      "metadata": {
        "id": "kvj2zIe-jF2D"
      },
      "source": [
        "Исполним токенизацию и кодирование"
      ]
    },
    {
      "cell_type": "code",
      "execution_count": null,
      "metadata": {
        "id": "PRnDnCW-Z7qv"
      },
      "outputs": [],
      "source": [
        "tokenizer.fit_on_texts( corpus)\n",
        "total_words = len(tokenizer.word_index) + 1\n",
        "\n",
        "# create input sequences using list of tokens\n",
        "input_sequences = []\n",
        "for line in corpus:\n",
        "\ttoken_list = tokenizer.texts_to_sequences([line])[0]\n",
        "\tfor i in range(1, len(token_list)):\n",
        "\t\tn_gram_sequence = token_list[:i+1]\n",
        "\t\tinput_sequences.append(n_gram_sequence)\n",
        "\n",
        "\n",
        "# pad sequences \n",
        "max_sequence_len = max([len(x) for x in input_sequences])\n",
        "input_sequences = np.array(pad_sequences(input_sequences, maxlen=max_sequence_len, padding='pre'))\n",
        "\n",
        "# create predictors and label\n",
        "predictors, label = input_sequences[:,:-1],input_sequences[:,-1]\n",
        "\n",
        "label = ku.to_categorical(label, num_classes=total_words)"
      ]
    },
    {
      "cell_type": "code",
      "execution_count": null,
      "metadata": {
        "colab": {
          "base_uri": "https://localhost:8080/"
        },
        "id": "LSGhbRqt8tim",
        "outputId": "7a751654-f6e6-42a6-a7a3-ce5e64098934"
      },
      "outputs": [
        {
          "output_type": "execute_result",
          "data": {
            "text/plain": [
              "[]"
            ]
          },
          "metadata": {},
          "execution_count": 163
        }
      ],
      "source": [
        "token_list"
      ]
    },
    {
      "cell_type": "code",
      "execution_count": null,
      "metadata": {
        "colab": {
          "base_uri": "https://localhost:8080/",
          "height": 35
        },
        "id": "zMuJEMRCiA_0",
        "outputId": "b6694292-2f99-44ca-9517-cec58b8538f9"
      },
      "outputs": [
        {
          "output_type": "execute_result",
          "data": {
            "text/plain": [
              "'love'"
            ],
            "application/vnd.google.colaboratory.intrinsic+json": {
              "type": "string"
            }
          },
          "metadata": {},
          "execution_count": 164
        }
      ],
      "source": [
        "tokenizer.index_word[14]"
      ]
    },
    {
      "cell_type": "code",
      "execution_count": null,
      "metadata": {
        "colab": {
          "base_uri": "https://localhost:8080/"
        },
        "id": "GBEiqyoQhlEd",
        "outputId": "0f09f5cc-76b1-46d5-cfcd-bf666fde2b31"
      },
      "outputs": [
        {
          "output_type": "execute_result",
          "data": {
            "text/plain": [
              "14"
            ]
          },
          "metadata": {},
          "execution_count": 165
        }
      ],
      "source": [
        "tokenizer.word_index['love']"
      ]
    },
    {
      "cell_type": "code",
      "execution_count": null,
      "metadata": {
        "colab": {
          "base_uri": "https://localhost:8080/"
        },
        "id": "KRj9wFSMhdWQ",
        "outputId": "d29cbda5-6917-49df-941e-4e96fbc55588"
      },
      "outputs": [
        {
          "output_type": "execute_result",
          "data": {
            "text/plain": [
              "array([[  0,   0,   0,   0,   0,   0,   0,   0,   0,  16,  22],\n",
              "       [  0,   0,   0,   0,   0,   0,   0,   0,  16,  22,   2],\n",
              "       [  0,   0,   0,   0,   0,   0,   0,  16,  22,   2, 879],\n",
              "       [  0,   0,   0,   0,   0,   0,  16,  22,   2, 879,  61]],\n",
              "      dtype=int32)"
            ]
          },
          "metadata": {},
          "execution_count": 166
        }
      ],
      "source": [
        "input_sequences[11:15,:]"
      ]
    },
    {
      "cell_type": "code",
      "execution_count": null,
      "metadata": {
        "colab": {
          "base_uri": "https://localhost:8080/"
        },
        "id": "oEBa1IEtghmP",
        "outputId": "22a38f8b-356f-49f0-c722-a3d9dd57f3e2"
      },
      "outputs": [
        {
          "output_type": "execute_result",
          "data": {
            "text/plain": [
              "(15462, 3211)"
            ]
          },
          "metadata": {},
          "execution_count": 167
        }
      ],
      "source": [
        "label.shape"
      ]
    },
    {
      "cell_type": "markdown",
      "metadata": {
        "id": "0ZMOORKCjpUU"
      },
      "source": [
        "Создаем сеть"
      ]
    },
    {
      "cell_type": "code",
      "execution_count": null,
      "metadata": {
        "id": "_UgOcPDkVlV8"
      },
      "outputs": [],
      "source": [
        "callback = EarlyStopping( monitor = 'val_accuracy', patience = 10) # создаем обратный вызов - calback - тут \"Ранний останов\""
      ]
    },
    {
      "cell_type": "code",
      "source": [
        "latent_dim = 128 # размер вектора эмбединга\n",
        "\n",
        "latent_lstm = 256 # размер рекуррентного слоя \n",
        "\n",
        "lr = 0.001 # скорость обучения"
      ],
      "metadata": {
        "id": "oWlLDMDGNIfU"
      },
      "execution_count": null,
      "outputs": []
    },
    {
      "cell_type": "code",
      "execution_count": null,
      "metadata": {
        "colab": {
          "base_uri": "https://localhost:8080/"
        },
        "id": "w9vH8Y59ajYL",
        "outputId": "dc3fcd1b-8838-47ca-9dca-9088ddbf1972"
      },
      "outputs": [
        {
          "output_type": "stream",
          "name": "stdout",
          "text": [
            "Model: \"sequential_37\"\n",
            "_________________________________________________________________\n",
            " Layer (type)                Output Shape              Param #   \n",
            "=================================================================\n",
            " embedding_37 (Embedding)    (None, 10, 128)           411008    \n",
            "                                                                 \n",
            " lstm_37 (LSTM)              (None, 256)               394240    \n",
            "                                                                 \n",
            " dropout_37 (Dropout)        (None, 256)               0         \n",
            "                                                                 \n",
            " dense_74 (Dense)            (None, 1605)              412485    \n",
            "                                                                 \n",
            " dense_75 (Dense)            (None, 3211)              5156866   \n",
            "                                                                 \n",
            "=================================================================\n",
            "Total params: 6,374,599\n",
            "Trainable params: 6,374,599\n",
            "Non-trainable params: 0\n",
            "_________________________________________________________________\n",
            "None\n"
          ]
        }
      ],
      "source": [
        "model = Sequential()\n",
        "model.add(Embedding(total_words, latent_dim, input_length = max_sequence_len-1))  # вложение тренируемое для перехода от слова к его векторному коду \n",
        "# на вход вложения (эмбединга) передаем вектор словарь (длина равна словарю, вектор разреженный)), на выход строим вектор из n (тут 256) координат - он плотный\n",
        "#model.add(Bidirectional(LSTM(50, return_sequences = True)))\n",
        "\n",
        "model.add(LSTM(latent_lstm ))\n",
        "model.add(Dropout( 0.2))\n",
        "model.add(Dense(total_words // 2, activation = 'relu', kernel_regularizer = regularizers.l2(0.1)))\n",
        "model.add(Dense(total_words, activation = 'softmax'))\n",
        "\n",
        "lr_schedule = keras.optimizers.schedules.ExponentialDecay(initial_learning_rate=lr,\n",
        "                                                             decay_steps=500,decay_rate=0.9)\n",
        "\n",
        "model.compile(loss = CategoricalCrossentropy(from_logits=False), optimizer = Adam(learning_rate=lr_schedule ), metrics = ['accuracy'])\n",
        "print(model.summary())\n"
      ]
    },
    {
      "cell_type": "code",
      "execution_count": null,
      "metadata": {
        "colab": {
          "base_uri": "https://localhost:8080/"
        },
        "id": "AIg2f1HBxqof",
        "outputId": "09af6afd-4181-4fa9-8f26-1088e85500f0"
      },
      "outputs": [
        {
          "output_type": "stream",
          "name": "stdout",
          "text": [
            "Epoch 1/100\n",
            "387/387 [==============================] - 5s 8ms/step - loss: 8.6905 - accuracy: 0.0226 - val_loss: 6.7345 - val_accuracy: 0.0162\n",
            "Epoch 2/100\n",
            "387/387 [==============================] - 3s 8ms/step - loss: 6.5207 - accuracy: 0.0244 - val_loss: 6.8450 - val_accuracy: 0.0162\n",
            "Epoch 3/100\n",
            "387/387 [==============================] - 3s 7ms/step - loss: 6.4280 - accuracy: 0.0253 - val_loss: 6.9759 - val_accuracy: 0.0162\n",
            "Epoch 4/100\n",
            "387/387 [==============================] - 3s 8ms/step - loss: 6.3611 - accuracy: 0.0257 - val_loss: 7.0601 - val_accuracy: 0.0162\n",
            "Epoch 5/100\n",
            "387/387 [==============================] - 3s 7ms/step - loss: 6.3079 - accuracy: 0.0275 - val_loss: 7.1273 - val_accuracy: 0.0168\n",
            "Epoch 6/100\n",
            "387/387 [==============================] - 3s 7ms/step - loss: 6.2616 - accuracy: 0.0334 - val_loss: 7.1789 - val_accuracy: 0.0213\n",
            "Epoch 7/100\n",
            "387/387 [==============================] - 3s 7ms/step - loss: 6.2122 - accuracy: 0.0354 - val_loss: 7.2248 - val_accuracy: 0.0210\n",
            "Epoch 8/100\n",
            "387/387 [==============================] - 3s 7ms/step - loss: 6.1570 - accuracy: 0.0366 - val_loss: 7.3455 - val_accuracy: 0.0239\n",
            "Epoch 9/100\n",
            "387/387 [==============================] - 3s 7ms/step - loss: 6.1033 - accuracy: 0.0408 - val_loss: 7.3792 - val_accuracy: 0.0259\n",
            "Epoch 10/100\n",
            "387/387 [==============================] - 3s 7ms/step - loss: 6.0467 - accuracy: 0.0412 - val_loss: 7.4579 - val_accuracy: 0.0249\n",
            "Epoch 11/100\n",
            "387/387 [==============================] - 3s 7ms/step - loss: 5.9968 - accuracy: 0.0441 - val_loss: 7.4602 - val_accuracy: 0.0239\n",
            "Epoch 12/100\n",
            "387/387 [==============================] - 3s 7ms/step - loss: 5.9497 - accuracy: 0.0451 - val_loss: 7.7085 - val_accuracy: 0.0233\n",
            "Epoch 13/100\n",
            "387/387 [==============================] - 3s 7ms/step - loss: 5.9121 - accuracy: 0.0449 - val_loss: 7.7051 - val_accuracy: 0.0236\n",
            "Epoch 14/100\n",
            "387/387 [==============================] - 3s 7ms/step - loss: 5.8725 - accuracy: 0.0470 - val_loss: 7.8074 - val_accuracy: 0.0265\n",
            "Epoch 15/100\n",
            "387/387 [==============================] - 3s 7ms/step - loss: 5.8345 - accuracy: 0.0481 - val_loss: 7.9541 - val_accuracy: 0.0239\n",
            "Epoch 16/100\n",
            "387/387 [==============================] - 3s 7ms/step - loss: 5.8029 - accuracy: 0.0479 - val_loss: 7.8792 - val_accuracy: 0.0265\n",
            "Epoch 17/100\n",
            "387/387 [==============================] - 3s 8ms/step - loss: 5.7693 - accuracy: 0.0509 - val_loss: 7.8964 - val_accuracy: 0.0262\n",
            "Epoch 18/100\n",
            "387/387 [==============================] - 3s 8ms/step - loss: 5.7388 - accuracy: 0.0505 - val_loss: 8.1229 - val_accuracy: 0.0265\n",
            "Epoch 19/100\n",
            "387/387 [==============================] - 3s 7ms/step - loss: 5.7119 - accuracy: 0.0509 - val_loss: 8.1626 - val_accuracy: 0.0268\n",
            "Epoch 20/100\n",
            "387/387 [==============================] - 3s 7ms/step - loss: 5.6873 - accuracy: 0.0513 - val_loss: 8.2040 - val_accuracy: 0.0285\n",
            "Epoch 21/100\n",
            "387/387 [==============================] - 3s 7ms/step - loss: 5.6582 - accuracy: 0.0521 - val_loss: 8.2063 - val_accuracy: 0.0281\n",
            "Epoch 22/100\n",
            "387/387 [==============================] - 3s 7ms/step - loss: 5.6368 - accuracy: 0.0532 - val_loss: 8.2472 - val_accuracy: 0.0294\n",
            "Epoch 23/100\n",
            "387/387 [==============================] - 3s 7ms/step - loss: 5.6141 - accuracy: 0.0551 - val_loss: 8.3831 - val_accuracy: 0.0288\n",
            "Epoch 24/100\n",
            "387/387 [==============================] - 3s 8ms/step - loss: 5.5930 - accuracy: 0.0574 - val_loss: 8.4860 - val_accuracy: 0.0281\n",
            "Epoch 25/100\n",
            "387/387 [==============================] - 3s 7ms/step - loss: 5.5721 - accuracy: 0.0562 - val_loss: 8.3347 - val_accuracy: 0.0301\n",
            "Epoch 26/100\n",
            "387/387 [==============================] - 3s 7ms/step - loss: 5.5514 - accuracy: 0.0585 - val_loss: 8.5134 - val_accuracy: 0.0304\n",
            "Epoch 27/100\n",
            "387/387 [==============================] - 3s 7ms/step - loss: 5.5309 - accuracy: 0.0595 - val_loss: 8.5252 - val_accuracy: 0.0320\n",
            "Epoch 28/100\n",
            "387/387 [==============================] - 3s 7ms/step - loss: 5.5173 - accuracy: 0.0609 - val_loss: 8.6673 - val_accuracy: 0.0291\n",
            "Epoch 29/100\n",
            "387/387 [==============================] - 3s 7ms/step - loss: 5.5005 - accuracy: 0.0597 - val_loss: 8.6518 - val_accuracy: 0.0320\n",
            "Epoch 30/100\n",
            "387/387 [==============================] - 3s 7ms/step - loss: 5.4844 - accuracy: 0.0617 - val_loss: 8.7088 - val_accuracy: 0.0297\n",
            "Epoch 31/100\n",
            "387/387 [==============================] - 3s 7ms/step - loss: 5.4713 - accuracy: 0.0610 - val_loss: 8.6855 - val_accuracy: 0.0310\n",
            "Epoch 32/100\n",
            "387/387 [==============================] - 3s 7ms/step - loss: 5.4552 - accuracy: 0.0632 - val_loss: 8.7724 - val_accuracy: 0.0307\n",
            "Epoch 33/100\n",
            "387/387 [==============================] - 3s 7ms/step - loss: 5.4463 - accuracy: 0.0628 - val_loss: 8.7506 - val_accuracy: 0.0297\n",
            "Epoch 34/100\n",
            "387/387 [==============================] - 3s 7ms/step - loss: 5.4335 - accuracy: 0.0631 - val_loss: 8.8773 - val_accuracy: 0.0307\n",
            "Epoch 35/100\n",
            "387/387 [==============================] - 3s 7ms/step - loss: 5.4230 - accuracy: 0.0643 - val_loss: 8.8240 - val_accuracy: 0.0297\n",
            "Epoch 36/100\n",
            "387/387 [==============================] - 3s 7ms/step - loss: 5.4133 - accuracy: 0.0665 - val_loss: 8.8460 - val_accuracy: 0.0281\n",
            "Epoch 37/100\n",
            "387/387 [==============================] - 3s 7ms/step - loss: 5.4033 - accuracy: 0.0658 - val_loss: 8.8813 - val_accuracy: 0.0314\n"
          ]
        }
      ],
      "source": [
        "history = model.fit(predictors, label, epochs=100, validation_split=0.2, callbacks=[callback],verbose=1)"
      ]
    },
    {
      "cell_type": "markdown",
      "metadata": {
        "id": "qdhjEfBElNMC"
      },
      "source": [
        "Тест\n"
      ]
    },
    {
      "cell_type": "code",
      "execution_count": 221,
      "metadata": {
        "colab": {
          "base_uri": "https://localhost:8080/",
          "height": 573
        },
        "id": "1fXTEO3GJ282",
        "outputId": "574ef337-73e7-407b-b787-6a5737bf40e5"
      },
      "outputs": [
        {
          "output_type": "display_data",
          "data": {
            "text/plain": [
              "<Figure size 432x288 with 1 Axes>"
            ],
            "image/png": "[encoded data removed]"
          },
          "metadata": {
            "needs_background": "light"
          }
        },
        {
          "output_type": "display_data",
          "data": {
            "text/plain": [
              "<Figure size 432x288 with 1 Axes>"
            ],
            "image/png": "[encoded data removed]"
          },
          "metadata": {
            "needs_background": "light"
          }
        }
      ],
      "source": [
        "import matplotlib.pyplot as plt\n",
        "acc = history.history['accuracy']\n",
        "acc_v = history.history['val_accuracy']\n",
        "loss = history.history['loss']\n",
        "loss_v = history.history['val_loss']\n",
        "\n",
        "epochs = range(len(acc))\n",
        "\n",
        "plt.plot(epochs, acc, 'b', label='Train')\n",
        "plt.plot(epochs, acc_v, 'r', label='Test')\n",
        "plt.legend()\n",
        "plt.title('accuracy')\n",
        "plt.xlabel('eppch')\n",
        "plt.ylabel('acc')\n",
        "plt.grid()\n",
        "plt.figure()\n",
        "\n",
        "plt.plot(epochs, loss, 'b', label='Train')\n",
        "plt.plot(epochs, loss_v, 'r', label='Test')\n",
        "plt.title('loss')\n",
        "plt.xlabel('eppch')\n",
        "plt.ylabel('loss')\n",
        "plt.legend()\n",
        "plt.grid()\n",
        "plt.show()"
      ]
    },
    {
      "cell_type": "markdown",
      "metadata": {
        "id": "RxYwdExpNgLW"
      },
      "source": [
        "Строим тест генератора"
      ]
    },
    {
      "cell_type": "code",
      "execution_count": 230,
      "metadata": {
        "colab": {
          "base_uri": "https://localhost:8080/"
        },
        "id": "q8alxdYvQtCr",
        "outputId": "4425a9e6-1e19-4de2-ba34-3a7050fc3de9"
      },
      "outputs": [
        {
          "output_type": "stream",
          "name": "stdout",
          "text": [
            "[591, 18, 5, 352, 393]\n",
            "1/1 [==============================] - 0s 17ms/step\n",
            "[591, 18, 5, 352, 393, 3]\n",
            "1/1 [==============================] - 0s 15ms/step\n",
            "[591, 18, 5, 352, 393, 3, 48]\n",
            "1/1 [==============================] - 0s 16ms/step\n",
            "[591, 18, 5, 352, 393, 3, 48, 4]\n",
            "1/1 [==============================] - 0s 18ms/step\n",
            "[591, 18, 5, 352, 393, 3, 48, 4, 14]\n",
            "1/1 [==============================] - 0s 18ms/step\n",
            "[591, 18, 5, 352, 393, 3, 48, 4, 14, 7]\n",
            "1/1 [==============================] - 0s 17ms/step\n",
            "[591, 18, 5, 352, 393, 3, 48, 4, 14, 7, 101]\n",
            "1/1 [==============================] - 0s 15ms/step\n",
            "[591, 18, 5, 352, 393, 3, 48, 4, 14, 7, 101, 14]\n",
            "1/1 [==============================] - 0s 17ms/step\n",
            "[591, 18, 5, 352, 393, 3, 48, 4, 14, 7, 101, 14, 14]\n",
            "1/1 [==============================] - 0s 14ms/step\n",
            "[591, 18, 5, 352, 393, 3, 48, 4, 14, 7, 101, 14, 14, 21]\n",
            "1/1 [==============================] - 0s 21ms/step\n",
            "[591, 18, 5, 352, 393, 3, 48, 4, 14, 7, 101, 14, 14, 21, 53]\n",
            "1/1 [==============================] - 0s 17ms/step\n",
            "[591, 18, 5, 352, 393, 3, 48, 4, 14, 7, 101, 14, 14, 21, 53, 6]\n",
            "1/1 [==============================] - 0s 17ms/step\n",
            "[591, 18, 5, 352, 393, 3, 48, 4, 14, 7, 101, 14, 14, 21, 53, 6, 24]\n",
            "1/1 [==============================] - 0s 15ms/step\n",
            "[591, 18, 5, 352, 393, 3, 48, 4, 14, 7, 101, 14, 14, 21, 53, 6, 24, 6]\n",
            "1/1 [==============================] - 0s 16ms/step\n",
            "[591, 18, 5, 352, 393, 3, 48, 4, 14, 7, 101, 14, 14, 21, 53, 6, 24, 6, 21]\n",
            "1/1 [==============================] - 0s 21ms/step\n",
            "Help me Obi Wan Kenobi, you're my only hope to time of love in love's love love be eyes i you i be are\n"
          ]
        }
      ],
      "source": [
        "seed_text = \"Help me Obi Wan Kenobi, you're my only hope\"\n",
        "#начальная последовательность\n",
        "next_words = 15 # число генераций\n",
        "  \n",
        "for _ in range(next_words):\n",
        "  token_list = tokenizer.texts_to_sequences([seed_text])[0] #преобразование текущей строки\n",
        "  print(token_list)\n",
        "  token_list = pad_sequences([token_list], maxlen = max_sequence_len-1, padding='pre')\n",
        "  #predicted = model.predict_classes(token_list, verbose=0)\n",
        "  output_word = \"\"\n",
        "  y_p = model.predict(token_list)\n",
        "  y_predict = y_p * np.random.random(  size = (1,y_p.shape[1])) # равномерный случайный выбор * сетевой выбор\n",
        "  #выбор наиболее вероятного слова с вероятностью от сети\n",
        "  predicted_ind = np.argmax(y_predict,axis = 1)\n",
        "  for word, index in tokenizer.word_index.items():\n",
        "    if index == predicted_ind:\n",
        "      output_word = word\n",
        "      break\n",
        "  seed_text += \" \" + output_word\n",
        "print(seed_text)"
      ]
    },
    {
      "cell_type": "markdown",
      "metadata": {
        "id": "Z3frltcvNEKh"
      },
      "source": [
        "Помоги мне, Оби Ван Кеноби, ты моя единственная надежда на время любви в любви любви, любовь, глаза, я, ты, я."
      ]
    },
    {
      "cell_type": "markdown",
      "source": [
        "Получим предсказание для последнего token_list:"
      ],
      "metadata": {
        "id": "B1s4YSOPqDDU"
      }
    },
    {
      "cell_type": "code",
      "source": [
        "token_list"
      ],
      "metadata": {
        "colab": {
          "base_uri": "https://localhost:8080/"
        },
        "id": "MGZTnjOdqL0L",
        "outputId": "f39b2af9-3b2c-4ce7-8bf3-aa37a117b847"
      },
      "execution_count": 238,
      "outputs": [
        {
          "output_type": "execute_result",
          "data": {
            "text/plain": [
              "array([[  7, 101,  14,  14,  21,  53,   6,  24,   6,  21]], dtype=int32)"
            ]
          },
          "metadata": {},
          "execution_count": 238
        }
      ]
    },
    {
      "cell_type": "code",
      "execution_count": 231,
      "metadata": {
        "id": "sblwgu02M4OA",
        "colab": {
          "base_uri": "https://localhost:8080/"
        },
        "outputId": "0e92e421-b784-4b05-bf08-7fafc5d406c3"
      },
      "outputs": [
        {
          "output_type": "stream",
          "name": "stdout",
          "text": [
            "1/1 [==============================] - 0s 19ms/step\n"
          ]
        }
      ],
      "source": [
        "y_p=model.predict(token_list)"
      ]
    },
    {
      "cell_type": "markdown",
      "source": [
        "Отобразим вероятности слов:"
      ],
      "metadata": {
        "id": "GKvYvCJYqRJb"
      }
    },
    {
      "cell_type": "code",
      "execution_count": 239,
      "metadata": {
        "colab": {
          "base_uri": "https://localhost:8080/",
          "height": 315
        },
        "id": "nG0XtgeLgkie",
        "outputId": "e98c3a5a-9bd7-40ea-af4e-bf1a50ce7228"
      },
      "outputs": [
        {
          "output_type": "display_data",
          "data": {
            "text/plain": [
              "<Figure size 1152x288 with 1 Axes>"
            ],
            "image/png": "[encoded data removed]"
          },
          "metadata": {
            "needs_background": "light"
          }
        }
      ],
      "source": [
        "plt.figure(figsize=(16,4))\n",
        "plt.plot(y_p[0,:])\n",
        "plt.xlabel('номер слова')\n",
        "plt.ylabel('вероятность слова')\n",
        "plt.title('вероятности по словам')\n",
        "plt.grid('on')\n",
        "plt.show()"
      ]
    },
    {
      "cell_type": "markdown",
      "source": [
        "Список наиболее вероятных слов:"
      ],
      "metadata": {
        "id": "t1BahCcTqX16"
      }
    },
    {
      "cell_type": "code",
      "execution_count": 240,
      "metadata": {
        "colab": {
          "base_uri": "https://localhost:8080/"
        },
        "id": "ZBaCLMR-mWVg",
        "outputId": "2001c602-2578-4fd2-f775-c4f47c0ae90c"
      },
      "outputs": [
        {
          "output_type": "execute_result",
          "data": {
            "text/plain": [
              "array([14, 21, 53])"
            ]
          },
          "metadata": {},
          "execution_count": 240
        }
      ],
      "source": [
        "ind_prob=np.where(y_p[0,:]>0.00351)[0]\n",
        "ind_prob"
      ]
    },
    {
      "cell_type": "code",
      "execution_count": 237,
      "metadata": {
        "id": "rUVav3Pf0kqn",
        "colab": {
          "base_uri": "https://localhost:8080/"
        },
        "outputId": "2a8a63dc-2169-4f29-be0b-a1d3eebada1c"
      },
      "outputs": [
        {
          "output_type": "stream",
          "name": "stdout",
          "text": [
            "love  :  0.0057478677\n",
            "be  :  0.0038025023\n",
            "eyes  :  0.0039414824\n"
          ]
        }
      ],
      "source": [
        "for i,ind in enumerate(ind_prob.tolist()):\n",
        "  print(tokenizer.index_word[ind], ' : ', y_p[0,ind])"
      ]
    },
    {
      "cell_type": "markdown",
      "metadata": {
        "id": "EpIvOvSQLsKF"
      },
      "source": [
        "Help me Obi Wan Kenobi, you're my only hope by ill pen ' ' be gone into my sight and end truth quite unrespected\n",
        "\n",
        "Помоги мне, Оби-Ван Кеноби, ты моя единственная надежда из-за плохого пера исчезнуть в моих глазах и покончить с правдой совершенно неуважительно\n"
      ]
    },
    {
      "cell_type": "markdown",
      "source": [
        "Задание 2\n",
        "\n",
        "- Запустить примеры из Генератор_текста.\n",
        "- Провести изменение моделей:\n",
        " - использовать 1 LSTM слой + 2 Dense (изменяем число ядер LSTM (использовать число ядер LSTM: latent_lstm = 128, 256, 512 ))\n",
        " - использовать 1 LSTM слой + 2 Dense (изменяем размер эмбединга : latent_dim = 64, 128, 256)\n",
        "- Оценить результаты по одинаковой метрике (accuracy) \n",
        "- Провести генерацию от нескольких начальных состояний (3-5 начальных фраз) и определить как быстро происходит зацикливание (начинает повторяться текст). Длину генерации выбрать 25-30 слов. \n"
      ],
      "metadata": {
        "id": "FN4BuGw6A2I5"
      }
    }
  ],
  "metadata": {
    "accelerator": "GPU",
    "colab": {
      "provenance": [],
      "include_colab_link": true
    },
    "kernelspec": {
      "display_name": "Python 3",
      "name": "python3"
    }
  },
  "nbformat": 4,
  "nbformat_minor": 0
}