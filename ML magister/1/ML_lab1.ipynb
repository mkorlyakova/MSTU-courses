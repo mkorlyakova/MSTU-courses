{
  "nbformat": 4,
  "nbformat_minor": 0,
  "metadata": {
    "colab": {
      "provenance": [],
      "authorship_tag": "ABX9TyPj/kMFx81GqKhwFGwjJ+P0",
      "include_colab_link": true
    },
    "kernelspec": {
      "name": "python3",
      "display_name": "Python 3"
    },
    "language_info": {
      "name": "python"
    }
  },
  "cells": [
    {
      "cell_type": "markdown",
      "metadata": {
        "id": "view-in-github",
        "colab_type": "text"
      },
      "source": [
        "<a href=\"https://colab.research.google.com/github/mkorlyakova/MSTU-courses/blob/2024/ML%20magister/1/ML_lab1.ipynb\" target=\"_parent\"><img src=\"https://colab.research.google.com/assets/colab-badge.svg\" alt=\"Open In Colab\"/></a>"
      ]
    },
    {
      "cell_type": "markdown",
      "source": [
        "Лабораторная работа 1\n",
        "\n",
        "цель работы:\n",
        "  - знакомство с базовыми датасетами sklearn\n",
        "  - отработка настройки алгоритма KNN\n"
      ],
      "metadata": {
        "id": "R6FK1rHUTlfB"
      }
    },
    {
      "cell_type": "code",
      "execution_count": 1,
      "metadata": {
        "id": "P7vLryCjiFov"
      },
      "outputs": [],
      "source": [
        "import pandas as pd\n",
        "import numpy as np\n",
        "import matplotlib.pyplot as plt\n",
        "\n",
        "from scipy import stats"
      ]
    },
    {
      "cell_type": "markdown",
      "source": [
        "#Scikit-Learn\n",
        "\n",
        "Scikit-Learn — это Python-библиотека, разработанная David Cournapeau в 2007 году и содкржит большое количество алгоритмов для задач, связанных с классификацией и машинным обучением в целом.\n",
        "\n",
        "Scikit-Learn базируется на библиотеке SciPy, которую нужно установить перед началом работы\n",
        "\n",
        "Установка:"
      ],
      "metadata": {
        "id": "XJiGO5-RmfLT"
      }
    },
    {
      "cell_type": "code",
      "source": [
        "# !pip install scikit-learn # в колаборатории этого можно не делать, в своей локальной среде необходимо обеспечить установку пакета и всех его зависимостей\n"
      ],
      "metadata": {
        "id": "kcEvWH4cm1OB"
      },
      "execution_count": null,
      "outputs": []
    },
    {
      "cell_type": "markdown",
      "source": [
        "### Наборы данных\n",
        "\n",
        "Для хранения наборов данных scikit learn  :\n",
        "  - использует массивы в формате numpy.array ( из библиотеки NymPy)\n",
        "  - использует разреженные матрицы в формате scipy.sparse (из библиотеки SciPy)\n",
        "  - поддерживает формат хранения DataFrame из библиотеки Pandas\n",
        "  - имеет функции, позволяющие считывать данные из внешних файлов в форматах txt, csv, json и так далее.\n",
        "  - использует наборы данных, которые поставляются вместе с библиотекой. Это открытые общеизвестные данные:\n",
        "      - **данные о стоимости жилья в Бостоне**: исходя из количества комнат и уровня преступности в городе, модель может вычислять цены на жилье;\n",
        "      - **данные о результатах диагностики рака молочных желез** из города Висконсина: используются для выявления злокачественного или доброкачественного новообразования;\n",
        "      - **датасет химических свойств вин**: исходя из этих свойств модель может определить тип вина.\n",
        "\n"
      ],
      "metadata": {
        "id": "hCzxGv0FnjiG"
      }
    },
    {
      "cell_type": "markdown",
      "source": [
        "### **Задание 1.**\n",
        "\n",
        "загрузить данные по варианту:\n"
      ],
      "metadata": {
        "id": "jKQPn1lDuno1"
      }
    },
    {
      "cell_type": "code",
      "source": [
        "\n",
        "V1 = datasets.load_wine()\n",
        "V2 = datasets.load_digits()\n",
        "V3 = datasets.load_breast_cancer()\n",
        "V4 = datasets.make_classification(n_samples = 10000, n_features=5, n_redundant=2, n_informative=2,random_state=10, n_clusters_per_class=2)\n",
        "V5 = datasets.fetch_covtype(return_X_y=True)\n",
        "V6 = datasets.make_blobs(n_samples=10000, centers=2, n_features=5, random_state=10)\n",
        "V7 = datasets.make_circles(n_samples=10000, factor=0.5, noise=0.05)\n",
        "V8 = datasets.make_moons(n_samples=10000, noise=0.05)\n"
      ],
      "metadata": {
        "id": "Sd6rFYWpvFix"
      },
      "execution_count": null,
      "outputs": []
    },
    {
      "cell_type": "code",
      "source": [
        "V1.keys(), V2.keys(), V3.keys()"
      ],
      "metadata": {
        "colab": {
          "base_uri": "https://localhost:8080/"
        },
        "id": "g0DixCsUxnN-",
        "outputId": "febfa46b-ffcb-4d1f-dc8c-e4a30c0ac488"
      },
      "execution_count": null,
      "outputs": [
        {
          "output_type": "execute_result",
          "data": {
            "text/plain": [
              "(dict_keys(['data', 'target', 'frame', 'target_names', 'DESCR', 'feature_names']),\n",
              " dict_keys(['data', 'target', 'frame', 'feature_names', 'target_names', 'images', 'DESCR']),\n",
              " dict_keys(['data', 'target', 'frame', 'target_names', 'DESCR', 'feature_names', 'filename', 'data_module']))"
            ]
          },
          "metadata": {},
          "execution_count": 26
        }
      ]
    },
    {
      "cell_type": "code",
      "source": [
        "V4[0][:2,:], V4[1][:2]"
      ],
      "metadata": {
        "colab": {
          "base_uri": "https://localhost:8080/"
        },
        "id": "Cp34Xen778wl",
        "outputId": "b26abdcd-61d7-4dd1-e965-025c589dfb33"
      },
      "execution_count": null,
      "outputs": [
        {
          "output_type": "execute_result",
          "data": {
            "text/plain": [
              "(array([[-1.53369129,  0.15903459,  0.0266148 , -0.76339466,  1.04238734],\n",
              "        [ 0.15994651, -2.17701829, -1.19275252, -1.55325021,  0.00276112]]),\n",
              " array([0, 1]))"
            ]
          },
          "metadata": {},
          "execution_count": 27
        }
      ]
    },
    {
      "cell_type": "code",
      "source": [
        "V5[0][:2,:5], V5[1][:2]"
      ],
      "metadata": {
        "colab": {
          "base_uri": "https://localhost:8080/"
        },
        "id": "YSlPsz7k8IUk",
        "outputId": "60043e70-e783-4db7-f54c-95ece507c2a5"
      },
      "execution_count": null,
      "outputs": [
        {
          "output_type": "execute_result",
          "data": {
            "text/plain": [
              "(array([[ 2.596e+03,  5.100e+01,  3.000e+00,  2.580e+02,  0.000e+00],\n",
              "        [ 2.590e+03,  5.600e+01,  2.000e+00,  2.120e+02, -6.000e+00]]),\n",
              " array([5, 5], dtype=int32))"
            ]
          },
          "metadata": {},
          "execution_count": 29
        }
      ]
    },
    {
      "cell_type": "code",
      "source": [
        "V6[0][:2,:5], V6[1][:2]"
      ],
      "metadata": {
        "colab": {
          "base_uri": "https://localhost:8080/"
        },
        "id": "b_g_HfxLei7n",
        "outputId": "12f2ffda-24a5-440f-b79f-0456367e7d0e"
      },
      "execution_count": null,
      "outputs": [
        {
          "output_type": "execute_result",
          "data": {
            "text/plain": [
              "(array([[  6.04045034, -10.12182025,   3.18873994,   6.74561964,\n",
              "           0.85746391],\n",
              "        [  5.26263776,  -8.3128473 ,   2.6827971 ,   5.89951073,\n",
              "           0.48186953]]),\n",
              " array([0, 0]))"
            ]
          },
          "metadata": {},
          "execution_count": 30
        }
      ]
    },
    {
      "cell_type": "code",
      "source": [
        "V7[0][:2,:5], V7[1][:2]"
      ],
      "metadata": {
        "colab": {
          "base_uri": "https://localhost:8080/"
        },
        "id": "pGSrAfivenvn",
        "outputId": "a7df5f25-b238-4938-9f59-b3d4c87178e0"
      },
      "execution_count": null,
      "outputs": [
        {
          "output_type": "execute_result",
          "data": {
            "text/plain": [
              "(array([[-0.12753014, -0.53077324],\n",
              "        [ 0.83850362, -0.65087053]]),\n",
              " array([1, 0]))"
            ]
          },
          "metadata": {},
          "execution_count": 31
        }
      ]
    },
    {
      "cell_type": "markdown",
      "source": [
        " 1.1.Загрузить данные  по варианту\n",
        "\n",
        " 1.2.Опредлелить размер данных, их тип, полноту, получить основные статистики, определить тип признаков\n",
        "\n",
        " 1.3.сделать визуализацию для 2-х координат с метками цветом по классам\n",
        "\n",
        " 1.4.сделать выводы о качестве данных"
      ],
      "metadata": {
        "id": "PFw3WV1HzoCy"
      }
    },
    {
      "cell_type": "markdown",
      "source": [
        "# Метод ближайших соседей\n",
        "\n",
        "Метод ближайших соседей (k Nearest Neighbors, или kNN) — тоже очень популярный метод классификации, также иногда используемый в задачах регрессии. Это, наравне с деревом решений, один из самых понятных подходов к классификации. На уровне интуиции суть метода такова: посмотри на соседей, какие преобладают, таков и ты. Формально основой метода является гипотезой компактности: если метрика расстояния между примерами введена достаточно удачно, то схожие примеры гораздо чаще лежат в одном классе, чем в разных.\n",
        "\n",
        "Для классификации каждого из объектов тестовой выборки необходимо последовательно выполнить следующие операции:\n",
        " - Вычислить расстояние до каждого из объектов обучающей выборки\n",
        " - Отобрать $k$ объектов обучающей выборки, расстояние до которых минимально\n",
        " - Класс классифицируемого объекта — это класс, наиболее часто встречающийся среди $k$ ближайших соседей\n",
        "\n",
        " Примечательное свойство такого подхода  – его ленивость. Это значит, что вычисления начинаются только в момент классификации тестового примера, а заранее, только при  наличии обучающих примеров, никакая модель не строится.\n",
        "\n",
        " Методы на основе соседей известны как не обобщающие методы машинного обучения, поскольку они просто «запоминают» все свои обучающие данные\n",
        "\n",
        "\n",
        "\n",
        "### Метод ближайших соседей в реальных задачах\n",
        "\n",
        "\n",
        "Качество классификации методом ближайших соседей зависит от нескольких параметров:\n",
        " - число соседей\n",
        " - метрика расстояния между объектами (часто используются метрика Хэмминга, евклидово расстояние, косинусное расстояние и расстояние Минковского). Отметим, что при использовании большинства метрик значения признаков надо масштабировать. Условно говоря, чтобы признак \"Зарплата\" с диапазоном значений до 100 тысяч не вносил больший вклад в расстояние, чем \"Возраст\" со значениями до 100.\n",
        " - веса соседей (соседи тестового примера могут входить с разными весами, например, чем дальше пример, тем с меньшим коэффициентом учитывается его \"голос\")"
      ],
      "metadata": {
        "id": "Ez2FMGDpkVNq"
      }
    },
    {
      "cell_type": "markdown",
      "source": [
        "Известная реализация метода ближайших соседей во фреймвоке SkiKit-Learn (https://scikit-learn.org/stable/modules/generated/sklearn.neighbors.KNeighborsClassifier.html).\n",
        "\n",
        "**class** sklearn.neighbors.KNeighborsClassifier(n_neighbors=5, *, weights='uniform', algorithm='auto', leaf_size=30, p=2, metric='minkowski', metric_params=None, n_jobs=None) ,\n",
        "\n",
        "где при инициализации определяем следующие параметры:\n",
        "\n",
        "  - n_neighbors=5,\n",
        "  - weights='uniform',однородные веса. Все точки в каждой окрестности имеют одинаковый вес.Кроме того, возможен вариант 'distance' : взвешивание точек обратно их расстоянию. в этом случае более близкие соседи точки запроса будут иметь большее влияние, чем соседи, которые находятся дальше. Третий вариант : **собственная функция** определяемая пользователем, которая принимает массив расстояний и возвращает массив той же формы, содержащий веса\n",
        "  - algorithm : \"brute\", \"ball_tree\", \"KD_tree\", или \"auto\". В первом случае ближайшие соседи для каждого тестового примера считаются перебором обучающей выборки. Во втором и третьем - расстояние между примерами хранятся в дереве, что ускоряет нахождение ближайших соседей. В случае указания параметра \"auto\" подходящий способ нахождения соседей будет выбран автоматически на основе обучающей выборки.\n",
        "  - leaf_size (опционально): порог переключения на полный перебор в случае выбора BallTree или KDTree для нахождения соседей\n",
        "  - metric: \"minkowski\", \"manhattan\", \"euclidean\", \"chebyshev\" и другие\n",
        "\n",
        "\n",
        "При работе в любой классификационной задаче необходимо выполнить следующие действия:\n",
        "\n",
        "  1. прочитать (или создать) данные\n",
        "  2. проверить их полноту и чистоту\n",
        "  3. оценить размер данных и соотношение классов во множестве примеров (сбалансированные классы или нет)\n",
        "  4. разделить выборку на тренировочную ( очень часто еще и на тренировочную и валидационную) и отложенную\n",
        "  5. обработать примеры из тренировочной выборки, реализовать схему их обработки функционально или в рамках ООП и применить к (если есть, валидационным данным и) отложенной выборке\n",
        "  6. создать объект классификатор (или несколько классификаторов для сравнения моделей различной сложности)\n",
        "  7. обучить объект классификатор (или несколько объектов классификаторов)\n",
        "  8. выбрать метрику для оценки модели\n",
        "  9. Оценить эффективность модели (или сравнить эффективность нескольких обученных моделей)\n",
        "  10 применить модель к данным отложеной выборки и определить значения выбраной метрики\n",
        "  11. Сделать вывод о качестве модели\n",
        "\n",
        "\n",
        "**Пример работы в KNN:**"
      ],
      "metadata": {
        "id": "sXB5akuJk6v1"
      }
    },
    {
      "cell_type": "code",
      "source": [
        "from sklearn.datasets import load_iris\n",
        "from sklearn.model_selection import train_test_split\n",
        "from sklearn.neighbors import KNeighborsClassifier, KDTree, BallTree,\n",
        "from sklearn.metrics import accuracy_score"
      ],
      "metadata": {
        "id": "7AS9Zegj_4WL"
      },
      "execution_count": 12,
      "outputs": []
    },
    {
      "cell_type": "code",
      "source": [
        "data = load_iris()\n",
        "X, y = data.data, data.target"
      ],
      "metadata": {
        "id": "uRt82BKeADNZ"
      },
      "execution_count": 3,
      "outputs": []
    },
    {
      "cell_type": "code",
      "source": [
        "X[0, :]"
      ],
      "metadata": {
        "colab": {
          "base_uri": "https://localhost:8080/"
        },
        "id": "aIufiZcAAJtR",
        "outputId": "fe7427c2-8780-49a0-ae7c-727d2774f6b0"
      },
      "execution_count": 4,
      "outputs": [
        {
          "output_type": "execute_result",
          "data": {
            "text/plain": [
              "array([5.1, 3.5, 1.4, 0.2])"
            ]
          },
          "metadata": {},
          "execution_count": 4
        }
      ]
    },
    {
      "cell_type": "code",
      "source": [
        "f, axes = plt.subplots(1, 3, sharey=True, figsize=(16, 6))\n",
        "for i in range(1,4):\n",
        "    axes[i-1].scatter(X[:, 0], X[:, i], c=y)\n",
        "    axes[i-1].grid()\n",
        "\n",
        "plt.xlabel('x0')\n",
        "plt.ylabel('x'+str(i))\n",
        "plt.show()"
      ],
      "metadata": {
        "colab": {
          "base_uri": "https://localhost:8080/",
          "height": 446
        },
        "id": "2g3R_BqQANMZ",
        "outputId": "ccff2afb-2cab-47b7-af8f-492abf16f8ba"
      },
      "execution_count": 5,
      "outputs": [
        {
          "output_type": "display_data",
          "data": {
            "text/plain": [
              "<Figure size 1600x600 with 3 Axes>"
            ],
            "image/png": "[encoded data removed]"
          },
          "metadata": {}
        }
      ]
    },
    {
      "cell_type": "markdown",
      "metadata": {
        "id": "ExWRCiqEj8rC"
      },
      "source": [
        "Посмотрим на соотношение классов в выборке, видим, что  поровну ."
      ]
    },
    {
      "cell_type": "code",
      "execution_count": 6,
      "metadata": {
        "id": "NZXtgcaTj8rC",
        "outputId": "1fb525f9-efa3-445a-aade-91d5d8756c20",
        "colab": {
          "base_uri": "https://localhost:8080/"
        }
      },
      "outputs": [
        {
          "output_type": "execute_result",
          "data": {
            "text/plain": [
              "array([50, 50, 50])"
            ]
          },
          "metadata": {},
          "execution_count": 6
        }
      ],
      "source": [
        "np.bincount(y)"
      ]
    },
    {
      "cell_type": "markdown",
      "metadata": {
        "id": "42KuINF8j8rC"
      },
      "source": [
        "Выделим 70% выборки (X_train, y_train) под обучение и 30% будут отложенной выборкой (X_holdout, y_holdout). отложенная выборка никак не будет участвовать в настройке параметров моделей, на ней мы в конце, после этой настройки, оценим качество полученной модели."
      ]
    },
    {
      "cell_type": "code",
      "execution_count": 7,
      "metadata": {
        "id": "lL63zLaSj8rC"
      },
      "outputs": [],
      "source": [
        "# разбиение данных на тренировочные и отложенную выборку (тестовые),\n",
        "#где X, y - описание примеров и их целевое свойство (классы), а test_size=0.3 - пропорция разбиения (доля тестов)\n",
        "X_train, X_holdout, y_train, y_holdout = train_test_split(X, y, test_size=0.3, random_state=17)"
      ]
    },
    {
      "cell_type": "markdown",
      "metadata": {
        "id": "Etb7pGyWj8rD"
      },
      "source": [
        "Обучим  kNN."
      ]
    },
    {
      "cell_type": "code",
      "execution_count": 8,
      "metadata": {
        "id": "zAJ7XQKOj8rD"
      },
      "outputs": [],
      "source": [
        "knn = KNeighborsClassifier(n_neighbors=10)"
      ]
    },
    {
      "cell_type": "code",
      "execution_count": 9,
      "metadata": {
        "id": "Jnej-1QEj8rD",
        "outputId": "10db4f90-8c2e-4e5f-e95f-6a515fcdb4d2",
        "colab": {
          "base_uri": "https://localhost:8080/",
          "height": 109
        }
      },
      "outputs": [
        {
          "output_type": "stream",
          "name": "stdout",
          "text": [
            "CPU times: user 3 ms, sys: 0 ns, total: 3 ms\n",
            "Wall time: 2.91 ms\n"
          ]
        },
        {
          "output_type": "execute_result",
          "data": {
            "text/plain": [
              "KNeighborsClassifier(n_neighbors=10)"
            ],
            "text/html": [
              "<style>#sk-container-id-1 {color: black;}#sk-container-id-1 pre{padding: 0;}#sk-container-id-1 div.sk-toggleable {background-color: white;}#sk-container-id-1 label.sk-toggleable__label {cursor: pointer;display: block;width: 100%;margin-bottom: 0;padding: 0.3em;box-sizing: border-box;text-align: center;}#sk-container-id-1 label.sk-toggleable__label-arrow:before {content: \"▸\";float: left;margin-right: 0.25em;color: #696969;}#sk-container-id-1 label.sk-toggleable__label-arrow:hover:before {color: black;}#sk-container-id-1 div.sk-estimator:hover label.sk-toggleable__label-arrow:before {color: black;}#sk-container-id-1 div.sk-toggleable__content {max-height: 0;max-width: 0;overflow: hidden;text-align: left;background-color: #f0f8ff;}#sk-container-id-1 div.sk-toggleable__content pre {margin: 0.2em;color: black;border-radius: 0.25em;background-color: #f0f8ff;}#sk-container-id-1 input.sk-toggleable__control:checked~div.sk-toggleable__content {max-height: 200px;max-width: 100%;overflow: auto;}#sk-container-id-1 input.sk-toggleable__control:checked~label.sk-toggleable__label-arrow:before {content: \"▾\";}#sk-container-id-1 div.sk-estimator input.sk-toggleable__control:checked~label.sk-toggleable__label {background-color: #d4ebff;}#sk-container-id-1 div.sk-label input.sk-toggleable__control:checked~label.sk-toggleable__label {background-color: #d4ebff;}#sk-container-id-1 input.sk-hidden--visually {border: 0;clip: rect(1px 1px 1px 1px);clip: rect(1px, 1px, 1px, 1px);height: 1px;margin: -1px;overflow: hidden;padding: 0;position: absolute;width: 1px;}#sk-container-id-1 div.sk-estimator {font-family: monospace;background-color: #f0f8ff;border: 1px dotted black;border-radius: 0.25em;box-sizing: border-box;margin-bottom: 0.5em;}#sk-container-id-1 div.sk-estimator:hover {background-color: #d4ebff;}#sk-container-id-1 div.sk-parallel-item::after {content: \"\";width: 100%;border-bottom: 1px solid gray;flex-grow: 1;}#sk-container-id-1 div.sk-label:hover label.sk-toggleable__label {background-color: #d4ebff;}#sk-container-id-1 div.sk-serial::before {content: \"\";position: absolute;border-left: 1px solid gray;box-sizing: border-box;top: 0;bottom: 0;left: 50%;z-index: 0;}#sk-container-id-1 div.sk-serial {display: flex;flex-direction: column;align-items: center;background-color: white;padding-right: 0.2em;padding-left: 0.2em;position: relative;}#sk-container-id-1 div.sk-item {position: relative;z-index: 1;}#sk-container-id-1 div.sk-parallel {display: flex;align-items: stretch;justify-content: center;background-color: white;position: relative;}#sk-container-id-1 div.sk-item::before, #sk-container-id-1 div.sk-parallel-item::before {content: \"\";position: absolute;border-left: 1px solid gray;box-sizing: border-box;top: 0;bottom: 0;left: 50%;z-index: -1;}#sk-container-id-1 div.sk-parallel-item {display: flex;flex-direction: column;z-index: 1;position: relative;background-color: white;}#sk-container-id-1 div.sk-parallel-item:first-child::after {align-self: flex-end;width: 50%;}#sk-container-id-1 div.sk-parallel-item:last-child::after {align-self: flex-start;width: 50%;}#sk-container-id-1 div.sk-parallel-item:only-child::after {width: 0;}#sk-container-id-1 div.sk-dashed-wrapped {border: 1px dashed gray;margin: 0 0.4em 0.5em 0.4em;box-sizing: border-box;padding-bottom: 0.4em;background-color: white;}#sk-container-id-1 div.sk-label label {font-family: monospace;font-weight: bold;display: inline-block;line-height: 1.2em;}#sk-container-id-1 div.sk-label-container {text-align: center;}#sk-container-id-1 div.sk-container {/* jupyter's `normalize.less` sets `[hidden] { display: none; }` but bootstrap.min.css set `[hidden] { display: none !important; }` so we also need the `!important` here to be able to override the default hidden behavior on the sphinx rendered scikit-learn.org. See: https://github.com/scikit-learn/scikit-learn/issues/21755 */display: inline-block !important;position: relative;}#sk-container-id-1 div.sk-text-repr-fallback {display: none;}</style><div id=\"sk-container-id-1\" class=\"sk-top-container\"><div class=\"sk-text-repr-fallback\"><pre>KNeighborsClassifier(n_neighbors=10)</pre><b>In a Jupyter environment, please rerun this cell to show the HTML representation or trust the notebook. <br />On GitHub, the HTML representation is unable to render, please try loading this page with nbviewer.org.</b></div><div class=\"sk-container\" hidden><div class=\"sk-item\"><div class=\"sk-estimator sk-toggleable\"><input class=\"sk-toggleable__control sk-hidden--visually\" id=\"sk-estimator-id-1\" type=\"checkbox\" checked><label for=\"sk-estimator-id-1\" class=\"sk-toggleable__label sk-toggleable__label-arrow\">KNeighborsClassifier</label><div class=\"sk-toggleable__content\"><pre>KNeighborsClassifier(n_neighbors=10)</pre></div></div></div></div></div>"
            ]
          },
          "metadata": {},
          "execution_count": 9
        }
      ],
      "source": [
        "%%time\n",
        "knn.fit(X_train, y_train)"
      ]
    },
    {
      "cell_type": "markdown",
      "metadata": {
        "id": "OO3_wmAuj8rD"
      },
      "source": [
        "Сделаем прогнозы для отложенной выборки. Видим, что метод ближайших соседей справился неплохо."
      ]
    },
    {
      "cell_type": "code",
      "execution_count": null,
      "metadata": {
        "id": "F5qR5YzXj8rD",
        "outputId": "dd57157f-e67e-48ea-e175-053cf112dc40",
        "colab": {
          "base_uri": "https://localhost:8080/"
        }
      },
      "outputs": [
        {
          "output_type": "execute_result",
          "data": {
            "text/plain": [
              "0.9333333333333333"
            ]
          },
          "metadata": {},
          "execution_count": 120
        }
      ],
      "source": [
        "\n",
        "knn_pred = knn.predict(X_holdout)\n",
        "accuracy_score(y_holdout, knn_pred)"
      ]
    },
    {
      "cell_type": "markdown",
      "source": [
        "список доступных метрик для алгоритма можно получить через свойство .valid_metrics:"
      ],
      "metadata": {
        "id": "atW-QrrbhvFQ"
      }
    },
    {
      "cell_type": "code",
      "source": [
        "print(sorted(KDTree.valid_metrics))"
      ],
      "metadata": {
        "colab": {
          "base_uri": "https://localhost:8080/"
        },
        "id": "auiu6N6shGxG",
        "outputId": "9fb53b36-987c-4e1c-902b-f48c19408ea3"
      },
      "execution_count": 14,
      "outputs": [
        {
          "output_type": "stream",
          "name": "stdout",
          "text": [
            "['chebyshev', 'cityblock', 'euclidean', 'infinity', 'l1', 'l2', 'manhattan', 'minkowski', 'p']\n"
          ]
        }
      ]
    },
    {
      "cell_type": "code",
      "source": [
        "print(sorted(BallTree.valid_metrics))"
      ],
      "metadata": {
        "colab": {
          "base_uri": "https://localhost:8080/"
        },
        "id": "vymYo8l5h9wI",
        "outputId": "319e3f35-d0e6-49a1-a961-4719ccecaa91"
      },
      "execution_count": 15,
      "outputs": [
        {
          "output_type": "stream",
          "name": "stdout",
          "text": [
            "['braycurtis', 'canberra', 'chebyshev', 'cityblock', 'dice', 'euclidean', 'hamming', 'haversine', 'infinity', 'jaccard', 'l1', 'l2', 'mahalanobis', 'manhattan', 'minkowski', 'p', 'pyfunc', 'rogerstanimoto', 'russellrao', 'seuclidean', 'sokalmichener', 'sokalsneath']\n"
          ]
        }
      ]
    },
    {
      "cell_type": "markdown",
      "metadata": {
        "id": "2jTpXi_ij8rD"
      },
      "source": [
        "**Задание 2**\n",
        "\n",
        "Обратите внимание, что следующие задания необходимо исполнять не менее 5 раз (5-10 реализаций) со случайным разделением на рабочую и отложенную выборки, а результаты сохраняем как среднее качество и СКО(Средняя квадратичная ошибка, MSE - mean square error ) качества. При визуализации выводим средее и границы 1 сигма.\n",
        "\n",
        "Проверить для предществующего примера:\n",
        "\n",
        "  2.1. число соседей : 1, 3, 5, 7, 100\n",
        "  \n",
        "  2.2. метрики для оценки расстояний  \"manhattan\", \"euclidean\" (для числа соседей , которое обеспечило лучший результат по accuracy) и 2 любых метрики из доступных в текущем варианте алгоритма.\n",
        "\n",
        "  2.3. Использовать вариант с weights='distance' (для числа соседей , которое обеспечило лучший результат по accuracy)\n",
        "\n",
        "  2.4. Сравнить результаты работы на отложенной выборке\n",
        "\n",
        "  2.5. Построить график для accuracy от числа соседей и составить таблицу результатов для 2.2 и 2.3 (использовать 5-10 варианций для каждого набора параметров и применить \"правило локтя\" для оценки оптимального числа соседей)\n",
        "\n",
        "  2.6. использовать визуализацию как в примере из [визуализация границ knn - decision boundary ](https://scikit-learn.ru/stable/auto_examples/neighbors/plot_classification.html#sphx-glr-auto-examples-neighbors-plot-classification-py) для пары координат по своему датасету\n",
        "  \n",
        "  2.7. разработать собственную функцию для использования в качестве аргумента в weights (использовать назначение веса от ранга примера  или как функцию расстояния) и визуализировать сравнение границ по взвещенному и не взвещенному алгоритму для одинаковой пары координат.\n",
        "\n",
        "\n",
        "**Задание 3**\n",
        "\n",
        "  3.1. Провести формирование классификатора KNN для набора по своему варианту (см. задание 1) в нескольких модификациях по числу соседей, расстояний и способов взвешивания (построить 10 вариантов)\n",
        "  \n",
        "  3.2. Определить вид метрики , который соответствует степени сбалансированности набора данных\n",
        "  \n",
        "  3.3. Сравнить варианты классификатора по метрике .\n",
        "\n",
        "  3.4. Оценить время выполнения анализа 1000 входных векторов при условии установки параметра algorithm в каждое из слудующих значений: \"brute\", \"ball_tree\", \"KD_tree\".  Построить графики для оцнеки времени от числа соседей и по каждой версии алгоритма (использовать 5-10 варианций для каждого набора параметров оценить среднее и СКО)\n",
        "\n",
        "\n",
        "**Задание 4**\n",
        "\n",
        "4.1. Рассмотреть [алгоритм ближайших соседей по радиусу области](https://scikit-learn.ru/stable/modules/generated/sklearn.neighbors.RadiusNeighborsClassifier.html#sklearn.neighbors.RadiusNeighborsClassifier)\n",
        "4.2. Построить решение для своего вариант в этом алгоритме и сравнить его с классическим алгоритмом классификатора KNN  "
      ]
    },
    {
      "cell_type": "markdown",
      "source": [
        "Резюме :\n",
        "\n",
        "- В чистом виде kNN может послужить хорошим стартом (baseline) в решении какой-либо задачи;\n",
        "- В соревнованиях Kaggle kNN часто используется для построения мета-признаков (прогноз kNN подается на вход прочим моделям) или в стекинге/блендинге;\n",
        "- Идея ближайшего соседа расширяется и на другие задачи, например, в рекомендательных системах простым начальным решением может быть рекомендация какого-то товара (или услуги), популярного среди *ближайших соседей* человека, которому хотим сделать рекомендацию;\n",
        "- На практике для больших выборок часто пользуются *приближенными* методами поиска ближайших соседей."
      ],
      "metadata": {
        "id": "rTn6tR-SkjVJ"
      }
    },
    {
      "cell_type": "markdown",
      "source": [
        "Вопросы для контроля:\n",
        "\n",
        "  1. Можно ли обуществить формирование классификатора, который не ошибается\n",
        "  2. Зачем нужно отложенная выборка\n",
        "  3. как повлияет на результат теста увеличение числа соседей\n",
        "  4. как повлияет на результат теста изменение способа оценки расстояний в алгоритме ближайщего соседа\n",
        "  5. перечислите достоинства алгоритма к ближайщий сосед\n",
        "  6. каковы недостатки метода к ближайщий сосед\n",
        "  7. как сократить поиск в пространстве примеров соседей"
      ],
      "metadata": {
        "id": "Qe-Ggtl9M7C4"
      }
    },
    {
      "cell_type": "code",
      "source": [
        "\n"
      ],
      "metadata": {
        "id": "xXWXFu8fIEGM"
      },
      "execution_count": null,
      "outputs": []
    }
  ]
}