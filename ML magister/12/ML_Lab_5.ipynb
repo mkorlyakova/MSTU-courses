{
  "nbformat": 4,
  "nbformat_minor": 0,
  "metadata": {
    "kernelspec": {
      "display_name": "Python 3",
      "language": "python",
      "name": "python3"
    },
    "language_info": {
      "codemirror_mode": {
        "name": "ipython",
        "version": 3
      },
      "file_extension": ".py",
      "mimetype": "text/x-python",
      "name": "python",
      "nbconvert_exporter": "python",
      "pygments_lexer": "ipython3",
      "version": "3.7.1"
    },
    "colab": {
      "provenance": [],
      "collapsed_sections": [
        "m2wW13WB9U99"
      ],
      "include_colab_link": true
    },
    "accelerator": "GPU"
  },
  "cells": [
    {
      "cell_type": "markdown",
      "metadata": {
        "id": "view-in-github",
        "colab_type": "text"
      },
      "source": [
        "<a href=\"https://colab.research.google.com/github/mkorlyakova/MSTU-courses/blob/main/ML%20magister/12/ML_Lab_5.ipynb\" target=\"_parent\"><img src=\"https://colab.research.google.com/assets/colab-badge.svg\" alt=\"Open In Colab\"/></a>"
      ]
    },
    {
      "cell_type": "markdown",
      "metadata": {
        "id": "XvhEhpGm9U8z"
      },
      "source": [
        "# Введение в искусственные нейронные сети\n",
        "# TensorFlow - Keras"
      ]
    },
    {
      "cell_type": "markdown",
      "metadata": {
        "id": "LmKjkEH-9U84"
      },
      "source": [
        "## Содержание методического пособия:\n",
        "\n",
        "\n",
        "<ol>\n",
        "<li>Способы создания нейросетей</li>\n",
        "<li>Основы синтаксиса</li>\n",
        "<li>Простая нейросеть на Keras</li>\n",
        "</ol>"
      ]
    },
    {
      "cell_type": "markdown",
      "metadata": {
        "id": "9gV6aaON9U86"
      },
      "source": [
        "## Способы создания нейросетей\n",
        "\n",
        "Существуют фреймворки для созданий нейронных сетей. Они являются, пожалуй основным рабочим способом создания нейронных сетей. Вот их неполный перечень:\n",
        "\n",
        "1. TensorFlow\n",
        "2. PyTorch\n",
        "3. Keras\n",
        "4. Microsoft Cognitive Toolkit (CNTK)\n",
        "5. Caffe\n",
        "6. Apache MXNet\n",
        "\n",
        "Существуют инструменты самостоятельно создающие нейронные сети. Это так называемые AutoML инструменты. Вот примеры популярных из них:\n",
        "1. MLBox\n",
        "2. TPOT\n",
        "3. Autokeras\n",
        "\n",
        "\n",
        "## TensorFlow\n",
        "\n",
        "Практически самый популярный фреймворк для создания нейросетей TensorFlow (первое место пополам с PyTorch). \n",
        "TensorFlow - это фреймворк для создания ML моделей. TensorFlow предназначен в первую очередь для Deep Learning, т.е. создания современных нейросетей. Однако в TensorFlow также есть поддержка некоторых классических ML алгоритмов: K-means clustering, Random Forests, Support Vector Machines, Gaussian Mixture Model clustering, Linear/logistic regression.\n",
        "\n",
        "TensorFlow выпустила компания Google в 2015. TensorFlow - это opensource проект. На данный момент это один из основных инструментов для создания нейросетей в рабочих целях. TensorFlow позволяет создавать нейронные сети как для кластеров из большого количества вычислительных устройств, так и для устройств с относительно небольшой вычислитей мощностью, таких как смартфоны и одноплатные компьютеры.\n",
        "\n",
        "TensorFlow применяется самой компанией Google для ее поиска, почты, переводчика, распознования голоса, внутренних нужд наподобие мониторинга оборудования. TensorFlow используется различными компаниями для различных проектов связанных с компьютерным зрением, решением задач ранжирования и т.д.\n",
        "Keras как правило работает поверх базовых концептов TensorFlow и с 2019 входит в состав TensorFlow.\n"
      ]
    },
    {
      "cell_type": "markdown",
      "metadata": {
        "id": "b1uUklH29U88"
      },
      "source": [
        "## Keras\n",
        "\n",
        "Keras появился в 2015 г. Но за это время стал одним из самых популярных фреймоворков. Keras позволяет создовать на высоком уровне абстракции. Т.е. на не нужно вручную реализовать с помощью математикаподобного кода те или иные элементы нейронной сети. Можем оперировать слоями, количеством нейронов в них, выбором функции активации и т.д. В тоже время keras содержит инструментарий для всего того, что может понадобиться для работы - например ряд встроенных датасетов, возможность обрабатывать изображения. В 2019г произошла интеграция отдельного фреймвока в состав пакетов TensorFlow ( но доступен и неплохой самостоятельный фреймворк - его не поддерживается с 2021г). "
      ]
    },
    {
      "cell_type": "markdown",
      "metadata": {
        "id": "iRJ_I6hu9U8-"
      },
      "source": [
        "## Основы синтаксиса"
      ]
    },
    {
      "cell_type": "markdown",
      "metadata": {
        "id": "Sars-tTz9U9A"
      },
      "source": [
        "## **Установка и работа с данными**"
      ]
    },
    {
      "cell_type": "code",
      "execution_count": null,
      "metadata": {
        "id": "A4Hcl_IoHv7n"
      },
      "outputs": [],
      "source": [
        "#!pip install --upgrade pip\n",
        "#!pip install tensorflow\n",
        "#!pip install tf-nightly"
      ]
    },
    {
      "cell_type": "code",
      "execution_count": 2,
      "metadata": {
        "id": "ad84hsn2Gwhi",
        "colab": {
          "base_uri": "https://localhost:8080/"
        },
        "outputId": "ca625344-4819-4a93-a156-fc1a8fa1ae50"
      },
      "outputs": [
        {
          "output_type": "stream",
          "name": "stdout",
          "text": [
            "Colab only includes TensorFlow 2.x; %tensorflow_version has no effect.\n"
          ]
        }
      ],
      "source": [
        "#Специфично для колаборатории - переключились на TensorFlow 2\n",
        "\n",
        "%tensorflow_version 2.x"
      ]
    },
    {
      "cell_type": "markdown",
      "metadata": {
        "id": "BuAYrRxLFzPY"
      },
      "source": [
        "Выведем строку Hello world, а также версию tensorflow"
      ]
    },
    {
      "cell_type": "code",
      "execution_count": 3,
      "metadata": {
        "colab": {
          "base_uri": "https://localhost:8080/"
        },
        "id": "75BVCTdbFzPa",
        "outputId": "4b402def-05b1-4b91-d0e6-b0bf71846388"
      },
      "outputs": [
        {
          "output_type": "stream",
          "name": "stdout",
          "text": [
            "2.9.2\n",
            "TensorFlow 2.0 Hello World\n"
          ]
        }
      ],
      "source": [
        "import tensorflow as tf\n",
        "print(tf.__version__)\n",
        "msg = tf.constant('TensorFlow 2.0 Hello World')\n",
        "tf.print(msg)"
      ]
    },
    {
      "cell_type": "markdown",
      "metadata": {
        "id": "mBqyxNwdFzPU"
      },
      "source": [
        "## Основы синтаксиса TensorFlow\n",
        "\n",
        "Процесс создания нейросети на TensorFlow схож с разобранным нами процессом обучения нейросети на Keras. Отличее здесь в том, что здесь нам нужно прописать больше деталей в коде. \n",
        "\n",
        "Название TensorFlow означает поток тензоров. Тензоры - это массивы. Данные в компьютере предствлены часто в виде массивах и работа с этими массивами подразумевает их преобразования. Преобразования осуществляются через, к примеру, математические операции. Работа TensorFlow складывается из цепочки преобразований тензоров, т.е. данных. Сами операции осуществляющие преобразование данных представлены в TensorFlow в виде графов.  "
      ]
    },
    {
      "cell_type": "markdown",
      "metadata": {
        "id": "NTDIFFhhFzPW"
      },
      "source": [
        "## Базовый синтаксис Tensorflow 2."
      ]
    },
    {
      "cell_type": "markdown",
      "metadata": {
        "id": "Vz-hpRAclrc4"
      },
      "source": [
        "## Тензоры"
      ]
    },
    {
      "cell_type": "markdown",
      "metadata": {
        "id": "ioO3fIeclrc4"
      },
      "source": [
        "Тензоры схожи с ndarrays в NumPy, с добавлением того, что тензоры могут быть использованы на GPU для ускорения вычислений."
      ]
    },
    {
      "cell_type": "markdown",
      "metadata": {
        "id": "ajgxH0z_AhhB"
      },
      "source": [
        "### **Тензор**\n",
        "\n",
        "Тензор - основная структура данных в библиотеках машинного обучения, которая похожа на массив Numpy. Что-то вроде n-мерной матрицы или массива массивов.Тензоры обеспечивают ускорение различных математических операций. Эти операции при выполнении в большом количестве в глубоком обучении имеют огромное значение в скорости.\n",
        "\n",
        "В Тензорфлоу Тензор создается и поддерживается классам tf.Tensor(op, value_index, dtype):\n",
        "Все элементы относятся к одному известному типу данных. tf.Tensor обладает следующими свойствами:\n",
        "\n",
        "  - dtype - один тип данных (например, float32, int32 или string)\n",
        "  - shape - форма\n"
      ]
    },
    {
      "cell_type": "markdown",
      "metadata": {
        "id": "S4ZN0rdqFzPh"
      },
      "source": [
        "Пример создания тензора:\n",
        "\n",
        "- Создает постоянный тензор из тензороподобного объекта.\n",
        "\n",
        "\n",
        "  tf.constant( value, dtype=None, shape=None, name='Const')\n",
        "  "
      ]
    },
    {
      "cell_type": "code",
      "execution_count": 4,
      "metadata": {
        "colab": {
          "base_uri": "https://localhost:8080/"
        },
        "id": "VATG0L6IFzPj",
        "outputId": "72fe6079-6de1-4af7-abc5-f41f787de830"
      },
      "outputs": [
        {
          "output_type": "stream",
          "name": "stdout",
          "text": [
            "tf.Tensor(\n",
            "[[3 2]\n",
            " [5 2]], shape=(2, 2), dtype=int32)\n"
          ]
        }
      ],
      "source": [
        "A = tf.constant( [[3, 2], \n",
        "                 [5, 2]])\n",
        "\n",
        "print(A)"
      ]
    },
    {
      "cell_type": "markdown",
      "source": [
        "  - Конструктору Variable() требуется начальное значение переменной, которое может быть Tensor любого типа и формы. Это начальное значение определяет тип и форму переменной. После построения фиксируются тип и форма переменной. Значение можно изменить с помощью одного из методов присваивания."
      ],
      "metadata": {
        "id": "YJW36KKRS5f2"
      }
    },
    {
      "cell_type": "code",
      "execution_count": 5,
      "metadata": {
        "colab": {
          "base_uri": "https://localhost:8080/"
        },
        "id": "zO731BJ7cUBG",
        "outputId": "72e69c46-a9ae-44be-8bc5-f73c21f4bfee"
      },
      "outputs": [
        {
          "output_type": "execute_result",
          "data": {
            "text/plain": [
              "<tf.Variable 'Variable:0' shape=(2, 1) dtype=float32, numpy=\n",
              "array([[1.],\n",
              "       [2.]], dtype=float32)>"
            ]
          },
          "metadata": {},
          "execution_count": 5
        }
      ],
      "source": [
        "w = tf.Variable([[1.], [2.]])\n",
        "w"
      ]
    },
    {
      "cell_type": "markdown",
      "metadata": {
        "id": "PoSPW2QuREEv"
      },
      "source": [
        "Тензор, заполненный только единицами"
      ]
    },
    {
      "cell_type": "code",
      "execution_count": 6,
      "metadata": {
        "colab": {
          "base_uri": "https://localhost:8080/"
        },
        "id": "g4OGJqgiQvY-",
        "outputId": "c6e76842-c52e-4a70-fdbf-5abd912b92ea"
      },
      "outputs": [
        {
          "output_type": "stream",
          "name": "stdout",
          "text": [
            "tf.Tensor(\n",
            "[[[1.]\n",
            "  [1.]]\n",
            "\n",
            " [[1.]\n",
            "  [1.]]\n",
            "\n",
            " [[1.]\n",
            "  [1.]]], shape=(3, 2, 1), dtype=float32)\n"
          ]
        }
      ],
      "source": [
        "x = tf.ones(shape=(3, 2, 1))\n",
        "print(x)"
      ]
    },
    {
      "cell_type": "markdown",
      "metadata": {
        "id": "lVQVuCv5RIU5"
      },
      "source": [
        "Тензор, заполненный только нулями:"
      ]
    },
    {
      "cell_type": "code",
      "execution_count": 7,
      "metadata": {
        "colab": {
          "base_uri": "https://localhost:8080/"
        },
        "id": "C2T4MAHCQ4Fn",
        "outputId": "ffb438af-cb19-40d8-aafa-384d514cb319"
      },
      "outputs": [
        {
          "output_type": "stream",
          "name": "stdout",
          "text": [
            "tf.Tensor(\n",
            "[[[0. 0. 0.]\n",
            "  [0. 0. 0.]]\n",
            "\n",
            " [[0. 0. 0.]\n",
            "  [0. 0. 0.]]], shape=(2, 2, 3), dtype=float32)\n"
          ]
        }
      ],
      "source": [
        "x = tf.zeros(shape=(2, 2,3))\n",
        "print(x)"
      ]
    },
    {
      "cell_type": "markdown",
      "metadata": {
        "id": "wZRIvAwdRNGt"
      },
      "source": [
        "Cлучайные тензоры"
      ]
    },
    {
      "cell_type": "code",
      "execution_count": 8,
      "metadata": {
        "colab": {
          "base_uri": "https://localhost:8080/"
        },
        "id": "h6ker3veRBrQ",
        "outputId": "fec8d3cb-9976-4c3b-a4aa-665cf8f0eaf1"
      },
      "outputs": [
        {
          "output_type": "stream",
          "name": "stdout",
          "text": [
            "tf.Tensor(\n",
            "[[ 0.03379695]\n",
            " [-0.5577445 ]\n",
            " [-0.00441124]], shape=(3, 1), dtype=float32)\n"
          ]
        }
      ],
      "source": [
        "x = tf.random.normal(shape=(3, 1), mean=0., stddev=1.)\n",
        "print(x)"
      ]
    },
    {
      "cell_type": "code",
      "execution_count": 9,
      "metadata": {
        "colab": {
          "base_uri": "https://localhost:8080/"
        },
        "id": "YLjXW-uFRfTB",
        "outputId": "b937f1c1-2866-446a-d125-b7db931bcf05"
      },
      "outputs": [
        {
          "output_type": "stream",
          "name": "stdout",
          "text": [
            "<tf.Variable 'Variable:0' shape=(3, 1) dtype=float32, numpy=\n",
            "array([[1.2500554 ],\n",
            "       [0.00304395],\n",
            "       [0.8693019 ]], dtype=float32)>\n"
          ]
        }
      ],
      "source": [
        "v = tf.Variable(initial_value=tf.random.normal(shape=(3, 1)))\n",
        "print(v)"
      ]
    },
    {
      "cell_type": "markdown",
      "metadata": {
        "id": "ueNZM4bARngO"
      },
      "source": [
        "Состояние переменной можно изменить с помощью метода assign"
      ]
    },
    {
      "cell_type": "code",
      "execution_count": 10,
      "metadata": {
        "colab": {
          "base_uri": "https://localhost:8080/"
        },
        "id": "s4VMhhuBRlgp",
        "outputId": "9a240a70-d37d-4cf7-dfe1-e22dcfcb42a2"
      },
      "outputs": [
        {
          "output_type": "execute_result",
          "data": {
            "text/plain": [
              "<tf.Variable 'UnreadVariable' shape=(3, 1) dtype=float32, numpy=\n",
              "array([[1.],\n",
              "       [1.],\n",
              "       [1.]], dtype=float32)>"
            ]
          },
          "metadata": {},
          "execution_count": 10
        }
      ],
      "source": [
        "v.assign(tf.ones((3, 1)))"
      ]
    },
    {
      "cell_type": "code",
      "execution_count": 11,
      "metadata": {
        "colab": {
          "base_uri": "https://localhost:8080/"
        },
        "id": "SejHNh3QRwXu",
        "outputId": "5432377d-34af-42d1-c794-48f0064e9e74"
      },
      "outputs": [
        {
          "output_type": "execute_result",
          "data": {
            "text/plain": [
              "<tf.Variable 'UnreadVariable' shape=(3, 1) dtype=float32, numpy=\n",
              "array([[3.],\n",
              "       [1.],\n",
              "       [1.]], dtype=float32)>"
            ]
          },
          "metadata": {},
          "execution_count": 11
        }
      ],
      "source": [
        "v[0, 0].assign(3.)"
      ]
    },
    {
      "cell_type": "markdown",
      "metadata": {
        "id": "XTfjbLKLFzPx"
      },
      "source": [
        "Пример изменения размерности тензора - "
      ]
    },
    {
      "cell_type": "code",
      "execution_count": 12,
      "metadata": {
        "colab": {
          "base_uri": "https://localhost:8080/"
        },
        "id": "Yk_mB4qGFzPz",
        "outputId": "1caba102-0c35-4506-b4eb-7c509e637a68"
      },
      "outputs": [
        {
          "output_type": "stream",
          "name": "stdout",
          "text": [
            "BEFORE [[3 2]\n",
            " [5 2]\n",
            " [9 5]\n",
            " [1 3]]\n",
            "AFTER [[3 2 5 2]\n",
            " [9 5 1 3]]\n"
          ]
        }
      ],
      "source": [
        "tensor = tf.constant([[3, 2], \n",
        "                      [5, 2], \n",
        "                      [9, 5], \n",
        "                      [1, 3]])\n",
        "\n",
        "resh_tensor = tf.reshape(tensor = tensor, shape = [2, 4]) \n",
        "\n",
        "print(f'BEFORE {tensor.numpy()}')\n",
        "print(f'AFTER {resh_tensor.numpy()}')"
      ]
    },
    {
      "cell_type": "markdown",
      "metadata": {
        "id": "van47kdAFzPp"
      },
      "source": [
        "Пример сложения тензoров - "
      ]
    },
    {
      "cell_type": "code",
      "execution_count": 13,
      "metadata": {
        "colab": {
          "base_uri": "https://localhost:8080/"
        },
        "id": "wYwJYGSvFzPr",
        "outputId": "01f32199-708c-40f2-dbe9-9e2243ff9a56"
      },
      "outputs": [
        {
          "output_type": "stream",
          "name": "stdout",
          "text": [
            "[[3 2 9 5]\n",
            " [5 2 1 3]]\n"
          ]
        }
      ],
      "source": [
        "B = tf.constant([[9, 5], \n",
        "                 [1, 3]])\n",
        "\n",
        "AB = tf.concat(values=[A, B], axis=1)\n",
        "print(AB.numpy())"
      ]
    },
    {
      "cell_type": "markdown",
      "metadata": {
        "id": "rDoym3IkSN-k"
      },
      "source": [
        "Для переменных можно еще и так (добавить к тому. что есть)"
      ]
    },
    {
      "cell_type": "code",
      "execution_count": 14,
      "metadata": {
        "colab": {
          "base_uri": "https://localhost:8080/"
        },
        "id": "zmPnlSvTRUqk",
        "outputId": "ac2ca82e-0d92-4b59-a180-5a0bca03d179"
      },
      "outputs": [
        {
          "output_type": "execute_result",
          "data": {
            "text/plain": [
              "<tf.Variable 'UnreadVariable' shape=(3, 1) dtype=float32, numpy=\n",
              "array([[4.],\n",
              "       [2.],\n",
              "       [2.]], dtype=float32)>"
            ]
          },
          "metadata": {},
          "execution_count": 14
        }
      ],
      "source": [
        "v.assign_add(tf.ones((3, 1)))"
      ]
    },
    {
      "cell_type": "markdown",
      "metadata": {
        "id": "txp4OBMXFzP6"
      },
      "source": [
        "Пример умножения матриц, одной из самых частых операций в машинном обучении - "
      ]
    },
    {
      "cell_type": "code",
      "execution_count": 15,
      "metadata": {
        "colab": {
          "base_uri": "https://localhost:8080/"
        },
        "id": "2VM7TqHlFzP8",
        "outputId": "540bcdc0-8a7f-4d90-a167-20e0ae117d01"
      },
      "outputs": [
        {
          "output_type": "stream",
          "name": "stdout",
          "text": [
            "tf.Tensor(\n",
            "[[  30   70]\n",
            " [1000 9000]], shape=(2, 2), dtype=int32)\n"
          ]
        }
      ],
      "source": [
        "A = tf.constant([[3, 7], \n",
        "                 [1, 9]])\n",
        "\n",
        "\n",
        "B = tf.constant([[10, 10],\n",
        "                 [1000, 1000]])\n",
        "\n",
        "AB = tf.multiply(A, B)\n",
        "print(AB)\n"
      ]
    },
    {
      "cell_type": "code",
      "execution_count": 16,
      "metadata": {
        "colab": {
          "base_uri": "https://localhost:8080/"
        },
        "id": "qCCRCUpj9aPF",
        "outputId": "2f3a7c78-4285-4107-bac7-b64868fa8111"
      },
      "outputs": [
        {
          "output_type": "stream",
          "name": "stdout",
          "text": [
            "tf.Tensor([[10 15]], shape=(1, 2), dtype=int32)\n",
            "(1, 2)\n",
            "<dtype: 'int32'>\n"
          ]
        }
      ],
      "source": [
        "x = tf.matmul([[5]], [[2, 3]])\n",
        "print(x)\n",
        "print(x.shape)\n",
        "print(x.dtype)"
      ]
    },
    {
      "cell_type": "markdown",
      "metadata": {
        "id": "YuV-xpouSe97"
      },
      "source": [
        "Можно много всякого похожего на numpy"
      ]
    },
    {
      "cell_type": "code",
      "execution_count": 17,
      "metadata": {
        "colab": {
          "base_uri": "https://localhost:8080/"
        },
        "id": "mctsk4y8SnCp",
        "outputId": "6fdfbeab-d2b4-4c05-8943-9fdecc97acab"
      },
      "outputs": [
        {
          "output_type": "stream",
          "name": "stdout",
          "text": [
            "tf.Tensor(\n",
            "[[2. 2.]\n",
            " [2. 2.]], shape=(2, 2), dtype=float32)\n",
            "tf.Tensor(\n",
            "[[4. 4.]\n",
            " [4. 4.]], shape=(2, 2), dtype=float32)\n",
            "tf.Tensor(\n",
            "[[1.4142135 1.4142135]\n",
            " [1.4142135 1.4142135]], shape=(2, 2), dtype=float32)\n",
            "tf.Tensor(\n",
            "[[5.4142137 5.4142137]\n",
            " [5.4142137 5.4142137]], shape=(2, 2), dtype=float32)\n",
            "tf.Tensor(\n",
            "[[16. 16.]\n",
            " [16. 16.]], shape=(2, 2), dtype=float32)\n",
            "tf.Tensor(\n",
            "[[86.62742 86.62742]\n",
            " [86.62742 86.62742]], shape=(2, 2), dtype=float32)\n"
          ]
        }
      ],
      "source": [
        "a = tf.ones((2, 2)) * 2\n",
        "print(a)\n",
        "b = tf.square(a)\n",
        "print(b)\n",
        "c = tf.sqrt(a)\n",
        "print(c)\n",
        "d = b + c\n",
        "print(d)\n",
        "e = tf.matmul(a, b)\n",
        "print(e)\n",
        "e *= d\n",
        "print(e)\n",
        "\n"
      ]
    },
    {
      "cell_type": "markdown",
      "source": [
        "Пример:"
      ],
      "metadata": {
        "id": "M0xObOtmHd2c"
      }
    },
    {
      "cell_type": "code",
      "execution_count": 18,
      "metadata": {
        "colab": {
          "base_uri": "https://localhost:8080/"
        },
        "id": "5zd1GMQ0-o80",
        "outputId": "f81f2794-a217-4524-d012-adbd714dcd33"
      },
      "outputs": [
        {
          "output_type": "stream",
          "name": "stdout",
          "text": [
            "превратим numpy arrays в Tensors \n",
            "tf.Tensor(\n",
            "[[42. 42. 42.]\n",
            " [42. 42. 42.]\n",
            " [42. 42. 42.]], shape=(3, 3), dtype=float64)\n",
            "добавим к тензору 1 \n",
            "[[43. 43. 43.]\n",
            " [43. 43. 43.]\n",
            " [43. 43. 43.]]\n",
            " .numpy() превратим тензор в  numpy array\n",
            "[[42. 42. 42.]\n",
            " [42. 42. 42.]\n",
            " [42. 42. 42.]]\n"
          ]
        }
      ],
      "source": [
        "import numpy as np\n",
        "\n",
        "ndarray = np.ones([3, 3])\n",
        "\n",
        "print(\"превратим numpy arrays в Tensors \")\n",
        "tensor = tf.multiply(ndarray, 42)\n",
        "print(tensor)\n",
        "\n",
        "\n",
        "print(\"добавим к тензору 1 \")\n",
        "print(np.add(tensor, 1))\n",
        "\n",
        "print(\" .numpy() превратим тензор в  numpy array\")\n",
        "print(tensor.numpy())"
      ]
    },
    {
      "cell_type": "markdown",
      "source": [
        "Полный список функций можно посмотреть в официальном источнике https://www.tensorflow.org/api_docs/python/tf (ядро платформы и основные рабочие классы и функции)"
      ],
      "metadata": {
        "id": "0Fxt0qYMIQay"
      }
    },
    {
      "cell_type": "markdown",
      "source": [
        "## Задание 1"
      ],
      "metadata": {
        "id": "kkOatX6ICtjt"
      }
    },
    {
      "cell_type": "code",
      "execution_count": null,
      "metadata": {
        "id": "QGYTKAxeofVR"
      },
      "outputs": [],
      "source": [
        "# 1. Создайте случайный Float размера 3x4x5"
      ]
    },
    {
      "cell_type": "code",
      "execution_count": null,
      "metadata": {
        "id": "7GV_q8DdofVV"
      },
      "outputs": [],
      "source": [
        "# 2. Выведите его форму (shape)"
      ]
    },
    {
      "cell_type": "code",
      "execution_count": null,
      "metadata": {
        "id": "f1OTy65FofVX"
      },
      "outputs": [],
      "source": [
        "# 3. Приведите его к форме 6х10"
      ]
    },
    {
      "cell_type": "code",
      "execution_count": null,
      "metadata": {
        "id": "BEVOv9_TofVe"
      },
      "outputs": [],
      "source": [
        "# 4. Создайте случайный Int размера 10"
      ]
    },
    {
      "cell_type": "code",
      "source": [
        "# 5. Умножьте созданный Float на созданный Int поэлементно"
      ],
      "metadata": {
        "id": "TAX3DUiSa07K"
      },
      "execution_count": null,
      "outputs": []
    },
    {
      "cell_type": "code",
      "execution_count": null,
      "metadata": {
        "id": "eUxdWlQZofVi"
      },
      "outputs": [],
      "source": [
        "# 6. Умножьте тензор матрично на себя, чтобы результат был размерности 6x6"
      ]
    },
    {
      "cell_type": "code",
      "execution_count": null,
      "metadata": {
        "id": "FzH6QkyxofVm"
      },
      "outputs": [],
      "source": [
        "# 8. Создайте единичный тензор размера 5x6"
      ]
    },
    {
      "cell_type": "code",
      "execution_count": null,
      "metadata": {
        "id": "z49ttvWPofVo"
      },
      "outputs": [],
      "source": [
        "# 9. Переведите его в формат numpy"
      ]
    },
    {
      "cell_type": "markdown",
      "source": [
        "Работа с графическими ускорителями (если они есть):\n",
        "\n",
        "  -  проверить существование\n",
        "  -  по автомату всегда старается использовать графические ускорители\n",
        "  -  можно включать и отключать принудительно "
      ],
      "metadata": {
        "id": "X0NUXXrZHpWT"
      }
    },
    {
      "cell_type": "markdown",
      "metadata": {
        "id": "VKoCavodWLb-"
      },
      "source": [
        "Проверяем работу GPU\n",
        "\n",
        "https://www.tensorflow.org/guide/gpu"
      ]
    },
    {
      "cell_type": "code",
      "execution_count": 19,
      "metadata": {
        "colab": {
          "base_uri": "https://localhost:8080/"
        },
        "id": "iwFVgO3t_Ghj",
        "outputId": "b5af583b-94e5-4dc7-de1e-ac225d81ad0a"
      },
      "outputs": [
        {
          "output_type": "stream",
          "name": "stdout",
          "text": [
            "есть ли доступные GPU: \n",
            "[PhysicalDevice(name='/physical_device:GPU:0', device_type='GPU')]\n",
            "тензор на GPU #0:  \n",
            "True\n"
          ]
        }
      ],
      "source": [
        "x = tf.random.uniform([3, 3]) # равномерно случайный тензор размера (3,3)\n",
        "\n",
        "print(\"есть ли доступные GPU: \")\n",
        "print(tf.config.experimental.list_physical_devices(\"GPU\"))\n",
        "\n",
        "\n",
        "print(\"тензор на GPU #0:  \"),\n",
        "print(x.device.endswith('GPU:0')) #  принудительно назначаем устройство GPU:0 - из списка доступных GPU\n"
      ]
    },
    {
      "cell_type": "markdown",
      "metadata": {
        "id": "MR36oPW2WSUh"
      },
      "source": [
        "Сделаем по 10 циклов на GPU и CPU:"
      ]
    },
    {
      "cell_type": "code",
      "execution_count": 20,
      "metadata": {
        "colab": {
          "base_uri": "https://localhost:8080/"
        },
        "id": "oajro_Ip_hap",
        "outputId": "4d25a8f5-987e-4e16-88fb-46ccafdb72bd"
      },
      "outputs": [
        {
          "output_type": "stream",
          "name": "stdout",
          "text": [
            " CPU работает:\n",
            "10 циклов: 302.99ms\n",
            " какой GPU:\n",
            "10 циклов: 12.55ms\n"
          ]
        }
      ],
      "source": [
        "import time\n",
        "\n",
        "def time_matmul(x):\n",
        "  start = time.time()\n",
        "  for loop in range(10):\n",
        "    tf.matmul(x, x)\n",
        "\n",
        "  result = time.time()-start\n",
        "\n",
        "  print(\"10 циклов: {:0.2f}ms\".format(1000*result))\n",
        "\n",
        "# исполнение CPU\n",
        "print(\" CPU работает:\")\n",
        "with tf.device(\"CPU:0\"):\n",
        "  x = tf.random.uniform([1000, 1000])\n",
        "  assert x.device.endswith(\"CPU:0\")\n",
        "  time_matmul(x)\n",
        "\n",
        "# исполнение на GPU #0 , если доступен\n",
        "if tf.config.experimental.list_physical_devices(\"GPU\"):\n",
        "  print(\" какой GPU:\")\n",
        "  with tf.device(\"GPU:0\"): # или GPU:1 , для 2х GPU, GPU:2 для 3х  и т.д.\n",
        "    x = tf.random.uniform([1000, 1000])\n",
        "    assert x.device.endswith(\"GPU:0\")\n",
        "    time_matmul(x)"
      ]
    },
    {
      "cell_type": "markdown",
      "metadata": {
        "id": "cN3pziw3r0kf"
      },
      "source": [
        "## Вычислительный граф и Автоматическое диференцирование\n"
      ]
    },
    {
      "cell_type": "markdown",
      "metadata": {
        "id": "wYIltf84lreJ"
      },
      "source": [
        "\n",
        "Вычислительный граф — это иллюстрированная запись какой-либо функции, состоящая из вершин и рёбер. Вершины (или узлы) — вычислительные операции, которые необходимо выполнить, а рёбра связывают их в определённую последовательность.\n",
        "\n",
        "Автоматическое дифференцирование - строительный блок не только в TensorFlow но и в каждой другой DL библиотеке. Движок автоматического дифференцирования в TensorFlow называет [GradientTape](https://www.tensorflow.org/api_docs/python/tf/GradientTape). \n",
        "\n",
        "Современные архитектуры нейронных сетей могут иметь миллионы обучающихся параметров. С вычислительной точки зрения тренировка сети состоит из двух фаз:\n",
        "\n",
        "1) Прямой проход для вычисления значения функции потерь.  \n",
        "2) Обратный проход для вычисления градиентов обучаемых параметров.\n",
        "\n",
        "Прямой проход весьма прямолинеен: выход одного слоя является входом другого.\n",
        "Обратный проход немного сложнее, поскольку он требует от нас использования цепного правила для вычисления градиентов весов относительно функции потерь."
      ]
    },
    {
      "cell_type": "markdown",
      "metadata": {
        "id": "PTUPg57vAhg6"
      },
      "source": [
        "Ниже представлен простой пример вычислительного графа для вычисления выражения $\\sigma(x*w_1 + w_0)$. Можно разбить вычисление на следующие шаги:"
      ]
    },
    {
      "cell_type": "markdown",
      "metadata": {
        "id": "7DEEdtooAhg6"
      },
      "source": [
        "<img src='https://drive.google.com/uc?export=view&id=1jCTO6zBGyE8sYkkSv_6NENdFOiwuJCMC' width=600>"
      ]
    },
    {
      "cell_type": "markdown",
      "metadata": {
        "id": "TJMGxYF6Ahg7"
      },
      "source": [
        "Преимущества использования вычислительного графа в том, что каждый узел является независимым функционирующим куском кода, если получит все необходимые входные данные. Это позволяет  оптимизировать производительность при выполнении расчетов, используя многоканальную обработку, параллельные вычисления.В Тензорфлоу граф создается и поддерживается объектом tf.Graph() - https://www.tensorflow.org/api_docs/python/tf/Graph\n",
        "\n",
        "TensorFlow поддерживает \"нетерпеливое\" динамическое выполнение и \"статическое\" выполнение графа. При нетерпеливом выполнении операции оцениваются немедленно. При статическом выполнении - сначала строится граф, а потом идет обработка.\n",
        "Динамические графы удобно отлаживать и контролировать, статические графы работают быстрее."
      ]
    },
    {
      "cell_type": "markdown",
      "metadata": {
        "id": "bbWKa7DaTQIN"
      },
      "source": [
        "**ГЛАВНЫЙ ФОКУС!!!**\n",
        "Вычисляем производные (для дифференцируемых функций) автоматически по всему запомненному графу вычислений"
      ]
    },
    {
      "cell_type": "code",
      "execution_count": null,
      "metadata": {
        "colab": {
          "base_uri": "https://localhost:8080/"
        },
        "id": "d2-w6y0fTOuP",
        "outputId": "37aeab7f-81b4-43c0-8586-266a9b0068e3"
      },
      "outputs": [
        {
          "output_type": "stream",
          "name": "stdout",
          "text": [
            "input_var :  <tf.Variable 'Variable:0' shape=() dtype=float32, numpy=3.0>\n",
            "result = input_var^2 :  tf.Tensor(9.0, shape=(), dtype=float32)\n",
            "gradient :  tf.Tensor(6.0, shape=(), dtype=float32)\n"
          ]
        }
      ],
      "source": [
        "input_var = tf.Variable(initial_value=3.) # входная переменная функции (х - вещественное число - тензор)\n",
        "with tf.GradientTape() as tape:  # создаем объект для слежения (записи) тензорных связей и зависимостей \n",
        "   result = tf.square(input_var)  # вычисляем функцию у = (х ** 2)\n",
        "gradient = tape.gradient(result, input_var)  # вычисляем производную у по х (аргументы : 1- результат работы функции, 2- значение входной переменной)\n",
        "\n",
        "print('input_var : ',input_var)\n",
        "print('result = input_var^2 : ',result)\n",
        "print('gradient : ',gradient)\n"
      ]
    },
    {
      "cell_type": "markdown",
      "source": [
        "## Задание 2"
      ],
      "metadata": {
        "id": "j92QO-axFaHi"
      }
    },
    {
      "cell_type": "code",
      "execution_count": 1,
      "metadata": {
        "id": "u3V6CsNkofVj"
      },
      "outputs": [],
      "source": [
        "# 1. Посчитайте производную функции y = x**3  в точке x = ( 0.5)"
      ]
    },
    {
      "cell_type": "code",
      "source": [
        "# 2. Посчитайте производную функции y = x[0]**3 + x[1] - 75*x[2] в точке x = (1, 0.5, 2)"
      ],
      "metadata": {
        "id": "IhWEQzhSFgMa"
      },
      "execution_count": null,
      "outputs": []
    },
    {
      "cell_type": "markdown",
      "metadata": {
        "id": "_8s-9c41UFQN"
      },
      "source": [
        "Производная второго порядка:"
      ]
    },
    {
      "cell_type": "code",
      "execution_count": 21,
      "metadata": {
        "colab": {
          "base_uri": "https://localhost:8080/"
        },
        "id": "fHlpsLfLUDtU",
        "outputId": "ccc0099f-345c-4998-d0e4-6c5f58070ee6"
      },
      "outputs": [
        {
          "output_type": "stream",
          "name": "stdout",
          "text": [
            "x :  tf.Tensor(\n",
            "[  0.         4.9       19.6       44.100002  78.4      122.49999\n",
            " 176.40001  240.09999  313.6      396.9     ], shape=(10,), dtype=float32)\n",
            "t :  <tf.Variable 'Variable:0' shape=(10,) dtype=float32, numpy=array([0., 1., 2., 3., 4., 5., 6., 7., 8., 9.], dtype=float32)>\n",
            "v :  tf.Tensor(\n",
            "[ 0.        9.8      19.6      29.400002 39.2      49.       58.800003\n",
            " 68.600006 78.4      88.200005], shape=(10,), dtype=float32)\n",
            "a :  tf.Tensor([9.8 9.8 9.8 9.8 9.8 9.8 9.8 9.8 9.8 9.8], shape=(10,), dtype=float32)\n"
          ]
        }
      ],
      "source": [
        "import numpy as np\n",
        "import matplotlib.pyplot as plt\n",
        "\n",
        "input_t = tf.Variable(np.arange(10), dtype='float32') # t  входная переменная функции (вектор моментов времени от 0 до 9 секунд - вещественных чисел - тензор)\n",
        "with tf.GradientTape() as outer_tape: # создаем объект1 для слежения (записи) тензорных связей и зависимостей (вторая производная)\n",
        "  with tf.GradientTape() as inner_tape: # создаем объект2 для слежения (записи) тензорных связей и зависимостей (первая производная)\n",
        "    x =  4.9 * input_t ** 2  # g * t^2 /2   функция от входной переменной (перемещение)\n",
        "  speed = inner_tape.gradient( x, input_t)  # g * t  первая производная (скорость)\n",
        "acceleration = outer_tape.gradient(speed, input_t)   # g вторая производная (ускорение)\n",
        "\n",
        "# отобразим\n",
        "print('x : ',x)\n",
        "print('t : ',input_t)\n",
        "print('v : ',speed)\n",
        "print('a : ',acceleration)"
      ]
    },
    {
      "cell_type": "code",
      "execution_count": 22,
      "metadata": {
        "colab": {
          "base_uri": "https://localhost:8080/",
          "height": 334
        },
        "id": "VeqHFTyFVOdc",
        "outputId": "467c8d41-1022-415f-a4f8-6b4a7efb6eb0"
      },
      "outputs": [
        {
          "output_type": "display_data",
          "data": {
            "text/plain": [
              "<Figure size 1152x360 with 1 Axes>"
            ],
            "image/png": "[encoded data removed]"
          },
          "metadata": {
            "needs_background": "light"
          }
        }
      ],
      "source": [
        "plt.figure(figsize=(16,5))\n",
        "plt.plot(input_t.numpy(), x.numpy(), label = 'x')\n",
        "plt.plot(input_t.numpy(), speed.numpy(), label = 'speed')\n",
        "plt.plot(input_t.numpy(), acceleration.numpy(), label = 'acceleration')\n",
        "plt.legend()\n",
        "plt.xlabel('t')\n",
        "plt.grid('on')\n",
        "plt.show()"
      ]
    },
    {
      "cell_type": "markdown",
      "source": [
        "## Задание 3"
      ],
      "metadata": {
        "id": "JVbFqNWIFyRD"
      }
    },
    {
      "cell_type": "code",
      "execution_count": null,
      "metadata": {
        "id": "uD0CptmJFyRD"
      },
      "outputs": [],
      "source": [
        "# 1. Посчитайте 2-ю производную функции y = x**3  в точке x = ( 0.5)"
      ]
    },
    {
      "cell_type": "code",
      "source": [],
      "metadata": {
        "id": "eL1znxYBMUTI"
      },
      "execution_count": null,
      "outputs": []
    },
    {
      "cell_type": "markdown",
      "source": [
        "## **Создание нейронной сети в Keras**"
      ],
      "metadata": {
        "id": "ot0B8RRtMWwo"
      }
    },
    {
      "cell_type": "markdown",
      "metadata": {
        "id": "Y6btW5Oz9U9W"
      },
      "source": [
        "**Создание модели**"
      ]
    },
    {
      "cell_type": "markdown",
      "metadata": {
        "id": "jgVdsO619U9Y"
      },
      "source": [
        "Все модели создаем на основе классов (и в самом глубоком уровне наследований от tf.Module()) , но возможно 3 пути:\n",
        "- описание модели как модели линейной через Керас в классе tf.keras.Sequential()\n",
        "- описание модели в функциональном стиле на основе базовых объектов слоев и Керас класса tf.keras.Model(), \n",
        "- ООП нейросеть tf.Module()\n",
        "\n",
        "каждый вариант имеет свои достоинства и недоствтки:\n",
        "  - линейные сети просто создавать. но они слишком простые\n",
        "  - функциональные сети дают массу вариантов для построения сложных графов вычислений и остаются в классическом процессе обучения керас\n",
        "  - ООП тензорфлоу реализации - полноценное объектно-ориентированное решение с широким списком возможных кастомизаций модели\n",
        "\n",
        "Ниже типичный код нейросети - на основе объекта Sequential() :"
      ]
    },
    {
      "cell_type": "markdown",
      "metadata": {
        "id": "rfu5k2FX9U9a"
      },
      "source": [
        "    # define the keras model\n",
        "    model = Sequential()\n",
        "    model.add(Dense(12, input_dim=8, activation='relu'))\n",
        "    model.add(Dense(8, activation='relu'))\n",
        "    model.add(Dense(1, activation='sigmoid'))"
      ]
    },
    {
      "cell_type": "markdown",
      "metadata": {
        "id": "lb6IkKpN9U9c"
      },
      "source": [
        "Команды в этом коде.\n",
        "\n",
        "  - **Sequential** - позволяет создать нейросети где слои имеют форму стека. Сигнал в них передается от одного слоя к другому. В противовес этой разновидности есть нейросети где сигнал может не сразу передаваться в следующий слой а попадать в цикл. Такие нейросети мы разберем в следующих уроках. имеет методы https://www.tensorflow.org/api_docs/python/tf/keras/Sequential:\n",
        " - model = tf.keras.**Sequential()** - конструктор - создает пустую линейную сеть\n",
        " - model = tf.keras.**Sequential**([слой1,слой2, ..., слойm]) - создает сеть из списка объектов слоев (каждый элемент списка объект наследник класса )\n",
        " - **.add**(< передаем объект слой >) - добавляет слой к модели (в конец)\n",
        " - **.pop()** Удаляет последний слой в модели\n",
        "\n",
        "  - **Dense** (создает объект класса https://www.tensorflow.org/api_docs/python/tf/keras/layers/Dense наследник базового класса слой tf.keras.layers.Layer()) - позволяет каждому нейронну быть связанному с другим нейронном. Образует плотную карту связей с нейронами следующего слоя (все со всеми). Цифры 12, 8, 1 обозначают количество нейронов в каждом конкретном слое. Аргументы:\n",
        "    - **units**\tПоложительное целое число, размерность выходного пространства (без этого не работает, остальные можно пропускать).\n",
        "    - **activation**\tФункция активации слоя (однаковая на весь слой у каждого из нейронов). Если вы ничего не укажете, активация не будет применена (т.е. \"линейная\" активация: ). a(x) = x\n",
        "    - **use_bias** = \tBoolean, указывает, использует ли слой вектор смещения.\n",
        "    - **kernel_initializer**\tИнициализатор kernel матрицы весов (в Керас есть богатый список инициализаторов).\n",
        "    - **kernel_regularizer**\tФункция регуляризатора применяется к kernel матрице весов (в Керас есть богатый список регулялизаторов).\n",
        "\n",
        "\n",
        "  - **Activation** - позволяет определить формулу по которой будет активироваться нейрон.\n",
        "\n",
        "  - все слои наследуются от класса tf.keras.layers.**Layer**( trainable=True, name=None, dtype=None, dynamic=False, **kwargs), а он наследуется от Module https://www.tensorflow.org/api_docs/python/tf/keras/layers/Layer\n",
        "\n",
        "\n"
      ]
    },
    {
      "cell_type": "markdown",
      "metadata": {
        "id": "iVWaIK2l9U9e"
      },
      "source": [
        "**Компиляция модели**\n",
        "\n",
        "На этапе компиляции модель с заданными параметрами ранее создается. Пример:"
      ]
    },
    {
      "cell_type": "markdown",
      "metadata": {
        "id": "B6m5CF1l9U9g"
      },
      "source": [
        "    \n",
        "    # создание keras модели - берем объект нейронная сеть и вызываем метод .compile\n",
        "    model.compile(loss='binary_crossentropy', optimizer='adam', metrics=['accuracy'])"
      ]
    },
    {
      "cell_type": "markdown",
      "metadata": {
        "id": "IDbetrHA9U9i"
      },
      "source": [
        "На этой стадии мы должны сделать настройки процесса обучения нейронной сети:\n",
        "\n",
        "  - **loss** - позволяет задать формулы по которой будет определяться степень ошибки нейронной сети (в Керас есть богатый список вариантов потерь https://www.tensorflow.org/api_docs/python/tf/keras/losses).\n",
        "\n",
        "  - **optimizer** - позволяет задать алгоритм, который будет осуществлять изменения весов по всей нейронной сети backpropagation (в Керас есть богатый список вариантов оптимизаторов https://www.tensorflow.org/api_docs/python/tf/keras/optimizers)\n",
        "\n",
        "  - **metrics** - позволяет опредилить кретирии по которым будет оцениваться степень обученности нейросети (в Керас есть богатый список вариантов метрик https://www.tensorflow.org/api_docs/python/tf/keras/metrics).\n",
        "    \n",
        "необходимо подбирать метрику и потери в соответствии с задачей.    "
      ]
    },
    {
      "cell_type": "markdown",
      "metadata": {
        "id": "d9Gi-C5ddKKL"
      },
      "source": [
        "Оптимизаторы:\n",
        "* SGD() (с или без моментум)\n",
        "* RMSprop()\n",
        "* Adam()\n",
        "* Adagrad()\n",
        "…\n",
        "\n",
        "Функции потерь:\n",
        "* CategoricalCrossentropy()\n",
        "* SparseCategoricalCrossentropy()\n",
        "* BinaryCrossentropy()\n",
        "* MeanSquaredError()\n",
        "* KLDivergence()\n",
        "* CosineSimilarity()\n",
        "…\n",
        "\n",
        "Метрики:\n",
        "* CategoricalAccuracy()\n",
        "* SparseCategoricalAccuracy()\n",
        "* BinaryAccuracy()\n",
        "* AUC()\n",
        "* Precision()\n",
        "* Recall()\n",
        "…"
      ]
    },
    {
      "cell_type": "markdown",
      "metadata": {
        "id": "KH-Cy6Iy9U9l"
      },
      "source": [
        "**Передача данных для обучения нейросети**\n",
        "\n",
        "После того как нейросеть создана можно передавать ей данные для обучения и вызвать метод .fit(), в который передают следующие параметры:\n",
        "\n",
        ".fit(\n",
        "    x=None,\n",
        "    y=None,\n",
        "    batch_size=None,\n",
        "    epochs=1,\n",
        "    verbose='auto',\n",
        "    callbacks=None,\n",
        "    validation_split=0.0,\n",
        "    validation_data=None,\n",
        "    shuffle=True,\n",
        "    class_weight=None,\n",
        "    sample_weight=None,\n",
        "    initial_epoch=0,\n",
        "    steps_per_epoch=None,\n",
        "    validation_steps=None,\n",
        "    validation_batch_size=None,\n",
        "    validation_freq=1,\n",
        "    max_queue_size=10,\n",
        "    workers=1,\n",
        "    use_multiprocessing=False\n",
        ")\n",
        "\n",
        " - **x**\tВходные данные:\n",
        "    - Массив Numpy (или похожий на массив) или список массивов (в случае, если модель имеет несколько входных данных).\n",
        "    - Тензор TensorFlow или список тензоров (в случае, если модель имеет несколько входных данных).\n",
        "    - Словарь, отображающий входные имена в соответствующие массивы/тензоры, если модель имеет именованные входные данные.\n",
        "    - Набор tf.data данных. Должен возвращать кортеж либо , (inputs, targets)либо (inputs, targets, sample_weights).\n",
        "    - Генератор или keras.utils.Sequence возврат (inputs, targets)или (inputs, targets, sample_weights).\n",
        "  - **y**\tЦелевые данные: число экземпляров как в x, это могут быть:\n",
        "    - массивы Numpy или тензоры TensorFlow. \n",
        "    - если передаем генератор, то этот параметр пропускаем, но генератор должен возвращать кортеж из пары экземпляров из Х и у\n",
        "  - **batch_size**\tЦелое или None. по умолчанию будет 32. Не указывайте, если ваши данные представлены в виде наборов данных, генераторов (поскольку они генерируют пакеты). \n",
        "  - **epochs**\tЦелое. Количество эпох для обучения модели. Эпоха — это итерация по всем x и y предоставленным данным \n",
        "  - **verbose**\t'авто', 0, 1 или 2. Режим детализации. 0 = без звука, 1 = индикатор выполнения, 2 = одна строка в эпоху. 'auto' по умолчанию имеет значение 1 в большинстве случаев.\n",
        "  - **callbacks**\tСписок keras.callbacks.Callback экземпляров. Список обратных вызовов для применения во время обучения. \n",
        "  - **validation_split**\tПлавающее значение от 0 до 1. Доля обучающих данных, которые будут использоваться в качестве данных проверки. Модель будет выделять эту часть обучающих данных, не будет обучаться на ней и будет оценивать потери и любые метрики модели на этих данных в конце каждой эпохи. Данные проверки выбираются из последних выборок в x предоставленных yданных и перед перемешиванием. Этот аргумент не поддерживается, если x это набор данных, генератор.\n",
        "  - **validation_data\t**Данные для оценки потерь и любые метрики модели в конце каждой эпохи. Модель не будет обучаться на этих данных.\n",
        "\n",
        "  - **class_weight**\tНеобязательный словарь, отображающий индексы класса (целые числа) в весовое (плавающее) значение, используемое для взвешивания функции потерь (только во время обучения). Это может быть полезно, чтобы указать модели «уделять больше внимания» образцам из недопредставленного класса.\n",
        "\n",
        "  - sample_weight\tНеобязательный массив весов Numpy для обучающих выборок, используемый для взвешивания функции потерь (только во время обучения).\n"
      ]
    },
    {
      "cell_type": "markdown",
      "metadata": {
        "id": "TweWbzvu9U9o"
      },
      "source": [
        "    # передача обучающего датасета keras модели\n",
        "    model.fit(X, y, epochs=150, batch_size=10, verbose=0)"
      ]
    },
    {
      "cell_type": "markdown",
      "metadata": {
        "id": "tFt0A6m59U9q"
      },
      "source": [
        "Разберем этот пример.\n",
        "X, y - содержат все обучающие данные\n",
        "epochs - определяет сколько раз через нейросеть должен пройти весь набор данных\n",
        "bath_size - определяет количество обучающих примеров передающихся нейросети на каждой итерации обучения.\n",
        "verbose - позволяет определять информацию, котору вы видете во время обучения нейронной сети."
      ]
    },
    {
      "cell_type": "markdown",
      "metadata": {
        "id": "P7ERG-o79U9s"
      },
      "source": [
        "**Оценка обученности нейронной сети**\n",
        "\n",
        "Следующей стадией может быть проверка обученности нейронной сети. Команда Keras для этих целей - \n",
        "\n",
        "    results = model.evaluate(x_test, y_test, batch_size=128)\n",
        "    \n",
        "В данном случае мы просто указываем какую модель на каких данных мы хотим проверить"
      ]
    },
    {
      "cell_type": "markdown",
      "metadata": {
        "id": "UHT1j0AX9U9t"
      },
      "source": [
        "**Запуск нейронной сети для выполнения работы**\n",
        "\n",
        "На этой стадии мы можем попробовать запустить нейронную сеть на данных которые мы хотели бы чтобы она оценила. Осуществить распознования объекта на фотографии например.\n",
        "Вот код для этих целей - \n",
        "\n",
        "    predictions = model.predict(x_test[:3])\n",
        "    \n",
        "В качестве аргумента здесь указывается массив даных х содержащих, например фотографию в виде массива чисел.    \n",
        "    "
      ]
    },
    {
      "cell_type": "markdown",
      "source": [
        "### **Пример:**\n",
        "\n",
        "### ***Подготовка данных***\n",
        "\n",
        "Откроем набор данных \"рукописные цифры\" - это классика\n",
        "В качестве входных объектов видим картинки 28х28 пикселей (полутоновые), а на выходе должны указать к какому классу принадлежит цифра (метки от 0 до 9)"
      ],
      "metadata": {
        "id": "ELXd7pbTbDsm"
      }
    },
    {
      "cell_type": "code",
      "execution_count": 95,
      "metadata": {
        "colab": {
          "base_uri": "https://localhost:8080/"
        },
        "id": "qBUSq3dWHUjF",
        "outputId": "c05ff482-6de3-4ae4-c3ac-4c4cddbe9bb4"
      },
      "outputs": [
        {
          "output_type": "stream",
          "name": "stdout",
          "text": [
            "(60000, 784)\n",
            "(10000, 784)\n"
          ]
        }
      ],
      "source": [
        "from tensorflow.keras.datasets import mnist  # импорт функции для загрузки набора данных (это рукописные цифры)\n",
        "\n",
        "\n",
        "(train_images0,train_labels),(test_images0,test_labels)=mnist.load_data()   # загружаем (вернет кортеж тренировочный примров (изображение, метка) и кортеж тестовых примеров (изображение, метка))\n",
        "\n",
        "# Нормализация.\n",
        "train_images0 = (train_images0 / 255) * 2 - 1\n",
        "test_images0 = (test_images0 / 255) * 2 - 1\n",
        "\n",
        "# векторизация.\n",
        "train_images = train_images0.reshape((-1, 784))\n",
        "test_images = test_images0.reshape((-1, 784))\n",
        "\n",
        "print(train_images.shape) # (60000, 784)\n",
        "print(test_images.shape)  # (10000, 784)\n",
        "\n"
      ]
    },
    {
      "cell_type": "markdown",
      "source": [
        "Введем имена классов:"
      ],
      "metadata": {
        "id": "UM4NqzoTc-71"
      }
    },
    {
      "cell_type": "code",
      "source": [
        "class_names  = [str(i) for i in range(10)]\n",
        "class_names"
      ],
      "metadata": {
        "colab": {
          "base_uri": "https://localhost:8080/"
        },
        "id": "uLb7i9gJc0Ie",
        "outputId": "3e8421ef-4989-4e63-ea7f-02772152db4e"
      },
      "execution_count": 96,
      "outputs": [
        {
          "output_type": "execute_result",
          "data": {
            "text/plain": [
              "['0', '1', '2', '3', '4', '5', '6', '7', '8', '9']"
            ]
          },
          "metadata": {},
          "execution_count": 96
        }
      ]
    },
    {
      "cell_type": "code",
      "execution_count": 97,
      "metadata": {
        "id": "NInsePV5QKs4"
      },
      "outputs": [],
      "source": [
        "import matplotlib.pyplot as plt\n"
      ]
    },
    {
      "cell_type": "markdown",
      "source": [
        "Посмотрим на пример:"
      ],
      "metadata": {
        "id": "X6nj0y-Eda0c"
      }
    },
    {
      "cell_type": "code",
      "source": [
        "n = 1000\n",
        "plt.figure()\n",
        "plt.imshow(train_images0[n])\n",
        "plt.colorbar()\n",
        "plt.grid(False)\n",
        "plt.show()"
      ],
      "metadata": {
        "colab": {
          "base_uri": "https://localhost:8080/",
          "height": 269
        },
        "id": "RnFutJ2JdOm0",
        "outputId": "d1162355-fe69-43c1-fd5f-0cc99e5e24d4"
      },
      "execution_count": 98,
      "outputs": [
        {
          "output_type": "display_data",
          "data": {
            "text/plain": [
              "<Figure size 432x288 with 2 Axes>"
            ],
            "image/png": "[encoded data removed]"
          },
          "metadata": {
            "needs_background": "light"
          }
        }
      ]
    },
    {
      "cell_type": "markdown",
      "source": [
        "Посмотрим на несколько примеров и их метки:"
      ],
      "metadata": {
        "id": "7lVnQiPZdfmz"
      }
    },
    {
      "cell_type": "code",
      "source": [
        "plt.figure(figsize=(10,10))\n",
        "for i in range(25):\n",
        "    plt.subplot(5,5,i+1)\n",
        "    plt.xticks([])\n",
        "    plt.yticks([])\n",
        "    plt.grid(False)\n",
        "    plt.imshow(train_images0[i], cmap=plt.cm.binary)\n",
        "    plt.xlabel(class_names[train_labels[i]])\n",
        "plt.show()"
      ],
      "metadata": {
        "colab": {
          "base_uri": "https://localhost:8080/",
          "height": 589
        },
        "id": "SGbwAKNuceS_",
        "outputId": "854da8f3-c05b-450c-ca7e-e652db57bb0b"
      },
      "execution_count": 99,
      "outputs": [
        {
          "output_type": "display_data",
          "data": {
            "text/plain": [
              "<Figure size 720x720 with 25 Axes>"
            ],
            "image/png": "[encoded data removed]"
          },
          "metadata": {}
        }
      ]
    },
    {
      "cell_type": "markdown",
      "source": [
        "### **Создадим сеть:**"
      ],
      "metadata": {
        "id": "CgWygk-NdmIi"
      }
    },
    {
      "cell_type": "code",
      "execution_count": 100,
      "metadata": {
        "id": "ozb2tTqNIBzX"
      },
      "outputs": [],
      "source": [
        "from tensorflow.keras.models import Sequential\n",
        "from tensorflow.keras.layers import Dense\n",
        "from tensorflow.keras.utils import to_categorical"
      ]
    },
    {
      "cell_type": "code",
      "execution_count": 101,
      "metadata": {
        "colab": {
          "base_uri": "https://localhost:8080/"
        },
        "id": "PIIwUIB_GWzd",
        "outputId": "7269a536-6f00-4fb4-9117-25760af7a105"
      },
      "outputs": [
        {
          "output_type": "stream",
          "name": "stdout",
          "text": [
            "Model: \"sequential_21\"\n",
            "_________________________________________________________________\n",
            " Layer (type)                Output Shape              Param #   \n",
            "=================================================================\n",
            " dense_63 (Dense)            (None, 512)               401920    \n",
            "                                                                 \n",
            " dense_64 (Dense)            (None, 256)               131328    \n",
            "                                                                 \n",
            " dense_65 (Dense)            (None, 10)                2570      \n",
            "                                                                 \n",
            "=================================================================\n",
            "Total params: 535,818\n",
            "Trainable params: 535,818\n",
            "Non-trainable params: 0\n",
            "_________________________________________________________________\n"
          ]
        }
      ],
      "source": [
        "# создаем линейную модель из списка\n",
        "bigger_model = Sequential([\n",
        "    Dense( 512, activation='relu', input_shape=(784,)),    # кроме размера слоя и активации в первом слое стоит указать размер входа input_shape=(784,) - это кортеж , где указана размерность входного объекта (не указываем число объектов, его не знаем)\n",
        "    Dense(256, activation='linear'),\n",
        "    Dense(10, activation='softmax')   # на выходе стоит 10 нейронов, т.к. задача классификация цифр и активация activation='softmax' , которую принято использовать в классификации (вернет ответ в вероятностной форме - вероятность каждого выхода)\n",
        "])\n",
        "# собираем модель\n",
        "bigger_model.compile(optimizer='adam',\n",
        "                     loss='categorical_crossentropy',\n",
        "                     metrics=['accuracy'])\n",
        "\n",
        "bigger_model.summary()   # метод для отображения списка слоев модели (имя солоя, размер выхода, число параметров)"
      ]
    },
    {
      "cell_type": "markdown",
      "source": [
        "### **Обучаем сеть**\n",
        "\n",
        "сеть ждет на вход вектор (М, 784) - М объектов по 784 признака ()"
      ],
      "metadata": {
        "id": "w3C3uFlgd4x5"
      }
    },
    {
      "cell_type": "code",
      "execution_count": 102,
      "metadata": {
        "colab": {
          "base_uri": "https://localhost:8080/"
        },
        "id": "FEjAQhBK0g9I",
        "outputId": "858bd748-d96e-4c91-a82f-bd0a24381473"
      },
      "outputs": [
        {
          "output_type": "stream",
          "name": "stdout",
          "text": [
            "Epoch 1/10\n",
            "24/24 [==============================] - 1s 15ms/step - loss: 1.3120 - accuracy: 0.6560 - val_loss: 0.4411 - val_accuracy: 0.8653\n",
            "Epoch 2/10\n",
            "24/24 [==============================] - 0s 11ms/step - loss: 0.3772 - accuracy: 0.8870 - val_loss: 0.2996 - val_accuracy: 0.9099\n",
            "Epoch 3/10\n",
            "24/24 [==============================] - 0s 10ms/step - loss: 0.2801 - accuracy: 0.9167 - val_loss: 0.2350 - val_accuracy: 0.9337\n",
            "Epoch 4/10\n",
            "24/24 [==============================] - 0s 10ms/step - loss: 0.2219 - accuracy: 0.9353 - val_loss: 0.1969 - val_accuracy: 0.9433\n",
            "Epoch 5/10\n",
            "24/24 [==============================] - 0s 9ms/step - loss: 0.1814 - accuracy: 0.9474 - val_loss: 0.1681 - val_accuracy: 0.9529\n",
            "Epoch 6/10\n",
            "24/24 [==============================] - 0s 9ms/step - loss: 0.1528 - accuracy: 0.9558 - val_loss: 0.1515 - val_accuracy: 0.9573\n",
            "Epoch 7/10\n",
            "24/24 [==============================] - 0s 9ms/step - loss: 0.1297 - accuracy: 0.9629 - val_loss: 0.1314 - val_accuracy: 0.9625\n",
            "Epoch 8/10\n",
            "24/24 [==============================] - 0s 9ms/step - loss: 0.1131 - accuracy: 0.9675 - val_loss: 0.1216 - val_accuracy: 0.9657\n",
            "Epoch 9/10\n",
            "24/24 [==============================] - 0s 10ms/step - loss: 0.0992 - accuracy: 0.9717 - val_loss: 0.1144 - val_accuracy: 0.9678\n",
            "Epoch 10/10\n",
            "24/24 [==============================] - 0s 10ms/step - loss: 0.0882 - accuracy: 0.9750 - val_loss: 0.1143 - val_accuracy: 0.9664\n"
          ]
        }
      ],
      "source": [
        "bigger_history = bigger_model.fit( train_images, \n",
        "                                  to_categorical(train_labels,10), # функция ОНЕ из утилит Керас \n",
        "                                  # сеть ожидает увидеть на выходе вектор из 10 элементов (ОНЕ), где будет 9 значений равны 0, а для выхода номер которого соответствует текущей цифре выставим 1\n",
        "                                  # тут сделали преобразование ОНЕ для наших цифровых меток\n",
        "                                  epochs=10, # сделаем 10 эпох\n",
        "                                  batch_size=2000, # размер пакета 2000 объектов\n",
        "                                  validation_split=0.2) #  20% данных пойдет на валидацию"
      ]
    },
    {
      "cell_type": "markdown",
      "source": [
        "### ***Получаем предсказания для обученной сети:***\n",
        "\n",
        " - сделать препроцессинг тестовых примеров (мы его уже сделали выше)\n",
        " - передать тестовые примеры в сеть\n",
        " - увидеть ответ как цифру "
      ],
      "metadata": {
        "id": "0eexLp-0qDRS"
      }
    },
    {
      "cell_type": "code",
      "source": [
        "to_categorical(test_labels,10)[:5,:]"
      ],
      "metadata": {
        "colab": {
          "base_uri": "https://localhost:8080/"
        },
        "id": "1ngyOFhlvXC_",
        "outputId": "7fb7c39b-6c7f-4043-a2bb-439877bd5b18"
      },
      "execution_count": 103,
      "outputs": [
        {
          "output_type": "execute_result",
          "data": {
            "text/plain": [
              "array([[0., 0., 0., 0., 0., 0., 0., 1., 0., 0.],\n",
              "       [0., 0., 1., 0., 0., 0., 0., 0., 0., 0.],\n",
              "       [0., 1., 0., 0., 0., 0., 0., 0., 0., 0.],\n",
              "       [1., 0., 0., 0., 0., 0., 0., 0., 0., 0.],\n",
              "       [0., 0., 0., 0., 1., 0., 0., 0., 0., 0.]], dtype=float32)"
            ]
          },
          "metadata": {},
          "execution_count": 103
        }
      ]
    },
    {
      "cell_type": "code",
      "source": [
        "loss_val, metric_val = bigger_model.evaluate(test_images,to_categorical(test_labels,10))\n",
        "print('loss_val:', loss_val)\n",
        "print(' metric_val:', metric_val)"
      ],
      "metadata": {
        "colab": {
          "base_uri": "https://localhost:8080/"
        },
        "id": "f7cWoJM1rBU9",
        "outputId": "2b10515a-0472-43af-cb2b-e6bf475b6ac5"
      },
      "execution_count": 104,
      "outputs": [
        {
          "output_type": "stream",
          "name": "stdout",
          "text": [
            "313/313 [==============================] - 1s 2ms/step - loss: 0.1062 - accuracy: 0.9678\n",
            "loss_val: 0.10621633380651474\n",
            " metric_val: 0.9678000211715698\n"
          ]
        }
      ]
    },
    {
      "cell_type": "code",
      "source": [
        "yp = bigger_model.predict(test_images)"
      ],
      "metadata": {
        "colab": {
          "base_uri": "https://localhost:8080/"
        },
        "id": "XtdUaJRhqeTB",
        "outputId": "e89c930d-bea7-47e0-d55f-62361834c30c"
      },
      "execution_count": 105,
      "outputs": [
        {
          "output_type": "stream",
          "name": "stdout",
          "text": [
            "313/313 [==============================] - 1s 2ms/step\n"
          ]
        }
      ]
    },
    {
      "cell_type": "code",
      "source": [
        "np.round(yp[:5,:],2)"
      ],
      "metadata": {
        "colab": {
          "base_uri": "https://localhost:8080/"
        },
        "id": "_L3rlCluteu6",
        "outputId": "860d4b75-2afc-46ef-b1c5-0522da32e3d7"
      },
      "execution_count": 110,
      "outputs": [
        {
          "output_type": "execute_result",
          "data": {
            "text/plain": [
              "array([[0.  , 0.  , 0.  , 0.  , 0.  , 0.  , 0.  , 1.  , 0.  , 0.  ],\n",
              "       [0.  , 0.  , 1.  , 0.  , 0.  , 0.  , 0.  , 0.  , 0.  , 0.  ],\n",
              "       [0.  , 0.99, 0.  , 0.  , 0.  , 0.  , 0.  , 0.  , 0.  , 0.  ],\n",
              "       [1.  , 0.  , 0.  , 0.  , 0.  , 0.  , 0.  , 0.  , 0.  , 0.  ],\n",
              "       [0.  , 0.  , 0.  , 0.  , 0.93, 0.  , 0.  , 0.  , 0.  , 0.07]],\n",
              "      dtype=float32)"
            ]
          },
          "metadata": {},
          "execution_count": 110
        }
      ]
    },
    {
      "cell_type": "code",
      "source": [
        "n = 0\n",
        "\n",
        "yp_label = np.argmax(yp[n,:], axis = -1) # Получаем предсказание как метку \n",
        "plt.figure()\n",
        "plt.imshow(test_images0[n])\n",
        "plt.colorbar()\n",
        "plt.grid(False)\n",
        "plt.title(class_names[test_labels[n]]+':'+class_names[yp_label])\n",
        "plt.show()"
      ],
      "metadata": {
        "colab": {
          "base_uri": "https://localhost:8080/",
          "height": 281
        },
        "id": "UTKSnqRXq7mf",
        "outputId": "ed31b78e-3308-4db8-f061-b140fdd3c69d"
      },
      "execution_count": 108,
      "outputs": [
        {
          "output_type": "display_data",
          "data": {
            "text/plain": [
              "<Figure size 432x288 with 2 Axes>"
            ],
            "image/png": "[encoded data removed]"
          },
          "metadata": {
            "needs_background": "light"
          }
        }
      ]
    },
    {
      "cell_type": "markdown",
      "metadata": {
        "id": "A1XQk6Z3yrch"
      },
      "source": [
        "### **Сохраним модель на диск**"
      ]
    },
    {
      "cell_type": "code",
      "metadata": {
        "id": "KV8BxQEqyrci"
      },
      "source": [
        "# сохранить веса модели.\n",
        "model.save_weights('model.h5')\n",
        "\n",
        "# загрузить веса модели:\n",
        "# model.load_weights('model.h5')\n"
      ],
      "execution_count": null,
      "outputs": []
    },
    {
      "cell_type": "markdown",
      "metadata": {
        "id": "EHMumt30YxTG"
      },
      "source": [
        "## Работа на GPU и СPU:\n"
      ]
    },
    {
      "cell_type": "markdown",
      "metadata": {
        "id": "exJ9iaLC1Uuo"
      },
      "source": [
        "Выбрать из возможностей CPU/GPU"
      ]
    },
    {
      "cell_type": "code",
      "execution_count": null,
      "metadata": {
        "colab": {
          "base_uri": "https://localhost:8080/"
        },
        "id": "d2EKg1rQXGJl",
        "outputId": "3c1d25d7-9e62-4e58-e30f-79f0d18fe1ec"
      },
      "outputs": [
        {
          "output_type": "stream",
          "name": "stdout",
          "text": [
            "  GPU:\n",
            "24/24 [==============================] - 1s 22ms/step - loss: 0.1291 - accuracy: 0.9627 - val_loss: 0.1363 - val_accuracy: 0.9620\n"
          ]
        }
      ],
      "source": [
        "# исполнение на GPU #0 , если доступен\n",
        "if tf.config.experimental.list_physical_devices(\"GPU\"):\n",
        "  print(\"  GPU:\")\n",
        "  with tf.device(\"GPU:0\"): # или GPU:1 , для 2х GPU, GPU:2 для 3х  и т.д.\n",
        "    \n",
        "    bigger_model.fit( train_images, to_categorical(train_labels,10), epochs=1,batch_size=2000, validation_split=0.2)"
      ]
    },
    {
      "cell_type": "markdown",
      "metadata": {
        "id": "Hqp7iKp5iJO6"
      },
      "source": [
        "Строго GPU:"
      ]
    },
    {
      "cell_type": "code",
      "execution_count": null,
      "metadata": {
        "colab": {
          "base_uri": "https://localhost:8080/"
        },
        "id": "Bhi6IXWR0UFW",
        "outputId": "ae1a77aa-8172-40d8-b168-90bb75df36b9"
      },
      "outputs": [
        {
          "output_type": "stream",
          "name": "stdout",
          "text": [
            "On GPU:\n",
            "Epoch 1/2\n",
            "24/24 [==============================] - 1s 26ms/step - loss: 0.3324 - accuracy: 0.9015 - val_loss: 0.2645 - val_accuracy: 0.9223\n",
            "Epoch 2/2\n",
            "24/24 [==============================] - 0s 15ms/step - loss: 0.2412 - accuracy: 0.9297 - val_loss: 0.2079 - val_accuracy: 0.9399\n"
          ]
        }
      ],
      "source": [
        "print(\"On GPU:\")\n",
        "with tf.device(\"GPU:0\"):\n",
        "  \n",
        "  bigger_history = bigger_model.fit( train_images, to_categorical(train_labels,10),\n",
        "  epochs=2,\n",
        "  batch_size=2000, validation_split=0.2)"
      ]
    },
    {
      "cell_type": "markdown",
      "metadata": {
        "id": "d0HvzbRm1Nys"
      },
      "source": [
        "Строго CPU:"
      ]
    },
    {
      "cell_type": "code",
      "execution_count": null,
      "metadata": {
        "colab": {
          "base_uri": "https://localhost:8080/"
        },
        "id": "UmAqbArVIkl9",
        "outputId": "8d82febc-4f4f-4682-879e-e919dc7dc93a"
      },
      "outputs": [
        {
          "output_type": "stream",
          "name": "stdout",
          "text": [
            "On CPU:\n",
            "Epoch 1/2\n",
            "24/24 [==============================] - 4s 178ms/step - loss: 0.1918 - accuracy: 0.9449 - val_loss: 0.1737 - val_accuracy: 0.9507\n",
            "Epoch 2/2\n",
            "24/24 [==============================] - 4s 169ms/step - loss: 0.1575 - accuracy: 0.9547 - val_loss: 0.1496 - val_accuracy: 0.9579\n"
          ]
        }
      ],
      "source": [
        "print(\"On CPU:\")\n",
        "with tf.device(\"CPU:0\"):\n",
        "  \n",
        "  bigger_history = bigger_model.fit( train_images, to_categorical(train_labels,10),\n",
        "  epochs=2,\n",
        "  batch_size=2000, validation_split=0.2)\n"
      ]
    },
    {
      "cell_type": "markdown",
      "source": [
        "Посмотрите на время для исполнения одного шага в режиме графического ускорения 0s 15ms/step, а для только центрального процессора 4s 169ms/step (в текущем сеансе колаборатории)\n",
        "\n",
        "### **Визуализация процесса обучения**\n",
        "\n",
        "Посмотрим на результаты обучения через кривые обучения. Для этого используем стандартный обратный вызов моделей Керас,который возникает при использовании метода fit. Атрибут .history этого возвращаемого объекта сожержит запись значений всех потерь и метрик по всем эпохам. **Пример использования**:"
      ],
      "metadata": {
        "id": "ywj2NLgQgenl"
      }
    },
    {
      "cell_type": "code",
      "execution_count": 15,
      "metadata": {
        "colab": {
          "base_uri": "https://localhost:8080/",
          "height": 295
        },
        "id": "8RzpMwruRFdS",
        "outputId": "5beea8b5-3c00-4ecd-911f-c5b4a99d4abb"
      },
      "outputs": [
        {
          "output_type": "display_data",
          "data": {
            "text/plain": [
              "<Figure size 432x288 with 1 Axes>"
            ],
            "image/png": "[encoded data removed]"
          },
          "metadata": {
            "needs_background": "light"
          }
        }
      ],
      "source": [
        "plt.plot(bigger_history.history['val_accuracy'] ,label='val')\n",
        "plt.plot(bigger_history.history['accuracy'] ,label='train')\n",
        "plt.legend()\n",
        "plt.xlabel('epoch')\n",
        "plt.ylabel('accuracy')\n",
        "plt.title('точность сети от эпох')\n",
        "plt.grid()\n",
        "plt.show()"
      ]
    },
    {
      "cell_type": "markdown",
      "metadata": {
        "id": "gHGTGmIGY_bW"
      },
      "source": [
        "Построим еще модель (возьмем последовательное добавление слоев):"
      ]
    },
    {
      "cell_type": "code",
      "execution_count": 22,
      "metadata": {
        "colab": {
          "base_uri": "https://localhost:8080/"
        },
        "id": "2Zm-TPIKO-Y_",
        "outputId": "826b05a9-71a4-4165-baca-da85adcf97d5"
      },
      "outputs": [
        {
          "output_type": "stream",
          "name": "stdout",
          "text": [
            "Epoch 1/10\n",
            "24/24 [==============================] - 1s 16ms/step - loss: 1.1738 - accuracy: 0.6642 - val_loss: 0.3961 - val_accuracy: 0.8786\n",
            "Epoch 2/10\n",
            "24/24 [==============================] - 0s 10ms/step - loss: 0.3383 - accuracy: 0.8985 - val_loss: 0.2611 - val_accuracy: 0.9242\n",
            "Epoch 3/10\n",
            "24/24 [==============================] - 0s 9ms/step - loss: 0.2399 - accuracy: 0.9297 - val_loss: 0.2047 - val_accuracy: 0.9416\n",
            "Epoch 4/10\n",
            "24/24 [==============================] - 0s 10ms/step - loss: 0.1861 - accuracy: 0.9451 - val_loss: 0.1665 - val_accuracy: 0.9531\n",
            "Epoch 5/10\n",
            "24/24 [==============================] - 0s 10ms/step - loss: 0.1505 - accuracy: 0.9570 - val_loss: 0.1489 - val_accuracy: 0.9559\n",
            "Epoch 6/10\n",
            "24/24 [==============================] - 0s 8ms/step - loss: 0.1264 - accuracy: 0.9633 - val_loss: 0.1286 - val_accuracy: 0.9638\n",
            "Epoch 7/10\n",
            "24/24 [==============================] - 0s 10ms/step - loss: 0.1050 - accuracy: 0.9699 - val_loss: 0.1166 - val_accuracy: 0.9655\n",
            "Epoch 8/10\n",
            "24/24 [==============================] - 0s 9ms/step - loss: 0.0905 - accuracy: 0.9743 - val_loss: 0.1074 - val_accuracy: 0.9693\n",
            "Epoch 9/10\n",
            "24/24 [==============================] - 0s 10ms/step - loss: 0.0793 - accuracy: 0.9780 - val_loss: 0.1035 - val_accuracy: 0.9717\n",
            "Epoch 10/10\n",
            "24/24 [==============================] - 0s 8ms/step - loss: 0.0720 - accuracy: 0.9796 - val_loss: 0.1054 - val_accuracy: 0.9693\n"
          ]
        }
      ],
      "source": [
        "bigger_model2 = Sequential([])\n",
        "bigger_model2.add(Dense(512, activation='relu', input_shape=(784,)))\n",
        "bigger_model2.add(Dense(512, activation='linear'))\n",
        "bigger_model2.add( Dense(10, activation='softmax'))\n",
        "\n",
        "\n",
        "bigger_model2.compile(optimizer='adam',\n",
        "                     loss='categorical_crossentropy',\n",
        "                     metrics=['accuracy'])\n",
        "\n",
        "bigger_history2 = bigger_model2.fit( train_images, to_categorical(train_labels,10),\n",
        "  epochs=10,\n",
        "  batch_size=2000, validation_split=0.2\n",
        ")"
      ]
    },
    {
      "cell_type": "code",
      "execution_count": 23,
      "metadata": {
        "colab": {
          "base_uri": "https://localhost:8080/",
          "height": 295
        },
        "id": "PhX7tQdBSOI5",
        "outputId": "001fb947-998a-4792-ed8c-c86a6ab19468"
      },
      "outputs": [
        {
          "output_type": "display_data",
          "data": {
            "text/plain": [
              "<Figure size 432x288 with 1 Axes>"
            ],
            "image/png": "[encoded data removed]"
          },
          "metadata": {
            "needs_background": "light"
          }
        }
      ],
      "source": [
        "plt.plot(bigger_history2.history['val_accuracy'] ,label='val2')\n",
        "plt.plot(bigger_history2.history['accuracy'] ,label='train2')\n",
        "plt.plot(bigger_history.history['val_accuracy'] ,label='val')\n",
        "plt.plot(bigger_history.history['accuracy'] ,label='train')\n",
        "plt.legend()\n",
        "plt.xlabel('epoch')\n",
        "plt.ylabel('accuracy')\n",
        "plt.title('точность сети от эпох')\n",
        "plt.grid()\n",
        "plt.show()"
      ]
    },
    {
      "cell_type": "markdown",
      "source": [
        "Модели учились одинаковое число эпох и они идентичны по составу, но получили не совсем одинаковые кривые обучения (чем сложней будет сеть и задача, тем больше будет разницы)"
      ],
      "metadata": {
        "id": "16GJtfGSjpom"
      }
    },
    {
      "cell_type": "markdown",
      "source": [
        "## **Задание 4**\n",
        "\n",
        "1. Создать сеть из 2-х слоев для обучения на МНИСТ\n",
        "2. Создать сеть из 4-х слоев для обучения на МНИСТ\n",
        "3. Сравнить сети из примеров и сети из п.1 и п.2 по качеству (метрикам) для эквивалентного числа эпох (10)\n",
        "4. Провести обучение моделей до насыщения (качество на валидации перестало расти) и сравнить финальные показатели всех моделей\n",
        "5. Собрать сеть из 3-х слоев, провести обучение до насыщения метрики и оценить изменение метрик на валидации при изменении числа нейронов в первом слое ( нейронов 2 ** i (i = 2,.., 10))\n",
        "6.Сделать вывод по итогам моделирования."
      ],
      "metadata": {
        "id": "TYrW1ScMkBvj"
      }
    },
    {
      "cell_type": "markdown",
      "metadata": {
        "id": "ubaqhSOiTj9R"
      },
      "source": [
        "### Оптимизаторы\n",
        "\n",
        "Оптимизаторы влияют на результат обучения. Пример использования одной схемы модели, но несколько перезапусков (т.е. пересоздаем нейронную сеть и проводит инициализацию весов заново) даже для одно оптимизатора порождают разные нейронные сети, т.к. начинаем с разных начальных точек."
      ]
    },
    {
      "cell_type": "code",
      "execution_count": 24,
      "metadata": {
        "id": "5g3px8aXXse6"
      },
      "outputs": [],
      "source": [
        "from tensorflow.keras.optimizers import Adam, SGD, RMSprop, Adagrad"
      ]
    },
    {
      "cell_type": "code",
      "execution_count": 25,
      "metadata": {
        "colab": {
          "base_uri": "https://localhost:8080/",
          "height": 295
        },
        "id": "51b163fhReiz",
        "outputId": "a7009daf-fc22-44a3-c337-ff4ac3bb7e2f"
      },
      "outputs": [
        {
          "output_type": "display_data",
          "data": {
            "text/plain": [
              "<Figure size 432x288 with 1 Axes>"
            ],
            "image/png": "[encoded data removed]"
          },
          "metadata": {
            "needs_background": "light"
          }
        }
      ],
      "source": [
        "for i in [0,1,2,3,4]:\n",
        "  bigger_model4 = Sequential([\n",
        "                              Dense(512, activation='relu', input_shape=(784,)),\n",
        "                              Dense(512, activation='linear'),\n",
        "                              Dense(10, activation='sigmoid')\n",
        "                              ])\n",
        "\n",
        "  bigger_model4.compile(optimizer='sgd',\n",
        "                        loss='categorical_crossentropy',\n",
        "                        metrics=['accuracy'])\n",
        "\n",
        "  bigger_history4 = bigger_model4.fit( train_images, to_categorical(train_labels,10),epochs=5,\n",
        "                                        batch_size=20000, validation_split=0.2, verbose = 0\n",
        "                                      )\n",
        "  plt.plot(bigger_history4.history['val_accuracy'],'.' )\n",
        "  plt.plot(bigger_history4.history['accuracy'] )\n",
        "plt.plot(bigger_history4.history['val_accuracy'],'.' ,label='val')\n",
        "plt.plot(bigger_history4.history['accuracy'] ,label='train')\n",
        "plt.grid()\n",
        "plt.legend()\n",
        "plt.xlabel('epoch')\n",
        "plt.ylabel('accuracy')\n",
        "plt.title('точность сети от эпох')\n",
        "plt.show()"
      ]
    },
    {
      "cell_type": "markdown",
      "metadata": {
        "id": "clLQq9qsUbuo"
      },
      "source": [
        "Параметры оптимизаторов\n",
        "\n",
        "\n",
        "Задача на один класс: to_categorical(train_labels,10)[:,0]\n",
        "\n",
        "Установим главный параметр любого оптимизатора - скорость обучения learning_rate и посмотрим на результат:"
      ]
    },
    {
      "cell_type": "code",
      "execution_count": 28,
      "metadata": {
        "colab": {
          "base_uri": "https://localhost:8080/",
          "height": 295
        },
        "id": "yjjhpVRlXn04",
        "outputId": "aa48a3c9-0acb-4890-f492-ac392f001447"
      },
      "outputs": [
        {
          "output_type": "display_data",
          "data": {
            "text/plain": [
              "<Figure size 432x288 with 1 Axes>"
            ],
            "image/png": "[encoded data removed]"
          },
          "metadata": {
            "needs_background": "light"
          }
        }
      ],
      "source": [
        "for i in [0,1]:\n",
        "  bigger_model4 = Sequential([\n",
        "                              Dense(512, activation='relu', input_shape=(784,)),\n",
        "                              Dense(512, activation='linear'),\n",
        "                              Dense(1, activation='sigmoid')  # нейронов на выходе 1 - для одного класса один выход ( бинарный классификатор)\n",
        "                              ])\n",
        "\n",
        "  bigger_model4.compile(optimizer= Adam(learning_rate=0.0001+0.1*i, beta_1=0.89) ,\n",
        "                        loss='binary_crossentropy',\n",
        "                        metrics=['accuracy'])\n",
        "\n",
        "  bigger_history4 = bigger_model4.fit( train_images, to_categorical(train_labels,10)[:,0],epochs=15,\n",
        "                                        batch_size=2000, validation_split=0.2, verbose = 0\n",
        "                                      )\n",
        "  plt.plot(bigger_history4.history['val_accuracy'],'.',label='val lr(' +str(0.0001+0.1*i)+')')\n",
        "  plt.plot(bigger_history4.history['accuracy'] ,label='train lr(' +str(0.0001+0.1*i)+')')\n",
        "\n",
        "plt.legend()\n",
        "plt.xlabel('epoch')\n",
        "plt.ylabel('accuracy')\n",
        "plt.title('точность сети от эпох')\n",
        "plt.grid()\n",
        "plt.show()"
      ]
    },
    {
      "cell_type": "markdown",
      "source": [
        "Результаты не идентичны - скорость обучения влияет на результат"
      ],
      "metadata": {
        "id": "ZVF1TPhYnIfj"
      }
    },
    {
      "cell_type": "markdown",
      "source": [
        "### **Задание 5**"
      ],
      "metadata": {
        "id": "ubZlkAHBzi-S"
      }
    },
    {
      "cell_type": "markdown",
      "metadata": {
        "id": "Z8IBAFJE0dU5"
      },
      "source": [
        "Эксперимент с разными оптимизаторами для одной начальной модели:\n",
        "\n",
        "  - создаем модель model\n",
        "  - сохраняем ее веса (это начальная точка) model.save_weights('model.h5')\n",
        "  - создаем рабочую модель modeli куда будем загружать эти вес (она должна быть идентичной структуры) \n",
        "  - загружаем веса modeli.load_weights('model.h5')\n",
        "  - компилируем modeli с одним из оптимизаторов\n",
        "  - вычисляем ошибку для modeli без обучения (т.к. все модели начинают с одной точки, то все ошибки должны быть одинаковые, но будем контролировать это и считаем каждый раз заново)\n",
        "  - проводим обучение модели и пишем ошибки в истории hh\n",
        "  - выводим ошибки для 0-го момента и каждой эпохи обучения по тестовой и валидационной частям данных\n",
        "\n",
        "\n",
        "\n",
        "Оптимизаторы:\n",
        "* SGD() (с или без моментум)\n",
        "* RMSprop()\n",
        "* Adam()\n",
        "* Adagrad()\n",
        "…\n"
      ]
    },
    {
      "cell_type": "code",
      "metadata": {
        "colab": {
          "base_uri": "https://localhost:8080/",
          "height": 458
        },
        "id": "jaqCLGg3w_Nl",
        "outputId": "4c8d1ae0-cf2f-498c-9657-80405058eeae"
      },
      "source": [
        "# создаем модель model\n",
        "model = Sequential([\n",
        "                      Dense( 64, activation='relu', input_shape=(784,)),\n",
        "                      Dense(64, activation='tanh'),\n",
        "                      Dense(10, activation='softmax'),\n",
        "                      ])\n",
        "# сохраняем ее веса (это начальная точка) model.save_weights('model.h5')\n",
        "model.save_weights('model.h5')\n",
        "\n",
        "plt.figure(figsize=(16,7))\n",
        "\n",
        "# число рабочих эпох\n",
        "epochs = 15\n",
        "# вектор для выводв результатов\n",
        "epoch = np.arange(epochs+1)\n",
        "\n",
        "# будем изменять оптимизаторы\n",
        "\n",
        "#opt_list = [keras.optimizers.SGD( ),keras.optimizers.Adam( ),keras.optimizers.Nadam( )]\n",
        "for i_optim in ['SGD','RMSProp','adam','NAdam']:\n",
        "  # создаем рабочую модель modeli куда будем загружать эти вес (она должна быть идентичной структуры)\n",
        "  modeli = Sequential([\n",
        "                      Dense(64, activation='relu', input_shape=(784,)),\n",
        "                      Dense(64, activation='tanh'),\n",
        "                      Dense(10, activation='softmax'),\n",
        "                      ])\n",
        "  # загружаем веса modeli.load_weights('model.h5')\n",
        "  modeli.load_weights('model.h5')\n",
        "  # компилируем modeli с одним из оптимизаторов\n",
        "  modeli.compile(\n",
        "      optimizer=i_optim,\n",
        "      loss='categorical_crossentropy',\n",
        "      metrics=['accuracy'],\n",
        "      )\n",
        "  # вычисляем ошибку для modeli без обучения\n",
        "  hh0_tr = modeli.evaluate(  train_images[:48000,:], to_categorical(train_labels[:48000]),verbose = 0)\n",
        "  hh0_val = modeli.evaluate(  train_images[48000:,:], to_categorical(train_labels[48000:]),verbose = 0)\n",
        "  # проводим обучение модели \n",
        "  hh = modeli.fit(\n",
        "                  train_images,\n",
        "                  to_categorical(train_labels),\n",
        "                  epochs=epochs,\n",
        "                  batch_size=1024, validation_split=0.2, verbose = 0\n",
        "                  )\n",
        "  # картинки\n",
        "  plt.plot(epoch,np.log([hh0_tr[0]]+hh.history['loss']),'-',label = modeli.optimizer.get_config()['name']+' train')\n",
        "  plt.plot(epoch,np.log([hh0_val[0]]+hh.history['val_loss']),'--',label = modeli.optimizer.get_config()['name']+' val')\n",
        "plt.legend()\n",
        "plt.grid('On')\n",
        "\n",
        "plt.title('нейросети от оптимизатора log(loss)')\n",
        "plt.xlabel('epoch')\n",
        "plt.ylabel('log(loss)')\n",
        "plt.show()\n"
      ],
      "execution_count": 111,
      "outputs": [
        {
          "output_type": "display_data",
          "data": {
            "text/plain": [
              "<Figure size 1152x504 with 1 Axes>"
            ],
            "image/png": "[encoded data removed]"
          },
          "metadata": {
            "needs_background": "light"
          }
        }
      ]
    },
    {
      "cell_type": "markdown",
      "source": [
        "Разные оптимизаторы (даже если одна начальная точка)  = разные результаты"
      ],
      "metadata": {
        "id": "nRzlqR_U0hGO"
      }
    },
    {
      "cell_type": "markdown",
      "metadata": {
        "id": "FbZT9k6t0dU5"
      },
      "source": [
        "Посмотрим на результат предсказаний  (inference) для обученной модели (последняя в цикле)"
      ]
    },
    {
      "cell_type": "code",
      "metadata": {
        "colab": {
          "base_uri": "https://localhost:8080/",
          "height": 222
        },
        "outputId": "6f5804ca-6f14-49e1-b722-5f894101cc5b",
        "id": "6AQxyz9A0dU5"
      },
      "source": [
        "N = 9\n",
        "y_pred = modeli.predict(test_images[:N,:])\n",
        "y_pred_class = np.argmax(y_pred,axis=1)\n",
        "plt.figure(figsize =(3*N,5))\n",
        "for i in range(N):\n",
        "  plt.subplot(1,N,i+1)\n",
        "  plt.imshow(test_images[i,:].reshape(28,28))\n",
        "  plt.xlabel(str(y_pred_class[i]))\n",
        "plt.show()  "
      ],
      "execution_count": 113,
      "outputs": [
        {
          "output_type": "stream",
          "name": "stdout",
          "text": [
            "1/1 [==============================] - 0s 43ms/step\n"
          ]
        },
        {
          "output_type": "display_data",
          "data": {
            "text/plain": [
              "<Figure size 1944x360 with 9 Axes>"
            ],
            "image/png": "[encoded data removed]"
          },
          "metadata": {
            "needs_background": "light"
          }
        }
      ]
    },
    {
      "cell_type": "markdown",
      "source": [
        "А так выглядит выход сети до постобработки:"
      ],
      "metadata": {
        "id": "VzkAnrBr05As"
      }
    },
    {
      "cell_type": "code",
      "source": [
        "y_pred[0,:]"
      ],
      "metadata": {
        "colab": {
          "base_uri": "https://localhost:8080/"
        },
        "outputId": "ce515a8d-ce0e-4c85-a791-d9854074e7d0",
        "id": "1YsLaYq80dU5"
      },
      "execution_count": 114,
      "outputs": [
        {
          "output_type": "execute_result",
          "data": {
            "text/plain": [
              "array([6.4442109e-05, 3.5744364e-05, 4.2549582e-05, 1.9541568e-04,\n",
              "       8.2395163e-06, 7.2336320e-06, 2.3137763e-06, 9.9949920e-01,\n",
              "       3.7470243e-05, 1.0737950e-04], dtype=float32)"
            ]
          },
          "metadata": {},
          "execution_count": 114
        }
      ]
    },
    {
      "cell_type": "markdown",
      "source": [
        "### **Задание 6**\n",
        "\n",
        "Используем набор примеров fashion-MNIST\n",
        "\n",
        "1.  Опишите - какой результата получен в нейросети в зависимости от:\n",
        "  -  числа нейронов в слое(для 2-хслойной сети), \n",
        "  - числа слоев (2, 3, 5, 10) при близких размерах сети (близкое число тренируемых парметров).\n",
        "  - фиксируйте для тренировочного и тестового набора метрики accuracy.\n",
        "2.  Проверьте работу разных оптимизаторов (SGD, Adam, RMSProp) для одной из моделей п.1.Фиксируйте для тренировочного и тестового набора метрики accuracy.\n",
        "\n",
        "3. Сделайте вывод - что помогло вам улучшить качество классификации в нейросети на тестовом наборе? \n",
        "\n",
        "4. Для одного варианта сетей сформируйте матрицу ошибок по классам. Оцените качество модели по каждому классу отдельно (полнота , точность). Сделайте вывод."
      ],
      "metadata": {
        "id": "GzeYKQjHnfSP"
      }
    },
    {
      "cell_type": "markdown",
      "metadata": {
        "id": "jYysdyb-CaWM"
      },
      "source": [
        "# Классификация изображений одежды"
      ]
    },
    {
      "cell_type": "code",
      "execution_count": 31,
      "metadata": {
        "colab": {
          "base_uri": "https://localhost:8080/"
        },
        "id": "dzLKpmZICaWN",
        "outputId": "3024fe26-1afe-4fbf-f71d-d2379c98078b"
      },
      "outputs": [
        {
          "output_type": "stream",
          "name": "stdout",
          "text": [
            "2.9.2\n"
          ]
        }
      ],
      "source": [
        "from __future__ import absolute_import, division, print_function, unicode_literals\n",
        "\n",
        "# TensorFlow and tf.keras\n",
        "\n",
        "from tensorflow import keras\n",
        "import tensorflow as tf\n",
        "\n",
        "# Helper libraries\n",
        "import numpy as np\n",
        "import matplotlib.pyplot as plt\n",
        "\n",
        "print(tf.__version__)"
      ]
    },
    {
      "cell_type": "markdown",
      "metadata": {
        "id": "yR0EdgrLCaWR"
      },
      "source": [
        "## Импортируем Fashion MNIST датасет"
      ]
    },
    {
      "cell_type": "markdown",
      "metadata": {
        "id": "DLdCchMdCaWQ"
      },
      "source": [
        "Мы будет использовать следующий датасет -  [Fashion MNIST](https://github.com/zalandoresearch/fashion-mnist) Этот датасет содержит 70,000 черно-белых изображений в 10 категориях. Изображения имеют разрешение 28x28 пикселей.\n",
        "\n",
        "<table>\n",
        "  <tr><td>\n",
        "    <img src=\"https://tensorflow.org/images/fashion-mnist-sprite.png\"\n",
        "         alt=\"Fashion MNIST sprite\"  width=\"600\">\n",
        "  </td></tr>\n",
        "  <tr><td align=\"center\">\n",
        "    <b>Figure 1.</b> <a href=\"https://github.com/zalandoresearch/fashion-mnist\">Fashion-MNIST samples</a> (by Zalando, MIT License).<br/>&nbsp;\n",
        "  </td></tr>\n",
        "</table>\n",
        "\n",
        "Долгое время в машинном обучение для программ Hello world использовался датасет MNIST с рукописными цифрами. Данный датасет призван несколько усложнить задачу распознования но также подходит в качестве программы Hello world.\n",
        "\n",
        "В этом датасете 60 000 тренировочных изображений и 10 000 тестовых."
      ]
    },
    {
      "cell_type": "code",
      "execution_count": 32,
      "metadata": {
        "colab": {
          "base_uri": "https://localhost:8080/"
        },
        "id": "7MqDQO0KCaWS",
        "outputId": "b953be0f-4dc2-4417-db4f-dc1e28e43d41"
      },
      "outputs": [
        {
          "output_type": "stream",
          "name": "stdout",
          "text": [
            "Downloading data from https://storage.googleapis.com/tensorflow/tf-keras-datasets/train-labels-idx1-ubyte.gz\n",
            "29515/29515 [==============================] - 0s 0us/step\n",
            "Downloading data from https://storage.googleapis.com/tensorflow/tf-keras-datasets/train-images-idx3-ubyte.gz\n",
            "26421880/26421880 [==============================] - 2s 0us/step\n",
            "Downloading data from https://storage.googleapis.com/tensorflow/tf-keras-datasets/t10k-labels-idx1-ubyte.gz\n",
            "5148/5148 [==============================] - 0s 0us/step\n",
            "Downloading data from https://storage.googleapis.com/tensorflow/tf-keras-datasets/t10k-images-idx3-ubyte.gz\n",
            "4422102/4422102 [==============================] - 0s 0us/step\n"
          ]
        }
      ],
      "source": [
        "fashion_mnist = keras.datasets.fashion_mnist\n",
        "\n",
        "(train_images, train_labels), (test_images, test_labels) = fashion_mnist.load_data()"
      ]
    },
    {
      "cell_type": "markdown",
      "metadata": {
        "id": "t9FDsUlxCaWW"
      },
      "source": [
        "Датасет содержит следующие классы:\n",
        "\n",
        "<table>\n",
        "  <tr>\n",
        "    <th>Label</th>\n",
        "    <th>Class</th>\n",
        "  </tr>\n",
        "  <tr>\n",
        "    <td>0</td>\n",
        "    <td>T-shirt/top</td>\n",
        "  </tr>\n",
        "  <tr>\n",
        "    <td>1</td>\n",
        "    <td>Trouser</td>\n",
        "  </tr>\n",
        "    <tr>\n",
        "    <td>2</td>\n",
        "    <td>Pullover</td>\n",
        "  </tr>\n",
        "    <tr>\n",
        "    <td>3</td>\n",
        "    <td>Dress</td>\n",
        "  </tr>\n",
        "    <tr>\n",
        "    <td>4</td>\n",
        "    <td>Coat</td>\n",
        "  </tr>\n",
        "    <tr>\n",
        "    <td>5</td>\n",
        "    <td>Sandal</td>\n",
        "  </tr>\n",
        "    <tr>\n",
        "    <td>6</td>\n",
        "    <td>Shirt</td>\n",
        "  </tr>\n",
        "    <tr>\n",
        "    <td>7</td>\n",
        "    <td>Sneaker</td>\n",
        "  </tr>\n",
        "    <tr>\n",
        "    <td>8</td>\n",
        "    <td>Bag</td>\n",
        "  </tr>\n",
        "    <tr>\n",
        "    <td>9</td>\n",
        "    <td>Ankle boot</td>\n",
        "  </tr>\n",
        "</table>\n",
        "\n",
        "Каждому классу обозначенному цифрой мы можем присвоить текстовое значение -"
      ]
    },
    {
      "cell_type": "code",
      "execution_count": 33,
      "metadata": {
        "id": "IjnLH5S2CaWx"
      },
      "outputs": [],
      "source": [
        "class_names = ['T-shirt/top', 'Trouser', 'Pullover', 'Dress', 'Coat',\n",
        "               'Sandal', 'Shirt', 'Sneaker', 'Bag', 'Ankle boot']"
      ]
    },
    {
      "cell_type": "markdown",
      "metadata": {
        "id": "Brm0b_KACaWX"
      },
      "source": [
        "## Анализ датасета \n",
        "\n",
        "Давайте посмотрим структуры полученного массива данных:"
      ]
    },
    {
      "cell_type": "code",
      "execution_count": 34,
      "metadata": {
        "colab": {
          "base_uri": "https://localhost:8080/"
        },
        "id": "zW5k_xz1CaWX",
        "outputId": "7c80766a-80e5-49d9-c9e5-924f316cbd4d"
      },
      "outputs": [
        {
          "output_type": "execute_result",
          "data": {
            "text/plain": [
              "(60000, 28, 28)"
            ]
          },
          "metadata": {},
          "execution_count": 34
        }
      ],
      "source": [
        "train_images.shape"
      ]
    },
    {
      "cell_type": "code",
      "execution_count": 35,
      "metadata": {
        "colab": {
          "base_uri": "https://localhost:8080/"
        },
        "id": "TRFYHB2mCaWb",
        "outputId": "31310b9c-58f8-45fd-dae7-028beb9afec6"
      },
      "outputs": [
        {
          "output_type": "execute_result",
          "data": {
            "text/plain": [
              "60000"
            ]
          },
          "metadata": {},
          "execution_count": 35
        }
      ],
      "source": [
        "len(train_labels)"
      ]
    },
    {
      "cell_type": "code",
      "execution_count": 36,
      "metadata": {
        "colab": {
          "base_uri": "https://localhost:8080/"
        },
        "id": "XKnCTHz4CaWg",
        "outputId": "6ff24551-d262-4c13-fb61-1bf79b174e7b"
      },
      "outputs": [
        {
          "output_type": "execute_result",
          "data": {
            "text/plain": [
              "array([9, 0, 0, ..., 3, 0, 5], dtype=uint8)"
            ]
          },
          "metadata": {},
          "execution_count": 36
        }
      ],
      "source": [
        "train_labels"
      ]
    },
    {
      "cell_type": "markdown",
      "metadata": {
        "id": "TMPI88iZpO2T"
      },
      "source": [
        "Проанализируем тестовую выборку:"
      ]
    },
    {
      "cell_type": "code",
      "execution_count": 37,
      "metadata": {
        "colab": {
          "base_uri": "https://localhost:8080/"
        },
        "id": "2KFnYlcwCaWl",
        "outputId": "7bf97b7b-9a45-4586-a72a-741e92104cb4"
      },
      "outputs": [
        {
          "output_type": "execute_result",
          "data": {
            "text/plain": [
              "(10000, 28, 28)"
            ]
          },
          "metadata": {},
          "execution_count": 37
        }
      ],
      "source": [
        "test_images.shape"
      ]
    },
    {
      "cell_type": "code",
      "execution_count": 38,
      "metadata": {
        "colab": {
          "base_uri": "https://localhost:8080/"
        },
        "id": "iJmPr5-ACaWn",
        "outputId": "d0b2f682-1440-4e23-d999-819c76c6d94d"
      },
      "outputs": [
        {
          "output_type": "execute_result",
          "data": {
            "text/plain": [
              "10000"
            ]
          },
          "metadata": {},
          "execution_count": 38
        }
      ],
      "source": [
        "len(test_labels)"
      ]
    },
    {
      "cell_type": "markdown",
      "metadata": {
        "id": "ES6uQoLKCaWr"
      },
      "source": [
        "## Preprocess the data\n",
        "\n",
        "Давайте взглянем на конкретный пример изображений с помощью matplotlib:"
      ]
    },
    {
      "cell_type": "code",
      "execution_count": null,
      "metadata": {
        "colab": {
          "base_uri": "https://localhost:8080/",
          "height": 266
        },
        "id": "m4VEw8Ud9Quh",
        "outputId": "8be50e99-d99f-4f7b-944e-8a1f82a00768"
      },
      "outputs": [
        {
          "output_type": "display_data",
          "data": {
            "text/plain": [
              "<Figure size 432x288 with 2 Axes>"
            ],
            "image/png": "[encoded data removed]"
          },
          "metadata": {
            "needs_background": "light"
          }
        }
      ],
      "source": [
        "plt.figure()\n",
        "plt.imshow(train_images[1110])\n",
        "plt.colorbar()\n",
        "plt.grid(False)\n",
        "plt.show()"
      ]
    },
    {
      "cell_type": "code",
      "source": [
        "# обработать входные признаки и целевой признак"
      ],
      "metadata": {
        "id": "vz9w7eqKos4b"
      },
      "execution_count": null,
      "outputs": []
    },
    {
      "cell_type": "markdown",
      "metadata": {
        "id": "59veuiEZCaW4"
      },
      "source": [
        "## Построение модели\n",
        "\n",
        "Построение нейронной сети подразумевает конфигурацию ее слоев и последующую компиляцию."
      ]
    },
    {
      "cell_type": "code",
      "source": [],
      "metadata": {
        "id": "HaUurd0cot9m"
      },
      "execution_count": null,
      "outputs": []
    },
    {
      "cell_type": "markdown",
      "metadata": {
        "id": "qKF6uW-BCaW-"
      },
      "source": [
        "## Тренировка модели\n",
        "\n",
        "\n",
        "\n"
      ]
    },
    {
      "cell_type": "code",
      "source": [],
      "metadata": {
        "id": "0-ztjo6ipfWl"
      },
      "execution_count": null,
      "outputs": []
    },
    {
      "cell_type": "markdown",
      "metadata": {
        "id": "Ckh_q63TvAja"
      },
      "source": [
        "Посмотрим на возвращаемый словарь hh.history (там результаты по эпохам для потерь и метрик по обучению и тестам)"
      ]
    },
    {
      "cell_type": "markdown",
      "metadata": {
        "id": "lJpjFH7hVw8Q"
      },
      "source": [
        "Покажем как выглядит кривая обучения"
      ]
    },
    {
      "cell_type": "markdown",
      "metadata": {
        "id": "v-PyD1SYE28q"
      },
      "source": [
        "### Предсказания нейросети\n",
        "\n",
        " "
      ]
    },
    {
      "cell_type": "code",
      "source": [],
      "metadata": {
        "id": "QZVOACuKpf3n"
      },
      "execution_count": null,
      "outputs": []
    },
    {
      "cell_type": "markdown",
      "metadata": {
        "id": "Zh9yABaME29S"
      },
      "source": [
        "### Проверка предсказаний\n",
        "\n",
        "матрица ошибок (можно из sklearn)"
      ]
    },
    {
      "cell_type": "markdown",
      "metadata": {
        "id": "R32zteKHCaXT"
      },
      "source": [
        "## Использование полученной модели\n",
        "\n",
        "\n",
        "возьмем одно изображение из тестовой выборке и посмотрим предсказание нейронной сети - "
      ]
    },
    {
      "cell_type": "markdown",
      "metadata": {
        "id": "EpxXh0NiVg8p"
      },
      "source": [
        "Сохраним модель на диск"
      ]
    },
    {
      "cell_type": "markdown",
      "source": [
        "## **Задание 8**\n",
        "\n",
        "1. На датасет from sklearn.datasets import load_boston подготовить данные к обучению (разделить на тест и тренировочный набор, масштабировать признаки и привести их к типу float).\n",
        "2. Постройте нейронную сеть(берем простую линейную сеть, которую разбирали : меняем число слоев, число нейронов , типы активации)  - помним , что выходная активация должна позволять построить целевое свойство\n",
        "3. Выберите функцию потерь и метрику из доступных в Тензорфлоу\n",
        "4. Провести обучение модели и оценить результаты"
      ],
      "metadata": {
        "id": "fq_JzU232yFF"
      }
    },
    {
      "cell_type": "markdown",
      "metadata": {
        "id": "m2wW13WB9U99"
      },
      "source": [
        "## Дополнительные материалы\n",
        "\n",
        "<ol>\n",
        "    <li> https://keras.io/</li>\n",
        "    <li> https://playground.tensorflow.org/ - визуализация сетей (очень симпатично - посмотрите)\n",
        "    <li> сравнение фреймвоков глубокого обучения https://towardsdatascience.com/pytorch-vs-tensorflow-in-2020-fe237862fae1 \n",
        "</ol>"
      ]
    },
    {
      "cell_type": "markdown",
      "metadata": {
        "id": "v6h1K5ET9U9_"
      },
      "source": [
        "## Используемая литература \n",
        "\n",
        "Для подготовки данного методического пособия были использованы следующие ресурсы:\n",
        "<ol>\n",
        "    <li>https://www.tensorflow.org/</li>\n",
        "    <li>https://www.tensorflow.org/tutorials/keras/classification</li>\n",
        "    <li>Singh P., Manure A. - Learn TensorFlow 2.0 - 2020</li>\n",
        "    <li>Саймон Хайкин — Нейронные сети: полный курс</li>\n",
        "    <li>Википедия</li>\n",
        "    \n",
        "</ol>"
      ]
    },
    {
      "cell_type": "markdown",
      "source": [
        "Вопросы:\n",
        "\n",
        "1. Какую проблему решает обратное распространение ошибки\n",
        "2. Какие проблемы возникают при обратном распространении ошибки\n",
        "3. Какую сложность может обеспечить многослойная сеть с только линейными активациями\n",
        "4. Опишите достоинства и недостатки сигмоидной активации\n",
        "5. Опишите достоинства и недостатки линейных активаций\n",
        "6. Опишите модель формального нейрона МакКалока-Питца\n",
        "7. Опишите процесс коррекции весов нейрона\n",
        "8. Поясните особенности методов градиентного спуска с моментами\n",
        "9. Поясните особенности методов градиентного спуска с адаптацией шага обучения "
      ],
      "metadata": {
        "id": "5IeWltw_4HLZ"
      }
    },
    {
      "cell_type": "code",
      "source": [],
      "metadata": {
        "id": "bwf0BbyO5TgE"
      },
      "execution_count": null,
      "outputs": []
    }
  ]
}