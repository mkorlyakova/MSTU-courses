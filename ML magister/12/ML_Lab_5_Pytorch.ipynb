{
  "nbformat": 4,
  "nbformat_minor": 0,
  "metadata": {
    "kernelspec": {
      "display_name": "Python 3",
      "language": "python",
      "name": "python3"
    },
    "language_info": {
      "codemirror_mode": {
        "name": "ipython",
        "version": 3
      },
      "file_extension": ".py",
      "mimetype": "text/x-python",
      "name": "python",
      "nbconvert_exporter": "python",
      "pygments_lexer": "ipython3",
      "version": "3.7.1"
    },
    "colab": {
      "provenance": [],
      "collapsed_sections": [
        "m2wW13WB9U99"
      ],
      "include_colab_link": true
    },
    "accelerator": "GPU"
  },
  "cells": [
    {
      "cell_type": "markdown",
      "metadata": {
        "id": "view-in-github",
        "colab_type": "text"
      },
      "source": [
        "<a href=\"https://colab.research.google.com/github/mkorlyakova/MSTU-courses/blob/main/ML%20magister/12/ML_Lab_5_Pytorch.ipynb\" target=\"_parent\"><img src=\"https://colab.research.google.com/assets/colab-badge.svg\" alt=\"Open In Colab\"/></a>"
      ]
    },
    {
      "cell_type": "markdown",
      "metadata": {
        "id": "XvhEhpGm9U8z"
      },
      "source": [
        "# Введение в искусственные нейронные сети\n",
        "# PyTorch"
      ]
    },
    {
      "cell_type": "markdown",
      "metadata": {
        "id": "LmKjkEH-9U84"
      },
      "source": [
        "## Содержание методического пособия:\n",
        "\n",
        "\n",
        "<ol>\n",
        "<li>Способы создания нейросетей</li>\n",
        "<li>Основы синтаксиса</li>\n",
        "<li>Простая нейросеть на Pytorch</li>\n",
        "</ol>"
      ]
    },
    {
      "cell_type": "markdown",
      "metadata": {
        "id": "9gV6aaON9U86"
      },
      "source": [
        "## 1. **Способы создания нейросетей**\n",
        "\n",
        "Существуют фреймворки для созданий нейронных сетей. Они являются, пожалуй основным рабочим способом создания нейронных сетей. Вот их неполный перечень:\n",
        "\n",
        "1. TensorFlow\n",
        "2. PyTorch\n",
        "3. Keras\n",
        "4. Microsoft Cognitive Toolkit (CNTK)\n",
        "5. Caffe\n",
        "6. Apache MXNet\n",
        "\n",
        "Существуют инструменты самостоятельно создающие нейронные сети. Это так называемые AutoML инструменты. Вот примеры популярных из них:\n",
        "1. MLBox\n",
        "2. TPOT\n",
        "3. Autokeras\n",
        "\n",
        "\n",
        "## TensorFlow\n",
        "\n",
        "Практически самый популярный фреймворк для создания нейросетей PyTorch  (первое место пополам с TensorFlow).\n",
        "PyTorch - это фреймворк для создания ML моделей.\n",
        "\n",
        "Facebook 2015. PyTorch - это opensource проект. На данный момент это один из основных инструментов для создания нейросетей в рабочих целях. PyTorch позволяет создавать нейронные сети как для кластеров из большого количества вычислительных устройств, так и для устройств с относительно небольшой вычислитей мощностью, таких как смартфоны и одноплатные компьютеры."
      ]
    },
    {
      "cell_type": "markdown",
      "metadata": {
        "id": "iRJ_I6hu9U8-"
      },
      "source": [
        "## Основы синтаксиса"
      ]
    },
    {
      "cell_type": "markdown",
      "metadata": {
        "id": "Sars-tTz9U9A"
      },
      "source": [
        "## **Установка и работа с данными**"
      ]
    },
    {
      "cell_type": "code",
      "execution_count": null,
      "metadata": {
        "id": "A4Hcl_IoHv7n"
      },
      "outputs": [],
      "source": [
        "# в Colaboratory уже есть!\n",
        "#!pip3 install torch torchvision"
      ]
    },
    {
      "cell_type": "markdown",
      "metadata": {
        "id": "BuAYrRxLFzPY"
      },
      "source": [
        "Выведем строку Hello world, а также версию torch"
      ]
    },
    {
      "cell_type": "code",
      "execution_count": 1,
      "metadata": {
        "colab": {
          "base_uri": "https://localhost:8080/"
        },
        "id": "75BVCTdbFzPa",
        "outputId": "4aabc9f1-a7f6-4d0d-fe87-83b59e0f15e0"
      },
      "outputs": [
        {
          "output_type": "stream",
          "name": "stdout",
          "text": [
            "2.1.0+cu118\n"
          ]
        }
      ],
      "source": [
        "import torch\n",
        "print(torch.__version__)\n",
        "\n"
      ]
    },
    {
      "cell_type": "markdown",
      "metadata": {
        "id": "mBqyxNwdFzPU"
      },
      "source": [
        "## 2. **Основы синтаксиса PyTorch**\n",
        "\n",
        "Процесс создания нейросети на PyTorch\n",
        "\n",
        "Тензоры - это массивы. Данные в компьютере предствлены часто в виде массивах и работа с этими массивами подразумевает их преобразования. Преобразования осуществляются через, к примеру, математические операции. Работа PyTorch складывается из цепочки преобразований тензоров, т.е. данных. Сами операции осуществляющие преобразование данных представлены в PyTorch в виде графов.  "
      ]
    },
    {
      "cell_type": "markdown",
      "metadata": {
        "id": "Vz-hpRAclrc4"
      },
      "source": [
        "## 2.1 Тензоры"
      ]
    },
    {
      "cell_type": "markdown",
      "metadata": {
        "id": "ioO3fIeclrc4"
      },
      "source": [
        "Тензоры схожи с ndarrays в NumPy, с добавлением того, что тензоры могут быть использованы на GPU для ускорения вычислений."
      ]
    },
    {
      "cell_type": "code",
      "source": [
        "from IPython import display\n",
        "import numpy as np\n",
        "import random\n",
        "import torch"
      ],
      "metadata": {
        "id": "5qv4WkHegnGU"
      },
      "execution_count": 2,
      "outputs": []
    },
    {
      "cell_type": "markdown",
      "metadata": {
        "id": "ajgxH0z_AhhB"
      },
      "source": [
        "### **Тензор**\n",
        "\n",
        "Тензор - основная структура данных в библиотеках машинного обучения, которая похожа на массив Numpy. Что-то вроде n-мерной матрицы или массива массивов.Тензоры обеспечивают ускорение различных математических операций. Эти операции при выполнении в большом количестве в глубоком обучении имеют огромное значение в скорости.\n",
        "\n",
        "Тип данных, хранимых тензором, отражается в имени его конструктора. Конструктор без параметров вернёт специальное значение — тензор без размерности, который нельзя использовать ни в каких операциях.\n"
      ]
    },
    {
      "cell_type": "code",
      "source": [
        "torch.FloatTensor()\n",
        "a = torch.Tensor()"
      ],
      "metadata": {
        "id": "p9FwrFMQgyC7"
      },
      "execution_count": 3,
      "outputs": []
    },
    {
      "cell_type": "markdown",
      "metadata": {
        "id": "S4ZN0rdqFzPh"
      },
      "source": [
        "Типы тензоров в pytorch:\n",
        "\n",
        "torch.HalfTensor      # 16 бит, с плавающей точкой  \n",
        "torch.FloatTensor     # 32 бита,  с плавающей точкой  \n",
        "torch.DoubleTensor    # 64 бита, с плавающей точкой  \n",
        "\n",
        "torch.ShortTensor     # 16 бит, целочисленный, знаковый  \n",
        "torch.IntTensor       # 32 бита, целочисленный, знаковый  \n",
        "torch.LongTensor      # 64 бита, целочисленный, знаковый  \n",
        "\n",
        "torch.CharTensor      # 8 бит, целочисленный, знаковый  \n",
        "torch.ByteTensor      # 8 бит, целочисленный, беззнаковый\n",
        "\n",
        "\n",
        "Пример создания тензора:\n",
        "\n",
        "\n",
        "  "
      ]
    },
    {
      "cell_type": "code",
      "source": [
        "a = torch.FloatTensor([1.0])\n",
        "b = torch.DoubleTensor([2.0])\n",
        "print(a)\n",
        "print(b)\n",
        "a * b"
      ],
      "metadata": {
        "colab": {
          "base_uri": "https://localhost:8080/"
        },
        "id": "UEyQrfpxhGUO",
        "outputId": "b17bb7a1-aa41-4221-8a3b-f52b738cf343"
      },
      "execution_count": 4,
      "outputs": [
        {
          "output_type": "stream",
          "name": "stdout",
          "text": [
            "tensor([1.])\n",
            "tensor([2.], dtype=torch.float64)\n"
          ]
        },
        {
          "output_type": "execute_result",
          "data": {
            "text/plain": [
              "tensor([2.], dtype=torch.float64)"
            ]
          },
          "metadata": {},
          "execution_count": 4
        }
      ]
    },
    {
      "cell_type": "markdown",
      "source": [
        "Но где-то могут возникать проблемы в виду разных типов. Для этого предусмотрена возможность явного приведения типов:"
      ],
      "metadata": {
        "id": "nhWclIuzhQsh"
      }
    },
    {
      "cell_type": "code",
      "execution_count": 5,
      "metadata": {
        "colab": {
          "base_uri": "https://localhost:8080/"
        },
        "id": "VATG0L6IFzPj",
        "outputId": "d6594ceb-975a-4db2-cd3d-4e0fb9e7fcea"
      },
      "outputs": [
        {
          "output_type": "stream",
          "name": "stdout",
          "text": [
            "torch.IntTensor\n",
            "torch.ByteTensor\n"
          ]
        }
      ],
      "source": [
        "a = torch.IntTensor([1])\n",
        "print(a.type())\n",
        "a = a.byte()\n",
        "print(a.type())"
      ]
    },
    {
      "cell_type": "code",
      "source": [
        "a.float()"
      ],
      "metadata": {
        "colab": {
          "base_uri": "https://localhost:8080/"
        },
        "id": "mGvpeVmihWGG",
        "outputId": "5afa6202-236c-43f3-bcfa-09fcf22353fb"
      },
      "execution_count": 6,
      "outputs": [
        {
          "output_type": "execute_result",
          "data": {
            "text/plain": [
              "tensor([1.])"
            ]
          },
          "metadata": {},
          "execution_count": 6
        }
      ]
    },
    {
      "cell_type": "markdown",
      "source": [
        "### 2.2 Именование функций и различные типы функций\n",
        "\n",
        "Соглашение о именовании в PyTorch гласит, что любая функция вида xxx возвращает новый тензор, т.е. является immutable функцией. В противоположность ей функция вида xxx_ изменяет изначальный тензор, т.е. является mutable функцией. Последние ещё носят название inplace функций.\n",
        "Почти для любой immutable функции в PyTorch существует её собрат. Однако бывает и так, что функция существует лишь в каком-то одном варианте. По понятным причинам, функции, изменяющие размер тензора всегда являются immutable.\n",
        "\n",
        "https://pytorch.org/docs/stable/torch.html - документация"
      ],
      "metadata": {
        "id": "YJW36KKRS5f2"
      }
    },
    {
      "cell_type": "code",
      "execution_count": 7,
      "metadata": {
        "colab": {
          "base_uri": "https://localhost:8080/"
        },
        "id": "zO731BJ7cUBG",
        "outputId": "d6fc9535-22de-40a6-b9ef-7adbb03bb4af"
      },
      "outputs": [
        {
          "output_type": "stream",
          "name": "stdout",
          "text": [
            "тип тензора :  torch.FloatTensor\n",
            "просто создали тензор: tensor([1.0000, 1.4000, 2.5000])\n",
            "тензор с типом : tensor([1.0000, 1.4000, 2.5000])\n",
            "тензор из 0-й:\n",
            " tensor([[0., 0., 0.],\n",
            "        [0., 0., 0.]])\n",
            "Превращаем а в нули : tensor([0., 0., 0.])\n",
            "Заполним тензор константой : tensor([5., 5., 5.])\n",
            "Range: tensor([0, 1, 2, 3, 4, 5, 6, 7, 8, 9])\n",
            "range с шагом: tensor([ 4,  6,  8, 10])\n",
            "Space: tensor([1.0000, 1.6000, 2.2000, 2.8000, 3.4000, 4.0000])\n"
          ]
        }
      ],
      "source": [
        "a = [1. , 1.4 , 2.5]\n",
        "a_tensor = torch.tensor(a)\n",
        "print(f\"тип тензора : \", a_tensor.type())\n",
        "print(f\"просто создали тензор: {torch.tensor(a)}\")\n",
        "print(f\"тензор с типом : {torch.FloatTensor(a)}\")\n",
        "print(f\"тензор из 0-й:\\n {torch.zeros((2, 3))}\")\n",
        "print(f\"Превращаем а в нули : {a_tensor.zero_()}\")\n",
        "print(f\"Заполним тензор константой : {a_tensor.fill_(5)}\")\n",
        "print(f\"Range: {torch.arange(0, 10)}\")\n",
        "print(f\"range с шагом: {torch.arange(4, 12, 2)}\")\n",
        "print(f\"Space: {torch.linspace(1, 4, 6)}\")\n",
        "\n",
        "\n"
      ]
    },
    {
      "cell_type": "markdown",
      "metadata": {
        "id": "PoSPW2QuREEv"
      },
      "source": [
        "**Случайные генерации тензоров**"
      ]
    },
    {
      "cell_type": "markdown",
      "metadata": {
        "id": "wZRIvAwdRNGt"
      },
      "source": [
        "Cлучайные тензоры"
      ]
    },
    {
      "cell_type": "code",
      "execution_count": 8,
      "metadata": {
        "colab": {
          "base_uri": "https://localhost:8080/"
        },
        "id": "g4OGJqgiQvY-",
        "outputId": "148cbedc-448f-4c7f-a1fb-bed7df160d68"
      },
      "outputs": [
        {
          "output_type": "stream",
          "name": "stdout",
          "text": [
            "случайное значение в диапазоне от 0 до 1: tensor([0.3348])\n",
            "вектор со значениями 0 to 1: tensor([0.7075, 0.5479, 0.5441, 0.5385, 0.9981])\n",
            "нормально распределенный вектор со средним 0 и рассеиванием 1: tensor([[ 3.2081,  0.1471,  0.4714],\n",
            "        [ 2.2705, -0.1028, -0.0397]])\n",
            "случайный вектор длины 5 с числами от 0 to 10: tensor([8, 7, 2, 1, 5])\n"
          ]
        }
      ],
      "source": [
        "print(f\"случайное значение в диапазоне от 0 до 1: {torch.rand(1)}\")\n",
        "print(f\"вектор со значениями 0 to 1: {torch.rand(5)}\")\n",
        "print(f\"нормально распределенный вектор со средним 0 и рассеиванием 1: {torch.randn(2, 3)}\")\n",
        "print(f\"случайный вектор длины 5 с числами от 0 to 10: {torch.randint(10, size=(5,))}\")\n",
        "#print(f\"Непрерывное равномерное распределение : {torch.uniform(0, 5)}\")"
      ]
    },
    {
      "cell_type": "markdown",
      "metadata": {
        "id": "lVQVuCv5RIU5"
      },
      "source": [
        "**Математические операции**\n",
        "\n",
        "С матричными операциями так же все аналогично с тем же numpy"
      ]
    },
    {
      "cell_type": "code",
      "execution_count": 9,
      "metadata": {
        "colab": {
          "base_uri": "https://localhost:8080/"
        },
        "id": "C2T4MAHCQ4Fn",
        "outputId": "89812ad2-7342-4811-83e8-280fe19c2afa"
      },
      "outputs": [
        {
          "output_type": "stream",
          "name": "stdout",
          "text": [
            "a: tensor([0., 1., 2., 3., 4., 5., 6., 7., 8., 9.])\n",
            "shape: torch.Size([10])\n",
            "b: tensor([-10.0000,  -7.7778,  -5.5556,  -3.3333,  -1.1111,   1.1111,   3.3333,\n",
            "          5.5556,   7.7778,  10.0000])\n",
            "shape: torch.Size([10])\n"
          ]
        }
      ],
      "source": [
        "a = torch.arange(10).type(torch.FloatTensor)\n",
        "b = torch.linspace(-10, 10, 10)\n",
        "print(f\"a: {a}\\nshape: {a.size()}\")\n",
        "print(f\"b: {b}\\nshape: {b.size()}\")"
      ]
    },
    {
      "cell_type": "code",
      "execution_count": 10,
      "metadata": {
        "colab": {
          "base_uri": "https://localhost:8080/"
        },
        "id": "h6ker3veRBrQ",
        "outputId": "4ae2b5b3-e647-4fbe-b215-f66ec3ecf856"
      },
      "outputs": [
        {
          "output_type": "stream",
          "name": "stdout",
          "text": [
            "a + b: tensor([-10.0000,  -6.7778,  -3.5556,  -0.3333,   2.8889,   6.1111,   9.3333,\n",
            "         12.5556,  15.7778,  19.0000]),\n",
            " a * b: tensor([ -0.0000,  -7.7778, -11.1111, -10.0000,  -4.4444,   5.5556,  20.0000,\n",
            "         38.8889,  62.2222,  90.0000])\n",
            "a + b: tensor([-10.0000,  -6.7778,  -3.5556,  -0.3333,   2.8889,   6.1111,   9.3333,\n",
            "         12.5556,  15.7778,  19.0000]),\n",
            " a * b: tensor([ -0.0000,  -7.7778, -11.1111, -10.0000,  -4.4444,   5.5556,  20.0000,\n",
            "         38.8889,  62.2222,  90.0000])\n",
            "\n",
            " тут накопление в а: \n",
            "a + b: tensor([-10.0000,  -6.7778,  -3.5556,  -0.3333,   2.8889,   6.1111,   9.3333,\n",
            "         12.5556,  15.7778,  19.0000]),\n",
            " a * b: tensor([100.0000,  52.7160,  19.7531,   1.1111,  -3.2099,   6.7901,  31.1111,\n",
            "         69.7531, 122.7160, 190.0000])\n"
          ]
        }
      ],
      "source": [
        "print(f\"a + b: {a + b},\\n a * b: {a * b}\")\n",
        "print(f\"a + b: {a.add(b)},\\n a * b: {a.mul(b)}\") # вычитание sub, деление - div\n",
        "print(\"\\n тут накопление в а: \")\n",
        "print(f\"a + b: {a.add_(b)},\\n a * b: {a.mul_(b)}\") # тут операции наместе и будет накопление значений в тензоре а"
      ]
    },
    {
      "cell_type": "markdown",
      "source": [
        "функции из стандартного набора:"
      ],
      "metadata": {
        "id": "eiNwce0IkKCo"
      }
    },
    {
      "cell_type": "code",
      "execution_count": 11,
      "metadata": {
        "colab": {
          "base_uri": "https://localhost:8080/"
        },
        "id": "YLjXW-uFRfTB",
        "outputId": "a298142c-2685-48b6-863c-b7546695c11b"
      },
      "outputs": [
        {
          "output_type": "stream",
          "name": "stdout",
          "text": [
            "Экспонента : tensor([1.0000e+00, 2.7183e+00, 7.3891e+00, 2.0086e+01, 5.4598e+01, 1.4841e+02,\n",
            "        4.0343e+02, 1.0966e+03, 2.9810e+03, 8.1031e+03]),\n",
            " tensor([1.0000e+00, 2.7183e+00, 7.3891e+00, 2.0086e+01, 5.4598e+01, 1.4841e+02,\n",
            "        4.0343e+02, 1.0966e+03, 2.9810e+03, 8.1031e+03]), \n",
            " tensor([1.0000e+00, 2.7183e+00, 7.3891e+00, 2.0086e+01, 5.4598e+01, 1.4841e+02,\n",
            "        4.0343e+02, 1.0966e+03, 2.9810e+03, 8.1031e+03])\n",
            "Логарифм : tensor([0.0000, 1.0000, 2.0000, 3.0000, 4.0000, 5.0000, 6.0000, 7.0000, 8.0000,\n",
            "        9.0000])\n",
            "Модуль : tensor([1.0000e+00, 2.7183e+00, 7.3891e+00, 2.0086e+01, 5.4598e+01, 1.4841e+02,\n",
            "        4.0343e+02, 1.0966e+03, 2.9810e+03, 8.1031e+03])\n",
            "sin(x) : tensor([ 0.8415,  0.4108,  0.8939,  0.9445, -0.9288, -0.6877,  0.9649, -0.2156,\n",
            "         0.4017, -0.7935])\n"
          ]
        }
      ],
      "source": [
        "a = torch.arange(10).type(torch.FloatTensor)\n",
        "\n",
        "print(f\"Экспонента : {a.exp()},\\n {torch.exp(a)}, \\n {a.exp_()}\")\n",
        "print(f\"Логарифм : {a.log()}\")\n",
        "print(f\"Модуль : {a.abs()}\")\n",
        "print(f\"sin(x) : {a.sin()}\")"
      ]
    },
    {
      "cell_type": "code",
      "source": [
        "print(f\"Скалярное произведение: {a.dot(b)}\")\n",
        "print(f\"Mean: {a.mean()}, STD: {a.std()}\")\n",
        "print(f\"Sum: {a.sum()}, Min: {a.min()}, Max: {a.max()}\")"
      ],
      "metadata": {
        "colab": {
          "base_uri": "https://localhost:8080/"
        },
        "id": "03KPKnvEkSjY",
        "outputId": "984915b6-2844-4253-c59a-8568f3755d75"
      },
      "execution_count": 12,
      "outputs": [
        {
          "output_type": "stream",
          "name": "stdout",
          "text": [
            "Скалярное произведение: 111618.3359375\n",
            "Mean: 1281.830810546875, STD: 2571.337890625\n",
            "Sum: 12818.30859375, Min: 1.0, Max: 8103.083984375\n"
          ]
        }
      ]
    },
    {
      "cell_type": "markdown",
      "metadata": {
        "id": "XTfjbLKLFzPx"
      },
      "source": [
        "Изменения размерности и формы тензора:\n",
        "\n",
        "  - получить форму тензора"
      ]
    },
    {
      "cell_type": "code",
      "source": [
        "a.shape"
      ],
      "metadata": {
        "id": "5GW8ouaNkqLB",
        "colab": {
          "base_uri": "https://localhost:8080/"
        },
        "outputId": "77944aa0-0818-4b78-af27-db03cb3cbaac"
      },
      "execution_count": 13,
      "outputs": [
        {
          "output_type": "execute_result",
          "data": {
            "text/plain": [
              "torch.Size([10])"
            ]
          },
          "metadata": {},
          "execution_count": 13
        }
      ]
    },
    {
      "cell_type": "markdown",
      "source": [
        "  - иззменить форму тензора"
      ],
      "metadata": {
        "id": "KroKAP65krJR"
      }
    },
    {
      "cell_type": "code",
      "execution_count": 14,
      "metadata": {
        "colab": {
          "base_uri": "https://localhost:8080/"
        },
        "id": "Yk_mB4qGFzPz",
        "outputId": "8bc08511-a5ce-4198-a116-b66a6e3f2d63"
      },
      "outputs": [
        {
          "output_type": "stream",
          "name": "stdout",
          "text": [
            "Reshape:\n",
            "tensor([[1.0000e+00],\n",
            "        [2.7183e+00],\n",
            "        [7.3891e+00],\n",
            "        [2.0086e+01],\n",
            "        [5.4598e+01],\n",
            "        [1.4841e+02],\n",
            "        [4.0343e+02],\n",
            "        [1.0966e+03],\n",
            "        [2.9810e+03],\n",
            "        [8.1031e+03]])\n",
            "shape: torch.Size([10, 1])\n",
            "Повторения:\n",
            "tensor([[1.0000e+00, 1.0000e+00, 1.0000e+00, 1.0000e+00, 1.0000e+00],\n",
            "        [2.7183e+00, 2.7183e+00, 2.7183e+00, 2.7183e+00, 2.7183e+00],\n",
            "        [7.3891e+00, 7.3891e+00, 7.3891e+00, 7.3891e+00, 7.3891e+00],\n",
            "        [2.0086e+01, 2.0086e+01, 2.0086e+01, 2.0086e+01, 2.0086e+01],\n",
            "        [5.4598e+01, 5.4598e+01, 5.4598e+01, 5.4598e+01, 5.4598e+01],\n",
            "        [1.4841e+02, 1.4841e+02, 1.4841e+02, 1.4841e+02, 1.4841e+02],\n",
            "        [4.0343e+02, 4.0343e+02, 4.0343e+02, 4.0343e+02, 4.0343e+02],\n",
            "        [1.0966e+03, 1.0966e+03, 1.0966e+03, 1.0966e+03, 1.0966e+03],\n",
            "        [2.9810e+03, 2.9810e+03, 2.9810e+03, 2.9810e+03, 2.9810e+03],\n",
            "        [8.1031e+03, 8.1031e+03, 8.1031e+03, 8.1031e+03, 8.1031e+03]])\n",
            "shape: torch.Size([10, 5])\n",
            "Транспонирование:\n",
            "tensor([[1.0000e+00, 2.7183e+00, 7.3891e+00, 2.0086e+01, 5.4598e+01, 1.4841e+02,\n",
            "         4.0343e+02, 1.0966e+03, 2.9810e+03, 8.1031e+03],\n",
            "        [1.0000e+00, 2.7183e+00, 7.3891e+00, 2.0086e+01, 5.4598e+01, 1.4841e+02,\n",
            "         4.0343e+02, 1.0966e+03, 2.9810e+03, 8.1031e+03],\n",
            "        [1.0000e+00, 2.7183e+00, 7.3891e+00, 2.0086e+01, 5.4598e+01, 1.4841e+02,\n",
            "         4.0343e+02, 1.0966e+03, 2.9810e+03, 8.1031e+03],\n",
            "        [1.0000e+00, 2.7183e+00, 7.3891e+00, 2.0086e+01, 5.4598e+01, 1.4841e+02,\n",
            "         4.0343e+02, 1.0966e+03, 2.9810e+03, 8.1031e+03],\n",
            "        [1.0000e+00, 2.7183e+00, 7.3891e+00, 2.0086e+01, 5.4598e+01, 1.4841e+02,\n",
            "         4.0343e+02, 1.0966e+03, 2.9810e+03, 8.1031e+03]])\n",
            "shape: torch.Size([5, 10])\n",
            "Уникальные элементы: tensor([1.0000e+00, 2.7183e+00, 7.3891e+00, 2.0086e+01, 5.4598e+01, 1.4841e+02,\n",
            "        4.0343e+02, 1.0966e+03, 2.9810e+03, 8.1031e+03])\n"
          ]
        }
      ],
      "source": [
        "print(f\"Reshape:\\n{a.reshape(-1, 1)}\\nshape: {a.reshape(-1, 1).size()}\")\n",
        "c = a.reshape(-1, 1).repeat(1, 5)\n",
        "print(f\"Повторения:\\n{c}\\nshape: {c.size()}\")\n",
        "print(f\"Транспонирование:\\n{c.T}\\nshape: {c.T.size()}\")\n",
        "print(f\"Уникальные элементы: {torch.unique(c)}\")"
      ]
    },
    {
      "cell_type": "markdown",
      "metadata": {
        "id": "van47kdAFzPp"
      },
      "source": [
        "Индексирование:\n",
        "  - работает как в numpy\n",
        "  - начинаем с 0\n",
        "  - отрицательная индексация\n",
        "  - срезы\n",
        "\n",
        "\n",
        "\n"
      ]
    },
    {
      "cell_type": "code",
      "execution_count": 15,
      "metadata": {
        "colab": {
          "base_uri": "https://localhost:8080/"
        },
        "id": "wYwJYGSvFzPr",
        "outputId": "77e3c768-4d6e-4fa1-8e23-e5f4904ca81b"
      },
      "outputs": [
        {
          "output_type": "stream",
          "name": "stdout",
          "text": [
            "Array:\n",
            "tensor([[ 0,  1,  2,  3,  4,  5,  6,  7,  8,  9],\n",
            "        [10, 11, 12, 13, 14, 15, 16, 17, 18, 19],\n",
            "        [20, 21, 22, 23, 24, 25, 26, 27, 28, 29],\n",
            "        [30, 31, 32, 33, 34, 35, 36, 37, 38, 39],\n",
            "        [40, 41, 42, 43, 44, 45, 46, 47, 48, 49],\n",
            "        [50, 51, 52, 53, 54, 55, 56, 57, 58, 59],\n",
            "        [60, 61, 62, 63, 64, 65, 66, 67, 68, 69],\n",
            "        [70, 71, 72, 73, 74, 75, 76, 77, 78, 79],\n",
            "        [80, 81, 82, 83, 84, 85, 86, 87, 88, 89],\n",
            "        [90, 91, 92, 93, 94, 95, 96, 97, 98, 99]])\n",
            "shape: torch.Size([10, 10])\n",
            "Get first column: tensor([ 0, 10, 20, 30, 40, 50, 60, 70, 80, 90])\n",
            "Get last row: tensor([90, 91, 92, 93, 94, 95, 96, 97, 98, 99])\n",
            "Add new aхis:\n",
            "tensor([[[ 0,  1,  2,  3,  4,  5,  6,  7,  8,  9]],\n",
            "\n",
            "        [[10, 11, 12, 13, 14, 15, 16, 17, 18, 19]],\n",
            "\n",
            "        [[20, 21, 22, 23, 24, 25, 26, 27, 28, 29]],\n",
            "\n",
            "        [[30, 31, 32, 33, 34, 35, 36, 37, 38, 39]],\n",
            "\n",
            "        [[40, 41, 42, 43, 44, 45, 46, 47, 48, 49]],\n",
            "\n",
            "        [[50, 51, 52, 53, 54, 55, 56, 57, 58, 59]],\n",
            "\n",
            "        [[60, 61, 62, 63, 64, 65, 66, 67, 68, 69]],\n",
            "\n",
            "        [[70, 71, 72, 73, 74, 75, 76, 77, 78, 79]],\n",
            "\n",
            "        [[80, 81, 82, 83, 84, 85, 86, 87, 88, 89]],\n",
            "\n",
            "        [[90, 91, 92, 93, 94, 95, 96, 97, 98, 99]]])\n",
            "shape: torch.Size([10, 1, 10])\n",
            "Specific indexing:\n",
            "tensor([[47, 48, 49],\n",
            "        [57, 58, 59]])\n"
          ]
        }
      ],
      "source": [
        "a = torch.arange(100).reshape(10, 10)\n",
        "print(f\"Array:\\n{a}\\nshape: {a.size()}\")\n",
        "print(f\"Get first column: {a[:, 0]}\")\n",
        "print(f\"Get last row: {a[-1, :]}\")\n",
        "print(f\"Add new aхis:\\n{a[:, np.newaxis]}\\nshape: {a[:, np.newaxis].size()}\")\n",
        "print(f\"Specific indexing:\\n{a[4:6, 7:]}\")"
      ]
    },
    {
      "cell_type": "markdown",
      "metadata": {
        "id": "rDoym3IkSN-k"
      },
      "source": [
        "Из numpy в pytorch и обратно:"
      ]
    },
    {
      "cell_type": "code",
      "execution_count": 16,
      "metadata": {
        "colab": {
          "base_uri": "https://localhost:8080/"
        },
        "id": "zmPnlSvTRUqk",
        "outputId": "d72d133e-5182-429b-98ac-6cdbe160938c"
      },
      "outputs": [
        {
          "output_type": "execute_result",
          "data": {
            "text/plain": [
              "array([[-0.27983087,  0.69685   , -1.1562464 ,  1.8422211 ],\n",
              "       [-1.1388172 , -0.6361791 , -1.211874  ,  0.80392456]],\n",
              "      dtype=float32)"
            ]
          },
          "metadata": {},
          "execution_count": 16
        }
      ],
      "source": [
        "a = torch.normal(mean=torch.zeros(2,4))\n",
        "a.numpy()"
      ]
    },
    {
      "cell_type": "code",
      "source": [
        "b = np.random.normal(size=(2, 4))\n",
        "torch.from_numpy(b)"
      ],
      "metadata": {
        "colab": {
          "base_uri": "https://localhost:8080/"
        },
        "id": "xH3E42NLlaGT",
        "outputId": "262c4be9-f142-4f50-cbeb-1960f39752e0"
      },
      "execution_count": 17,
      "outputs": [
        {
          "output_type": "execute_result",
          "data": {
            "text/plain": [
              "tensor([[ 0.6898,  0.5855, -0.5112,  2.1991],\n",
              "        [ 0.4708,  0.9155, -1.1267, -3.2443]], dtype=torch.float64)"
            ]
          },
          "metadata": {},
          "execution_count": 17
        }
      ]
    },
    {
      "cell_type": "markdown",
      "metadata": {
        "id": "txp4OBMXFzP6"
      },
      "source": [
        "### 2.3 CUDA\n",
        "\n",
        "torch.cuda - это пакет для поддержки CUDA. Он поддерживает такую же функциональность как и CPU, но использует CUDA ядра для вычислений. С полным функционалом можно ознакомиться [здесь](https://pytorch.org/docs/stable/cuda.html?highlight=cuda#module-torch.cuda)"
      ]
    },
    {
      "cell_type": "markdown",
      "source": [
        "Работа с графическими ускорителями (если они есть):\n",
        "\n",
        "  -  проверить существование\n",
        "  -  можно включать и отключать принудительно"
      ],
      "metadata": {
        "id": "X0NUXXrZHpWT"
      }
    },
    {
      "cell_type": "code",
      "execution_count": 18,
      "metadata": {
        "colab": {
          "base_uri": "https://localhost:8080/"
        },
        "id": "2VM7TqHlFzP8",
        "outputId": "604211f6-24bf-4c8f-b141-79117fdef651"
      },
      "outputs": [
        {
          "output_type": "stream",
          "name": "stdout",
          "text": [
            "Поддерживается ли CUDA : True\n",
            "Количество гпу девайсов: 1\n",
            "Характеристики видеокарты : _CudaDeviceProperties(name='Tesla T4', major=7, minor=5, total_memory=15101MB, multi_processor_count=40)\n",
            "Удаляем всю незанятую память через torch.cuda.empty_cache()\n"
          ]
        }
      ],
      "source": [
        "print(f\"Поддерживается ли CUDA : {torch.cuda.is_available()}\")\n",
        "print(f'Количество гпу девайсов: {torch.cuda.device_count()}')\n",
        "print(f\"Характеристики видеокарты : {torch.cuda.get_device_properties(0)}\")\n",
        "print(f\"Удаляем всю незанятую память через torch.cuda.empty_cache()\")"
      ]
    },
    {
      "cell_type": "markdown",
      "source": [
        "инициализуем два тензора:"
      ],
      "metadata": {
        "id": "6DLeWSMblyV0"
      }
    },
    {
      "cell_type": "code",
      "execution_count": 19,
      "metadata": {
        "colab": {
          "base_uri": "https://localhost:8080/"
        },
        "id": "qCCRCUpj9aPF",
        "outputId": "86e2c204-a98d-48c1-8c75-53a1f866877a"
      },
      "outputs": [
        {
          "output_type": "stream",
          "name": "stdout",
          "text": [
            "a:\n",
            "tensor([[ 1.2884,  1.2940, -0.1359, -0.1038],\n",
            "        [-0.3486, -0.0059, -0.4030, -1.3918]])\n",
            "b:\n",
            "tensor([[-0.4229,  0.0760,  0.0547,  1.1200],\n",
            "        [-0.9175,  0.3570,  0.8884,  0.4164]])\n"
          ]
        }
      ],
      "source": [
        "a = torch.normal(mean=torch.zeros(2, 4))\n",
        "b = torch.normal(mean=torch.zeros(2, 4))\n",
        "print(f\"a:\\n{a}\\nb:\\n{b}\")"
      ]
    },
    {
      "cell_type": "markdown",
      "metadata": {
        "id": "YuV-xpouSe97"
      },
      "source": [
        "тензоры автоматом загружены в память cpu, но перевести их на gpu таким способом:"
      ]
    },
    {
      "cell_type": "code",
      "execution_count": 20,
      "metadata": {
        "colab": {
          "base_uri": "https://localhost:8080/"
        },
        "id": "mctsk4y8SnCp",
        "outputId": "982b9748-e386-440a-db20-810d6c7bbcf1"
      },
      "outputs": [
        {
          "output_type": "execute_result",
          "data": {
            "text/plain": [
              "tensor([[ 1.2884,  1.2940, -0.1359, -0.1038],\n",
              "        [-0.3486, -0.0059, -0.4030, -1.3918]], device='cuda:0')"
            ]
          },
          "metadata": {},
          "execution_count": 20
        }
      ],
      "source": [
        "a = a.cuda()\n",
        "a\n",
        "\n"
      ]
    },
    {
      "cell_type": "markdown",
      "source": [
        "если попробуем сложить эти два тензора, то ошибка, т.к. один тензор на cpu, а другой на cuda:"
      ],
      "metadata": {
        "id": "S5NKrMAYmK4F"
      }
    },
    {
      "cell_type": "markdown",
      "source": [
        "Пример:"
      ],
      "metadata": {
        "id": "M0xObOtmHd2c"
      }
    },
    {
      "cell_type": "code",
      "execution_count": 21,
      "metadata": {
        "colab": {
          "base_uri": "https://localhost:8080/",
          "height": 200
        },
        "id": "5zd1GMQ0-o80",
        "outputId": "94b2f891-5494-4137-d6fa-90a1c5a80f4a"
      },
      "outputs": [
        {
          "output_type": "error",
          "ename": "RuntimeError",
          "evalue": "ignored",
          "traceback": [
            "\u001b[0;31m---------------------------------------------------------------------------\u001b[0m",
            "\u001b[0;31mRuntimeError\u001b[0m                              Traceback (most recent call last)",
            "\u001b[0;32m<ipython-input-21-2930c707d8b2>\u001b[0m in \u001b[0;36m<cell line: 1>\u001b[0;34m()\u001b[0m\n\u001b[0;32m----> 1\u001b[0;31m \u001b[0ma\u001b[0m \u001b[0;34m+\u001b[0m \u001b[0mb\u001b[0m\u001b[0;34m\u001b[0m\u001b[0;34m\u001b[0m\u001b[0m\n\u001b[0m\u001b[1;32m      2\u001b[0m \u001b[0;34m\u001b[0m\u001b[0m\n",
            "\u001b[0;31mRuntimeError\u001b[0m: Expected all tensors to be on the same device, but found at least two devices, cuda:0 and cpu!"
          ]
        }
      ],
      "source": [
        "a + b\n",
        "\n"
      ]
    },
    {
      "cell_type": "markdown",
      "source": [
        "**ТЕНЗОРЫ ДОЛЖНЫ БЫТЬ НА ОДНОМ УСТРОЙСТВЕ!!!!!**"
      ],
      "metadata": {
        "id": "0Fxt0qYMIQay"
      }
    },
    {
      "cell_type": "code",
      "source": [
        "a + b.cuda()"
      ],
      "metadata": {
        "colab": {
          "base_uri": "https://localhost:8080/"
        },
        "id": "wpykwBjumYKv",
        "outputId": "84b0e53a-24e5-4cf8-8837-ae10187abf22"
      },
      "execution_count": 22,
      "outputs": [
        {
          "output_type": "execute_result",
          "data": {
            "text/plain": [
              "tensor([[ 0.8655,  1.3700, -0.0812,  1.0162],\n",
              "        [-1.2661,  0.3511,  0.4855, -0.9754]], device='cuda:0')"
            ]
          },
          "metadata": {},
          "execution_count": 22
        }
      ]
    },
    {
      "cell_type": "code",
      "source": [
        "a.cpu() + b"
      ],
      "metadata": {
        "colab": {
          "base_uri": "https://localhost:8080/"
        },
        "id": "EgQfWecOmkHf",
        "outputId": "4140c071-b116-4b21-eb79-86835feb1d5f"
      },
      "execution_count": 23,
      "outputs": [
        {
          "output_type": "execute_result",
          "data": {
            "text/plain": [
              "tensor([[ 0.8655,  1.3700, -0.0812,  1.0162],\n",
              "        [-1.2661,  0.3511,  0.4855, -0.9754]])"
            ]
          },
          "metadata": {},
          "execution_count": 23
        }
      ]
    },
    {
      "cell_type": "code",
      "source": [
        "(a + b.cuda()).cpu()"
      ],
      "metadata": {
        "colab": {
          "base_uri": "https://localhost:8080/"
        },
        "id": "n8_LBjsmmnoQ",
        "outputId": "84e2931a-3773-4525-9ec4-f4674243de5d"
      },
      "execution_count": 24,
      "outputs": [
        {
          "output_type": "execute_result",
          "data": {
            "text/plain": [
              "tensor([[ 0.8655,  1.3700, -0.0812,  1.0162],\n",
              "        [-1.2661,  0.3511,  0.4855, -0.9754]])"
            ]
          },
          "metadata": {},
          "execution_count": 24
        }
      ]
    },
    {
      "cell_type": "markdown",
      "source": [
        "**.cuda()** immutable функция. Т.е. она возвращает новый тензор, а не перезаписывает существующий a. Что бы интерпретатор запомнил что a у нас на куде необходимо присвоить значение выражение в тензор.\n",
        "\n",
        "Переместить можно не только a.cuda(), но и так:"
      ],
      "metadata": {
        "id": "EABj6LJOo9R1"
      }
    },
    {
      "cell_type": "code",
      "source": [
        "a.to(\"cpu\")"
      ],
      "metadata": {
        "colab": {
          "base_uri": "https://localhost:8080/"
        },
        "id": "qXORqpa_o8dP",
        "outputId": "07e1de74-1e26-4501-901b-f92c64866216"
      },
      "execution_count": 25,
      "outputs": [
        {
          "output_type": "execute_result",
          "data": {
            "text/plain": [
              "tensor([[ 1.2884,  1.2940, -0.1359, -0.1038],\n",
              "        [-0.3486, -0.0059, -0.4030, -1.3918]])"
            ]
          },
          "metadata": {},
          "execution_count": 25
        }
      ]
    },
    {
      "cell_type": "markdown",
      "source": [
        "## Задание 1"
      ],
      "metadata": {
        "id": "kkOatX6ICtjt"
      }
    },
    {
      "cell_type": "code",
      "execution_count": 26,
      "metadata": {
        "id": "QGYTKAxeofVR"
      },
      "outputs": [],
      "source": [
        "# 1. Создайте случайный Float размера 3x4x5"
      ]
    },
    {
      "cell_type": "code",
      "execution_count": 27,
      "metadata": {
        "id": "7GV_q8DdofVV"
      },
      "outputs": [],
      "source": [
        "# 2. Выведите его форму (shape)"
      ]
    },
    {
      "cell_type": "code",
      "execution_count": 28,
      "metadata": {
        "id": "f1OTy65FofVX"
      },
      "outputs": [],
      "source": [
        "# 3. Приведите его к форме 6х10"
      ]
    },
    {
      "cell_type": "code",
      "execution_count": 29,
      "metadata": {
        "id": "BEVOv9_TofVe"
      },
      "outputs": [],
      "source": [
        "# 4. Создайте случайный Int размера 10"
      ]
    },
    {
      "cell_type": "code",
      "source": [
        "# 5. Умножьте созданный Float на созданный Int поэлементно"
      ],
      "metadata": {
        "id": "TAX3DUiSa07K"
      },
      "execution_count": 30,
      "outputs": []
    },
    {
      "cell_type": "code",
      "execution_count": 31,
      "metadata": {
        "id": "eUxdWlQZofVi"
      },
      "outputs": [],
      "source": [
        "# 6. Умножьте тензор матрично на себя, чтобы результат был размерности 6x6"
      ]
    },
    {
      "cell_type": "code",
      "execution_count": 32,
      "metadata": {
        "id": "FzH6QkyxofVm"
      },
      "outputs": [],
      "source": [
        "# 8. Создайте единичный тензор размера 5x6"
      ]
    },
    {
      "cell_type": "code",
      "execution_count": 33,
      "metadata": {
        "id": "z49ttvWPofVo"
      },
      "outputs": [],
      "source": [
        "# 9. Переведите его в формат numpy"
      ]
    },
    {
      "cell_type": "markdown",
      "source": [
        "Эффективность ГПУ:"
      ],
      "metadata": {
        "id": "m1FHjFfvnSph"
      }
    },
    {
      "cell_type": "code",
      "source": [
        "device = torch.device(\"cuda:0\" if torch.cuda.is_available() else \"cpu\")\n",
        "print(device)"
      ],
      "metadata": {
        "colab": {
          "base_uri": "https://localhost:8080/"
        },
        "id": "qi3q1uxunTHp",
        "outputId": "9e3e1f13-9fd0-4079-c4e2-69a1e1410bd7"
      },
      "execution_count": 34,
      "outputs": [
        {
          "output_type": "stream",
          "name": "stdout",
          "text": [
            "cuda:0\n"
          ]
        }
      ]
    },
    {
      "cell_type": "markdown",
      "metadata": {
        "id": "MR36oPW2WSUh"
      },
      "source": [
        "**Пример.** Сделаем по 10 циклов на GPU и CPU:"
      ]
    },
    {
      "cell_type": "code",
      "execution_count": 35,
      "metadata": {
        "colab": {
          "base_uri": "https://localhost:8080/"
        },
        "id": "oajro_Ip_hap",
        "outputId": "01e6f66a-bd99-45b7-c7d0-f729c6733f07"
      },
      "outputs": [
        {
          "output_type": "stream",
          "name": "stdout",
          "text": [
            " CPU работает:\n",
            "10 циклов: 165.77ms\n",
            " GPU работает:\n",
            "10 циклов: 3006.06ms\n"
          ]
        }
      ],
      "source": [
        "import time\n",
        "\n",
        "def time_matmul(x):\n",
        "  start = time.time()\n",
        "  for loop in range(10):\n",
        "    torch.matmul(x, x)\n",
        "\n",
        "  result = time.time()-start\n",
        "\n",
        "  print(\"10 циклов: {:0.2f}ms\".format(1000*result))\n",
        "\n",
        "# исполнение CPU\n",
        "print(\" CPU работает:\")\n",
        "device = torch.device(\"cpu\")\n",
        "x = torch.randn([1000, 1000]).to(device)\n",
        "time_matmul(x)\n",
        "\n",
        "# исполнение на GPU #0 , если доступен\n",
        "print(\" GPU работает:\")\n",
        "device = torch.device(\"cuda:0\")\n",
        "x = torch.randn([1000, 1000]).to(device)\n",
        "time_matmul(x)"
      ]
    },
    {
      "cell_type": "markdown",
      "source": [
        "Запустить код выше несколько раз (первый запуск даст неверные оценки, т.к. загружается работа с ГПУ)\n",
        "\n",
        "У каждого тензора есть поле device, которое по умолчанию стоит cpu. Но мы можем менять его при инициализации или в процессе использования:"
      ],
      "metadata": {
        "id": "_zdSexDLoJos"
      }
    },
    {
      "cell_type": "code",
      "source": [
        "device = torch.device(\"cuda:0\" if torch.cuda.is_available() else \"cpu\")\n",
        "print(device)\n",
        "\n",
        "torch.randn(10, 10, device=device)"
      ],
      "metadata": {
        "colab": {
          "base_uri": "https://localhost:8080/"
        },
        "id": "7x1b3saPoI10",
        "outputId": "94436e67-6ba8-4ffe-8c81-e80ad0e8c437"
      },
      "execution_count": 36,
      "outputs": [
        {
          "output_type": "stream",
          "name": "stdout",
          "text": [
            "cuda:0\n"
          ]
        },
        {
          "output_type": "execute_result",
          "data": {
            "text/plain": [
              "tensor([[ 1.1717, -1.0655,  0.4551,  0.0359,  0.6510,  0.0649, -0.9182, -1.5751,\n",
              "         -0.5422,  0.3498],\n",
              "        [-1.3356, -0.8003, -0.2215, -1.5846, -1.3540, -0.1599, -1.2592,  1.0246,\n",
              "          0.9694, -0.9749],\n",
              "        [-0.6027, -1.3816, -1.2047,  0.3480,  0.0449, -1.7898, -0.1723, -0.1106,\n",
              "         -0.0830,  0.1648],\n",
              "        [ 0.8851,  0.7754,  0.1278,  0.8158, -1.1140, -0.4798,  1.1787, -0.6590,\n",
              "         -0.2854, -1.1752],\n",
              "        [-0.9795,  0.0594, -0.0134,  0.6741,  0.6016,  0.3040, -0.7206, -0.1230,\n",
              "         -0.3697, -0.0300],\n",
              "        [-0.0877, -0.7775, -0.5702,  0.8471, -0.2684, -0.4895,  0.0361,  2.3559,\n",
              "         -0.1103,  0.3794],\n",
              "        [ 0.1405,  1.2149,  0.0427, -0.7018,  0.5883, -0.7846, -0.2599,  0.7566,\n",
              "          0.5587, -0.1122],\n",
              "        [ 0.3007, -0.5513, -1.1052,  0.6886, -0.6286, -1.4954,  0.6801, -0.5667,\n",
              "          0.2112, -0.4928],\n",
              "        [ 0.3126,  0.7176, -1.4300, -0.2386, -2.2174,  0.5430, -0.9450, -1.1942,\n",
              "         -1.0674,  0.6002],\n",
              "        [ 1.8211, -0.6724,  0.0913,  0.1371,  1.3336,  0.4543,  0.2680, -1.6466,\n",
              "          0.2511,  0.1492]], device='cuda:0')"
            ]
          },
          "metadata": {},
          "execution_count": 36
        }
      ]
    },
    {
      "cell_type": "markdown",
      "metadata": {
        "id": "wYIltf84lreJ"
      },
      "source": [
        "\n",
        "### 3.1 Вычислительный граф\n",
        "\n",
        "Вычислительный граф — это иллюстрированная запись какой-либо функции, состоящая из вершин и рёбер. Вершины (или узлы) — вычислительные операции, которые необходимо выполнить, а рёбра связывают их в определённую последовательность.\n",
        "\n",
        "Автоматическое дифференцирование - строительный блок не только в Pytorch, но и в каждой другой DL библиотеке. Движок автоматического дифференцирования в Pytorch называет [Autograd](https://pytorch.org/docs/stable/autograd.html).\n",
        "\n",
        "Современные архитектуры нейронных сетей могут иметь миллионы обучающихся параметров. С вычислительной точки зрения тренировка сети состоит из двух фаз:\n",
        "\n",
        "1) Прямой проход для вычисления значения функции потерь.  \n",
        "2) Обратный проход для вычисления градиентов обучаемых параметров.\n",
        "\n",
        "Прямой проход весьма прямолинеен: выход одного слоя является входом другого.\n",
        "Обратный проход немного сложнее, поскольку он требует от нас использования цепного правила для вычисления градиентов весов относительно функции потерь."
      ]
    },
    {
      "cell_type": "markdown",
      "metadata": {
        "id": "PTUPg57vAhg6"
      },
      "source": [
        "Ниже представлен простой пример вычислительного графа для вычисления выражения $\\sigma(x*w_1 + w_0)$. Можно разбить вычисление на следующие шаги:"
      ]
    },
    {
      "cell_type": "markdown",
      "metadata": {
        "id": "7DEEdtooAhg6"
      },
      "source": [
        "<img src='https://drive.google.com/uc?export=view&id=1jCTO6zBGyE8sYkkSv_6NENdFOiwuJCMC' width=600>"
      ]
    },
    {
      "cell_type": "markdown",
      "metadata": {
        "id": "TJMGxYF6Ahg7"
      },
      "source": [
        "Преимущества использования вычислительного графа в том, что каждый узел является независимым функционирующим куском кода, если получит все необходимые входные данные. Это позволяет  оптимизировать производительность при выполнении расчетов, используя многоканальную обработку, параллельные вычисления."
      ]
    },
    {
      "cell_type": "markdown",
      "source": [
        "### 3.2 PyTorch Autograd\n",
        "\n",
        "тензор - это структура данных, которая является фундаментальным строительным блоком PyTorch и они во многом похожи на массивы numpy, за исключением того, что в отличие от numpy, тензоры предназначены для использования преимуществ параллельных вычислений графического процессора(GPU)."
      ],
      "metadata": {
        "id": "_vfAhxkvpoZY"
      }
    },
    {
      "cell_type": "code",
      "source": [
        "import torch\n",
        "tsr = torch.Tensor(3,5)\n",
        "tsr"
      ],
      "metadata": {
        "colab": {
          "base_uri": "https://localhost:8080/"
        },
        "id": "ptAJ8jb2pymR",
        "outputId": "42825ba3-bcb4-4a81-e8a4-d9dd05c5fb34"
      },
      "execution_count": 37,
      "outputs": [
        {
          "output_type": "execute_result",
          "data": {
            "text/plain": [
              "tensor([[ 0.0000e+00,  0.0000e+00,  0.0000e+00,  0.0000e+00,  5.6587e-27],\n",
              "        [ 3.1285e-41, -3.1494e+06,  3.1284e-41, -7.0814e+10,  4.5247e-41],\n",
              "        [ 0.0000e+00,  0.0000e+00,  0.0000e+00,  0.0000e+00,  0.0000e+00]])"
            ]
          },
          "metadata": {},
          "execution_count": 37
        }
      ]
    },
    {
      "cell_type": "markdown",
      "source": [
        "Tensor похож на numpy ndarray. Структура данных, которая позволяет быстро выполнять операции линейной алгебры. Что бы сделать тензор обучающимся и мы бы смогли вычислить его градиент, необходимо поставить его параметр **requires_grad** в значение True.\n",
        "\n",
        "**requires_grad** можно менять как при инициализации тензора, так и после:"
      ],
      "metadata": {
        "id": "1JmPlpH_p4sZ"
      }
    },
    {
      "cell_type": "code",
      "source": [
        "t1 = torch.randn((3, 3), requires_grad=True)\n",
        "print(t1.requires_grad)\n",
        "t2 = torch.FloatTensor(3, 3)\n",
        "print(t2.requires_grad)"
      ],
      "metadata": {
        "colab": {
          "base_uri": "https://localhost:8080/"
        },
        "id": "OraLGhtqqBAJ",
        "outputId": "d2a6a820-17ce-4876-8eb8-d536ff261956"
      },
      "execution_count": 38,
      "outputs": [
        {
          "output_type": "stream",
          "name": "stdout",
          "text": [
            "True\n",
            "False\n"
          ]
        }
      ]
    },
    {
      "cell_type": "code",
      "source": [
        "t2.requires_grad = True\n",
        "print(t2.requires_grad)"
      ],
      "metadata": {
        "colab": {
          "base_uri": "https://localhost:8080/"
        },
        "id": "sIsafunBqEL8",
        "outputId": "1ba88e0e-2bed-4616-dff5-86c9636780fb"
      },
      "execution_count": 39,
      "outputs": [
        {
          "output_type": "stream",
          "name": "stdout",
          "text": [
            "True\n"
          ]
        }
      ]
    },
    {
      "cell_type": "markdown",
      "source": [
        "**requires_grad** заразителен. Это означает, что когда тензор создается с помощью других тензоров, для параметра requires_grad результирующего тензора будет установлено значение True, если хотя бы один из тензоров, используемых для создания, имеет для параметра **requires_grad** значение **True**."
      ],
      "metadata": {
        "id": "wnTud2BMqJks"
      }
    },
    {
      "cell_type": "code",
      "source": [
        "x = torch.ones(3, requires_grad=True)\n",
        "x"
      ],
      "metadata": {
        "colab": {
          "base_uri": "https://localhost:8080/"
        },
        "id": "z39Yu8CBqnF9",
        "outputId": "e59f9add-400d-4430-fd92-4ab016311661"
      },
      "execution_count": 40,
      "outputs": [
        {
          "output_type": "execute_result",
          "data": {
            "text/plain": [
              "tensor([1., 1., 1.], requires_grad=True)"
            ]
          },
          "metadata": {},
          "execution_count": 40
        }
      ]
    },
    {
      "cell_type": "markdown",
      "source": [
        "В x у нас хранится информация о градиенте. Мы можем получить ее через метод grad:"
      ],
      "metadata": {
        "id": "FJ-IHcOXqrcD"
      }
    },
    {
      "cell_type": "code",
      "source": [
        "x.grad"
      ],
      "metadata": {
        "id": "x9dShKR3qszr"
      },
      "execution_count": 41,
      "outputs": []
    },
    {
      "cell_type": "markdown",
      "source": [
        "В данном случае ничего нет, т.к. никаких действий с нашим тензором не производили."
      ],
      "metadata": {
        "id": "blB76lLxqzNU"
      }
    },
    {
      "cell_type": "markdown",
      "metadata": {
        "id": "bbWKa7DaTQIN"
      },
      "source": [
        "**ГЛАВНЫЙ ФОКУС!!!**\n",
        "Вычисляем производные (для дифференцируемых функций) автоматически по всему запомненному графу вычислений\n",
        "\n",
        "  - Создадим переменную на основе x:"
      ]
    },
    {
      "cell_type": "code",
      "execution_count": 42,
      "metadata": {
        "id": "d2-w6y0fTOuP"
      },
      "outputs": [],
      "source": [
        "z = (x ** 2) + 5.0 * x  # задание - посчитать производную руками"
      ]
    },
    {
      "cell_type": "markdown",
      "source": [
        "  - вызываем метод **backward** и передаем единичный тензор:"
      ],
      "metadata": {
        "id": "CnblEZrbrG1V"
      }
    },
    {
      "cell_type": "code",
      "source": [
        "z.backward(x)"
      ],
      "metadata": {
        "id": "AD0XoAnUrP42"
      },
      "execution_count": 43,
      "outputs": []
    },
    {
      "cell_type": "markdown",
      "source": [
        " - можем смотреть градиент:"
      ],
      "metadata": {
        "id": "I8yoeARQrVLV"
      }
    },
    {
      "cell_type": "code",
      "source": [
        "x.grad"
      ],
      "metadata": {
        "colab": {
          "base_uri": "https://localhost:8080/"
        },
        "id": "GMubgW09rUV3",
        "outputId": "0d1cc808-4d94-4ef8-be7e-e9724f92ebb1"
      },
      "execution_count": 44,
      "outputs": [
        {
          "output_type": "execute_result",
          "data": {
            "text/plain": [
              "tensor([7., 7., 7.])"
            ]
          },
          "metadata": {},
          "execution_count": 44
        }
      ]
    },
    {
      "cell_type": "markdown",
      "source": [
        "## Задание 2"
      ],
      "metadata": {
        "id": "j92QO-axFaHi"
      }
    },
    {
      "cell_type": "code",
      "execution_count": 45,
      "metadata": {
        "id": "u3V6CsNkofVj"
      },
      "outputs": [],
      "source": [
        "# 1. Посчитайте производную функции y = x**3  в точке x = ( 0.5)"
      ]
    },
    {
      "cell_type": "code",
      "source": [
        "# 2. Посчитайте производную функции y = x[0]**3 + x[1] - 75*x[2] в точке x = (1, 0.5, 2)"
      ],
      "metadata": {
        "id": "IhWEQzhSFgMa"
      },
      "execution_count": 46,
      "outputs": []
    },
    {
      "cell_type": "markdown",
      "metadata": {
        "id": "_8s-9c41UFQN"
      },
      "source": [
        "**Пример Производная** :\n",
        "\n",
        "Пример из 7-го класса \"физика\":"
      ]
    },
    {
      "cell_type": "markdown",
      "source": [
        "input_t = tf.Variable(np.arange(10), dtype='float32') # t  входная переменная функции (вектор моментов времени от 0 до 9 секунд - вещественных чисел - тензор)\n",
        "with tf.GradientTape() as outer_tape: # создаем объект1 для слежения (записи) тензорных связей и зависимостей (вторая производная)\n",
        "  with tf.GradientTape() as inner_tape: # создаем объект2 для слежения (записи) тензорных связей и зависимостей (первая производная)\n",
        "    x =  4.9 * input_t ** 2  # g * t^2 /2   функция от входной переменной (перемещение)\n",
        "  speed = inner_tape.gradient( x, input_t)  # g * t  первая производная (скорость)\n",
        "acceleration = outer_tape.gradient(speed, input_t)   # g вторая производная (ускорение)"
      ],
      "metadata": {
        "id": "6ovY-WNX0d5Z"
      }
    },
    {
      "cell_type": "code",
      "execution_count": 47,
      "metadata": {
        "colab": {
          "base_uri": "https://localhost:8080/",
          "height": 449
        },
        "id": "fHlpsLfLUDtU",
        "outputId": "a7bab0fb-584a-455f-c9d9-c9509b4e894e"
      },
      "outputs": [
        {
          "output_type": "display_data",
          "data": {
            "text/plain": [
              "<Figure size 640x480 with 1 Axes>"
            ],
            "image/png": "[encoded data removed]"
          },
          "metadata": {}
        }
      ],
      "source": [
        "import numpy as np\n",
        "import matplotlib.pyplot as plt\n",
        "\n",
        "t_all = np.linspace(0.,10.,200) # t  входная переменная функции (вектор моментов времени от 0 до 9 секунд - вещественных чисел - тензор)\n",
        "h0 = torch.FloatTensor([100])\n",
        "v0 = torch.FloatTensor([0])\n",
        "g = torch.FloatTensor([-9.8])\n",
        "x = h0\n",
        "i = 0\n",
        "while x>0:\n",
        "    t = torch.tensor(t_all[i], requires_grad=True)\n",
        "    x = h0 + v0 * t + g * (t ** 2) / 2 # g * t^2 /2 функция от входной переменной (перемещение)\n",
        "    x.backward() # g * t первая производная (скорость)\n",
        "\n",
        "    t1 = torch.tensor(t_all[i], requires_grad=True)\n",
        "    s = v0 + g * t1\n",
        "    s.backward() # g вторая производная (ускорение)\n",
        "\n",
        "    # print(t.grad[i])\n",
        "    plt.plot(t.item(),x.item(),'r.')\n",
        "    plt.plot(t.item(),t.grad.item(),'b.')\n",
        "    plt.plot(t1.item(),t1.grad.item(),'g.')\n",
        "    i += 1\n",
        "\n",
        "# отобразим\n",
        "\n",
        "plt.plot(t.item(),x.item(),'r*', label = 'h')\n",
        "plt.plot(t.item(),t.grad.item(),'b*', label = 'v')\n",
        "plt.plot(t1.item(),t1.grad.item(),'g*', label = 'a')\n",
        "plt.grid()\n",
        "plt.xlabel('t')\n",
        "plt.ylabel('h, v, a')\n",
        "\n",
        "plt.legend()\n",
        "plt.show()\n"
      ]
    },
    {
      "cell_type": "markdown",
      "source": [
        "## Задание 3"
      ],
      "metadata": {
        "id": "JVbFqNWIFyRD"
      }
    },
    {
      "cell_type": "code",
      "execution_count": 48,
      "metadata": {
        "id": "uD0CptmJFyRD"
      },
      "outputs": [],
      "source": [
        "# 1. Посчитайте 1-ю производную функции y = x**3  в точке x = ( 0.5)"
      ]
    },
    {
      "cell_type": "code",
      "source": [],
      "metadata": {
        "id": "eL1znxYBMUTI"
      },
      "execution_count": 48,
      "outputs": []
    },
    {
      "cell_type": "markdown",
      "source": [
        "## **Создание нейронной сети**"
      ],
      "metadata": {
        "id": "ot0B8RRtMWwo"
      }
    },
    {
      "cell_type": "markdown",
      "metadata": {
        "id": "Y6btW5Oz9U9W"
      },
      "source": [
        "**Создание модели**"
      ]
    },
    {
      "cell_type": "markdown",
      "metadata": {
        "id": "jgVdsO619U9Y"
      },
      "source": [
        "Все модели создаем на основе классов ( в самом глубоком уровне наследований от torch.nn.Model()):\n",
        "  - модели torch.nn.Sequential() [https://pytorch.org/docs/stable/generated/torch.nn.Sequential.html]. Последовательный контейнер. Модули будут добавляться в него в том порядке, в котором они переданы в конструкторе -\n",
        "      например:\n",
        "\n",
        "                model = nn.Sequential(nn.Linear(n_in, n_h),\n",
        "                          nn.ReLU(),\n",
        "                          nn.Linear(n_h, n_out),\n",
        "                          nn.Sigmoid())\n",
        "                линейный слой, слой кусочно-линейный, линейный слой, сигмоидный слой             \n",
        "  - модели в форме графового конструктора на основе torch.nn.Module()[https://pytorch.org/docs/stable/generated/torch.nn.Module.html]. Базовый класс для всех модулей нейронной сети. Сеть на основе такого подхода выглядит как например:\n",
        "                class Feedforward(nn.Module):\n",
        "                  def __init__(self, input_size, hidden_size):\n",
        "                      # создаем объекты слои\n",
        "                      super().__init__()\n",
        "                      self.input_size = input_size\n",
        "                      self.hidden_size  = hidden_size\n",
        "                      self.fc1 = torch.nn.Linear(self.input_size, self.hidden_size)\n",
        "                      self.relu = torch.nn.ReLU()\n",
        "                      self.fc2 = torch.nn.Linear(self.hidden_size, 1)\n",
        "                      self.sigmoid = torch.nn.Sigmoid()\n",
        "                  # создаем поток прямого прохода     \n",
        "                  def forward(self, x):\n",
        "                      x = self.fc1(x)\n",
        "                      x = self.relu(x)\n",
        "                      x = self.fc2(x)\n",
        "                      x = self.sigmoid(x)\n",
        "                      return x\n",
        "\n",
        "  общая структура любой сети:\n",
        "    - входы\n",
        "    - слои (все слои в )\n",
        "    - выходы\n",
        "\n",
        "\n",
        "\n",
        "\n",
        "\n",
        "Напишим небольшую полносвязную сеть:"
      ]
    },
    {
      "cell_type": "code",
      "source": [
        "import torch\n",
        "import numpy as np\n",
        "import torch.nn.functional as F\n",
        "from torch import nn\n",
        "import torchvision"
      ],
      "metadata": {
        "id": "scoXBUCB1fp7"
      },
      "execution_count": 49,
      "outputs": []
    },
    {
      "cell_type": "code",
      "source": [
        "model = nn.Sequential(nn.Linear(1, 2),\n",
        "   nn.ReLU(),\n",
        "   nn.Linear(2, 1),\n",
        "   nn.Sigmoid())"
      ],
      "metadata": {
        "id": "H31Ec-ZA34BC"
      },
      "execution_count": 50,
      "outputs": []
    },
    {
      "cell_type": "code",
      "source": [
        "class Perceptron(nn.Module):\n",
        "    def __init__(self):\n",
        "        super().__init__()\n",
        "        self.fc = nn.Linear(1, 1)\n",
        "        # torch.nn.init.xavier_uniform(self.fc.weight)\n",
        "        print(self.fc)\n",
        "        self.relu = nn.ReLU()\n",
        "\n",
        "    def forward(self, x):\n",
        "        print('input', x)\n",
        "        output = self.fc(x)\n",
        "        print('output fc', output)\n",
        "        output = self.relu(output)\n",
        "        print('output relu', output)\n",
        "        return output"
      ],
      "metadata": {
        "id": "wGF0Qin918Bd"
      },
      "execution_count": 51,
      "outputs": []
    },
    {
      "cell_type": "markdown",
      "source": [
        "Создаем объект нового типа Perceptron (1 слой):"
      ],
      "metadata": {
        "id": "ALhBiQoB2HZ9"
      }
    },
    {
      "cell_type": "code",
      "source": [
        "perc = Perceptron()\n",
        "perc"
      ],
      "metadata": {
        "colab": {
          "base_uri": "https://localhost:8080/"
        },
        "id": "25EEl8mT2GiV",
        "outputId": "b5a7db71-f1d2-4c45-f7cf-32225e5a2c21"
      },
      "execution_count": 52,
      "outputs": [
        {
          "output_type": "stream",
          "name": "stdout",
          "text": [
            "Linear(in_features=1, out_features=1, bias=True)\n"
          ]
        },
        {
          "output_type": "execute_result",
          "data": {
            "text/plain": [
              "Perceptron(\n",
              "  (fc): Linear(in_features=1, out_features=1, bias=True)\n",
              "  (relu): ReLU()\n",
              ")"
            ]
          },
          "metadata": {},
          "execution_count": 52
        }
      ]
    },
    {
      "cell_type": "code",
      "source": [
        "# Так выглядит обработка тензора в  нейронной сети\n",
        "perc(torch.FloatTensor([5]))"
      ],
      "metadata": {
        "colab": {
          "base_uri": "https://localhost:8080/"
        },
        "id": "x5Pm-pkF2QVG",
        "outputId": "f6507abc-081f-483a-b96d-59ba4a83b47b"
      },
      "execution_count": 53,
      "outputs": [
        {
          "output_type": "stream",
          "name": "stdout",
          "text": [
            "input tensor([5.])\n",
            "output fc tensor([-4.5447], grad_fn=<ViewBackward0>)\n",
            "output relu tensor([0.], grad_fn=<ReluBackward0>)\n"
          ]
        },
        {
          "output_type": "execute_result",
          "data": {
            "text/plain": [
              "tensor([0.], grad_fn=<ReluBackward0>)"
            ]
          },
          "metadata": {},
          "execution_count": 53
        }
      ]
    },
    {
      "cell_type": "markdown",
      "source": [
        "веса и сдвиги слоев:"
      ],
      "metadata": {
        "id": "sewtpYob2dEm"
      }
    },
    {
      "cell_type": "code",
      "source": [
        "perc.fc.weight, perc.fc.bias"
      ],
      "metadata": {
        "colab": {
          "base_uri": "https://localhost:8080/"
        },
        "id": "9gvv0j2m2cRO",
        "outputId": "cd469bc4-170b-4edb-e559-0d9cb3d874cc"
      },
      "execution_count": 54,
      "outputs": [
        {
          "output_type": "execute_result",
          "data": {
            "text/plain": [
              "(Parameter containing:\n",
              " tensor([[-0.9252]], requires_grad=True),\n",
              " Parameter containing:\n",
              " tensor([0.0813], requires_grad=True))"
            ]
          },
          "metadata": {},
          "execution_count": 54
        }
      ]
    },
    {
      "cell_type": "markdown",
      "source": [
        "2-х слойная сеть:"
      ],
      "metadata": {
        "id": "0yYVboM-2rpf"
      }
    },
    {
      "cell_type": "code",
      "source": [
        "class Feedforward(nn.Module):\n",
        "    def __init__(self, input_size, hidden_size):\n",
        "        super().__init__()\n",
        "        self.input_size = input_size\n",
        "        self.hidden_size  = hidden_size\n",
        "        self.fc1 = torch.nn.Linear(self.input_size, self.hidden_size)\n",
        "        self.relu = torch.nn.ReLU()\n",
        "        self.fc2 = torch.nn.Linear(self.hidden_size, 1)\n",
        "        self.sigmoid = torch.nn.Sigmoid()\n",
        "\n",
        "    def forward(self, x):\n",
        "        x = self.fc1(x)\n",
        "        x = self.relu(x)\n",
        "        x = self.fc2(x)\n",
        "        x = self.sigmoid(x)\n",
        "        return x"
      ],
      "metadata": {
        "id": "O_q-pr_q2qpB"
      },
      "execution_count": 55,
      "outputs": []
    },
    {
      "cell_type": "markdown",
      "metadata": {
        "id": "IDbetrHA9U9i"
      },
      "source": [
        "На этой стадии мы должны сделать настройки процесса обучения нейронной сети:\n",
        "\n",
        "  - **loss** - позволяет задать формулы по которой будет определяться степень ошибки нейронной сети (богатый список вариантов потерь https://pytorch.org/docs/stable/nn.html#loss-functions).\n",
        "\n",
        "  - **optimizer** - позволяет задать алгоритм, который будет осуществлять изменения весов по всей нейронной сети backpropagation (богатый список вариантов оптимизаторов https://pytorch.org/docs/stable/optim.html#algorithms)\n",
        "\n",
        "  - **metrics** - позволяет опредилить кретирии по которым будет оцениваться степень обученности нейросети.\n",
        "    \n",
        "необходимо подбирать метрику и потери в соответствии с задачей.\n",
        "\n",
        "ключевые этапы обучения:\n",
        "\n",
        "  - Сеть создать  **model = ClassModel(< arg >).**\n",
        "  - перевести ее в режим обучения **model.train()**\n",
        "  - создать критерий (например **loss_ = BCELoss()**)\n",
        "\n",
        "  - Создать оптимизатор Optimizer и с ним связываются параметры сети (например Optimizer = SGD(**model.parameters()**, lr=0.01) ).\n",
        "\n",
        "  - Тренировочный цикл (проходит по всем пакетам (с числом примеров  **bath_size**) из примеров Х, у и повторяется несколько раз (по числу эпох **epochs**)):\n",
        "\n",
        "      - получает входные данные (обычно небольшой пакет примеров Х,у),\n",
        "\n",
        "      - проводит их через сеть **у_ = model(Х)**,\n",
        "\n",
        "      - подсчитывает потери  loss = loss_ (У, У_ ),\n",
        "\n",
        "      - обнуляет градиенты параметров сети **Optimizer.zero_grad()**,\n",
        "\n",
        "      - вызывает **loss.backward()** для обновления градиентов параметров,\n",
        "\n",
        "      - вызывает **Optimizer.step()**, чтобы применить градиенты к параметрам."
      ]
    },
    {
      "cell_type": "markdown",
      "metadata": {
        "id": "d9Gi-C5ddKKL"
      },
      "source": [
        "Оптимизаторы **torch.optim** :\n",
        "* SGD() (с или без моментом) https://pytorch.org/docs/stable/generated/torch.optim.SGD.html#sgd\n",
        "* Adam() https://pytorch.org/docs/stable/generated/torch.optim.Adam.html#adam\n",
        "* Adagrad() https://pytorch.org/docs/stable/generated/torch.optim.Adagrad.html#adagrad\n",
        "…\n",
        "\n",
        "Функции потерь **torch.nn** :\n",
        "* CategoricalCrossentropyLoss() https://pytorch.org/docs/stable/generated/torch.nn.CrossEntropyLoss.html\n",
        "* BCELoss() https://pytorch.org/docs/stable/generated/torch.nn.BCELoss.html#bceloss\n",
        "* MSELoss() https://pytorch.org/docs/stable/generated/torch.nn.MSELoss.html#mseloss\n",
        "* KLDivLoss() https://pytorch.org/docs/stable/generated/torch.nn.KLDivLoss.html#torch.nn.KLDivLoss\n",
        "* CosineSimilarity() https://pytorch.org/docs/stable/generated/torch.nn.CosineSimilarity.html#cosinesimilarity\n",
        "…\n"
      ]
    },
    {
      "cell_type": "markdown",
      "metadata": {
        "id": "tFt0A6m59U9q"
      },
      "source": [
        "Разберем этот пример.\n",
        "\n",
        "**X, y** - содержат все обучающие данные\n",
        "\n",
        "**epochs** - определяет сколько раз через нейросеть должен пройти весь набор данных\n",
        "\n",
        "**bath_size** - определяет количество обучающих примеров передающихся нейросети на каждой итерации обучения.\n",
        "\n"
      ]
    },
    {
      "cell_type": "markdown",
      "source": [
        "### **Пример:**\n",
        "\n",
        "### ***Подготовка данных***\n",
        "\n",
        "Откроем набор данных \"рукописные цифры\" - это классика\n",
        "В качестве входных объектов видим картинки 28х28 пикселей (полутоновые), а на выходе должны указать к какому классу принадлежит цифра (метки от 0 до 9)"
      ],
      "metadata": {
        "id": "ELXd7pbTbDsm"
      }
    },
    {
      "cell_type": "code",
      "execution_count": 56,
      "metadata": {
        "colab": {
          "base_uri": "https://localhost:8080/"
        },
        "id": "qBUSq3dWHUjF",
        "outputId": "46723dea-1a0b-4897-ada3-d1bc5b4ef55d"
      },
      "outputs": [
        {
          "output_type": "stream",
          "name": "stdout",
          "text": [
            "Downloading http://yann.lecun.com/exdb/mnist/train-images-idx3-ubyte.gz\n",
            "Downloading http://yann.lecun.com/exdb/mnist/train-images-idx3-ubyte.gz to MNIST/raw/train-images-idx3-ubyte.gz\n"
          ]
        },
        {
          "output_type": "stream",
          "name": "stderr",
          "text": [
            "100%|██████████| 9912422/9912422 [00:00<00:00, 187744803.49it/s]"
          ]
        },
        {
          "output_type": "stream",
          "name": "stdout",
          "text": [
            "Extracting MNIST/raw/train-images-idx3-ubyte.gz to MNIST/raw\n"
          ]
        },
        {
          "output_type": "stream",
          "name": "stderr",
          "text": [
            "\n"
          ]
        },
        {
          "output_type": "stream",
          "name": "stdout",
          "text": [
            "\n",
            "Downloading http://yann.lecun.com/exdb/mnist/train-labels-idx1-ubyte.gz\n",
            "Downloading http://yann.lecun.com/exdb/mnist/train-labels-idx1-ubyte.gz to MNIST/raw/train-labels-idx1-ubyte.gz\n"
          ]
        },
        {
          "output_type": "stream",
          "name": "stderr",
          "text": [
            "100%|██████████| 28881/28881 [00:00<00:00, 44258565.52it/s]\n"
          ]
        },
        {
          "output_type": "stream",
          "name": "stdout",
          "text": [
            "Extracting MNIST/raw/train-labels-idx1-ubyte.gz to MNIST/raw\n",
            "\n",
            "Downloading http://yann.lecun.com/exdb/mnist/t10k-images-idx3-ubyte.gz\n",
            "Downloading http://yann.lecun.com/exdb/mnist/t10k-images-idx3-ubyte.gz to MNIST/raw/t10k-images-idx3-ubyte.gz\n"
          ]
        },
        {
          "output_type": "stream",
          "name": "stderr",
          "text": [
            "100%|██████████| 1648877/1648877 [00:00<00:00, 54368505.68it/s]"
          ]
        },
        {
          "output_type": "stream",
          "name": "stdout",
          "text": [
            "Extracting MNIST/raw/t10k-images-idx3-ubyte.gz to MNIST/raw\n"
          ]
        },
        {
          "output_type": "stream",
          "name": "stderr",
          "text": [
            "\n"
          ]
        },
        {
          "output_type": "stream",
          "name": "stdout",
          "text": [
            "\n",
            "Downloading http://yann.lecun.com/exdb/mnist/t10k-labels-idx1-ubyte.gz\n",
            "Downloading http://yann.lecun.com/exdb/mnist/t10k-labels-idx1-ubyte.gz to MNIST/raw/t10k-labels-idx1-ubyte.gz\n"
          ]
        },
        {
          "output_type": "stream",
          "name": "stderr",
          "text": [
            "100%|██████████| 4542/4542 [00:00<00:00, 21238047.68it/s]\n"
          ]
        },
        {
          "output_type": "stream",
          "name": "stdout",
          "text": [
            "Extracting MNIST/raw/t10k-labels-idx1-ubyte.gz to MNIST/raw\n",
            "\n",
            "torch.Size([1, 28, 28])\n",
            "5\n"
          ]
        }
      ],
      "source": [
        "from torchvision.datasets import mnist  # импорт функции для загрузки набора данных (это рукописные цифры)\n",
        "from torchvision import transforms\n",
        "\n",
        "# читаем данные из базового датасета MNIST для обучения\n",
        "train_dataset=mnist.MNIST(root='',train=True, transform=transforms.ToTensor(), download=True)   # загружаем (вернет кортеж тренировочный примров (изображение, метка)\n",
        "# get pair\n",
        "image, label = train_dataset[0]\n",
        "print(image.size())\n",
        "print(label)\n",
        "\n"
      ]
    },
    {
      "cell_type": "markdown",
      "source": [
        "Создаем загрузчик данных:"
      ],
      "metadata": {
        "id": "he4CK8FGFJcL"
      }
    },
    {
      "cell_type": "code",
      "source": [
        "train_loader = torch.utils.data.DataLoader(dataset=train_dataset,\n",
        "                                           batch_size=64,\n",
        "                                           shuffle=True)"
      ],
      "metadata": {
        "id": "daYYohJWExid"
      },
      "execution_count": 57,
      "outputs": []
    },
    {
      "cell_type": "markdown",
      "source": [
        "Создаем датасет и загрузчик для тестов:"
      ],
      "metadata": {
        "id": "9eU4oQRZFOon"
      }
    },
    {
      "cell_type": "code",
      "source": [
        "test_dataset = mnist.MNIST(root='./data', train=False,\n",
        "                                            download=True, transform=transforms.ToTensor())\n",
        "test_loader = torch.utils.data.DataLoader(test_dataset, batch_size=8,\n",
        "                                          shuffle=False)"
      ],
      "metadata": {
        "colab": {
          "base_uri": "https://localhost:8080/"
        },
        "id": "X2L4yoW3E1W6",
        "outputId": "8a250020-edb0-4fae-911a-f95e8f2fd6c0"
      },
      "execution_count": 58,
      "outputs": [
        {
          "output_type": "stream",
          "name": "stdout",
          "text": [
            "Downloading http://yann.lecun.com/exdb/mnist/train-images-idx3-ubyte.gz\n",
            "Downloading http://yann.lecun.com/exdb/mnist/train-images-idx3-ubyte.gz to ./data/MNIST/raw/train-images-idx3-ubyte.gz\n"
          ]
        },
        {
          "output_type": "stream",
          "name": "stderr",
          "text": [
            "100%|██████████| 9912422/9912422 [00:00<00:00, 157963629.07it/s]"
          ]
        },
        {
          "output_type": "stream",
          "name": "stdout",
          "text": [
            "Extracting ./data/MNIST/raw/train-images-idx3-ubyte.gz to ./data/MNIST/raw\n"
          ]
        },
        {
          "output_type": "stream",
          "name": "stderr",
          "text": [
            "\n"
          ]
        },
        {
          "output_type": "stream",
          "name": "stdout",
          "text": [
            "\n",
            "Downloading http://yann.lecun.com/exdb/mnist/train-labels-idx1-ubyte.gz\n",
            "Downloading http://yann.lecun.com/exdb/mnist/train-labels-idx1-ubyte.gz to ./data/MNIST/raw/train-labels-idx1-ubyte.gz\n"
          ]
        },
        {
          "output_type": "stream",
          "name": "stderr",
          "text": [
            "100%|██████████| 28881/28881 [00:00<00:00, 126843658.45it/s]\n"
          ]
        },
        {
          "output_type": "stream",
          "name": "stdout",
          "text": [
            "Extracting ./data/MNIST/raw/train-labels-idx1-ubyte.gz to ./data/MNIST/raw\n",
            "\n",
            "Downloading http://yann.lecun.com/exdb/mnist/t10k-images-idx3-ubyte.gz\n",
            "Downloading http://yann.lecun.com/exdb/mnist/t10k-images-idx3-ubyte.gz to ./data/MNIST/raw/t10k-images-idx3-ubyte.gz\n"
          ]
        },
        {
          "output_type": "stream",
          "name": "stderr",
          "text": [
            "100%|██████████| 1648877/1648877 [00:00<00:00, 71189230.83it/s]"
          ]
        },
        {
          "output_type": "stream",
          "name": "stdout",
          "text": [
            "Extracting ./data/MNIST/raw/t10k-images-idx3-ubyte.gz to ./data/MNIST/raw\n",
            "\n",
            "Downloading http://yann.lecun.com/exdb/mnist/t10k-labels-idx1-ubyte.gz\n"
          ]
        },
        {
          "output_type": "stream",
          "name": "stderr",
          "text": [
            "\n"
          ]
        },
        {
          "output_type": "stream",
          "name": "stdout",
          "text": [
            "Downloading http://yann.lecun.com/exdb/mnist/t10k-labels-idx1-ubyte.gz to ./data/MNIST/raw/t10k-labels-idx1-ubyte.gz\n"
          ]
        },
        {
          "output_type": "stream",
          "name": "stderr",
          "text": [
            "100%|██████████| 4542/4542 [00:00<00:00, 21796943.67it/s]"
          ]
        },
        {
          "output_type": "stream",
          "name": "stdout",
          "text": [
            "Extracting ./data/MNIST/raw/t10k-labels-idx1-ubyte.gz to ./data/MNIST/raw\n",
            "\n"
          ]
        },
        {
          "output_type": "stream",
          "name": "stderr",
          "text": [
            "\n"
          ]
        }
      ]
    },
    {
      "cell_type": "markdown",
      "source": [
        "Введем имена классов:"
      ],
      "metadata": {
        "id": "UM4NqzoTc-71"
      }
    },
    {
      "cell_type": "code",
      "source": [
        "class_names = [0,1,2,3,4,5,6,7,8,9]"
      ],
      "metadata": {
        "id": "qZtP8TOiGBWF"
      },
      "execution_count": 59,
      "outputs": []
    },
    {
      "cell_type": "code",
      "execution_count": 60,
      "metadata": {
        "id": "NInsePV5QKs4"
      },
      "outputs": [],
      "source": [
        "import matplotlib.pyplot as plt\n"
      ]
    },
    {
      "cell_type": "markdown",
      "source": [
        "Посмотрим на пример:"
      ],
      "metadata": {
        "id": "X6nj0y-Eda0c"
      }
    },
    {
      "cell_type": "code",
      "source": [
        "for images, labels in train_loader:\n",
        "  print(labels[:10])\n",
        "  break"
      ],
      "metadata": {
        "colab": {
          "base_uri": "https://localhost:8080/"
        },
        "id": "uLb7i9gJc0Ie",
        "outputId": "f9609d2e-765f-4871-b2dd-669d512b1ca4"
      },
      "execution_count": 61,
      "outputs": [
        {
          "output_type": "stream",
          "name": "stdout",
          "text": [
            "tensor([6, 3, 7, 4, 4, 3, 6, 3, 2, 9])\n"
          ]
        }
      ]
    },
    {
      "cell_type": "code",
      "source": [
        "n = 1\n",
        "plt.figure()\n",
        "plt.imshow(images[n,0,:,:])\n",
        "plt.colorbar()\n",
        "plt.grid(False)\n",
        "plt.show()"
      ],
      "metadata": {
        "colab": {
          "base_uri": "https://localhost:8080/",
          "height": 435
        },
        "id": "RnFutJ2JdOm0",
        "outputId": "3905e4ce-49f8-47dd-fbc6-f471f450dd6d"
      },
      "execution_count": 62,
      "outputs": [
        {
          "output_type": "display_data",
          "data": {
            "text/plain": [
              "<Figure size 640x480 with 2 Axes>"
            ],
            "image/png": "[encoded data removed]"
          },
          "metadata": {}
        }
      ]
    },
    {
      "cell_type": "markdown",
      "source": [
        "Посмотрим на несколько примеров и их метки:"
      ],
      "metadata": {
        "id": "7lVnQiPZdfmz"
      }
    },
    {
      "cell_type": "code",
      "source": [
        "plt.figure(figsize=(10,10))\n",
        "for i in range(25):\n",
        "    plt.subplot(5,5,i+1)\n",
        "    plt.xticks([])\n",
        "    plt.yticks([])\n",
        "    plt.grid(False)\n",
        "    plt.imshow(images[i,0,:,:], cmap=plt.cm.binary)\n",
        "    plt.xlabel(class_names[labels[i]])\n",
        "plt.show()"
      ],
      "metadata": {
        "colab": {
          "base_uri": "https://localhost:8080/",
          "height": 826
        },
        "id": "SGbwAKNuceS_",
        "outputId": "f9ee934e-045c-46ae-b5a4-360f60a0d9bb"
      },
      "execution_count": 63,
      "outputs": [
        {
          "output_type": "display_data",
          "data": {
            "text/plain": [
              "<Figure size 1000x1000 with 25 Axes>"
            ],
            "image/png": "[encoded data removed]"
          },
          "metadata": {}
        }
      ]
    },
    {
      "cell_type": "markdown",
      "source": [
        "### **Создадим сеть:**"
      ],
      "metadata": {
        "id": "CgWygk-NdmIi"
      }
    },
    {
      "cell_type": "code",
      "execution_count": 118,
      "metadata": {
        "id": "ozb2tTqNIBzX"
      },
      "outputs": [],
      "source": [
        "from torch.nn import Sequential\n",
        "from torch.nn import Linear, Sigmoid, Softmax, ReLU\n"
      ]
    },
    {
      "cell_type": "code",
      "execution_count": 119,
      "metadata": {
        "colab": {
          "base_uri": "https://localhost:8080/"
        },
        "id": "PIIwUIB_GWzd",
        "outputId": "bdfe7281-8094-488a-8f02-f12188809475"
      },
      "outputs": [
        {
          "output_type": "execute_result",
          "data": {
            "text/plain": [
              "Sequential(\n",
              "  (0): Linear(in_features=784, out_features=512, bias=True)\n",
              "  (1): ReLU()\n",
              "  (2): Linear(in_features=512, out_features=128, bias=True)\n",
              "  (3): ReLU()\n",
              "  (4): Linear(in_features=128, out_features=10, bias=True)\n",
              "  (5): Softmax(dim=None)\n",
              ")"
            ]
          },
          "metadata": {},
          "execution_count": 119
        }
      ],
      "source": [
        "# создаем линейную модель из списка\n",
        "model = Sequential( Linear(784,512),    # размер вектора на входе и  размера слоя (число нейронов)\n",
        "                    ReLU(),\n",
        "                      Linear(512,128),# скрытый слой\n",
        "                      ReLU(),\n",
        "                       Linear(128, 10), Softmax())   # на выходе стоит 10 нейронов, т.к. задача классификация цифр и активация activation='softmax' , которую принято использовать в классификации (вернет ответ в вероятностной форме - вероятность каждого выхода)\n",
        "\n",
        "# собираем модель\n",
        "optimizer = torch.optim.Adam(model.parameters(), lr = 0.001)\n",
        "loss_fn = torch.nn.CrossEntropyLoss()\n",
        "\n",
        "\n",
        "model   # отображения списка слоев модели (имя солоя, размер выхода, число параметров)"
      ]
    },
    {
      "cell_type": "markdown",
      "source": [
        "### **Обучаем сеть**\n",
        "\n",
        "сеть ждет на вход вектор (М, 784) - М объектов по 784 признака ()"
      ],
      "metadata": {
        "id": "w3C3uFlgd4x5"
      }
    },
    {
      "cell_type": "code",
      "source": [
        "num_epochs = 5\n",
        "\n",
        "for epoch in range(num_epochs):\n",
        "    running_loss = 0.0\n",
        "    running_items = 0.0\n",
        "\n",
        "\n",
        "    for i, data in enumerate(train_loader):\n",
        "        inputs, labels = data[0], data[1]\n",
        "\n",
        "         # Обнуляем градиент\n",
        "        optimizer.zero_grad()\n",
        "        # Делаем предсказание\n",
        "        outputs = model(inputs.reshape(-1,784))\n",
        "        # Рассчитываем лосс-функцию\n",
        "        loss = loss_fn(outputs, labels)\n",
        "        # Делаем шаг назад по лоссу\n",
        "        loss.backward()\n",
        "        # Делаем шаг нашего оптимайзера\n",
        "        optimizer.step()\n",
        "\n",
        "        # выводим статистику о процессе обучения\n",
        "        running_loss += loss.item()\n",
        "        running_items += len(labels)\n",
        "        if i % 300 == 0:    # печатаем каждые 300 mini-batches\n",
        "            print(f'Epoch [{epoch + 1}/{num_epochs}]. ' \\\n",
        "                  f'Step [{i + 1}/{len(train_loader)}]. ' \\\n",
        "                  f'Loss: {running_loss / running_items:.3f}')\n",
        "            running_loss, running_items = 0.0, 0.0\n",
        "\n",
        "print('Training is finished!')"
      ],
      "metadata": {
        "colab": {
          "base_uri": "https://localhost:8080/"
        },
        "id": "-fvLG9nPIzuQ",
        "outputId": "c14ac42b-3baf-4119-9a8d-0be11c7ddae9"
      },
      "execution_count": 120,
      "outputs": [
        {
          "output_type": "stream",
          "name": "stderr",
          "text": [
            "/usr/local/lib/python3.10/dist-packages/torch/nn/modules/module.py:1518: UserWarning: Implicit dimension choice for softmax has been deprecated. Change the call to include dim=X as an argument.\n",
            "  return self._call_impl(*args, **kwargs)\n"
          ]
        },
        {
          "output_type": "stream",
          "name": "stdout",
          "text": [
            "Epoch [1/5]. Step [1/938]. Loss: 0.036\n",
            "Epoch [1/5]. Step [301/938]. Loss: 0.026\n",
            "Epoch [1/5]. Step [601/938]. Loss: 0.024\n",
            "Epoch [1/5]. Step [901/938]. Loss: 0.024\n",
            "Epoch [2/5]. Step [1/938]. Loss: 0.024\n",
            "Epoch [2/5]. Step [301/938]. Loss: 0.024\n",
            "Epoch [2/5]. Step [601/938]. Loss: 0.024\n",
            "Epoch [2/5]. Step [901/938]. Loss: 0.024\n",
            "Epoch [3/5]. Step [1/938]. Loss: 0.023\n",
            "Epoch [3/5]. Step [301/938]. Loss: 0.023\n",
            "Epoch [3/5]. Step [601/938]. Loss: 0.023\n",
            "Epoch [3/5]. Step [901/938]. Loss: 0.023\n",
            "Epoch [4/5]. Step [1/938]. Loss: 0.024\n",
            "Epoch [4/5]. Step [301/938]. Loss: 0.023\n",
            "Epoch [4/5]. Step [601/938]. Loss: 0.023\n",
            "Epoch [4/5]. Step [901/938]. Loss: 0.023\n",
            "Epoch [5/5]. Step [1/938]. Loss: 0.023\n",
            "Epoch [5/5]. Step [301/938]. Loss: 0.023\n",
            "Epoch [5/5]. Step [601/938]. Loss: 0.023\n",
            "Epoch [5/5]. Step [901/938]. Loss: 0.023\n",
            "Training is finished!\n"
          ]
        }
      ]
    },
    {
      "cell_type": "markdown",
      "source": [
        "### ***Получаем предсказания для обученной сети:***\n",
        "\n",
        " - сделать препроцессинг тестовых примеров (мы его уже сделали выше)\n",
        " - передать тестовые примеры в сеть\n",
        " - увидеть ответ как цифру"
      ],
      "metadata": {
        "id": "0eexLp-0qDRS"
      }
    },
    {
      "cell_type": "code",
      "source": [
        "outputs[:5,:]"
      ],
      "metadata": {
        "colab": {
          "base_uri": "https://localhost:8080/"
        },
        "id": "-bIas0x0KFQr",
        "outputId": "2f783e3d-573e-4b3f-beb7-b64196212141"
      },
      "execution_count": 67,
      "outputs": [
        {
          "output_type": "execute_result",
          "data": {
            "text/plain": [
              "tensor([[0.0000e+00, 0.0000e+00, 0.0000e+00, 0.0000e+00, 0.0000e+00, 0.0000e+00,\n",
              "         0.0000e+00, 1.0000e+00, 0.0000e+00, 0.0000e+00],\n",
              "        [0.0000e+00, 0.0000e+00, 7.4646e-07, 0.0000e+00, 0.0000e+00, 0.0000e+00,\n",
              "         1.0000e+00, 0.0000e+00, 0.0000e+00, 0.0000e+00],\n",
              "        [0.0000e+00, 0.0000e+00, 0.0000e+00, 0.0000e+00, 0.0000e+00, 0.0000e+00,\n",
              "         0.0000e+00, 1.0000e+00, 0.0000e+00, 8.2109e-26],\n",
              "        [2.3642e-38, 0.0000e+00, 3.3783e-38, 8.8282e-44, 0.0000e+00, 0.0000e+00,\n",
              "         0.0000e+00, 1.0000e+00, 0.0000e+00, 0.0000e+00],\n",
              "        [0.0000e+00, 0.0000e+00, 0.0000e+00, 0.0000e+00, 1.6620e-15, 0.0000e+00,\n",
              "         0.0000e+00, 6.5726e-37, 5.5943e-35, 1.0000e+00]],\n",
              "       grad_fn=<SliceBackward0>)"
            ]
          },
          "metadata": {},
          "execution_count": 67
        }
      ]
    },
    {
      "cell_type": "code",
      "source": [
        "labels[:5]"
      ],
      "metadata": {
        "colab": {
          "base_uri": "https://localhost:8080/"
        },
        "id": "1ngyOFhlvXC_",
        "outputId": "be0a0048-c1db-4e48-d2f9-3e8325ea27a7"
      },
      "execution_count": 68,
      "outputs": [
        {
          "output_type": "execute_result",
          "data": {
            "text/plain": [
              "tensor([7, 6, 7, 7, 9])"
            ]
          },
          "metadata": {},
          "execution_count": 68
        }
      ]
    },
    {
      "cell_type": "code",
      "source": [
        "outputs.argmax(axis=1)"
      ],
      "metadata": {
        "colab": {
          "base_uri": "https://localhost:8080/"
        },
        "id": "dUtVn3aYKZ10",
        "outputId": "268364f2-e2a7-4f29-cb8b-1145d8366ca0"
      },
      "execution_count": 69,
      "outputs": [
        {
          "output_type": "execute_result",
          "data": {
            "text/plain": [
              "tensor([7, 6, 7, 7, 9, 3, 9, 7, 8, 2, 0, 4, 1, 6, 5, 7, 0, 1, 2, 0, 8, 6, 2, 0,\n",
              "        5, 0, 0, 7, 4, 5, 6, 6])"
            ]
          },
          "metadata": {},
          "execution_count": 69
        }
      ]
    },
    {
      "cell_type": "code",
      "source": [
        "accuracy = (outputs.argmax(axis=1) == labels).float().mean()\n",
        "accuracy"
      ],
      "metadata": {
        "colab": {
          "base_uri": "https://localhost:8080/"
        },
        "id": "dabiixG8Kjdb",
        "outputId": "713e91be-aff1-49c3-e136-16c2666517de"
      },
      "execution_count": 70,
      "outputs": [
        {
          "output_type": "execute_result",
          "data": {
            "text/plain": [
              "tensor(0.8438)"
            ]
          },
          "metadata": {},
          "execution_count": 70
        }
      ]
    },
    {
      "cell_type": "code",
      "source": [
        "model.eval()\n",
        "accuracy = []\n",
        "running_loss = 0.0\n",
        "running_items = 0.0\n",
        "\n",
        "for i, data in enumerate(test_loader):\n",
        "        inputs, labels = data[0], data[1]\n",
        "\n",
        "         # Обнуляем градиент\n",
        "        optimizer.zero_grad()\n",
        "        # Делаем предсказание\n",
        "        outputs = model(inputs.reshape(-1,784))\n",
        "        # Рассчитываем лосс-функцию\n",
        "        loss = loss_fn(outputs, labels)\n",
        "        # выводим статистику о процессе обучения\n",
        "        running_loss += loss.item()\n",
        "        running_items += len(labels)\n",
        "        accuracy += (outputs.argmax(axis=1) == labels).numpy().tolist()\n",
        "\n",
        "        if i % 300 == 0:    # печатаем каждые 300 mini-batches\n",
        "            print(f'Epoch [{epoch + 1}/{num_epochs}]. ' \\\n",
        "                  f'Step [{i + 1}/{len(train_loader)}]. ' \\\n",
        "                  f'Loss: {running_loss / running_items:.3f}')\n",
        "\n",
        "\n",
        "print('Training is finished!')\n",
        "print('loss_val:', running_loss / running_items)\n",
        "print(' metric_val:', np.sum(accuracy) / running_items)"
      ],
      "metadata": {
        "colab": {
          "base_uri": "https://localhost:8080/"
        },
        "id": "f7cWoJM1rBU9",
        "outputId": "9f45de8d-8f66-4e33-c4ee-cc5528a20cd5"
      },
      "execution_count": 121,
      "outputs": [
        {
          "output_type": "stream",
          "name": "stdout",
          "text": [
            "Epoch [5/5]. Step [1/938]. Loss: 0.183\n",
            "Epoch [5/5]. Step [301/938]. Loss: 0.188\n",
            "Epoch [5/5]. Step [601/938]. Loss: 0.188\n",
            "Epoch [5/5]. Step [901/938]. Loss: 0.187\n",
            "Epoch [5/5]. Step [1201/938]. Loss: 0.186\n",
            "Training is finished!\n",
            "loss_val: 0.18637083637714386\n",
            " metric_val: 0.9716\n"
          ]
        }
      ]
    },
    {
      "cell_type": "code",
      "source": [
        "yp = model(inputs.reshape(-1,784))"
      ],
      "metadata": {
        "id": "XtdUaJRhqeTB"
      },
      "execution_count": 72,
      "outputs": []
    },
    {
      "cell_type": "code",
      "source": [
        "yp = yp.detach().numpy()"
      ],
      "metadata": {
        "id": "_L3rlCluteu6"
      },
      "execution_count": 73,
      "outputs": []
    },
    {
      "cell_type": "code",
      "source": [
        "n = 4\n",
        "\n",
        "yp_label = np.argmax(yp[n,:]) # Получаем предсказание как метку\n",
        "plt.figure()\n",
        "plt.imshow(inputs[n,0,:,:])\n",
        "plt.colorbar()\n",
        "plt.grid(False)\n",
        "plt.title(str(class_names[labels[n]]) + ':' + str(class_names[yp_label]))\n",
        "plt.show()"
      ],
      "metadata": {
        "colab": {
          "base_uri": "https://localhost:8080/",
          "height": 452
        },
        "id": "UTKSnqRXq7mf",
        "outputId": "79f55e52-2044-4742-93e2-6f8691008ba9"
      },
      "execution_count": 74,
      "outputs": [
        {
          "output_type": "display_data",
          "data": {
            "text/plain": [
              "<Figure size 640x480 with 2 Axes>"
            ],
            "image/png": "[encoded data removed]"
          },
          "metadata": {}
        }
      ]
    },
    {
      "cell_type": "markdown",
      "metadata": {
        "id": "A1XQk6Z3yrch"
      },
      "source": [
        "### **Сохраним модель на диск**"
      ]
    },
    {
      "cell_type": "code",
      "metadata": {
        "id": "KV8BxQEqyrci"
      },
      "source": [
        "# сохранить веса модели.\n",
        "PATH_WEIGHTS = './cifar_net_test_version_weights.pth'\n",
        "torch.save(model.state_dict(), PATH_WEIGHTS)\n",
        "\n",
        "# загрузить веса модели:\n",
        "# model.load_weights('model.h5')\n"
      ],
      "execution_count": 76,
      "outputs": []
    },
    {
      "cell_type": "markdown",
      "metadata": {
        "id": "EHMumt30YxTG"
      },
      "source": [
        "## Работа на GPU и СPU:\n"
      ]
    },
    {
      "cell_type": "markdown",
      "metadata": {
        "id": "exJ9iaLC1Uuo"
      },
      "source": [
        "Выбрать из возможностей CPU/GPU"
      ]
    },
    {
      "cell_type": "code",
      "source": [
        "def train(model, device, train_loader, num_epochs=5, optimizer=optimizer, loss_fn=loss_fn, n_plot = 300):\n",
        "\n",
        "  model =  model.to(device)\n",
        "  print(device)\n",
        "  model.train()\n",
        "\n",
        "  for epoch in range(num_epochs):\n",
        "      running_loss = 0.0\n",
        "      running_items = 0.0\n",
        "\n",
        "\n",
        "      for i, data in enumerate(train_loader):\n",
        "          inputs, labels = data[0].to(device), data[1].to(device)\n",
        "\n",
        "          # Обнуляем градиент\n",
        "          optimizer.zero_grad()\n",
        "          # Делаем предсказание\n",
        "          outputs = model(inputs.reshape(-1,784))\n",
        "          # Рассчитываем лосс-функцию\n",
        "          loss = loss_fn(outputs, labels)\n",
        "          # Делаем шаг назад по лоссу\n",
        "          loss.backward()\n",
        "          # Делаем шаг нашего оптимайзера\n",
        "          optimizer.step()\n",
        "\n",
        "          # выводим статистику о процессе обучения\n",
        "          running_loss += loss.item()\n",
        "          running_items += len(labels)\n",
        "          if i % n_plot == 0:    # печатаем каждые 300 mini-batches\n",
        "              print(f'Epoch [{epoch + 1}/{num_epochs}]. ' \\\n",
        "                    f'Step [{i + 1}/{len(train_loader)}]. ' \\\n",
        "                    f'Loss: {running_loss / running_items:.3f}')\n",
        "\n",
        "\n",
        "  print('Training is finished!')\n",
        "  return model, running_loss / running_items"
      ],
      "metadata": {
        "id": "5R7XPlivxzWk"
      },
      "execution_count": 145,
      "outputs": []
    },
    {
      "cell_type": "code",
      "execution_count": 147,
      "metadata": {
        "colab": {
          "base_uri": "https://localhost:8080/"
        },
        "id": "d2EKg1rQXGJl",
        "outputId": "9293a7aa-ff5d-402b-ec7b-db2e64c7326a"
      },
      "outputs": [
        {
          "output_type": "stream",
          "name": "stdout",
          "text": [
            "cpu\n",
            "cpu\n",
            "Epoch [1/1]. Step [1/938]. Loss: 0.036\n",
            "Epoch [1/1]. Step [301/938]. Loss: 0.037\n",
            "Epoch [1/1]. Step [601/938]. Loss: 0.037\n",
            "Epoch [1/1]. Step [901/938]. Loss: 0.037\n",
            "Training is finished!\n",
            "time on work: 14.509278774261475\n"
          ]
        }
      ],
      "source": [
        "# исполнение на GPU #0 , если доступен\n",
        "model = Sequential( Linear(784,512),    # размер вектора на входе и  размера слоя (число нейронов)\n",
        "                    ReLU(),\n",
        "                    Linear(512,128),# скрытый слой\n",
        "                    ReLU(),\n",
        "                    Linear(128, 10), Softmax())   # на выходе стоит 10 нейронов, т.к. задача классификация цифр и активация activation='softmax' , которую принято использовать в классификации (вернет ответ в вероятностной форме - вероятность каждого выхода)\n",
        "\n",
        "# собираем модель\n",
        "optimizer = torch.optim.Adam(model.parameters(), lr = 0.051)\n",
        "loss_fn = torch.nn.CrossEntropyLoss()\n",
        "\n",
        "device = torch.device(\"cpu\")\n",
        "print(device)\n",
        "\n",
        "t1 = time.time()\n",
        "model, loss = train(model, device,train_loader,optimizer=optimizer, loss_fn=loss_fn, num_epochs = 1)\n",
        "print('time on work:',time.time() - t1)\n"
      ]
    },
    {
      "cell_type": "markdown",
      "metadata": {
        "id": "Hqp7iKp5iJO6"
      },
      "source": [
        "Строго GPU:"
      ]
    },
    {
      "cell_type": "code",
      "execution_count": 146,
      "metadata": {
        "colab": {
          "base_uri": "https://localhost:8080/"
        },
        "id": "Bhi6IXWR0UFW",
        "outputId": "154dd1b1-5a76-4976-c932-e2da5c14a8ef"
      },
      "outputs": [
        {
          "output_type": "stream",
          "name": "stdout",
          "text": [
            "On GPU:\n",
            "cuda:0\n",
            "cuda:0\n",
            "Epoch [1/1]. Step [1/938]. Loss: 0.036\n",
            "Epoch [1/1]. Step [301/938]. Loss: 0.037\n",
            "Epoch [1/1]. Step [601/938]. Loss: 0.037\n",
            "Epoch [1/1]. Step [901/938]. Loss: 0.037\n",
            "Training is finished!\n",
            "time on work: 9.622270584106445\n"
          ]
        }
      ],
      "source": [
        "print(\"On GPU:\")\n",
        "# исполнение на GPU #0 , если доступен\n",
        "model = Sequential( Linear(784,512), ReLU(),   # размер вектора на входе и  размера слоя (число нейронов)\n",
        "                      Linear(512,128), ReLU(),# скрытый слой\n",
        "                       Linear(128, 10), Softmax())   # на выходе стоит 10 нейронов, т.к. задача классификация цифр и активация activation='softmax' , которую принято использовать в классификации (вернет ответ в вероятностной форме - вероятность каждого выхода)\n",
        "\n",
        "# собираем модель\n",
        "optimizer = torch.optim.Adam(model.parameters(), lr = 0.051)\n",
        "loss_fn = torch.nn.CrossEntropyLoss()\n",
        "\n",
        "device = torch.device(\"cuda:0\" if torch.cuda.is_available() else \"cpu\")\n",
        "print(device)\n",
        "t1 = time.time()\n",
        "model, loss = train(model, device,train_loader,optimizer=optimizer, loss_fn=loss_fn, num_epochs = 1)\n",
        "print('time on work:',time.time() - t1)"
      ]
    },
    {
      "cell_type": "markdown",
      "source": [
        "Посмотрите на время для исполнения одного шага в режиме графического ускорения 9 c, а для только центрального процессора 14c (в текущем сеансе колаборатории)\n",
        "Обратите внимание, что значительное время уходит на перенос с ГПУ на ЦПУ и обратно.**Попробуйте оценить тольок время исполнения в модели.**\n",
        "\n",
        "### **Визуализация процесса обучения**\n",
        "\n",
        "## Задание 4.\n",
        "Посмотрите на результаты обучения через кривые обучения. Для этого доработайте скрипт train для:\n",
        "  - возвращения списка значений потерь по эпохам для тренировочного процесса\n",
        "  - доработайте скрипт для оценки по итогу каждой эпохи мфлидационных потерь\n",
        "  - постройте график потерь на обучении и валидации для обучения модели"
      ],
      "metadata": {
        "id": "ywj2NLgQgenl"
      }
    },
    {
      "cell_type": "markdown",
      "source": [
        "## **Задание 5**\n",
        "\n",
        "1. Создать сеть из 2-х слоев для обучения на МНИСТ\n",
        "2. Создать сеть из 4-х слоев для обучения на МНИСТ\n",
        "3. Сравнить сети из примеров и сети из п.1 и п.2 по качеству (метрикам) для эквивалентного числа эпох (10)\n",
        "4. Провести обучение моделей до насыщения (качество на валидации перестало расти) и сравнить финальные показатели всех моделей\n",
        "5. Собрать сеть из 3-х слоев, провести обучение до насыщения метрики и оценить изменение метрик на валидации при изменении числа нейронов в первом слое ( нейронов 2 ** i (i = 2,.., 10))\n",
        "6.Сделать вывод по итогам моделирования."
      ],
      "metadata": {
        "id": "TYrW1ScMkBvj"
      }
    },
    {
      "cell_type": "markdown",
      "metadata": {
        "id": "ubaqhSOiTj9R"
      },
      "source": [
        "### Оптимизаторы\n",
        "\n",
        "Оптимизаторы влияют на результат обучения. Пример использования одной схемы модели, но несколько перезапусков (т.е. пересоздаем нейронную сеть и проводит инициализацию весов заново) даже для одно оптимизатора порождают разные нейронные сети, т.к. начинаем с разных начальных точек."
      ]
    },
    {
      "cell_type": "code",
      "execution_count": 98,
      "metadata": {
        "id": "5g3px8aXXse6"
      },
      "outputs": [],
      "source": [
        "from torch.optim import Adam, SGD, RMSprop, Adagrad"
      ]
    },
    {
      "cell_type": "code",
      "source": [
        "def test(model, device, test_loader ):\n",
        "  model.eval()\n",
        "  mode = model.to(device)\n",
        "  accuracy = []\n",
        "  running_loss = 0.0\n",
        "  running_items = 0.0\n",
        "\n",
        "  for i, data in enumerate(test_loader):\n",
        "          inputs, labels = data[0].to(device), data[1].to(device)\n",
        "          # Делаем предсказание\n",
        "          outputs = model(inputs.reshape(-1,784))\n",
        "          # Рассчитываем лосс-функцию\n",
        "          loss = loss_fn(outputs, labels)\n",
        "          # выводим статистику о процессе обучения\n",
        "          running_loss += loss.item()\n",
        "          running_items += len(labels)\n",
        "          accuracy += (outputs.argmax(axis=1) == labels).cpu().numpy().tolist()\n",
        "\n",
        "  print('Training is finished!')\n",
        "  print('loss_val:', running_loss / running_items)\n",
        "  print('metric_val:', np.sum(accuracy) / running_items)\n",
        "  return running_loss / running_items, np.sum(accuracy) / running_items"
      ],
      "metadata": {
        "id": "Qp2P7ODi4K8t"
      },
      "execution_count": 148,
      "outputs": []
    },
    {
      "cell_type": "code",
      "execution_count": 150,
      "metadata": {
        "colab": {
          "base_uri": "https://localhost:8080/",
          "height": 1000
        },
        "id": "51b163fhReiz",
        "outputId": "d28e4b4d-af3c-4422-e65e-9520b67192c3"
      },
      "outputs": [
        {
          "output_type": "stream",
          "name": "stdout",
          "text": [
            "cuda:0\n",
            "cuda:0\n",
            "Epoch [1/5]. Step [1/938]. Loss: 0.036\n"
          ]
        },
        {
          "output_type": "stream",
          "name": "stderr",
          "text": [
            "/usr/local/lib/python3.10/dist-packages/torch/nn/modules/module.py:1518: UserWarning: Implicit dimension choice for softmax has been deprecated. Change the call to include dim=X as an argument.\n",
            "  return self._call_impl(*args, **kwargs)\n"
          ]
        },
        {
          "output_type": "stream",
          "name": "stdout",
          "text": [
            "Epoch [1/5]. Step [938/938]. Loss: 0.028\n",
            "Epoch [2/5]. Step [1/938]. Loss: 0.025\n",
            "Epoch [2/5]. Step [938/938]. Loss: 0.024\n",
            "Epoch [3/5]. Step [1/938]. Loss: 0.023\n",
            "Epoch [3/5]. Step [938/938]. Loss: 0.024\n",
            "Epoch [4/5]. Step [1/938]. Loss: 0.023\n",
            "Epoch [4/5]. Step [938/938]. Loss: 0.024\n",
            "Epoch [5/5]. Step [1/938]. Loss: 0.023\n",
            "Epoch [5/5]. Step [938/938]. Loss: 0.024\n",
            "Training is finished!\n",
            "Training is finished!\n",
            "loss_val: 0.1894417802810669\n",
            "metric_val: 0.9452\n",
            "time on work: 59.95683145523071\n",
            "cuda:0\n",
            "cuda:0\n",
            "Epoch [1/5]. Step [1/938]. Loss: 0.036\n",
            "Epoch [1/5]. Step [938/938]. Loss: 0.027\n",
            "Epoch [2/5]. Step [1/938]. Loss: 0.024\n",
            "Epoch [2/5]. Step [938/938]. Loss: 0.024\n",
            "Epoch [3/5]. Step [1/938]. Loss: 0.024\n",
            "Epoch [3/5]. Step [938/938]. Loss: 0.024\n",
            "Epoch [4/5]. Step [1/938]. Loss: 0.024\n",
            "Epoch [4/5]. Step [938/938]. Loss: 0.024\n",
            "Epoch [5/5]. Step [1/938]. Loss: 0.023\n",
            "Epoch [5/5]. Step [938/938]. Loss: 0.023\n",
            "Training is finished!\n",
            "Training is finished!\n",
            "loss_val: 0.18977303358316422\n",
            "metric_val: 0.9438\n",
            "time on work: 51.31533646583557\n",
            "cuda:0\n",
            "cuda:0\n",
            "Epoch [1/5]. Step [1/938]. Loss: 0.036\n",
            "Epoch [1/5]. Step [938/938]. Loss: 0.028\n",
            "Epoch [2/5]. Step [1/938]. Loss: 0.025\n",
            "Epoch [2/5]. Step [938/938]. Loss: 0.024\n",
            "Epoch [3/5]. Step [1/938]. Loss: 0.024\n",
            "Epoch [3/5]. Step [938/938]. Loss: 0.024\n",
            "Epoch [4/5]. Step [1/938]. Loss: 0.024\n",
            "Epoch [4/5]. Step [938/938]. Loss: 0.024\n",
            "Epoch [5/5]. Step [1/938]. Loss: 0.024\n",
            "Epoch [5/5]. Step [938/938]. Loss: 0.024\n",
            "Training is finished!\n",
            "Training is finished!\n",
            "loss_val: 0.18861359893083574\n",
            "metric_val: 0.9526\n",
            "time on work: 51.133296966552734\n",
            "cuda:0\n",
            "cuda:0\n",
            "Epoch [1/5]. Step [1/938]. Loss: 0.036\n",
            "Epoch [1/5]. Step [938/938]. Loss: 0.028\n",
            "Epoch [2/5]. Step [1/938]. Loss: 0.024\n",
            "Epoch [2/5]. Step [938/938]. Loss: 0.024\n",
            "Epoch [3/5]. Step [1/938]. Loss: 0.024\n",
            "Epoch [3/5]. Step [938/938]. Loss: 0.024\n",
            "Epoch [4/5]. Step [1/938]. Loss: 0.024\n",
            "Epoch [4/5]. Step [938/938]. Loss: 0.024\n",
            "Epoch [5/5]. Step [1/938]. Loss: 0.023\n",
            "Epoch [5/5]. Step [938/938]. Loss: 0.024\n",
            "Training is finished!\n",
            "Training is finished!\n",
            "loss_val: 0.1882618670463562\n",
            "metric_val: 0.9551\n",
            "time on work: 43.7395806312561\n",
            "cuda:0\n",
            "cuda:0\n",
            "Epoch [1/5]. Step [1/938]. Loss: 0.036\n",
            "Epoch [1/5]. Step [938/938]. Loss: 0.029\n",
            "Epoch [2/5]. Step [1/938]. Loss: 0.024\n",
            "Epoch [2/5]. Step [938/938]. Loss: 0.024\n",
            "Epoch [3/5]. Step [1/938]. Loss: 0.024\n",
            "Epoch [3/5]. Step [938/938]. Loss: 0.024\n",
            "Epoch [4/5]. Step [1/938]. Loss: 0.023\n",
            "Epoch [4/5]. Step [938/938]. Loss: 0.024\n",
            "Epoch [5/5]. Step [1/938]. Loss: 0.024\n",
            "Epoch [5/5]. Step [938/938]. Loss: 0.024\n",
            "Training is finished!\n",
            "Training is finished!\n",
            "loss_val: 0.18821999933719635\n",
            "metric_val: 0.956\n",
            "time on work: 46.43877053260803\n"
          ]
        },
        {
          "output_type": "display_data",
          "data": {
            "text/plain": [
              "<Figure size 640x480 with 1 Axes>"
            ],
            "image/png": "[encoded data removed]"
          },
          "metadata": {}
        }
      ],
      "source": [
        "for i in [0,1,2,3,4]:\n",
        "  model = Sequential( Linear(784,512), Sigmoid(),   # размер вектора на входе и  размера слоя (число нейронов)\n",
        "                      Linear(512,256), Sigmoid(),# скрытый слой\n",
        "                       Linear(256, 10), Softmax())   # на выходе стоит 10 нейронов, т.к. задача классификация цифр и активация activation='softmax' , которую принято использовать в классификации (вернет ответ в вероятностной форме - вероятность каждого выхода)\n",
        "\n",
        "  # собираем модель\n",
        "  optimizer = torch.optim.Adam(model.parameters(), lr = 0.01)\n",
        "\n",
        "  loss_fn = torch.nn.CrossEntropyLoss()\n",
        "\n",
        "  device = torch.device(\"cuda:0\" if torch.cuda.is_available() else \"cpu\")\n",
        "  print(device)\n",
        "  t1 = time.time()\n",
        "  model, loss = train(model, device,train_loader, optimizer=optimizer, loss_fn=loss_fn, num_epochs = 5, n_plot = 937, )\n",
        "  loss_test, acc_test = test(model, device, test_loader)\n",
        "  print('time on work:',time.time() - t1)\n",
        "\n",
        "  plt.plot(i,loss * 10,'r.' )\n",
        "  plt.plot(i, loss_test,'b.' )\n",
        "\n",
        "plt.plot(i,loss * 10, 'r.',label='train * 10')\n",
        "plt.plot(i,loss_test,'b.', label='train')\n",
        "plt.grid()\n",
        "plt.legend()\n",
        "plt.xlabel('epoch')\n",
        "plt.ylabel('loss')\n",
        "plt.title('точность сети от эпох')\n",
        "plt.show()"
      ]
    },
    {
      "cell_type": "markdown",
      "metadata": {
        "id": "clLQq9qsUbuo"
      },
      "source": [
        "Параметры оптимизаторов\n",
        "\n",
        "\n",
        "Задача на один класс: to_categorical(train_labels,10)[:,0]\n",
        "\n",
        "Установим главный параметр любого оптимизатора - скорость обучения learning_rate и посмотрим на результат:"
      ]
    },
    {
      "cell_type": "code",
      "execution_count": 152,
      "metadata": {
        "colab": {
          "base_uri": "https://localhost:8080/",
          "height": 1000
        },
        "id": "yjjhpVRlXn04",
        "outputId": "08d118ab-3ffb-49d6-e322-b127b00735fe"
      },
      "outputs": [
        {
          "output_type": "stream",
          "name": "stdout",
          "text": [
            "cuda:0\n",
            "cuda:0\n",
            "Epoch [1/5]. Step [1/938]. Loss: 0.036\n",
            "Epoch [1/5]. Step [938/938]. Loss: 0.032\n",
            "Epoch [2/5]. Step [1/938]. Loss: 0.029\n",
            "Epoch [2/5]. Step [938/938]. Loss: 0.029\n",
            "Epoch [3/5]. Step [1/938]. Loss: 0.028\n",
            "Epoch [3/5]. Step [938/938]. Loss: 0.028\n",
            "Epoch [4/5]. Step [1/938]. Loss: 0.027\n",
            "Epoch [4/5]. Step [938/938]. Loss: 0.026\n",
            "Epoch [5/5]. Step [1/938]. Loss: 0.026\n",
            "Epoch [5/5]. Step [938/938]. Loss: 0.025\n",
            "Training is finished!\n",
            "Training is finished!\n",
            "loss_val: 0.19750113567113875\n",
            "metric_val: 0.9018\n",
            "time on work: 46.332897663116455\n",
            "cuda:0\n",
            "cuda:0\n",
            "Epoch [1/5]. Step [1/938]. Loss: 0.036\n",
            "Epoch [1/5]. Step [938/938]. Loss: 0.027\n",
            "Epoch [2/5]. Step [1/938]. Loss: 0.025\n",
            "Epoch [2/5]. Step [938/938]. Loss: 0.024\n",
            "Epoch [3/5]. Step [1/938]. Loss: 0.024\n",
            "Epoch [3/5]. Step [938/938]. Loss: 0.024\n",
            "Epoch [4/5]. Step [1/938]. Loss: 0.023\n",
            "Epoch [4/5]. Step [938/938]. Loss: 0.024\n",
            "Epoch [5/5]. Step [1/938]. Loss: 0.024\n",
            "Epoch [5/5]. Step [938/938]. Loss: 0.024\n",
            "Training is finished!\n",
            "Training is finished!\n",
            "loss_val: 0.18841568586826324\n",
            "metric_val: 0.9537\n",
            "time on work: 47.93404984474182\n"
          ]
        },
        {
          "output_type": "display_data",
          "data": {
            "text/plain": [
              "<Figure size 640x480 with 1 Axes>"
            ],
            "image/png": "[encoded data removed]"
          },
          "metadata": {}
        }
      ],
      "source": [
        "for i in [0,1]:\n",
        "\n",
        "  model = Sequential( Linear(784,512), Sigmoid(),   # размер вектора на входе и  размера слоя (число нейронов)\n",
        "                      Linear(512,256), Sigmoid(),# скрытый слой\n",
        "                       Linear(256, 10), Softmax())   # на выходе стоит 10 нейронов, т.к. задача классификация цифр и активация activation='softmax' , которую принято использовать в классификации (вернет ответ в вероятностной форме - вероятность каждого выхода)\n",
        "\n",
        "  # собираем модель\n",
        "  optimizer = torch.optim.Adam(model.parameters(), lr = 0.01*i + 0.0001)\n",
        "\n",
        "  loss_fn = torch.nn.CrossEntropyLoss()\n",
        "\n",
        "  device = torch.device(\"cuda:0\" if torch.cuda.is_available() else \"cpu\")\n",
        "  print(device)\n",
        "  t1 = time.time()\n",
        "  model, loss = train(model, device,train_loader, optimizer=optimizer, loss_fn=loss_fn, num_epochs = 5, n_plot = 937, )\n",
        "  loss_test, acc_test = test(model, device, test_loader)\n",
        "  print('time on work:',time.time() - t1)\n",
        "\n",
        "  plt.plot(0.0001+0.1*i, loss_test,'b.', label='val lr(' +str(0.0001+0.1*i)+')')\n",
        "  plt.plot(0.0001+0.1*i, loss * 10  ,'r.', label='train lr(' +str(0.0001+0.1*i)+')')\n",
        "plt.legend()\n",
        "plt.xlabel('epoch')\n",
        "plt.ylabel('accuracy')\n",
        "plt.title('точность сети от эпох')\n",
        "plt.grid()\n",
        "plt.show()"
      ]
    },
    {
      "cell_type": "markdown",
      "source": [
        "Результаты не идентичны - скорость обучения влияет на результат"
      ],
      "metadata": {
        "id": "ZVF1TPhYnIfj"
      }
    },
    {
      "cell_type": "markdown",
      "source": [
        "### **Задание 6**"
      ],
      "metadata": {
        "id": "ubZlkAHBzi-S"
      }
    },
    {
      "cell_type": "markdown",
      "metadata": {
        "id": "Z8IBAFJE0dU5"
      },
      "source": [
        "Эксперимент с разными оптимизаторами для одной начальной модели:\n",
        "\n",
        "  - создаем модель model\n",
        "  - сохраняем ее веса (это начальная точка) torch.save(model.state_dict(), PATH_WEIGHTS)\n",
        "  - создаем рабочую модель modeli куда будем загружать эти вес (она должна быть идентичной структуры)\n",
        "  - загружаем веса modeli.load_state_dict(torch.load(PATH_WEIGHTS))\n",
        "  - компилируем modeli с одним из оптимизаторов\n",
        "  - вычисляем ошибку для modeli без обучения (т.к. все модели начинают с одной точки, то все ошибки должны быть одинаковые, но будем контролировать это и считаем каждый раз заново)\n",
        "  - проводим обучение модели и пишем ошибки в истории hh\n",
        "  - выводим ошибки для 0-го момента и каждой эпохи обучения по тестовой и валидационной частям данных\n",
        "\n",
        "\n",
        "\n",
        "Оптимизаторы:\n",
        "* SGD() (с или без моментум)\n",
        "* RMSprop()\n",
        "* Adam()\n",
        "* Adagrad()\n",
        "…\n"
      ]
    },
    {
      "cell_type": "code",
      "metadata": {
        "colab": {
          "base_uri": "https://localhost:8080/",
          "height": 1000
        },
        "id": "jaqCLGg3w_Nl",
        "outputId": "16ec6001-12b3-4142-c8c2-4d570da1579e"
      },
      "source": [
        "# создаем модель model\n",
        "model = Sequential( Linear(784,512), Sigmoid(),   # размер вектора на входе и  размера слоя (число нейронов)\n",
        "                    Linear(512,256), Sigmoid(),# скрытый слой\n",
        "                    Linear(256, 10), Softmax())\n",
        "# сохраняем ее веса (это начальная точка) model\n",
        "torch.save(model.state_dict(), PATH_WEIGHTS)\n",
        "\n",
        "plt.figure(figsize=(16,3))\n",
        "\n",
        "# число рабочих эпох\n",
        "epochs = 5\n",
        "# вектор для выводв результатов\n",
        "epoch = np.arange(epochs+1)\n",
        "\n",
        "# будем изменять оптимизаторы\n",
        "\n",
        "for i, i_optim in enumerate([Adam, SGD, RMSprop]):\n",
        "  # создаем рабочую модель modeli куда будем загружать эти вес (она должна быть идентичной структуры)\n",
        "  modeli = Sequential( Linear(784,512), Sigmoid(),   # размер вектора на входе и  размера слоя (число нейронов)\n",
        "                    Linear(512,256), Sigmoid(),# скрытый слой\n",
        "                    Linear(256, 10), Softmax())\n",
        "  # загружаем веса modeli\n",
        "  modeli.load_state_dict(torch.load(PATH_WEIGHTS))\n",
        "\n",
        "  optimizer = i_optim(modeli.parameters(), lr = 0.001)\n",
        "\n",
        "  loss_fn = torch.nn.CrossEntropyLoss()\n",
        "\n",
        "  device = torch.device(\"cuda:0\" if torch.cuda.is_available() else \"cpu\")\n",
        "  print(device)\n",
        "  t1 = time.time()\n",
        "  modeli, loss = train(modeli, device,train_loader, optimizer=optimizer, loss_fn=loss_fn, num_epochs = epochs, n_plot = 937, )\n",
        "  loss_test, acc_test = test(modeli, device, test_loader)\n",
        "  print('time on work:',time.time() - t1)\n",
        "\n",
        "  plt.plot(i, loss_test,'b.')\n",
        "  plt.plot(i, loss * 10  ,'r.')\n",
        "plt.plot(i, loss_test,'b.', label='val ' )\n",
        "plt.plot(i, loss * 10  ,'r.', label='train ' )\n",
        "plt.legend()\n",
        "plt.grid('On')\n",
        "\n",
        "plt.title('нейросети от оптимизатора log(loss)')\n",
        "plt.xlabel('epoch')\n",
        "plt.ylabel('loss')\n",
        "plt.show()\n"
      ],
      "execution_count": 170,
      "outputs": [
        {
          "output_type": "stream",
          "name": "stdout",
          "text": [
            "cuda:0\n",
            "cuda:0\n",
            "Epoch [1/5]. Step [1/938]. Loss: 0.036\n"
          ]
        },
        {
          "output_type": "stream",
          "name": "stderr",
          "text": [
            "/usr/local/lib/python3.10/dist-packages/torch/nn/modules/module.py:1518: UserWarning: Implicit dimension choice for softmax has been deprecated. Change the call to include dim=X as an argument.\n",
            "  return self._call_impl(*args, **kwargs)\n"
          ]
        },
        {
          "output_type": "stream",
          "name": "stdout",
          "text": [
            "Epoch [1/5]. Step [938/938]. Loss: 0.026\n",
            "Epoch [2/5]. Step [1/938]. Loss: 0.025\n",
            "Epoch [2/5]. Step [938/938]. Loss: 0.024\n",
            "Epoch [3/5]. Step [1/938]. Loss: 0.024\n",
            "Epoch [3/5]. Step [938/938]. Loss: 0.024\n",
            "Epoch [4/5]. Step [1/938]. Loss: 0.024\n",
            "Epoch [4/5]. Step [938/938]. Loss: 0.023\n",
            "Epoch [5/5]. Step [1/938]. Loss: 0.024\n",
            "Epoch [5/5]. Step [938/938]. Loss: 0.023\n",
            "Training is finished!\n",
            "Training is finished!\n",
            "loss_val: 0.18711839170455932\n",
            "metric_val: 0.9667\n",
            "time on work: 43.446475982666016\n",
            "cuda:0\n",
            "cuda:0\n",
            "Epoch [1/5]. Step [1/938]. Loss: 0.036\n",
            "Epoch [1/5]. Step [938/938]. Loss: 0.036\n",
            "Epoch [2/5]. Step [1/938]. Loss: 0.036\n",
            "Epoch [2/5]. Step [938/938]. Loss: 0.036\n",
            "Epoch [3/5]. Step [1/938]. Loss: 0.036\n",
            "Epoch [3/5]. Step [938/938]. Loss: 0.036\n",
            "Epoch [4/5]. Step [1/938]. Loss: 0.036\n",
            "Epoch [4/5]. Step [938/938]. Loss: 0.036\n",
            "Epoch [5/5]. Step [1/938]. Loss: 0.036\n",
            "Epoch [5/5]. Step [938/938]. Loss: 0.036\n",
            "Training is finished!\n",
            "Training is finished!\n",
            "loss_val: 0.28772930455207824\n",
            "metric_val: 0.1135\n",
            "time on work: 40.37327432632446\n",
            "cuda:0\n",
            "cuda:0\n",
            "Epoch [1/5]. Step [1/938]. Loss: 0.036\n",
            "Epoch [1/5]. Step [938/938]. Loss: 0.026\n",
            "Epoch [2/5]. Step [1/938]. Loss: 0.025\n",
            "Epoch [2/5]. Step [938/938]. Loss: 0.024\n",
            "Epoch [3/5]. Step [1/938]. Loss: 0.024\n",
            "Epoch [3/5]. Step [938/938]. Loss: 0.024\n",
            "Epoch [4/5]. Step [1/938]. Loss: 0.024\n",
            "Epoch [4/5]. Step [938/938]. Loss: 0.023\n",
            "Epoch [5/5]. Step [1/938]. Loss: 0.023\n",
            "Epoch [5/5]. Step [938/938]. Loss: 0.023\n",
            "Training is finished!\n",
            "Training is finished!\n",
            "loss_val: 0.18702887283563613\n",
            "metric_val: 0.966\n",
            "time on work: 41.52811598777771\n"
          ]
        },
        {
          "output_type": "display_data",
          "data": {
            "text/plain": [
              "<Figure size 1600x300 with 1 Axes>"
            ],
            "image/png": "[encoded data removed]"
          },
          "metadata": {}
        }
      ]
    },
    {
      "cell_type": "markdown",
      "source": [
        "Разные оптимизаторы (даже если одна начальная точка)  = разные результаты"
      ],
      "metadata": {
        "id": "nRzlqR_U0hGO"
      }
    },
    {
      "cell_type": "markdown",
      "metadata": {
        "id": "FbZT9k6t0dU5"
      },
      "source": [
        "Посмотрим на результат предсказаний  (inference) для обученной модели (последняя в цикле)"
      ]
    },
    {
      "cell_type": "code",
      "metadata": {
        "colab": {
          "base_uri": "https://localhost:8080/",
          "height": 223
        },
        "outputId": "1b4e7af4-7351-4f26-dca3-b2651fb7c8c1",
        "id": "6AQxyz9A0dU5"
      },
      "source": [
        "N = 8\n",
        "modeli.eval()\n",
        "plt.figure(figsize = (16,5))\n",
        "for test_images,_ in test_loader:\n",
        "  y_pred = modeli(test_images[:N,:,:,:].to(device).reshape(-1,784))\n",
        "  y_pred_class = np.argmax(y_pred.cpu().detach().numpy(),axis=1)\n",
        "  plt.figure(figsize =(3*N,5))\n",
        "  for i in range(N):\n",
        "    plt.subplot(1,N,i+1)\n",
        "    plt.imshow(test_images[i,:].reshape(28,28))\n",
        "    plt.xlabel(str(y_pred_class[i]))\n",
        "  plt.show()\n",
        "  break"
      ],
      "execution_count": 174,
      "outputs": [
        {
          "output_type": "display_data",
          "data": {
            "text/plain": [
              "<Figure size 1600x500 with 0 Axes>"
            ]
          },
          "metadata": {}
        },
        {
          "output_type": "display_data",
          "data": {
            "text/plain": [
              "<Figure size 2400x500 with 8 Axes>"
            ],
            "image/png": "[encoded data removed]"
          },
          "metadata": {}
        }
      ]
    },
    {
      "cell_type": "markdown",
      "source": [
        "А так выглядит выход сети до постобработки:"
      ],
      "metadata": {
        "id": "VzkAnrBr05As"
      }
    },
    {
      "cell_type": "code",
      "source": [
        "y_pred[0,:]"
      ],
      "metadata": {
        "colab": {
          "base_uri": "https://localhost:8080/"
        },
        "outputId": "df2f8eb1-30d3-4c0c-f558-ec061adb7638",
        "id": "1YsLaYq80dU5"
      },
      "execution_count": 175,
      "outputs": [
        {
          "output_type": "execute_result",
          "data": {
            "text/plain": [
              "tensor([9.2450e-11, 8.6446e-11, 4.0013e-07, 9.9093e-08, 2.8145e-12, 9.8178e-12,\n",
              "        5.8403e-18, 1.0000e+00, 2.6007e-11, 2.3486e-08], device='cuda:0',\n",
              "       grad_fn=<SliceBackward0>)"
            ]
          },
          "metadata": {},
          "execution_count": 175
        }
      ]
    },
    {
      "cell_type": "markdown",
      "source": [
        "### **Задание 6**\n",
        "\n",
        "Используем набор примеров fashion-MNIST\n",
        "\n",
        "1.  Опишите - какой результата получен в нейросети в зависимости от:\n",
        "  -  числа нейронов в слое(для 2-хслойной сети),\n",
        "  - числа слоев (2, 3, 5, 10) при близких размерах сети (близкое число тренируемых парметров).\n",
        "  - фиксируйте для тренировочного и тестового набора метрики accuracy.\n",
        "2.  Проверьте работу разных оптимизаторов (SGD, Adam, RMSProp) для одной из моделей п.1.Фиксируйте для тренировочного и тестового набора метрики accuracy.\n",
        "\n",
        "3. Сделайте вывод - что помогло вам улучшить качество классификации в нейросети на тестовом наборе?\n",
        "\n",
        "4. Для одного варианта сетей сформируйте матрицу ошибок по классам. Оцените качество модели по каждому классу отдельно (полнота , точность). Сделайте вывод."
      ],
      "metadata": {
        "id": "GzeYKQjHnfSP"
      }
    },
    {
      "cell_type": "markdown",
      "metadata": {
        "id": "jYysdyb-CaWM"
      },
      "source": [
        "# Классификация изображений одежды"
      ]
    },
    {
      "cell_type": "code",
      "execution_count": 176,
      "metadata": {
        "colab": {
          "base_uri": "https://localhost:8080/"
        },
        "id": "dzLKpmZICaWN",
        "outputId": "edead2ef-b86e-4a07-9c15-898559b83f40"
      },
      "outputs": [
        {
          "output_type": "stream",
          "name": "stdout",
          "text": [
            "Downloading http://fashion-mnist.s3-website.eu-central-1.amazonaws.com/train-images-idx3-ubyte.gz\n",
            "Downloading http://fashion-mnist.s3-website.eu-central-1.amazonaws.com/train-images-idx3-ubyte.gz to FashionMNIST/raw/train-images-idx3-ubyte.gz\n"
          ]
        },
        {
          "output_type": "stream",
          "name": "stderr",
          "text": [
            "100%|██████████| 26421880/26421880 [00:00<00:00, 116136986.86it/s]\n"
          ]
        },
        {
          "output_type": "stream",
          "name": "stdout",
          "text": [
            "Extracting FashionMNIST/raw/train-images-idx3-ubyte.gz to FashionMNIST/raw\n",
            "\n",
            "Downloading http://fashion-mnist.s3-website.eu-central-1.amazonaws.com/train-labels-idx1-ubyte.gz\n",
            "Downloading http://fashion-mnist.s3-website.eu-central-1.amazonaws.com/train-labels-idx1-ubyte.gz to FashionMNIST/raw/train-labels-idx1-ubyte.gz\n"
          ]
        },
        {
          "output_type": "stream",
          "name": "stderr",
          "text": [
            "100%|██████████| 29515/29515 [00:00<00:00, 5913015.02it/s]\n"
          ]
        },
        {
          "output_type": "stream",
          "name": "stdout",
          "text": [
            "Extracting FashionMNIST/raw/train-labels-idx1-ubyte.gz to FashionMNIST/raw\n",
            "\n",
            "Downloading http://fashion-mnist.s3-website.eu-central-1.amazonaws.com/t10k-images-idx3-ubyte.gz\n",
            "Downloading http://fashion-mnist.s3-website.eu-central-1.amazonaws.com/t10k-images-idx3-ubyte.gz to FashionMNIST/raw/t10k-images-idx3-ubyte.gz\n"
          ]
        },
        {
          "output_type": "stream",
          "name": "stderr",
          "text": [
            "100%|██████████| 4422102/4422102 [00:00<00:00, 64169359.84it/s]\n"
          ]
        },
        {
          "output_type": "stream",
          "name": "stdout",
          "text": [
            "Extracting FashionMNIST/raw/t10k-images-idx3-ubyte.gz to FashionMNIST/raw\n",
            "\n",
            "Downloading http://fashion-mnist.s3-website.eu-central-1.amazonaws.com/t10k-labels-idx1-ubyte.gz\n",
            "Downloading http://fashion-mnist.s3-website.eu-central-1.amazonaws.com/t10k-labels-idx1-ubyte.gz to FashionMNIST/raw/t10k-labels-idx1-ubyte.gz\n"
          ]
        },
        {
          "output_type": "stream",
          "name": "stderr",
          "text": [
            "100%|██████████| 5148/5148 [00:00<00:00, 24370515.79it/s]\n"
          ]
        },
        {
          "output_type": "stream",
          "name": "stdout",
          "text": [
            "Extracting FashionMNIST/raw/t10k-labels-idx1-ubyte.gz to FashionMNIST/raw\n",
            "\n"
          ]
        }
      ],
      "source": [
        "from torchvision.datasets import  FashionMNIST  # импорт функции для загрузки набора данных (это рукописные цифры)\n",
        "from torchvision import transforms\n",
        "\n",
        "# читаем данные из базового датасета MNIST для обучения\n",
        "train_dataset= FashionMNIST(root='',train=True, transform=transforms.ToTensor(), download=True)   # загружаем (вернет кортеж тренировочный примров (изображение, метка)\n",
        "# get pair\n",
        "image, label = train_dataset[0]\n",
        "\n",
        "train_loader = torch.utils.data.DataLoader(dataset=train_dataset,\n",
        "                                           batch_size=64,\n",
        "                                           shuffle=True)\n",
        "# читаем данные из базового датасета MNIST для обучения\n",
        "test_dataset= FashionMNIST(root='',train=False, transform=transforms.ToTensor(), download=True)   # загружаем (вернет кортеж тренировочный примров (изображение, метка)\n",
        "# get pair\n",
        "image, label = train_dataset[0]\n",
        "\n",
        "test_loader = torch.utils.data.DataLoader(dataset=test_dataset,\n",
        "                                           batch_size=64,\n",
        "                                           shuffle=False)"
      ]
    },
    {
      "cell_type": "markdown",
      "metadata": {
        "id": "yR0EdgrLCaWR"
      },
      "source": [
        "## Импортируем Fashion MNIST датасет"
      ]
    },
    {
      "cell_type": "markdown",
      "metadata": {
        "id": "DLdCchMdCaWQ"
      },
      "source": [
        "Мы будет использовать следующий датасет -  [Fashion MNIST](https://github.com/zalandoresearch/fashion-mnist) Этот датасет содержит 70,000 черно-белых изображений в 10 категориях. Изображения имеют разрешение 28x28 пикселей.\n",
        "\n",
        "<table>\n",
        "  <tr><td>\n",
        "    <img src=\"https://tensorflow.org/images/fashion-mnist-sprite.png\"\n",
        "         alt=\"Fashion MNIST sprite\"  width=\"600\">\n",
        "  </td></tr>\n",
        "  <tr><td align=\"center\">\n",
        "    <b>Figure 1.</b> <a href=\"https://github.com/zalandoresearch/fashion-mnist\">Fashion-MNIST samples</a> (by Zalando, MIT License).<br/>&nbsp;\n",
        "  </td></tr>\n",
        "</table>\n",
        "\n",
        "Долгое время в машинном обучение для программ Hello world использовался датасет MNIST с рукописными цифрами. Данный датасет призван несколько усложнить задачу распознования но также подходит в качестве программы Hello world.\n",
        "\n",
        "В этом датасете 60 000 тренировочных изображений и 10 000 тестовых."
      ]
    },
    {
      "cell_type": "markdown",
      "metadata": {
        "id": "t9FDsUlxCaWW"
      },
      "source": [
        "Датасет содержит следующие классы:\n",
        "\n",
        "<table>\n",
        "  <tr>\n",
        "    <th>Label</th>\n",
        "    <th>Class</th>\n",
        "  </tr>\n",
        "  <tr>\n",
        "    <td>0</td>\n",
        "    <td>T-shirt/top</td>\n",
        "  </tr>\n",
        "  <tr>\n",
        "    <td>1</td>\n",
        "    <td>Trouser</td>\n",
        "  </tr>\n",
        "    <tr>\n",
        "    <td>2</td>\n",
        "    <td>Pullover</td>\n",
        "  </tr>\n",
        "    <tr>\n",
        "    <td>3</td>\n",
        "    <td>Dress</td>\n",
        "  </tr>\n",
        "    <tr>\n",
        "    <td>4</td>\n",
        "    <td>Coat</td>\n",
        "  </tr>\n",
        "    <tr>\n",
        "    <td>5</td>\n",
        "    <td>Sandal</td>\n",
        "  </tr>\n",
        "    <tr>\n",
        "    <td>6</td>\n",
        "    <td>Shirt</td>\n",
        "  </tr>\n",
        "    <tr>\n",
        "    <td>7</td>\n",
        "    <td>Sneaker</td>\n",
        "  </tr>\n",
        "    <tr>\n",
        "    <td>8</td>\n",
        "    <td>Bag</td>\n",
        "  </tr>\n",
        "    <tr>\n",
        "    <td>9</td>\n",
        "    <td>Ankle boot</td>\n",
        "  </tr>\n",
        "</table>\n",
        "\n",
        "Каждому классу обозначенному цифрой мы можем присвоить текстовое значение -"
      ]
    },
    {
      "cell_type": "code",
      "execution_count": 177,
      "metadata": {
        "id": "IjnLH5S2CaWx"
      },
      "outputs": [],
      "source": [
        "class_names = ['T-shirt/top', 'Trouser', 'Pullover', 'Dress', 'Coat',\n",
        "               'Sandal', 'Shirt', 'Sneaker', 'Bag', 'Ankle boot']"
      ]
    },
    {
      "cell_type": "markdown",
      "metadata": {
        "id": "Brm0b_KACaWX"
      },
      "source": [
        "## Анализ датасета\n",
        "\n",
        "Давайте посмотрим структуры полученного массива данных:"
      ]
    },
    {
      "cell_type": "code",
      "execution_count": 179,
      "metadata": {
        "colab": {
          "base_uri": "https://localhost:8080/"
        },
        "id": "zW5k_xz1CaWX",
        "outputId": "1e739441-c469-4f26-c4e8-f540111c5c63"
      },
      "outputs": [
        {
          "output_type": "execute_result",
          "data": {
            "text/plain": [
              "60000"
            ]
          },
          "metadata": {},
          "execution_count": 179
        }
      ],
      "source": [
        "len(train_dataset)"
      ]
    },
    {
      "cell_type": "code",
      "execution_count": 180,
      "metadata": {
        "colab": {
          "base_uri": "https://localhost:8080/"
        },
        "id": "TRFYHB2mCaWb",
        "outputId": "ae537653-3507-4c30-fe58-8e42fba6dfc2"
      },
      "outputs": [
        {
          "output_type": "execute_result",
          "data": {
            "text/plain": [
              "10000"
            ]
          },
          "metadata": {},
          "execution_count": 180
        }
      ],
      "source": [
        "len(test_dataset)"
      ]
    },
    {
      "cell_type": "markdown",
      "metadata": {
        "id": "TMPI88iZpO2T"
      },
      "source": [
        "Проанализируем тестовую выборку:"
      ]
    },
    {
      "cell_type": "code",
      "source": [
        "N = 8\n",
        "modeli.eval()\n",
        "plt.figure(figsize = (16,5))\n",
        "for test_images,label in test_loader:\n",
        "\n",
        "  plt.figure(figsize =(3*N,5))\n",
        "  for i in range(N):\n",
        "    plt.subplot(1,N,i+1)\n",
        "    plt.imshow(test_images[i,:,:,:].reshape(28,28))\n",
        "    plt.xlabel(class_names[y_pred_class[i]])\n",
        "  plt.show()\n",
        "  break"
      ],
      "metadata": {
        "colab": {
          "base_uri": "https://localhost:8080/",
          "height": 223
        },
        "id": "RxyuumXEL18M",
        "outputId": "36b87edd-9d6d-46df-8296-bef250861582"
      },
      "execution_count": 181,
      "outputs": [
        {
          "output_type": "display_data",
          "data": {
            "text/plain": [
              "<Figure size 1600x500 with 0 Axes>"
            ]
          },
          "metadata": {}
        },
        {
          "output_type": "display_data",
          "data": {
            "text/plain": [
              "<Figure size 2400x500 with 8 Axes>"
            ],
            "image/png": "[encoded data removed]"
          },
          "metadata": {}
        }
      ]
    },
    {
      "cell_type": "code",
      "execution_count": 182,
      "metadata": {
        "colab": {
          "base_uri": "https://localhost:8080/"
        },
        "id": "2KFnYlcwCaWl",
        "outputId": "a3872c43-7ccc-421b-e86b-0fe5df06c47f"
      },
      "outputs": [
        {
          "output_type": "execute_result",
          "data": {
            "text/plain": [
              "torch.Size([64, 1, 28, 28])"
            ]
          },
          "metadata": {},
          "execution_count": 182
        }
      ],
      "source": [
        "test_images.shape"
      ]
    },
    {
      "cell_type": "code",
      "execution_count": 183,
      "metadata": {
        "colab": {
          "base_uri": "https://localhost:8080/"
        },
        "id": "iJmPr5-ACaWn",
        "outputId": "becb3cda-7e9c-4e43-df08-bbf0dac81bcc"
      },
      "outputs": [
        {
          "output_type": "execute_result",
          "data": {
            "text/plain": [
              "64"
            ]
          },
          "metadata": {},
          "execution_count": 183
        }
      ],
      "source": [
        "len(label)"
      ]
    },
    {
      "cell_type": "markdown",
      "metadata": {
        "id": "ES6uQoLKCaWr"
      },
      "source": [
        "## Preprocess the data\n",
        "\n",
        "Давайте взглянем на конкретный пример изображений с помощью matplotlib:"
      ]
    },
    {
      "cell_type": "code",
      "execution_count": 186,
      "metadata": {
        "colab": {
          "base_uri": "https://localhost:8080/",
          "height": 435
        },
        "id": "m4VEw8Ud9Quh",
        "outputId": "01df6d6e-8bf9-4c4c-a3f8-3a8c31728c62"
      },
      "outputs": [
        {
          "output_type": "display_data",
          "data": {
            "text/plain": [
              "<Figure size 640x480 with 2 Axes>"
            ],
            "image/png": "[encoded data removed]"
          },
          "metadata": {}
        }
      ],
      "source": [
        "plt.figure()\n",
        "plt.imshow(test_images[6,0,:,:])\n",
        "plt.colorbar()\n",
        "plt.grid(False)\n",
        "plt.show()"
      ]
    },
    {
      "cell_type": "code",
      "source": [
        "# обработать входные признаки и целевой признак"
      ],
      "metadata": {
        "id": "vz9w7eqKos4b"
      },
      "execution_count": null,
      "outputs": []
    },
    {
      "cell_type": "markdown",
      "metadata": {
        "id": "59veuiEZCaW4"
      },
      "source": [
        "## Построение модели\n",
        "\n",
        "Построение нейронной сети подразумевает конфигурацию ее слоев и последующую компиляцию."
      ]
    },
    {
      "cell_type": "code",
      "source": [],
      "metadata": {
        "id": "HaUurd0cot9m"
      },
      "execution_count": null,
      "outputs": []
    },
    {
      "cell_type": "markdown",
      "metadata": {
        "id": "qKF6uW-BCaW-"
      },
      "source": [
        "## Тренировка модели\n",
        "\n",
        "\n",
        "\n"
      ]
    },
    {
      "cell_type": "code",
      "source": [],
      "metadata": {
        "id": "0-ztjo6ipfWl"
      },
      "execution_count": null,
      "outputs": []
    },
    {
      "cell_type": "markdown",
      "metadata": {
        "id": "Ckh_q63TvAja"
      },
      "source": [
        "Посмотрим на возвращаемый словарь hh.history (там результаты по эпохам для потерь и метрик по обучению и тестам)"
      ]
    },
    {
      "cell_type": "markdown",
      "metadata": {
        "id": "lJpjFH7hVw8Q"
      },
      "source": [
        "Покажем как выглядит кривая обучения"
      ]
    },
    {
      "cell_type": "markdown",
      "metadata": {
        "id": "v-PyD1SYE28q"
      },
      "source": [
        "### Предсказания нейросети\n",
        "\n"
      ]
    },
    {
      "cell_type": "code",
      "source": [],
      "metadata": {
        "id": "QZVOACuKpf3n"
      },
      "execution_count": null,
      "outputs": []
    },
    {
      "cell_type": "markdown",
      "metadata": {
        "id": "Zh9yABaME29S"
      },
      "source": [
        "### Проверка предсказаний\n",
        "\n",
        "матрица ошибок (можно из sklearn)"
      ]
    },
    {
      "cell_type": "markdown",
      "metadata": {
        "id": "R32zteKHCaXT"
      },
      "source": [
        "## Использование полученной модели\n",
        "\n",
        "\n",
        "возьмем одно изображение из тестовой выборке и посмотрим предсказание нейронной сети -"
      ]
    },
    {
      "cell_type": "markdown",
      "metadata": {
        "id": "EpxXh0NiVg8p"
      },
      "source": [
        "Сохраним модель на диск"
      ]
    },
    {
      "cell_type": "markdown",
      "source": [
        "## **Задание 7**\n",
        "\n",
        "1. На датасет from sklearn.datasets import load_boston подготовить данные к обучению (разделить на тест и тренировочный набор, масштабировать признаки и привести их к типу float).\n",
        "2. Постройте нейронную сеть(берем простую линейную сеть, которую разбирали : меняем число слоев, число нейронов , типы активации)  - помним , что выходная активация должна позволять построить целевое свойство\n",
        "3. Выберите функцию потерь и метрику из доступных в Тензорфлоу\n",
        "4. Провести обучение модели и оценить результаты"
      ],
      "metadata": {
        "id": "fq_JzU232yFF"
      }
    },
    {
      "cell_type": "markdown",
      "metadata": {
        "id": "m2wW13WB9U99"
      },
      "source": [
        "## Дополнительные материалы\n",
        "\n",
        "<ol>\n",
        "    <li> https://pytorch.org/tutorials/beginner/pytorch_with_examples.html</li>\n",
        "    <li> https://playground.tensorflow.org/ - визуализация сетей (очень симпатично - посмотрите)\n",
        "    <li> сравнение фреймвоков глубокого обучения https://towardsdatascience.com/pytorch-vs-tensorflow-in-2020-fe237862fae1\n",
        "</ol>"
      ]
    },
    {
      "cell_type": "markdown",
      "metadata": {
        "id": "v6h1K5ET9U9_"
      },
      "source": [
        "## Используемая литература\n",
        "\n",
        "Для подготовки данного методического пособия были использованы следующие ресурсы:\n",
        "<ol>\n",
        "    <li>https://pytorch.org/ecosystem/</li>\n",
        "    <li>https://pytorch.org/tutorials/</li>\n",
        "    <li>Саймон Хайкин — Нейронные сети: полный курс</li>\n",
        "    <li>Википедия</li>\n",
        "    \n",
        "</ol>"
      ]
    },
    {
      "cell_type": "markdown",
      "source": [
        "Вопросы:\n",
        "\n",
        "1. Какую проблему решает обратное распространение ошибки\n",
        "2. Какие проблемы возникают при обратном распространении ошибки\n",
        "3. Какую сложность может обеспечить многослойная сеть с только линейными активациями\n",
        "4. Опишите достоинства и недостатки сигмоидной активации\n",
        "5. Опишите достоинства и недостатки линейных активаций\n",
        "6. Опишите модель формального нейрона МакКалока-Питца\n",
        "7. Опишите процесс коррекции весов нейрона\n",
        "8. Поясните особенности методов градиентного спуска с моментами\n",
        "9. Поясните особенности методов градиентного спуска с адаптацией шага обучения"
      ],
      "metadata": {
        "id": "5IeWltw_4HLZ"
      }
    },
    {
      "cell_type": "code",
      "source": [],
      "metadata": {
        "id": "bwf0BbyO5TgE"
      },
      "execution_count": null,
      "outputs": []
    }
  ]
}